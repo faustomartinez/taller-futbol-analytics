{
 "cells": [
  {
   "cell_type": "markdown",
   "id": "8ce9a4e5-caff-4007-bba9-66b55f5ddd56",
   "metadata": {},
   "source": [
    "# Taller de Futbol Analytics"
   ]
  },
  {
   "cell_type": "markdown",
   "id": "cee4cee9-eb20-4855-bbed-ed52426c6c45",
   "metadata": {},
   "source": [
    "![Selección](images/seleccion.jpg)"
   ]
  },
  {
   "cell_type": "markdown",
   "id": "c99d5c69-70df-411f-bd22-5fd6c2b556ae",
   "metadata": {},
   "source": [
    "La idea de este taller es que vean parte de lo que se puede aprender en la facultad, en las carreras de Licenciatura en Ciencias Matemáticas y Ciencias de Datos de una manera interactiva. Nos centramos en el caso del fútbol, pero es interesante pensar que estos conceptos los pueden aplicar en cualquier cosa que les interese en su vida."
   ]
  },
  {
   "cell_type": "code",
<<<<<<< HEAD
   "execution_count": 1,
=======
   "execution_count": 153,
>>>>>>> f888c1835c3f32fb23bd3c382b3bb519bb48730a
   "id": "493f3974-1982-41c0-a2c6-82facaf0ff91",
   "metadata": {},
   "outputs": [],
   "source": [
    "# Primero importamos unas librerías de Python que vamos a usar a lo largo del notebook\n",
    "import numpy as np\n",
    "import pandas as pd\n",
    "import matplotlib.pyplot as plt\n",
    "import plotly.graph_objects as go\n",
    "import ipywidgets as widgets\n",
    "import plotly.express as px\n",
    "\n",
    "from IPython.display import display\n",
    "from scipy.stats import zscore\n",
    "from sklearn.neighbors import NearestNeighbors\n",
    "from sklearn.preprocessing import MinMaxScaler\n",
    "from adjustText import adjust_text"
   ]
  },
  {
   "cell_type": "code",
<<<<<<< HEAD
   "execution_count": 2,
=======
   "execution_count": 154,
>>>>>>> f888c1835c3f32fb23bd3c382b3bb519bb48730a
   "id": "e105b1a5",
   "metadata": {},
   "outputs": [],
   "source": [
    "# Instalamos las librerías necesarias si no las tenemos instaladas\n",
    "\n",
    "# !pip install adjustText\n",
    "# !pip install plotly\n",
    "# !pip install ipywidgets\n",
    "# !pip install anywidgets"
   ]
  },
  {
   "cell_type": "markdown",
   "id": "49c64149-6dc2-409f-b877-57c7bfa0b0a5",
   "metadata": {},
   "source": [
    "Para trabajar con los datos de los jugadores, los obtuvimos de dos páginas web de referencia en el ámbito de las estadísticas futbolísticas: FBRef y Transfermarkt"
   ]
  },
  {
   "cell_type": "markdown",
   "id": "fe985e17-cf73-4384-96f9-cc0cbe53c2fc",
   "metadata": {},
   "source": [
    "<img src=\"images/fbref.png\" width=400pt> <img src=\"images/transfermarkt.png\" width=280pt>"
   ]
  },
  {
   "cell_type": "markdown",
   "id": "9e8c72be-4a4e-469e-8946-c3e5e66ffbe3",
   "metadata": {},
   "source": [
    "De FBRef obtuvimos las estadísticas de todos los jugadores en estas temporadas y de Transfermarkt obtuvimos su valor de mercado. Estos datos suelen ser de mucha importancia para los clubes de fútbol, ya que les interesa comprar jugadores que tengan buenas estadísticas y valgan poco dinero."
   ]
  },
  {
   "cell_type": "code",
<<<<<<< HEAD
   "execution_count": 3,
=======
   "execution_count": 155,
>>>>>>> f888c1835c3f32fb23bd3c382b3bb519bb48730a
   "id": "07d89c6b-18b7-4624-9779-c0b281f9dafd",
   "metadata": {},
   "outputs": [],
   "source": [
    "# Obtenemos los datos desde el archivo df_reducido.csv\n",
    "df = pd.read_csv(\"datasets_procesados/df_reducido.csv\")\n",
    "df_completo = pd.read_csv(\"datasets_procesados/df.csv\")"
   ]
  },
  {
   "cell_type": "markdown",
   "id": "bf978f8e-90a6-4dcb-a2c4-f5285455830b",
   "metadata": {},
   "source": [
    "Los datos los tenemos en un formato de tabla, donde cada fila es un jugador, y cada columna es algún dato sobre el mismo. Podemos obtener una visualización de una pequeña parte de esta **gigante** tabla con el siguiente comando:"
   ]
  },
  {
   "cell_type": "code",
<<<<<<< HEAD
   "execution_count": 4,
=======
   "execution_count": 156,
>>>>>>> f888c1835c3f32fb23bd3c382b3bb519bb48730a
   "id": "2a3e6934-f098-4da5-bb3e-e4109a68488f",
   "metadata": {},
   "outputs": [
    {
     "data": {
<<<<<<< HEAD
=======
      "application/vnd.microsoft.datawrangler.viewer.v0+json": {
       "columns": [
        {
         "name": "index",
         "rawType": "int64",
         "type": "integer"
        },
        {
         "name": "Jugador",
         "rawType": "object",
         "type": "string"
        },
        {
         "name": "Equipo",
         "rawType": "object",
         "type": "string"
        },
        {
         "name": "Competición",
         "rawType": "object",
         "type": "string"
        },
        {
         "name": "Posición",
         "rawType": "object",
         "type": "string"
        },
        {
         "name": "Edad",
         "rawType": "int64",
         "type": "integer"
        },
        {
         "name": "Partidos",
         "rawType": "int64",
         "type": "integer"
        },
        {
         "name": "Minutos",
         "rawType": "int64",
         "type": "integer"
        },
        {
         "name": "Goles",
         "rawType": "int64",
         "type": "integer"
        },
        {
         "name": "Asistencias",
         "rawType": "int64",
         "type": "integer"
        },
        {
         "name": "xG",
         "rawType": "float64",
         "type": "float"
        },
        {
         "name": "xAG",
         "rawType": "float64",
         "type": "float"
        },
        {
         "name": "npxG",
         "rawType": "float64",
         "type": "float"
        },
        {
         "name": "ValorMercado",
         "rawType": "float64",
         "type": "float"
        },
        {
         "name": "PasesCompletados",
         "rawType": "int64",
         "type": "integer"
        },
        {
         "name": "IntentosPase",
         "rawType": "int64",
         "type": "integer"
        },
        {
         "name": "PctPasesCompletados",
         "rawType": "float64",
         "type": "float"
        },
        {
         "name": "DistanciaTotalPases",
         "rawType": "int64",
         "type": "integer"
        },
        {
         "name": "DistanciaProgresiva",
         "rawType": "int64",
         "type": "integer"
        },
        {
         "name": "PasesClave",
         "rawType": "int64",
         "type": "integer"
        },
        {
         "name": "Entradas",
         "rawType": "int64",
         "type": "integer"
        },
        {
         "name": "Intercepciones",
         "rawType": "int64",
         "type": "integer"
        },
        {
         "name": "Bloqueos",
         "rawType": "int64",
         "type": "integer"
        },
        {
         "name": "TarjetasAmarillas",
         "rawType": "int64",
         "type": "integer"
        },
        {
         "name": "TarjetasRojas",
         "rawType": "int64",
         "type": "integer"
        },
        {
         "name": "Goles_Asistencias",
         "rawType": "int64",
         "type": "integer"
        },
        {
         "name": "xG_xAG",
         "rawType": "float64",
         "type": "float"
        },
        {
         "name": "Equiv_90min",
         "rawType": "float64",
         "type": "float"
        },
        {
         "name": "EntradasGanadas",
         "rawType": "int64",
         "type": "integer"
        },
        {
         "name": "AsistDesdeCruzados",
         "rawType": "int64",
         "type": "integer"
        },
        {
         "name": "Tiros",
         "rawType": "int64",
         "type": "integer"
        },
        {
         "name": "TirosAlArco",
         "rawType": "int64",
         "type": "integer"
        }
       ],
       "conversionMethod": "pd.DataFrame",
       "ref": "21b3089d-b0ba-4a70-9792-53e80da7b93d",
       "rows": [
        [
         "0",
         "Vinicius Junior",
         "Real Madrid",
         "La Liga",
         "FW",
         "24",
         "24",
         "1849",
         "11",
         "5",
         "9.6",
         "5.6",
         "7.5",
         "200000000.0",
         "535",
         "718",
         "74.5",
         "8162",
         "1965",
         "44",
         "18",
         "3",
         "5",
         "7",
         "1",
         "16",
         "0.74",
         "20.5",
         "8",
         "4",
         "68",
         "21"
        ],
        [
         "1",
         "Erling Haaland",
         "Manchester City",
         "Premier League",
         "FW",
         "24",
         "28",
         "2480",
         "21",
         "3",
         "20.8",
         "2.8",
         "18.4",
         "200000000.0",
         "225",
         "341",
         "66.0",
         "2706",
         "532",
         "26",
         "9",
         "5",
         "11",
         "2",
         "0",
         "24",
         "0.86",
         "27.6",
         "5",
         "1",
         "99",
         "54"
        ],
        [
         "2",
         "Lamine Yamal",
         "Barcelona",
         "La Liga",
         "FW",
         "17",
         "27",
         "2236",
         "6",
         "11",
         "7.4",
         "11.2",
         "7.4",
         "180000000.0",
         "834",
         "1127",
         "74.0",
         "11775",
         "3430",
         "51",
         "35",
         "13",
         "12",
         "3",
         "0",
         "17",
         "0.75",
         "24.8",
         "24",
         "12",
         "101",
         "29"
        ],
        [
         "3",
         "Jude Bellingham",
         "Real Madrid",
         "La Liga",
         "MF",
         "21",
         "24",
         "1983",
         "8",
         "7",
         "8.9",
         "3.6",
         "7.3",
         "180000000.0",
         "1092",
         "1260",
         "86.7",
         "17417",
         "3793",
         "33",
         "49",
         "23",
         "28",
         "3",
         "1",
         "15",
         "0.56",
         "22.0",
         "28",
         "0",
         "44",
         "16"
        ],
        [
         "4",
         "Kylian Mbappe",
         "Real Madrid",
         "La Liga",
         "FW",
         "26",
         "28",
         "2420",
         "22",
         "3",
         "20.0",
         "6.5",
         "14.5",
         "170000000.0",
         "793",
         "957",
         "82.9",
         "11543",
         "2042",
         "41",
         "8",
         "0",
         "3",
         "3",
         "0",
         "25",
         "0.98",
         "26.9",
         "5",
         "2",
         "121",
         "62"
        ]
       ],
       "shape": {
        "columns": 31,
        "rows": 5
       }
      },
>>>>>>> f888c1835c3f32fb23bd3c382b3bb519bb48730a
      "text/html": [
       "<div>\n",
       "<style scoped>\n",
       "    .dataframe tbody tr th:only-of-type {\n",
       "        vertical-align: middle;\n",
       "    }\n",
       "\n",
       "    .dataframe tbody tr th {\n",
       "        vertical-align: top;\n",
       "    }\n",
       "\n",
       "    .dataframe thead th {\n",
       "        text-align: right;\n",
       "    }\n",
       "</style>\n",
       "<table border=\"1\" class=\"dataframe\">\n",
       "  <thead>\n",
       "    <tr style=\"text-align: right;\">\n",
       "      <th></th>\n",
       "      <th>Jugador</th>\n",
       "      <th>Equipo</th>\n",
       "      <th>Competición</th>\n",
       "      <th>Posición</th>\n",
       "      <th>Edad</th>\n",
       "      <th>Partidos</th>\n",
       "      <th>Minutos</th>\n",
       "      <th>Goles</th>\n",
       "      <th>Asistencias</th>\n",
       "      <th>xG</th>\n",
       "      <th>...</th>\n",
       "      <th>Bloqueos</th>\n",
       "      <th>TarjetasAmarillas</th>\n",
       "      <th>TarjetasRojas</th>\n",
       "      <th>Goles_Asistencias</th>\n",
       "      <th>xG_xAG</th>\n",
       "      <th>Equiv_90min</th>\n",
       "      <th>EntradasGanadas</th>\n",
       "      <th>AsistDesdeCruzados</th>\n",
       "      <th>Tiros</th>\n",
       "      <th>TirosAlArco</th>\n",
       "    </tr>\n",
       "  </thead>\n",
       "  <tbody>\n",
       "    <tr>\n",
       "      <th>0</th>\n",
       "      <td>Vinicius Junior</td>\n",
       "      <td>Real Madrid</td>\n",
       "      <td>La Liga</td>\n",
       "      <td>FW</td>\n",
       "      <td>24</td>\n",
       "      <td>24</td>\n",
       "      <td>1849</td>\n",
       "      <td>11</td>\n",
       "      <td>5</td>\n",
       "      <td>9.6</td>\n",
       "      <td>...</td>\n",
       "      <td>5</td>\n",
       "      <td>7</td>\n",
       "      <td>1</td>\n",
       "      <td>16</td>\n",
       "      <td>0.74</td>\n",
       "      <td>20.5</td>\n",
       "      <td>8</td>\n",
       "      <td>4</td>\n",
       "      <td>68</td>\n",
       "      <td>21</td>\n",
       "    </tr>\n",
       "    <tr>\n",
       "      <th>1</th>\n",
       "      <td>Erling Haaland</td>\n",
       "      <td>Manchester City</td>\n",
       "      <td>Premier League</td>\n",
       "      <td>FW</td>\n",
       "      <td>24</td>\n",
       "      <td>28</td>\n",
       "      <td>2480</td>\n",
       "      <td>21</td>\n",
       "      <td>3</td>\n",
       "      <td>20.8</td>\n",
       "      <td>...</td>\n",
       "      <td>11</td>\n",
       "      <td>2</td>\n",
       "      <td>0</td>\n",
       "      <td>24</td>\n",
       "      <td>0.86</td>\n",
       "      <td>27.6</td>\n",
       "      <td>5</td>\n",
       "      <td>1</td>\n",
       "      <td>99</td>\n",
       "      <td>54</td>\n",
       "    </tr>\n",
       "    <tr>\n",
       "      <th>2</th>\n",
       "      <td>Lamine Yamal</td>\n",
       "      <td>Barcelona</td>\n",
       "      <td>La Liga</td>\n",
       "      <td>FW</td>\n",
       "      <td>17</td>\n",
       "      <td>27</td>\n",
       "      <td>2236</td>\n",
       "      <td>6</td>\n",
       "      <td>11</td>\n",
       "      <td>7.4</td>\n",
       "      <td>...</td>\n",
       "      <td>12</td>\n",
       "      <td>3</td>\n",
       "      <td>0</td>\n",
       "      <td>17</td>\n",
       "      <td>0.75</td>\n",
       "      <td>24.8</td>\n",
       "      <td>24</td>\n",
       "      <td>12</td>\n",
       "      <td>101</td>\n",
       "      <td>29</td>\n",
       "    </tr>\n",
       "    <tr>\n",
       "      <th>3</th>\n",
       "      <td>Jude Bellingham</td>\n",
       "      <td>Real Madrid</td>\n",
       "      <td>La Liga</td>\n",
       "      <td>MF</td>\n",
       "      <td>21</td>\n",
       "      <td>24</td>\n",
       "      <td>1983</td>\n",
       "      <td>8</td>\n",
       "      <td>7</td>\n",
       "      <td>8.9</td>\n",
       "      <td>...</td>\n",
       "      <td>28</td>\n",
       "      <td>3</td>\n",
       "      <td>1</td>\n",
       "      <td>15</td>\n",
       "      <td>0.56</td>\n",
       "      <td>22.0</td>\n",
       "      <td>28</td>\n",
       "      <td>0</td>\n",
       "      <td>44</td>\n",
       "      <td>16</td>\n",
       "    </tr>\n",
       "    <tr>\n",
       "      <th>4</th>\n",
       "      <td>Kylian Mbappe</td>\n",
       "      <td>Real Madrid</td>\n",
       "      <td>La Liga</td>\n",
       "      <td>FW</td>\n",
       "      <td>26</td>\n",
       "      <td>28</td>\n",
       "      <td>2420</td>\n",
       "      <td>22</td>\n",
       "      <td>3</td>\n",
       "      <td>20.0</td>\n",
       "      <td>...</td>\n",
       "      <td>3</td>\n",
       "      <td>3</td>\n",
       "      <td>0</td>\n",
       "      <td>25</td>\n",
       "      <td>0.98</td>\n",
       "      <td>26.9</td>\n",
       "      <td>5</td>\n",
       "      <td>2</td>\n",
       "      <td>121</td>\n",
       "      <td>62</td>\n",
       "    </tr>\n",
       "  </tbody>\n",
       "</table>\n",
       "<p>5 rows × 31 columns</p>\n",
       "</div>"
      ],
      "text/plain": [
       "           Jugador           Equipo     Competición Posición  Edad  Partidos  \\\n",
       "0  Vinicius Junior      Real Madrid         La Liga       FW    24        24   \n",
       "1   Erling Haaland  Manchester City  Premier League       FW    24        28   \n",
       "2     Lamine Yamal        Barcelona         La Liga       FW    17        27   \n",
       "3  Jude Bellingham      Real Madrid         La Liga       MF    21        24   \n",
       "4    Kylian Mbappe      Real Madrid         La Liga       FW    26        28   \n",
       "\n",
       "   Minutos  Goles  Asistencias    xG  ...  Bloqueos  TarjetasAmarillas  \\\n",
       "0     1849     11            5   9.6  ...         5                  7   \n",
       "1     2480     21            3  20.8  ...        11                  2   \n",
       "2     2236      6           11   7.4  ...        12                  3   \n",
       "3     1983      8            7   8.9  ...        28                  3   \n",
       "4     2420     22            3  20.0  ...         3                  3   \n",
       "\n",
       "   TarjetasRojas  Goles_Asistencias  xG_xAG  Equiv_90min  EntradasGanadas  \\\n",
       "0              1                 16    0.74         20.5                8   \n",
       "1              0                 24    0.86         27.6                5   \n",
       "2              0                 17    0.75         24.8               24   \n",
       "3              1                 15    0.56         22.0               28   \n",
       "4              0                 25    0.98         26.9                5   \n",
       "\n",
       "   AsistDesdeCruzados  Tiros  TirosAlArco  \n",
       "0                   4     68           21  \n",
       "1                   1     99           54  \n",
       "2                  12    101           29  \n",
       "3                   0     44           16  \n",
       "4                   2    121           62  \n",
       "\n",
       "[5 rows x 31 columns]"
      ]
     },
     "metadata": {},
     "output_type": "display_data"
    },
    {
     "data": {
<<<<<<< HEAD
=======
      "application/vnd.microsoft.datawrangler.viewer.v0+json": {
       "columns": [
        {
         "name": "index",
         "rawType": "int64",
         "type": "integer"
        },
        {
         "name": "Player",
         "rawType": "object",
         "type": "string"
        },
        {
         "name": "stats_Nation",
         "rawType": "object",
         "type": "string"
        },
        {
         "name": "stats_Pos",
         "rawType": "object",
         "type": "string"
        },
        {
         "name": "stats_Squad",
         "rawType": "object",
         "type": "string"
        },
        {
         "name": "stats_Comp",
         "rawType": "object",
         "type": "string"
        },
        {
         "name": "stats_Age",
         "rawType": "int64",
         "type": "integer"
        },
        {
         "name": "stats_Born",
         "rawType": "int64",
         "type": "integer"
        },
        {
         "name": "stats_MP",
         "rawType": "int64",
         "type": "integer"
        },
        {
         "name": "stats_Starts",
         "rawType": "int64",
         "type": "integer"
        },
        {
         "name": "stats_Min",
         "rawType": "object",
         "type": "string"
        },
        {
         "name": "stats_90s",
         "rawType": "float64",
         "type": "float"
        },
        {
         "name": "stats_Gls",
         "rawType": "int64",
         "type": "integer"
        },
        {
         "name": "stats_Ast",
         "rawType": "int64",
         "type": "integer"
        },
        {
         "name": "stats_G+A",
         "rawType": "int64",
         "type": "integer"
        },
        {
         "name": "stats_G-PK",
         "rawType": "int64",
         "type": "integer"
        },
        {
         "name": "stats_PK",
         "rawType": "int64",
         "type": "integer"
        },
        {
         "name": "stats_PKatt",
         "rawType": "int64",
         "type": "integer"
        },
        {
         "name": "stats_CrdY",
         "rawType": "int64",
         "type": "integer"
        },
        {
         "name": "stats_CrdR",
         "rawType": "int64",
         "type": "integer"
        },
        {
         "name": "stats_xG",
         "rawType": "float64",
         "type": "float"
        },
        {
         "name": "stats_npxG",
         "rawType": "float64",
         "type": "float"
        },
        {
         "name": "stats_xAG",
         "rawType": "float64",
         "type": "float"
        },
        {
         "name": "stats_npxG+xAG",
         "rawType": "float64",
         "type": "float"
        },
        {
         "name": "stats_PrgC",
         "rawType": "int64",
         "type": "integer"
        },
        {
         "name": "stats_PrgP",
         "rawType": "int64",
         "type": "integer"
        },
        {
         "name": "stats_PrgR",
         "rawType": "int64",
         "type": "integer"
        },
        {
         "name": "stats_Gls.1",
         "rawType": "float64",
         "type": "float"
        },
        {
         "name": "stats_Ast.1",
         "rawType": "float64",
         "type": "float"
        },
        {
         "name": "stats_G+A.1",
         "rawType": "float64",
         "type": "float"
        },
        {
         "name": "stats_G-PK.1",
         "rawType": "float64",
         "type": "float"
        },
        {
         "name": "stats_G+A-PK",
         "rawType": "float64",
         "type": "float"
        },
        {
         "name": "stats_xG.1",
         "rawType": "float64",
         "type": "float"
        },
        {
         "name": "stats_xAG.1",
         "rawType": "float64",
         "type": "float"
        },
        {
         "name": "stats_xG+xAG",
         "rawType": "float64",
         "type": "float"
        },
        {
         "name": "stats_npxG.1",
         "rawType": "float64",
         "type": "float"
        },
        {
         "name": "stats_npxG+xAG.1",
         "rawType": "float64",
         "type": "float"
        },
        {
         "name": "shooting_Nation",
         "rawType": "object",
         "type": "string"
        },
        {
         "name": "shooting_Pos",
         "rawType": "object",
         "type": "string"
        },
        {
         "name": "shooting_Squad",
         "rawType": "object",
         "type": "string"
        },
        {
         "name": "shooting_Comp",
         "rawType": "object",
         "type": "string"
        },
        {
         "name": "shooting_Age",
         "rawType": "object",
         "type": "string"
        },
        {
         "name": "shooting_Born",
         "rawType": "int64",
         "type": "integer"
        },
        {
         "name": "shooting_90s",
         "rawType": "float64",
         "type": "float"
        },
        {
         "name": "shooting_Gls",
         "rawType": "int64",
         "type": "integer"
        },
        {
         "name": "shooting_Sh",
         "rawType": "int64",
         "type": "integer"
        },
        {
         "name": "shooting_SoT",
         "rawType": "int64",
         "type": "integer"
        },
        {
         "name": "shooting_SoT%",
         "rawType": "float64",
         "type": "float"
        },
        {
         "name": "shooting_Sh/90",
         "rawType": "float64",
         "type": "float"
        },
        {
         "name": "shooting_SoT/90",
         "rawType": "float64",
         "type": "float"
        },
        {
         "name": "shooting_G/Sh",
         "rawType": "float64",
         "type": "float"
        },
        {
         "name": "shooting_G/SoT",
         "rawType": "float64",
         "type": "float"
        },
        {
         "name": "shooting_Dist",
         "rawType": "float64",
         "type": "float"
        },
        {
         "name": "shooting_FK",
         "rawType": "int64",
         "type": "integer"
        },
        {
         "name": "shooting_PK",
         "rawType": "int64",
         "type": "integer"
        },
        {
         "name": "shooting_PKatt",
         "rawType": "int64",
         "type": "integer"
        },
        {
         "name": "shooting_xG",
         "rawType": "float64",
         "type": "float"
        },
        {
         "name": "shooting_npxG",
         "rawType": "float64",
         "type": "float"
        },
        {
         "name": "shooting_npxG/Sh",
         "rawType": "float64",
         "type": "float"
        },
        {
         "name": "shooting_G-xG",
         "rawType": "float64",
         "type": "float"
        },
        {
         "name": "shooting_np:G-xG",
         "rawType": "float64",
         "type": "float"
        },
        {
         "name": "passing_Nation",
         "rawType": "object",
         "type": "string"
        },
        {
         "name": "passing_Pos",
         "rawType": "object",
         "type": "string"
        },
        {
         "name": "passing_Squad",
         "rawType": "object",
         "type": "string"
        },
        {
         "name": "passing_Comp",
         "rawType": "object",
         "type": "string"
        },
        {
         "name": "passing_Age",
         "rawType": "object",
         "type": "string"
        },
        {
         "name": "passing_Born",
         "rawType": "int64",
         "type": "integer"
        },
        {
         "name": "passing_90s",
         "rawType": "float64",
         "type": "float"
        },
        {
         "name": "passing_Cmp",
         "rawType": "int64",
         "type": "integer"
        },
        {
         "name": "passing_Att",
         "rawType": "int64",
         "type": "integer"
        },
        {
         "name": "passing_Cmp%",
         "rawType": "float64",
         "type": "float"
        },
        {
         "name": "passing_TotDist",
         "rawType": "int64",
         "type": "integer"
        },
        {
         "name": "passing_PrgDist",
         "rawType": "int64",
         "type": "integer"
        },
        {
         "name": "passing_Cmp.1",
         "rawType": "int64",
         "type": "integer"
        },
        {
         "name": "passing_Att.1",
         "rawType": "int64",
         "type": "integer"
        },
        {
         "name": "passing_Cmp%.1",
         "rawType": "float64",
         "type": "float"
        },
        {
         "name": "passing_Cmp.2",
         "rawType": "int64",
         "type": "integer"
        },
        {
         "name": "passing_Att.2",
         "rawType": "int64",
         "type": "integer"
        },
        {
         "name": "passing_Cmp%.2",
         "rawType": "float64",
         "type": "float"
        },
        {
         "name": "passing_Cmp.3",
         "rawType": "int64",
         "type": "integer"
        },
        {
         "name": "passing_Att.3",
         "rawType": "int64",
         "type": "integer"
        },
        {
         "name": "passing_Cmp%.3",
         "rawType": "float64",
         "type": "float"
        },
        {
         "name": "passing_Ast",
         "rawType": "int64",
         "type": "integer"
        },
        {
         "name": "passing_xAG",
         "rawType": "float64",
         "type": "float"
        },
        {
         "name": "passing_xA",
         "rawType": "float64",
         "type": "float"
        },
        {
         "name": "passing_A-xAG",
         "rawType": "float64",
         "type": "float"
        },
        {
         "name": "passing_KP",
         "rawType": "int64",
         "type": "integer"
        },
        {
         "name": "passing_1/3",
         "rawType": "int64",
         "type": "integer"
        },
        {
         "name": "passing_PPA",
         "rawType": "int64",
         "type": "integer"
        },
        {
         "name": "passing_CrsPA",
         "rawType": "int64",
         "type": "integer"
        },
        {
         "name": "passing_PrgP",
         "rawType": "int64",
         "type": "integer"
        },
        {
         "name": "passing_types_Nation",
         "rawType": "object",
         "type": "string"
        },
        {
         "name": "passing_types_Pos",
         "rawType": "object",
         "type": "string"
        },
        {
         "name": "passing_types_Squad",
         "rawType": "object",
         "type": "string"
        },
        {
         "name": "passing_types_Comp",
         "rawType": "object",
         "type": "string"
        },
        {
         "name": "passing_types_Age",
         "rawType": "object",
         "type": "string"
        },
        {
         "name": "passing_types_Born",
         "rawType": "int64",
         "type": "integer"
        },
        {
         "name": "passing_types_90s",
         "rawType": "float64",
         "type": "float"
        },
        {
         "name": "passing_types_Att",
         "rawType": "int64",
         "type": "integer"
        },
        {
         "name": "passing_types_Live",
         "rawType": "int64",
         "type": "integer"
        },
        {
         "name": "passing_types_Dead",
         "rawType": "int64",
         "type": "integer"
        },
        {
         "name": "passing_types_FK",
         "rawType": "int64",
         "type": "integer"
        },
        {
         "name": "passing_types_TB",
         "rawType": "int64",
         "type": "integer"
        },
        {
         "name": "passing_types_Sw",
         "rawType": "int64",
         "type": "integer"
        },
        {
         "name": "passing_types_Crs",
         "rawType": "int64",
         "type": "integer"
        },
        {
         "name": "passing_types_TI",
         "rawType": "int64",
         "type": "integer"
        },
        {
         "name": "passing_types_CK",
         "rawType": "int64",
         "type": "integer"
        },
        {
         "name": "passing_types_In",
         "rawType": "int64",
         "type": "integer"
        },
        {
         "name": "passing_types_Out",
         "rawType": "int64",
         "type": "integer"
        },
        {
         "name": "passing_types_Str",
         "rawType": "int64",
         "type": "integer"
        },
        {
         "name": "passing_types_Cmp",
         "rawType": "int64",
         "type": "integer"
        },
        {
         "name": "passing_types_Off",
         "rawType": "int64",
         "type": "integer"
        },
        {
         "name": "passing_types_Blocks",
         "rawType": "int64",
         "type": "integer"
        },
        {
         "name": "gca_Nation",
         "rawType": "object",
         "type": "string"
        },
        {
         "name": "gca_Pos",
         "rawType": "object",
         "type": "string"
        },
        {
         "name": "gca_Squad",
         "rawType": "object",
         "type": "string"
        },
        {
         "name": "gca_Comp",
         "rawType": "object",
         "type": "string"
        },
        {
         "name": "gca_Age",
         "rawType": "object",
         "type": "string"
        },
        {
         "name": "gca_Born",
         "rawType": "int64",
         "type": "integer"
        },
        {
         "name": "gca_90s",
         "rawType": "float64",
         "type": "float"
        },
        {
         "name": "gca_SCA",
         "rawType": "int64",
         "type": "integer"
        },
        {
         "name": "gca_SCA90",
         "rawType": "float64",
         "type": "float"
        },
        {
         "name": "gca_PassLive",
         "rawType": "int64",
         "type": "integer"
        },
        {
         "name": "gca_PassDead",
         "rawType": "int64",
         "type": "integer"
        },
        {
         "name": "gca_TO",
         "rawType": "int64",
         "type": "integer"
        },
        {
         "name": "gca_Sh",
         "rawType": "int64",
         "type": "integer"
        },
        {
         "name": "gca_Fld",
         "rawType": "int64",
         "type": "integer"
        },
        {
         "name": "gca_Def",
         "rawType": "int64",
         "type": "integer"
        },
        {
         "name": "gca_GCA",
         "rawType": "int64",
         "type": "integer"
        },
        {
         "name": "gca_GCA90",
         "rawType": "float64",
         "type": "float"
        },
        {
         "name": "gca_PassLive.1",
         "rawType": "int64",
         "type": "integer"
        },
        {
         "name": "gca_PassDead.1",
         "rawType": "int64",
         "type": "integer"
        },
        {
         "name": "gca_TO.1",
         "rawType": "int64",
         "type": "integer"
        },
        {
         "name": "gca_Sh.1",
         "rawType": "int64",
         "type": "integer"
        },
        {
         "name": "gca_Fld.1",
         "rawType": "int64",
         "type": "integer"
        },
        {
         "name": "gca_Def.1",
         "rawType": "int64",
         "type": "integer"
        },
        {
         "name": "defense_Nation",
         "rawType": "object",
         "type": "string"
        },
        {
         "name": "defense_Pos",
         "rawType": "object",
         "type": "string"
        },
        {
         "name": "defense_Squad",
         "rawType": "object",
         "type": "string"
        },
        {
         "name": "defense_Comp",
         "rawType": "object",
         "type": "string"
        },
        {
         "name": "defense_Age",
         "rawType": "object",
         "type": "string"
        },
        {
         "name": "defense_Born",
         "rawType": "int64",
         "type": "integer"
        },
        {
         "name": "defense_90s",
         "rawType": "float64",
         "type": "float"
        },
        {
         "name": "defense_Tkl",
         "rawType": "int64",
         "type": "integer"
        },
        {
         "name": "defense_TklW",
         "rawType": "int64",
         "type": "integer"
        },
        {
         "name": "defense_Def 3rd",
         "rawType": "int64",
         "type": "integer"
        },
        {
         "name": "defense_Mid 3rd",
         "rawType": "int64",
         "type": "integer"
        },
        {
         "name": "defense_Att 3rd",
         "rawType": "int64",
         "type": "integer"
        },
        {
         "name": "defense_Tkl.1",
         "rawType": "int64",
         "type": "integer"
        },
        {
         "name": "defense_Att",
         "rawType": "int64",
         "type": "integer"
        },
        {
         "name": "defense_Tkl%",
         "rawType": "float64",
         "type": "float"
        },
        {
         "name": "defense_Lost",
         "rawType": "int64",
         "type": "integer"
        },
        {
         "name": "defense_Blocks",
         "rawType": "int64",
         "type": "integer"
        },
        {
         "name": "defense_Sh",
         "rawType": "int64",
         "type": "integer"
        },
        {
         "name": "defense_Pass",
         "rawType": "int64",
         "type": "integer"
        },
        {
         "name": "defense_Int",
         "rawType": "int64",
         "type": "integer"
        },
        {
         "name": "defense_Tkl+Int",
         "rawType": "int64",
         "type": "integer"
        },
        {
         "name": "defense_Clr",
         "rawType": "int64",
         "type": "integer"
        },
        {
         "name": "defense_Err",
         "rawType": "int64",
         "type": "integer"
        },
        {
         "name": "possession_Nation",
         "rawType": "object",
         "type": "string"
        },
        {
         "name": "possession_Pos",
         "rawType": "object",
         "type": "string"
        },
        {
         "name": "possession_Squad",
         "rawType": "object",
         "type": "string"
        },
        {
         "name": "possession_Comp",
         "rawType": "object",
         "type": "string"
        },
        {
         "name": "possession_Age",
         "rawType": "object",
         "type": "string"
        },
        {
         "name": "possession_Born",
         "rawType": "int64",
         "type": "integer"
        },
        {
         "name": "possession_90s",
         "rawType": "float64",
         "type": "float"
        },
        {
         "name": "possession_Touches",
         "rawType": "int64",
         "type": "integer"
        },
        {
         "name": "possession_Def Pen",
         "rawType": "int64",
         "type": "integer"
        },
        {
         "name": "possession_Def 3rd",
         "rawType": "int64",
         "type": "integer"
        },
        {
         "name": "possession_Mid 3rd",
         "rawType": "int64",
         "type": "integer"
        },
        {
         "name": "possession_Att 3rd",
         "rawType": "int64",
         "type": "integer"
        },
        {
         "name": "possession_Att Pen",
         "rawType": "int64",
         "type": "integer"
        },
        {
         "name": "possession_Live",
         "rawType": "int64",
         "type": "integer"
        },
        {
         "name": "possession_Att",
         "rawType": "int64",
         "type": "integer"
        },
        {
         "name": "possession_Succ",
         "rawType": "int64",
         "type": "integer"
        },
        {
         "name": "possession_Succ%",
         "rawType": "float64",
         "type": "float"
        },
        {
         "name": "possession_Tkld",
         "rawType": "int64",
         "type": "integer"
        },
        {
         "name": "possession_Tkld%",
         "rawType": "float64",
         "type": "float"
        },
        {
         "name": "possession_Carries",
         "rawType": "int64",
         "type": "integer"
        },
        {
         "name": "possession_TotDist",
         "rawType": "int64",
         "type": "integer"
        },
        {
         "name": "possession_PrgDist",
         "rawType": "int64",
         "type": "integer"
        },
        {
         "name": "possession_PrgC",
         "rawType": "int64",
         "type": "integer"
        },
        {
         "name": "possession_1/3",
         "rawType": "int64",
         "type": "integer"
        },
        {
         "name": "possession_CPA",
         "rawType": "int64",
         "type": "integer"
        },
        {
         "name": "possession_Mis",
         "rawType": "int64",
         "type": "integer"
        },
        {
         "name": "possession_Dis",
         "rawType": "int64",
         "type": "integer"
        },
        {
         "name": "possession_Rec",
         "rawType": "int64",
         "type": "integer"
        },
        {
         "name": "possession_PrgR",
         "rawType": "int64",
         "type": "integer"
        },
        {
         "name": "playingtime_Nation",
         "rawType": "object",
         "type": "string"
        },
        {
         "name": "playingtime_Pos",
         "rawType": "object",
         "type": "string"
        },
        {
         "name": "playingtime_Squad",
         "rawType": "object",
         "type": "string"
        },
        {
         "name": "playingtime_Comp",
         "rawType": "object",
         "type": "string"
        },
        {
         "name": "playingtime_Age",
         "rawType": "object",
         "type": "string"
        },
        {
         "name": "playingtime_Born",
         "rawType": "int64",
         "type": "integer"
        },
        {
         "name": "playingtime_MP",
         "rawType": "int64",
         "type": "integer"
        },
        {
         "name": "playingtime_Min",
         "rawType": "object",
         "type": "string"
        },
        {
         "name": "playingtime_Mn/MP",
         "rawType": "int64",
         "type": "integer"
        },
        {
         "name": "playingtime_Min%",
         "rawType": "float64",
         "type": "float"
        },
        {
         "name": "playingtime_90s",
         "rawType": "float64",
         "type": "float"
        },
        {
         "name": "playingtime_Starts",
         "rawType": "int64",
         "type": "integer"
        },
        {
         "name": "playingtime_Mn/Start",
         "rawType": "int64",
         "type": "integer"
        },
        {
         "name": "playingtime_Compl",
         "rawType": "int64",
         "type": "integer"
        },
        {
         "name": "playingtime_Subs",
         "rawType": "int64",
         "type": "integer"
        },
        {
         "name": "playingtime_Mn/Sub",
         "rawType": "int64",
         "type": "integer"
        },
        {
         "name": "playingtime_unSub",
         "rawType": "int64",
         "type": "integer"
        },
        {
         "name": "playingtime_PPM",
         "rawType": "float64",
         "type": "float"
        },
        {
         "name": "playingtime_onG",
         "rawType": "int64",
         "type": "integer"
        },
        {
         "name": "playingtime_onGA",
         "rawType": "int64",
         "type": "integer"
        },
        {
         "name": "playingtime_+/-",
         "rawType": "int64",
         "type": "integer"
        },
        {
         "name": "playingtime_+/-90",
         "rawType": "float64",
         "type": "float"
        },
        {
         "name": "playingtime_On-Off",
         "rawType": "float64",
         "type": "float"
        },
        {
         "name": "playingtime_onxG",
         "rawType": "float64",
         "type": "float"
        },
        {
         "name": "playingtime_onxGA",
         "rawType": "float64",
         "type": "float"
        },
        {
         "name": "playingtime_xG+/-",
         "rawType": "float64",
         "type": "float"
        },
        {
         "name": "playingtime_xG+/-90",
         "rawType": "float64",
         "type": "float"
        },
        {
         "name": "playingtime_On-Off.1",
         "rawType": "float64",
         "type": "float"
        },
        {
         "name": "misc_Nation",
         "rawType": "object",
         "type": "string"
        },
        {
         "name": "misc_Pos",
         "rawType": "object",
         "type": "string"
        },
        {
         "name": "misc_Squad",
         "rawType": "object",
         "type": "string"
        },
        {
         "name": "misc_Comp",
         "rawType": "object",
         "type": "string"
        },
        {
         "name": "misc_Age",
         "rawType": "object",
         "type": "string"
        },
        {
         "name": "misc_Born",
         "rawType": "int64",
         "type": "integer"
        },
        {
         "name": "misc_90s",
         "rawType": "float64",
         "type": "float"
        },
        {
         "name": "misc_CrdY",
         "rawType": "int64",
         "type": "integer"
        },
        {
         "name": "misc_CrdR",
         "rawType": "int64",
         "type": "integer"
        },
        {
         "name": "misc_2CrdY",
         "rawType": "int64",
         "type": "integer"
        },
        {
         "name": "misc_Fls",
         "rawType": "int64",
         "type": "integer"
        },
        {
         "name": "misc_Fld",
         "rawType": "int64",
         "type": "integer"
        },
        {
         "name": "misc_Off",
         "rawType": "int64",
         "type": "integer"
        },
        {
         "name": "misc_Crs",
         "rawType": "int64",
         "type": "integer"
        },
        {
         "name": "misc_Int",
         "rawType": "int64",
         "type": "integer"
        },
        {
         "name": "misc_TklW",
         "rawType": "int64",
         "type": "integer"
        },
        {
         "name": "misc_PKwon",
         "rawType": "int64",
         "type": "integer"
        },
        {
         "name": "misc_PKcon",
         "rawType": "int64",
         "type": "integer"
        },
        {
         "name": "misc_OG",
         "rawType": "int64",
         "type": "integer"
        },
        {
         "name": "misc_Recov",
         "rawType": "int64",
         "type": "integer"
        },
        {
         "name": "misc_Won",
         "rawType": "int64",
         "type": "integer"
        },
        {
         "name": "misc_Lost",
         "rawType": "int64",
         "type": "integer"
        },
        {
         "name": "misc_Won%",
         "rawType": "float64",
         "type": "float"
        },
        {
         "name": "first_name",
         "rawType": "object",
         "type": "unknown"
        },
        {
         "name": "last_name",
         "rawType": "object",
         "type": "string"
        },
        {
         "name": "full_name",
         "rawType": "object",
         "type": "string"
        },
        {
         "name": "market_value_in_eur",
         "rawType": "float64",
         "type": "float"
        },
        {
         "name": "highest_market_value_in_eur",
         "rawType": "float64",
         "type": "float"
        }
       ],
       "conversionMethod": "pd.DataFrame",
       "ref": "0d69aa78-e922-4d49-b83f-fb29300a3e14",
       "rows": [
        [
         "0",
         "Vinicius Junior",
         "br BRA",
         "FW",
         "Real Madrid",
         "La Liga",
         "24",
         "2000",
         "24",
         "20",
         "1,849",
         "20.5",
         "11",
         "5",
         "16",
         "9",
         "2",
         "3",
         "7",
         "1",
         "9.6",
         "7.5",
         "5.6",
         "13.1",
         "139",
         "69",
         "222",
         "0.54",
         "0.24",
         "0.78",
         "0.44",
         "0.68",
         "0.47",
         "0.27",
         "0.74",
         "0.37",
         "0.64",
         "br BRA",
         "FW",
         "Real Madrid",
         "La Liga",
         "24-268",
         "2000",
         "20.5",
         "11",
         "68",
         "21",
         "30.9",
         "3.31",
         "1.02",
         "0.13",
         "0.43",
         "17.3",
         "0",
         "2",
         "3",
         "9.6",
         "7.5",
         "0.11",
         "1.4",
         "1.5",
         "br BRA",
         "FW",
         "Real Madrid",
         "La Liga",
         "24-268",
         "2000",
         "20.5",
         "535",
         "718",
         "74.5",
         "8162",
         "1965",
         "305",
         "370",
         "82.4",
         "159",
         "199",
         "79.9",
         "45",
         "73",
         "61.6",
         "5",
         "5.6",
         "5.3",
         "-0.6",
         "44",
         "44",
         "28",
         "4",
         "69",
         "br BRA",
         "FW",
         "Real Madrid",
         "La Liga",
         "24-268",
         "2000",
         "20.5",
         "718",
         "690",
         "20",
         "5",
         "9",
         "11",
         "47",
         "7",
         "6",
         "0",
         "0",
         "0",
         "535",
         "8",
         "37",
         "br BRA",
         "FW",
         "Real Madrid",
         "La Liga",
         "24-268",
         "2000",
         "20.5",
         "107",
         "5.21",
         "58",
         "1",
         "24",
         "11",
         "10",
         "3",
         "14",
         "0.68",
         "7",
         "0",
         "5",
         "0",
         "2",
         "0",
         "br BRA",
         "FW",
         "Real Madrid",
         "La Liga",
         "24-268",
         "2000",
         "20.5",
         "18",
         "8",
         "5",
         "4",
         "9",
         "4",
         "16",
         "25.0",
         "12",
         "5",
         "0",
         "5",
         "3",
         "21",
         "1",
         "2",
         "br BRA",
         "FW",
         "Real Madrid",
         "La Liga",
         "24-268",
         "2000",
         "20.5",
         "1016",
         "3",
         "55",
         "301",
         "680",
         "169",
         "1013",
         "154",
         "66",
         "42.9",
         "77",
         "50.0",
         "775",
         "6297",
         "3704",
         "139",
         "66",
         "91",
         "57",
         "43",
         "869",
         "222",
         "br BRA",
         "FW",
         "Real Madrid",
         "La Liga",
         "24-268",
         "2000",
         "24",
         "1,849",
         "77",
         "68.5",
         "20.5",
         "20",
         "86",
         "10",
         "4",
         "31",
         "0",
         "2.0",
         "35",
         "18",
         "17",
         "0.83",
         "-0.76",
         "35.8",
         "20.0",
         "15.8",
         "0.77",
         "-0.49",
         "br BRA",
         "FW",
         "Real Madrid",
         "La Liga",
         "24-268",
         "2000",
         "20.5",
         "7",
         "1",
         "0",
         "26",
         "56",
         "9",
         "47",
         "3",
         "8",
         "2",
         "0",
         "0",
         "52",
         "1",
         "7",
         "12.5",
         null,
         "Vinicius Junior",
         "Vinicius Junior",
         "200000000.0",
         "200000000.0"
        ],
        [
         "1",
         "Erling Haaland",
         "no NOR",
         "FW",
         "Manchester City",
         "Premier League",
         "24",
         "2000",
         "28",
         "28",
         "2,480",
         "27.6",
         "21",
         "3",
         "24",
         "19",
         "2",
         "3",
         "2",
         "0",
         "20.8",
         "18.4",
         "2.8",
         "21.2",
         "19",
         "18",
         "103",
         "0.76",
         "0.11",
         "0.87",
         "0.69",
         "0.8",
         "0.76",
         "0.1",
         "0.86",
         "0.67",
         "0.77",
         "no NOR",
         "FW",
         "Manchester City",
         "Premier League",
         "24-259",
         "2000",
         "27.6",
         "21",
         "99",
         "54",
         "54.5",
         "3.59",
         "1.96",
         "0.19",
         "0.35",
         "12.2",
         "1",
         "2",
         "3",
         "20.8",
         "18.4",
         "0.19",
         "0.2",
         "0.6",
         "no NOR",
         "FW",
         "Manchester City",
         "Premier League",
         "24-259",
         "2000",
         "27.6",
         "225",
         "341",
         "66.0",
         "2706",
         "532",
         "156",
         "221",
         "70.6",
         "50",
         "75",
         "66.7",
         "4",
         "6",
         "66.7",
         "3",
         "2.8",
         "1.8",
         "0.2",
         "26",
         "9",
         "7",
         "1",
         "18",
         "no NOR",
         "FW",
         "Manchester City",
         "Premier League",
         "24-259",
         "2000",
         "27.6",
         "341",
         "333",
         "7",
         "0",
         "1",
         "0",
         "3",
         "1",
         "0",
         "0",
         "0",
         "0",
         "225",
         "1",
         "8",
         "no NOR",
         "FW",
         "Manchester City",
         "Premier League",
         "24-259",
         "2000",
         "27.6",
         "62",
         "2.25",
         "43",
         "0",
         "8",
         "10",
         "1",
         "0",
         "9",
         "0.33",
         "6",
         "0",
         "2",
         "1",
         "0",
         "0",
         "no NOR",
         "FW",
         "Manchester City",
         "Premier League",
         "24-259",
         "2000",
         "27.6",
         "9",
         "5",
         "3",
         "3",
         "3",
         "2",
         "6",
         "33.3",
         "4",
         "11",
         "1",
         "10",
         "5",
         "14",
         "23",
         "0",
         "no NOR",
         "FW",
         "Manchester City",
         "Premier League",
         "24-259",
         "2000",
         "27.6",
         "578",
         "22",
         "39",
         "200",
         "344",
         "170",
         "575",
         "32",
         "11",
         "34.4",
         "19",
         "59.4",
         "272",
         "1310",
         "478",
         "19",
         "14",
         "19",
         "39",
         "25",
         "427",
         "103",
         "no NOR",
         "FW",
         "Manchester City",
         "Premier League",
         "24-259",
         "2000",
         "28",
         "2,480",
         "89",
         "91.9",
         "27.6",
         "28",
         "89",
         "24",
         "0",
         "0",
         "0",
         "1.71",
         "54",
         "38",
         "16",
         "0.58",
         "0.17",
         "50.0",
         "38.6",
         "11.4",
         "0.41",
         "-0.69",
         "no NOR",
         "FW",
         "Manchester City",
         "Premier League",
         "24-259",
         "2000",
         "27.6",
         "2",
         "0",
         "0",
         "22",
         "12",
         "4",
         "3",
         "5",
         "5",
         "0",
         "0",
         "0",
         "29",
         "49",
         "45",
         "52.1",
         "Erling",
         "Haaland",
         "Erling Haaland",
         "200000000.0",
         "200000000.0"
        ],
        [
         "2",
         "Lamine Yamal",
         "es ESP",
         "FW",
         "Barcelona",
         "La Liga",
         "17",
         "2007",
         "27",
         "25",
         "2,236",
         "24.8",
         "6",
         "11",
         "17",
         "6",
         "0",
         "0",
         "3",
         "0",
         "7.4",
         "7.4",
         "11.2",
         "18.6",
         "148",
         "126",
         "354",
         "0.24",
         "0.44",
         "0.68",
         "0.24",
         "0.68",
         "0.3",
         "0.45",
         "0.75",
         "0.3",
         "0.75",
         "es ESP",
         "FW",
         "Barcelona",
         "La Liga",
         "17-267",
         "2007",
         "24.8",
         "6",
         "101",
         "29",
         "28.7",
         "4.07",
         "1.17",
         "0.06",
         "0.21",
         "19.0",
         "0",
         "0",
         "0",
         "7.4",
         "7.4",
         "0.07",
         "-1.4",
         "-1.4",
         "es ESP",
         "FW",
         "Barcelona",
         "La Liga",
         "17-267",
         "2007",
         "24.8",
         "834",
         "1127",
         "74.0",
         "11775",
         "3430",
         "520",
         "614",
         "84.7",
         "242",
         "333",
         "72.7",
         "39",
         "81",
         "48.1",
         "11",
         "11.2",
         "8.8",
         "-0.2",
         "51",
         "60",
         "75",
         "12",
         "126",
         "es ESP",
         "FW",
         "Barcelona",
         "La Liga",
         "17-267",
         "2007",
         "24.8",
         "1127",
         "1087",
         "32",
         "4",
         "27",
         "3",
         "73",
         "15",
         "13",
         "3",
         "0",
         "0",
         "834",
         "8",
         "45",
         "es ESP",
         "FW",
         "Barcelona",
         "La Liga",
         "17-267",
         "2007",
         "24.8",
         "138",
         "5.55",
         "86",
         "1",
         "29",
         "11",
         "9",
         "2",
         "25",
         "1.01",
         "17",
         "0",
         "4",
         "2",
         "2",
         "0",
         "es ESP",
         "FW",
         "Barcelona",
         "La Liga",
         "17-267",
         "2007",
         "24.8",
         "35",
         "24",
         "5",
         "15",
         "15",
         "15",
         "28",
         "53.6",
         "13",
         "12",
         "0",
         "12",
         "13",
         "48",
         "3",
         "0",
         "es ESP",
         "FW",
         "Barcelona",
         "La Liga",
         "17-267",
         "2007",
         "24.8",
         "1537",
         "8",
         "79",
         "483",
         "1008",
         "183",
         "1537",
         "238",
         "121",
         "50.8",
         "98",
         "41.2",
         "1086",
         "7684",
         "4131",
         "148",
         "73",
         "79",
         "79",
         "40",
         "1261",
         "354",
         "es ESP",
         "FW",
         "Barcelona",
         "La Liga",
         "17-267",
         "2007",
         "27",
         "2,236",
         "83",
         "82.8",
         "24.8",
         "25",
         "86",
         "15",
         "2",
         "39",
         "0",
         "2.44",
         "74",
         "21",
         "53",
         "2.13",
         "1.94",
         "62.7",
         "22.1",
         "40.6",
         "1.63",
         "1.53",
         "es ESP",
         "FW",
         "Barcelona",
         "La Liga",
         "17-267",
         "2007",
         "24.8",
         "3",
         "0",
         "0",
         "25",
         "50",
         "11",
         "73",
         "13",
         "24",
         "2",
         "0",
         "0",
         "96",
         "1",
         "1",
         "50.0",
         null,
         "Lamine Yamal",
         "Lamine Yamal",
         "180000000.0",
         "180000000.0"
        ],
        [
         "3",
         "Jude Bellingham",
         "eng ENG",
         "MF",
         "Real Madrid",
         "La Liga",
         "21",
         "2003",
         "24",
         "24",
         "1,983",
         "22.0",
         "8",
         "7",
         "15",
         "7",
         "1",
         "2",
         "3",
         "1",
         "8.9",
         "7.3",
         "3.6",
         "10.9",
         "58",
         "165",
         "113",
         "0.36",
         "0.32",
         "0.68",
         "0.32",
         "0.64",
         "0.4",
         "0.16",
         "0.56",
         "0.33",
         "0.49",
         "eng ENG",
         "MF",
         "Real Madrid",
         "La Liga",
         "21-281",
         "2003",
         "22.0",
         "8",
         "44",
         "16",
         "36.4",
         "2.0",
         "0.73",
         "0.16",
         "0.44",
         "16.5",
         "0",
         "1",
         "2",
         "8.9",
         "7.3",
         "0.17",
         "-0.9",
         "-0.3",
         "eng ENG",
         "MF",
         "Real Madrid",
         "La Liga",
         "21-281",
         "2003",
         "22.0",
         "1092",
         "1260",
         "86.7",
         "17417",
         "3793",
         "595",
         "652",
         "91.3",
         "379",
         "424",
         "89.4",
         "90",
         "115",
         "78.3",
         "7",
         "3.6",
         "4.0",
         "3.4",
         "33",
         "105",
         "27",
         "0",
         "165",
         "eng ENG",
         "MF",
         "Real Madrid",
         "La Liga",
         "21-281",
         "2003",
         "22.0",
         "1260",
         "1213",
         "38",
         "18",
         "15",
         "17",
         "11",
         "9",
         "1",
         "0",
         "0",
         "0",
         "1092",
         "9",
         "20",
         "eng ENG",
         "MF",
         "Real Madrid",
         "La Liga",
         "21-281",
         "2003",
         "22.0",
         "83",
         "3.77",
         "67",
         "1",
         "4",
         "6",
         "3",
         "2",
         "11",
         "0.5",
         "9",
         "0",
         "0",
         "1",
         "1",
         "0",
         "eng ENG",
         "MF",
         "Real Madrid",
         "La Liga",
         "21-281",
         "2003",
         "22.0",
         "49",
         "28",
         "16",
         "21",
         "12",
         "22",
         "34",
         "64.7",
         "12",
         "28",
         "2",
         "26",
         "23",
         "72",
         "18",
         "1",
         "eng ENG",
         "MF",
         "Real Madrid",
         "La Liga",
         "21-281",
         "2003",
         "22.0",
         "1511",
         "25",
         "201",
         "737",
         "587",
         "85",
         "1509",
         "59",
         "35",
         "59.3",
         "20",
         "33.9",
         "968",
         "4691",
         "2223",
         "58",
         "45",
         "11",
         "42",
         "28",
         "1245",
         "113",
         "eng ENG",
         "MF",
         "Real Madrid",
         "La Liga",
         "21-281",
         "2003",
         "24",
         "1,983",
         "83",
         "73.4",
         "22.0",
         "24",
         "83",
         "14",
         "0",
         "0",
         "0",
         "2.08",
         "50",
         "26",
         "24",
         "1.09",
         "0.09",
         "43.0",
         "23.9",
         "19.1",
         "0.87",
         "-0.21",
         "eng ENG",
         "MF",
         "Real Madrid",
         "La Liga",
         "21-281",
         "2003",
         "22.0",
         "3",
         "1",
         "0",
         "26",
         "53",
         "5",
         "11",
         "23",
         "28",
         "1",
         "0",
         "0",
         "72",
         "20",
         "21",
         "48.8",
         "Jude",
         "Bellingham",
         "Jude Bellingham",
         "180000000.0",
         "180000000.0"
        ],
        [
         "4",
         "Kylian Mbappe",
         "fr FRA",
         "FW",
         "Real Madrid",
         "La Liga",
         "26",
         "1998",
         "28",
         "28",
         "2,420",
         "26.9",
         "22",
         "3",
         "25",
         "16",
         "6",
         "7",
         "3",
         "0",
         "20.0",
         "14.5",
         "6.5",
         "20.9",
         "121",
         "117",
         "322",
         "0.82",
         "0.11",
         "0.93",
         "0.6",
         "0.71",
         "0.74",
         "0.24",
         "0.98",
         "0.54",
         "0.78",
         "fr FRA",
         "FW",
         "Real Madrid",
         "La Liga",
         "26-107",
         "1998",
         "26.9",
         "22",
         "121",
         "62",
         "51.2",
         "4.5",
         "2.31",
         "0.13",
         "0.26",
         "16.9",
         "2",
         "6",
         "7",
         "20.0",
         "14.5",
         "0.12",
         "2.0",
         "1.5",
         "fr FRA",
         "FW",
         "Real Madrid",
         "La Liga",
         "26-107",
         "1998",
         "26.9",
         "793",
         "957",
         "82.9",
         "11543",
         "2042",
         "473",
         "542",
         "87.3",
         "215",
         "246",
         "87.4",
         "53",
         "66",
         "80.3",
         "3",
         "6.5",
         "5.9",
         "-3.5",
         "41",
         "65",
         "43",
         "2",
         "117",
         "fr FRA",
         "FW",
         "Real Madrid",
         "La Liga",
         "26-107",
         "1998",
         "26.9",
         "957",
         "898",
         "55",
         "3",
         "6",
         "17",
         "28",
         "8",
         "4",
         "0",
         "0",
         "0",
         "793",
         "4",
         "26",
         "fr FRA",
         "FW",
         "Real Madrid",
         "La Liga",
         "26-107",
         "1998",
         "26.9",
         "107",
         "3.98",
         "67",
         "1",
         "22",
         "12",
         "5",
         "0",
         "11",
         "0.41",
         "7",
         "1",
         "1",
         "2",
         "0",
         "0",
         "fr FRA",
         "FW",
         "Real Madrid",
         "La Liga",
         "26-107",
         "1998",
         "26.9",
         "8",
         "5",
         "1",
         "3",
         "4",
         "1",
         "5",
         "20.0",
         "4",
         "3",
         "0",
         "3",
         "0",
         "8",
         "1",
         "0",
         "fr FRA",
         "FW",
         "Real Madrid",
         "La Liga",
         "26-107",
         "1998",
         "26.9",
         "1302",
         "1",
         "31",
         "382",
         "904",
         "256",
         "1295",
         "159",
         "70",
         "44.0",
         "78",
         "49.1",
         "873",
         "5834",
         "3131",
         "121",
         "76",
         "79",
         "68",
         "42",
         "1125",
         "322",
         "fr FRA",
         "FW",
         "Real Madrid",
         "La Liga",
         "26-107",
         "1998",
         "28",
         "2,420",
         "86",
         "89.6",
         "26.9",
         "28",
         "86",
         "17",
         "0",
         "0",
         "0",
         "2.18",
         "55",
         "25",
         "30",
         "1.12",
         "0.47",
         "56.6",
         "27.1",
         "29.5",
         "1.1",
         "1.68",
         "fr FRA",
         "FW",
         "Real Madrid",
         "La Liga",
         "26-107",
         "1998",
         "26.9",
         "3",
         "0",
         "0",
         "20",
         "32",
         "39",
         "28",
         "0",
         "5",
         "2",
         "0",
         "0",
         "34",
         "3",
         "5",
         "37.5",
         "Kylian",
         "Mbappe",
         "Kylian Mbappe",
         "170000000.0",
         "200000000.0"
        ]
       ],
       "shape": {
        "columns": 243,
        "rows": 5
       }
      },
>>>>>>> f888c1835c3f32fb23bd3c382b3bb519bb48730a
      "text/html": [
       "<div>\n",
       "<style scoped>\n",
       "    .dataframe tbody tr th:only-of-type {\n",
       "        vertical-align: middle;\n",
       "    }\n",
       "\n",
       "    .dataframe tbody tr th {\n",
       "        vertical-align: top;\n",
       "    }\n",
       "\n",
       "    .dataframe thead th {\n",
       "        text-align: right;\n",
       "    }\n",
       "</style>\n",
       "<table border=\"1\" class=\"dataframe\">\n",
       "  <thead>\n",
       "    <tr style=\"text-align: right;\">\n",
       "      <th></th>\n",
       "      <th>Player</th>\n",
       "      <th>stats_Nation</th>\n",
       "      <th>stats_Pos</th>\n",
       "      <th>stats_Squad</th>\n",
       "      <th>stats_Comp</th>\n",
       "      <th>stats_Age</th>\n",
       "      <th>stats_Born</th>\n",
       "      <th>stats_MP</th>\n",
       "      <th>stats_Starts</th>\n",
       "      <th>stats_Min</th>\n",
       "      <th>...</th>\n",
       "      <th>misc_OG</th>\n",
       "      <th>misc_Recov</th>\n",
       "      <th>misc_Won</th>\n",
       "      <th>misc_Lost</th>\n",
       "      <th>misc_Won%</th>\n",
       "      <th>first_name</th>\n",
       "      <th>last_name</th>\n",
       "      <th>full_name</th>\n",
       "      <th>market_value_in_eur</th>\n",
       "      <th>highest_market_value_in_eur</th>\n",
       "    </tr>\n",
       "  </thead>\n",
       "  <tbody>\n",
       "    <tr>\n",
       "      <th>0</th>\n",
       "      <td>Vinicius Junior</td>\n",
       "      <td>br BRA</td>\n",
       "      <td>FW</td>\n",
       "      <td>Real Madrid</td>\n",
       "      <td>La Liga</td>\n",
       "      <td>24</td>\n",
       "      <td>2000</td>\n",
       "      <td>24</td>\n",
       "      <td>20</td>\n",
       "      <td>1,849</td>\n",
       "      <td>...</td>\n",
       "      <td>0</td>\n",
       "      <td>52</td>\n",
       "      <td>1</td>\n",
       "      <td>7</td>\n",
       "      <td>12.5</td>\n",
       "      <td>NaN</td>\n",
       "      <td>Vinicius Junior</td>\n",
       "      <td>Vinicius Junior</td>\n",
       "      <td>200000000.0</td>\n",
       "      <td>200000000.0</td>\n",
       "    </tr>\n",
       "    <tr>\n",
       "      <th>1</th>\n",
       "      <td>Erling Haaland</td>\n",
       "      <td>no NOR</td>\n",
       "      <td>FW</td>\n",
       "      <td>Manchester City</td>\n",
       "      <td>Premier League</td>\n",
       "      <td>24</td>\n",
       "      <td>2000</td>\n",
       "      <td>28</td>\n",
       "      <td>28</td>\n",
       "      <td>2,480</td>\n",
       "      <td>...</td>\n",
       "      <td>0</td>\n",
       "      <td>29</td>\n",
       "      <td>49</td>\n",
       "      <td>45</td>\n",
       "      <td>52.1</td>\n",
       "      <td>Erling</td>\n",
       "      <td>Haaland</td>\n",
       "      <td>Erling Haaland</td>\n",
       "      <td>200000000.0</td>\n",
       "      <td>200000000.0</td>\n",
       "    </tr>\n",
       "    <tr>\n",
       "      <th>2</th>\n",
       "      <td>Lamine Yamal</td>\n",
       "      <td>es ESP</td>\n",
       "      <td>FW</td>\n",
       "      <td>Barcelona</td>\n",
       "      <td>La Liga</td>\n",
       "      <td>17</td>\n",
       "      <td>2007</td>\n",
       "      <td>27</td>\n",
       "      <td>25</td>\n",
       "      <td>2,236</td>\n",
       "      <td>...</td>\n",
       "      <td>0</td>\n",
       "      <td>96</td>\n",
       "      <td>1</td>\n",
       "      <td>1</td>\n",
       "      <td>50.0</td>\n",
       "      <td>NaN</td>\n",
       "      <td>Lamine Yamal</td>\n",
       "      <td>Lamine Yamal</td>\n",
       "      <td>180000000.0</td>\n",
       "      <td>180000000.0</td>\n",
       "    </tr>\n",
       "    <tr>\n",
       "      <th>3</th>\n",
       "      <td>Jude Bellingham</td>\n",
       "      <td>eng ENG</td>\n",
       "      <td>MF</td>\n",
       "      <td>Real Madrid</td>\n",
       "      <td>La Liga</td>\n",
       "      <td>21</td>\n",
       "      <td>2003</td>\n",
       "      <td>24</td>\n",
       "      <td>24</td>\n",
       "      <td>1,983</td>\n",
       "      <td>...</td>\n",
       "      <td>0</td>\n",
       "      <td>72</td>\n",
       "      <td>20</td>\n",
       "      <td>21</td>\n",
       "      <td>48.8</td>\n",
       "      <td>Jude</td>\n",
       "      <td>Bellingham</td>\n",
       "      <td>Jude Bellingham</td>\n",
       "      <td>180000000.0</td>\n",
       "      <td>180000000.0</td>\n",
       "    </tr>\n",
       "    <tr>\n",
       "      <th>4</th>\n",
       "      <td>Kylian Mbappe</td>\n",
       "      <td>fr FRA</td>\n",
       "      <td>FW</td>\n",
       "      <td>Real Madrid</td>\n",
       "      <td>La Liga</td>\n",
       "      <td>26</td>\n",
       "      <td>1998</td>\n",
       "      <td>28</td>\n",
       "      <td>28</td>\n",
       "      <td>2,420</td>\n",
       "      <td>...</td>\n",
       "      <td>0</td>\n",
       "      <td>34</td>\n",
       "      <td>3</td>\n",
       "      <td>5</td>\n",
       "      <td>37.5</td>\n",
       "      <td>Kylian</td>\n",
       "      <td>Mbappe</td>\n",
       "      <td>Kylian Mbappe</td>\n",
       "      <td>170000000.0</td>\n",
       "      <td>200000000.0</td>\n",
       "    </tr>\n",
       "  </tbody>\n",
       "</table>\n",
       "<p>5 rows × 243 columns</p>\n",
       "</div>"
      ],
      "text/plain": [
       "            Player stats_Nation stats_Pos      stats_Squad      stats_Comp  \\\n",
       "0  Vinicius Junior       br BRA        FW      Real Madrid         La Liga   \n",
       "1   Erling Haaland       no NOR        FW  Manchester City  Premier League   \n",
       "2     Lamine Yamal       es ESP        FW        Barcelona         La Liga   \n",
       "3  Jude Bellingham      eng ENG        MF      Real Madrid         La Liga   \n",
       "4    Kylian Mbappe       fr FRA        FW      Real Madrid         La Liga   \n",
       "\n",
       "   stats_Age  stats_Born  stats_MP  stats_Starts stats_Min  ...  misc_OG  \\\n",
       "0         24        2000        24            20     1,849  ...        0   \n",
       "1         24        2000        28            28     2,480  ...        0   \n",
       "2         17        2007        27            25     2,236  ...        0   \n",
       "3         21        2003        24            24     1,983  ...        0   \n",
       "4         26        1998        28            28     2,420  ...        0   \n",
       "\n",
       "   misc_Recov  misc_Won  misc_Lost  misc_Won%  first_name        last_name  \\\n",
       "0          52         1          7       12.5         NaN  Vinicius Junior   \n",
       "1          29        49         45       52.1      Erling          Haaland   \n",
       "2          96         1          1       50.0         NaN     Lamine Yamal   \n",
       "3          72        20         21       48.8        Jude       Bellingham   \n",
       "4          34         3          5       37.5      Kylian           Mbappe   \n",
       "\n",
       "         full_name  market_value_in_eur  highest_market_value_in_eur  \n",
       "0  Vinicius Junior          200000000.0                  200000000.0  \n",
       "1   Erling Haaland          200000000.0                  200000000.0  \n",
       "2     Lamine Yamal          180000000.0                  180000000.0  \n",
       "3  Jude Bellingham          180000000.0                  180000000.0  \n",
       "4    Kylian Mbappe          170000000.0                  200000000.0  \n",
       "\n",
       "[5 rows x 243 columns]"
      ]
     },
     "metadata": {},
     "output_type": "display_data"
    }
   ],
   "source": [
    "# Podemos obtener una primera visualización de los datos viendo sus primeras 5 filas con el comando head()\n",
    "display(df.head(), df_completo.head())"
   ]
  },
  {
   "cell_type": "markdown",
   "id": "02bd6b94-786c-443d-abbc-d70eb6850f2a",
   "metadata": {},
   "source": [
    "También podemos usar el comando `columns` para ver específicamente cuáles son los datos que tenemos sobre cada jugador:"
   ]
  },
  {
   "cell_type": "code",
<<<<<<< HEAD
   "execution_count": 5,
=======
   "execution_count": 157,
>>>>>>> f888c1835c3f32fb23bd3c382b3bb519bb48730a
   "id": "be3d881f-0ad2-40fb-8592-9cbd7c2e2156",
   "metadata": {},
   "outputs": [
    {
     "data": {
      "text/plain": [
       "Index(['Jugador', 'Equipo', 'Competición', 'Posición', 'Edad', 'Partidos',\n",
       "       'Minutos', 'Goles', 'Asistencias', 'xG', 'xAG', 'npxG', 'ValorMercado',\n",
       "       'PasesCompletados', 'IntentosPase', 'PctPasesCompletados',\n",
       "       'DistanciaTotalPases', 'DistanciaProgresiva', 'PasesClave', 'Entradas',\n",
       "       'Intercepciones', 'Bloqueos', 'TarjetasAmarillas', 'TarjetasRojas',\n",
       "       'Goles_Asistencias', 'xG_xAG', 'Equiv_90min', 'EntradasGanadas',\n",
       "       'AsistDesdeCruzados', 'Tiros', 'TirosAlArco'],\n",
       "      dtype='object')"
      ]
     },
     "metadata": {},
     "output_type": "display_data"
    },
    {
     "data": {
      "text/plain": [
       "Index(['Player', 'stats_Nation', 'stats_Pos', 'stats_Squad', 'stats_Comp',\n",
       "       'stats_Age', 'stats_Born', 'stats_MP', 'stats_Starts', 'stats_Min',\n",
       "       ...\n",
       "       'misc_OG', 'misc_Recov', 'misc_Won', 'misc_Lost', 'misc_Won%',\n",
       "       'first_name', 'last_name', 'full_name', 'market_value_in_eur',\n",
       "       'highest_market_value_in_eur'],\n",
       "      dtype='object', length=243)"
      ]
     },
     "metadata": {},
     "output_type": "display_data"
    }
   ],
   "source": [
    "# Con este comando podemos ver las columnas e información de los datos que tenemos\n",
    "display(df.columns, df_completo.columns)"
   ]
  },
  {
   "cell_type": "markdown",
   "id": "15da63da-5c2d-4ab5-b874-f8bb1d07c6e2",
   "metadata": {},
   "source": [
    "Cómo podrán ver, tenemos un **montón** de información sobre cada uno de los jugadores (los cuales también son muchos). Entonces la pregunta lógica que uno se hace, y que se intenta responder en nuestras carreras, es **¿de qué manera podemos resumir esta información?** más allá, poniendose en el rol de un analista de datos de algún club: **¿de qué manera podemos sacar datos que nos sean de utilidad para la próxima compra de nuestro club?**"
   ]
  },
  {
   "cell_type": "markdown",
   "id": "56f14468",
   "metadata": {},
   "source": [
    "# Gráficos y visualización de datos"
   ]
  },
  {
   "cell_type": "markdown",
   "id": "d3a937e8-5b8c-49be-8b2a-4b2903c789f0",
   "metadata": {},
   "source": [
    "Lo primero que podríamos hacer es intentar tener una visualización directa de los datos en algún gráfico, para tener una idea de cómo se distribuyen las cosas. El problema es que no podemos graficar más de dos estadísticas juntas, así que hicimos un graficador interactivo para que ustedes puedan ir comparando las estadísticas que les parezca.\n",
    "\n",
    "Por cada jugador, se hace un punto, que tiene color más claro a medida que más caro es el mismo."
   ]
  },
  {
   "cell_type": "code",
<<<<<<< HEAD
   "execution_count": 6,
=======
   "execution_count": 158,
>>>>>>> f888c1835c3f32fb23bd3c382b3bb519bb48730a
   "id": "907fc3ba",
   "metadata": {},
   "outputs": [
    {
     "data": {
      "application/vnd.jupyter.widget-view+json": {
<<<<<<< HEAD
       "model_id": "9b77ab01fd7241cf828f4cc43f02ff68",
=======
       "model_id": "9e0c405410a04b23a028c0f70abe2271",
>>>>>>> f888c1835c3f32fb23bd3c382b3bb519bb48730a
       "version_major": 2,
       "version_minor": 0
      },
      "text/plain": [
       "VBox(children=(Dropdown(description='Posición:', options=(('Todos', 'all'), ('Delanteros', 'FW'), ('Mediocampi…"
      ]
     },
     "metadata": {},
     "output_type": "display_data"
    },
    {
     "data": {
      "application/vnd.jupyter.widget-view+json": {
<<<<<<< HEAD
       "model_id": "875cc99af4ae439292de43b272ca38c8",
=======
       "model_id": "3357187863d94c68baec7140872b87f2",
>>>>>>> f888c1835c3f32fb23bd3c382b3bb519bb48730a
       "version_major": 2,
       "version_minor": 0
      },
      "text/plain": [
       "Output()"
      ]
     },
     "metadata": {},
     "output_type": "display_data"
    }
   ],
   "source": [
    "# Elegimos el dataframe con el que vamos a trabajar\n",
    "df_grafico1 = df.copy()\n",
    "\n",
    "# Filtrar jugadores con más de 90 minutos\n",
    "df_grafico1 = df_grafico1[df_grafico1[\"Minutos\"] > 90]\n",
    "\n",
    "# Identificar columnas numéricas\n",
    "numeric_columns = df_grafico1.select_dtypes(include=[np.number]).columns\n",
    "\n",
    "# Crear widgets para seleccionar las columnas\n",
    "x_dropdown = widgets.Dropdown(\n",
    "    options=numeric_columns,\n",
    "    value='Goles',\n",
    "    description='Eje X:'\n",
    ")\n",
    "\n",
    "y_dropdown = widgets.Dropdown(\n",
    "    options=numeric_columns,\n",
    "    value='Asistencias',\n",
    "    description='Eje Y:'\n",
    ")\n",
    "\n",
    "posiciones_dropdown = widgets.Dropdown(\n",
    "    options=[\n",
    "        ('Todos', 'all'),\n",
    "        ('Delanteros', 'FW'),\n",
    "        ('Mediocampistas', 'MF'),\n",
    "        ('Defensores', 'DF'),\n",
    "        ('Arqueros', 'GK')\n",
    "    ],\n",
    "    value='all',\n",
    "    description='Posición:'\n",
    ")\n",
    "\n",
    "\n",
    "# Elegimos que columnas queremos que se normalicen sobre 90 minutos\n",
    "normalizables = [\n",
    "    'Goles', 'Asistencias', 'xG', 'xAG', 'npxG', 'Goles_Asistencias', 'xG_xAG',\n",
    "    'Tiros', 'TirosAlArco', 'PasesClave', 'Entradas', 'Intercepciones', 'Bloqueos',\n",
    "    'EntradasGanadas', 'AsistDesdeCruzados'\n",
    "]\n",
    "\n",
    "# Función para actualizar el gráfico\n",
    "def update_graph(x_col, y_col, pos):\n",
    "\n",
    "    df_filtrado = df_grafico1.copy()\n",
    "\n",
    "    plt.figure(figsize=(10, 6))\n",
    "\n",
    "    # Filtrar por posición si corresponde\n",
    "    if pos != 'all':\n",
    "        df_filtrado = df_filtrado[df_filtrado[\"Posición\"] == pos]\n",
    "\n",
    "    # Aplico normalización solo si corresponde\n",
    "    x_data = df_filtrado[x_col]\n",
    "    y_data = df_filtrado[y_col]\n",
    "\n",
    "    if x_col in normalizables:\n",
    "        x_data = 90 * x_data / df_filtrado['Minutos']\n",
    "    if y_col in normalizables:\n",
    "        y_data = 90 * y_data / df_filtrado['Minutos']\n",
    "\n",
    "    # Scatter plot\n",
    "    plt.scatter(\n",
    "        x=x_data,\n",
    "        y=y_data,\n",
    "        c=np.log10(df_filtrado['ValorMercado'] + 1),  # Sumar 1 para evitar log(0)\n",
    "        cmap='viridis',\n",
    "        alpha=0.6,\n",
    "        s=50\n",
    "    )\n",
    "    cbar = plt.colorbar()\n",
    "    cbar.set_label('Log10(Valor de mercado €)', fontsize=10)\n",
    "\n",
    "    # Etiquetas dinámicas\n",
    "    x_label = f\"{x_col} {'(cada 90 min)' if x_col in normalizables else ''}\"\n",
    "    y_label = f\"{y_col} {'(cada 90 min)' if y_col in normalizables else ''}\"\n",
    "\n",
    "    # Títulos y etiquetas\n",
    "    plt.title(f'{x_col} vs {y_col} - {pos if pos != \"all\" else \"Todos\"}', fontsize=14)\n",
    "    plt.xlabel(x_label, fontsize=12)\n",
    "    plt.ylabel(y_label, fontsize=12)\n",
    "    plt.grid(True, linestyle='--', alpha=0.5)\n",
    "    plt.tight_layout()\n",
    "    plt.show()\n",
    "\n",
    "# Conectar los widgets a la función\n",
    "ui = widgets.VBox([posiciones_dropdown, x_dropdown, y_dropdown])\n",
    "out = widgets.interactive_output(update_graph, {\n",
    "    'x_col': x_dropdown,\n",
    "    'y_col': y_dropdown,\n",
    "    'pos': posiciones_dropdown\n",
    "})\n",
    "\n",
    "# Mostrar los widgets y el gráfico\n",
    "display(ui, out)"
   ]
  },
  {
   "cell_type": "code",
<<<<<<< HEAD
   "execution_count": 7,
=======
   "execution_count": 159,
   "id": "5554243d",
   "metadata": {},
   "outputs": [
    {
     "data": {
      "application/vnd.jupyter.widget-view+json": {
       "model_id": "61a157d2ab4b4912be73b664bd3066c1",
       "version_major": 2,
       "version_minor": 0
      },
      "text/plain": [
       "VBox(children=(Dropdown(description='Posición:', options=(('Todos', 'all'), ('Delanteros', 'FW'), ('Mediocampi…"
      ]
     },
     "metadata": {},
     "output_type": "display_data"
    },
    {
     "data": {
      "application/vnd.jupyter.widget-view+json": {
       "model_id": "cdcd7ec1bfaa49aab6012a0385b45127",
       "version_major": 2,
       "version_minor": 0
      },
      "text/plain": [
       "Output()"
      ]
     },
     "metadata": {},
     "output_type": "display_data"
    }
   ],
   "source": [
    "# Elegimos el dataframe con el que vamos a trabajar\n",
    "df_grafico1 = df.copy()\n",
    "\n",
    "# Filtrar jugadores con más de 90 minutos\n",
    "df_grafico1 = df_grafico1[df_grafico1[\"Minutos\"] > 90]\n",
    "\n",
    "# Identificar columnas numéricas\n",
    "numeric_columns = df_grafico1.select_dtypes(include=[np.number]).columns\n",
    "\n",
    "# Crear widgets\n",
    "x_dropdown = widgets.Dropdown(\n",
    "    options=numeric_columns,\n",
    "    value='Goles',\n",
    "    description='Eje X:'\n",
    ")\n",
    "\n",
    "y_dropdown = widgets.Dropdown(\n",
    "    options=numeric_columns,\n",
    "    value='Asistencias',\n",
    "    description='Eje Y:'\n",
    ")\n",
    "\n",
    "posiciones_dropdown = widgets.Dropdown(\n",
    "    options=[\n",
    "        ('Todos', 'all'),\n",
    "        ('Delanteros', 'FW'),\n",
    "        ('Mediocampistas', 'MF'),\n",
    "        ('Defensores', 'DF'),\n",
    "        ('Arqueros', 'GK')\n",
    "    ],\n",
    "    value='all',\n",
    "    description='Posición:'\n",
    ")\n",
    "\n",
    "# Columnas que se normalizan a 90 min\n",
    "normalizables = [\n",
    "    'Goles', 'Asistencias', 'xG', 'xAG', 'npxG', 'Goles_Asistencias', 'xG_xAG',\n",
    "    'Tiros', 'TirosAlArco', 'PasesClave', 'Entradas', 'Intercepciones', 'Bloqueos',\n",
    "    'EntradasGanadas', 'AsistDesdeCruzados'\n",
    "]\n",
    "\n",
    "# Función para actualizar el gráfico\n",
    "def update_graph(x_col, y_col, pos):\n",
    "    df_filtrado = df_grafico1.copy()\n",
    "\n",
    "    if pos != 'all':\n",
    "        df_filtrado = df_filtrado[df_filtrado[\"Posición\"] == pos]\n",
    "\n",
    "    # Aplico normalización\n",
    "    x_data = df_filtrado[x_col]\n",
    "    y_data = df_filtrado[y_col]\n",
    "\n",
    "    if x_col in normalizables:\n",
    "        x_data = 90 * x_data / df_filtrado['Minutos']\n",
    "    if y_col in normalizables:\n",
    "        y_data = 90 * y_data / df_filtrado['Minutos']\n",
    "\n",
    "    # Crear etiquetas de ejes\n",
    "    x_label = f\"{x_col} {'(por 90 min)' if x_col in normalizables else ''}\"\n",
    "    y_label = f\"{y_col} {'(por 90 min)' if y_col in normalizables else ''}\"\n",
    "\n",
    "    # Crear DataFrame para graficar\n",
    "    df_plot = pd.DataFrame({\n",
    "        x_col: x_data,\n",
    "        y_col: y_data,\n",
    "        'Jugador': df_filtrado['Jugador'],\n",
    "        'Posición': df_filtrado['Posición'],\n",
    "        'Equipo': df_filtrado.get('Equipo', 'N/A'),  # por si no existe la columna\n",
    "        'Minutos': df_filtrado['Minutos'],\n",
    "        'ValorMercado': df_filtrado['ValorMercado']\n",
    "    })\n",
    "\n",
    "    # Gráfico con plotly\n",
    "    fig = px.scatter(\n",
    "        df_plot,\n",
    "        x=x_col,\n",
    "        y=y_col,\n",
    "        color=np.log10(df_plot['ValorMercado'] + 1),\n",
    "        hover_name='Jugador',\n",
    "        hover_data={\n",
    "            x_col: True,\n",
    "            y_col: True,\n",
    "            'Posición': True,\n",
    "            'Equipo': True,\n",
    "            'Minutos': True,\n",
    "            'ValorMercado': True\n",
    "        },\n",
    "        color_continuous_scale='viridis',\n",
    "        labels={\n",
    "            x_col: x_label,\n",
    "            y_col: y_label,\n",
    "            'color': 'Log10<br>(Valor Mercado €)'\n",
    "        },\n",
    "        title=f\"{x_col} vs {y_col} - {pos if pos != 'all' else 'Todos'}\"\n",
    "    )\n",
    "\n",
    "    fig.update_layout(height=600, width=990)\n",
    "    fig.show()\n",
    "\n",
    "# Conectar los widgets\n",
    "ui = widgets.VBox([posiciones_dropdown, x_dropdown, y_dropdown])\n",
    "out = widgets.interactive_output(update_graph, {\n",
    "    'x_col': x_dropdown,\n",
    "    'y_col': y_dropdown,\n",
    "    'pos': posiciones_dropdown\n",
    "})\n",
    "\n",
    "display(ui, out)\n"
   ]
  },
  {
   "cell_type": "code",
   "execution_count": 160,
>>>>>>> f888c1835c3f32fb23bd3c382b3bb519bb48730a
   "id": "82d23216",
   "metadata": {},
   "outputs": [
    {
     "data": {
<<<<<<< HEAD
      "image/png": "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",
=======
      "image/png": "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",
>>>>>>> f888c1835c3f32fb23bd3c382b3bb519bb48730a
      "text/plain": [
       "<Figure size 1200x600 with 1 Axes>"
      ]
     },
     "metadata": {},
     "output_type": "display_data"
    }
   ],
   "source": [
    "# Elegimos estadísticas y jugadores\n",
    "estadisticas = ['Goles', 'Asistencias', 'xG', 'xAG']\n",
    "jugadores_top10 = df.iloc[0:10]\n",
    "x = np.arange(len(jugadores_top10))\n",
    "bar_width = 0.2\n",
    "\n",
    "# Elegimos una paleta de colores\n",
    "colors = plt.get_cmap(\"Paired\")(np.linspace(0, 1, len(estadisticas)))\n",
    "\n",
    "# Preparamos el gráfico\n",
    "fig, ax = plt.subplots(figsize=(12, 6))\n",
    "\n",
    "# Dibujamos las barras\n",
    "for i, (stat, color) in enumerate(zip(estadisticas, colors)):\n",
    "    ax.bar(\n",
    "        x + i * bar_width,\n",
    "        jugadores_top10[stat],\n",
    "        width=bar_width,\n",
    "        label=stat,\n",
    "        color=color\n",
    "    )\n",
    "\n",
    "# Etiquetas y estilo\n",
    "ax.set_xticks(x + bar_width * (len(estadisticas)-1) / 2)\n",
    "ax.set_xticklabels(jugadores_top10[\"Jugador\"], rotation=45, ha='right')\n",
    "ax.set_ylabel(\"Valor\")\n",
    "ax.set_title(\"Comparación de rendimiento (Top 10 jugadores más valiosos)\")\n",
    "ax.legend()\n",
    "ax.grid(True, axis='y', linestyle='--', alpha=0.7)\n",
    "\n",
    "# Mostramos el gráfico\n",
    "plt.tight_layout()\n",
    "plt.show()"
   ]
  },
  {
   "cell_type": "code",
<<<<<<< HEAD
   "execution_count": 8,
=======
   "execution_count": 161,
>>>>>>> f888c1835c3f32fb23bd3c382b3bb519bb48730a
   "id": "442c6e8f",
   "metadata": {},
   "outputs": [
    {
     "data": {
      "application/vnd.jupyter.widget-view+json": {
<<<<<<< HEAD
       "model_id": "0f384108c7dc47249c39ddf8e0110c45",
=======
       "model_id": "0bdfe8f4628647c79c92fe067fb8a598",
>>>>>>> f888c1835c3f32fb23bd3c382b3bb519bb48730a
       "version_major": 2,
       "version_minor": 0
      },
      "text/plain": [
       "HBox(children=(Dropdown(description='Jugador 1', index=1307, options=('Aaron Ciammaglichella', 'Aaron Cresswel…"
      ]
     },
     "metadata": {},
     "output_type": "display_data"
    },
    {
     "data": {
      "application/vnd.jupyter.widget-view+json": {
<<<<<<< HEAD
       "model_id": "9f161785ca2f4618912e374dc0226c7a",
=======
       "model_id": "0f56dd95cae44efb95464290eaf73a8e",
>>>>>>> f888c1835c3f32fb23bd3c382b3bb519bb48730a
       "version_major": 2,
       "version_minor": 0
      },
      "text/plain": [
       "FigureWidget({\n",
       "    'data': [{'fill': 'toself',\n",
       "              'name': 'Lionel Messi',\n",
       "              'r': [0.7407407407407407, 0.6470588235294118, 0.6859504132231405,\n",
       "                    0.6290322580645161, 0.4916666666666667, 0.35714285714285715,\n",
       "                    0.2507440476190476, 0.37037037037037035, 0.20051651885781113,\n",
       "                    0.15463917525773196, 0.03278688524590164],\n",
       "              'theta': [Goles, Asistencias, Tiros, TirosAlArco, xG, xAG,\n",
       "                        PasesCompletados, PasesClave, DistanciaProgresiva,\n",
       "                        Entradas, Intercepciones],\n",
       "              'type': 'scatterpolar',\n",
<<<<<<< HEAD
       "              'uid': '8f2351ab-b54c-4e47-b627-ee45c4453f96'},\n",
=======
       "              'uid': '5cb08692-be91-46a3-a1e6-aed6bd3a6f08'},\n",
>>>>>>> f888c1835c3f32fb23bd3c382b3bb519bb48730a
       "             {'fill': 'toself',\n",
       "              'name': 'Harry Kane',\n",
       "              'r': [0.8518518518518519, 0.47058823529411764, 0.7107438016528926,\n",
       "                    0.5806451612903225, 0.7458333333333332, 0.3839285714285714,\n",
       "                    0.15848214285714285, 0.35802469135802467, 0.08961114901081765,\n",
       "                    0.10309278350515463, 0.03278688524590164],\n",
       "              'theta': [Goles, Asistencias, Tiros, TirosAlArco, xG, xAG,\n",
       "                        PasesCompletados, PasesClave, DistanciaProgresiva,\n",
       "                        Entradas, Intercepciones],\n",
       "              'type': 'scatterpolar',\n",
<<<<<<< HEAD
       "              'uid': 'cefa42a5-8656-48fe-99ba-32369c47ef13'}],\n",
=======
       "              'uid': '795fae57-3a4b-42e2-bb9f-756749b95c24'}],\n",
>>>>>>> f888c1835c3f32fb23bd3c382b3bb519bb48730a
       "    'layout': {'polar': {'radialaxis': {'range': [0, 1], 'visible': True}},\n",
       "               'template': '...',\n",
       "               'title': {'text': 'Comparación: Lionel Messi vs Harry Kane'}}\n",
       "})"
      ]
     },
     "metadata": {},
     "output_type": "display_data"
    }
   ],
   "source": [
    "# Seleccionamos el dataframe con el que vamos a trabajar\n",
    "df_grafico2 = df.copy()\n",
    "\n",
    "# Lo ordenamos alfabéticamente por el nombre del jugador\n",
    "df_grafico2.sort_values(\"Jugador\", inplace=True)\n",
    "\n",
    "# Seleccionamos los datos que vamos a graficar\n",
    "stats = [\n",
    "    \"Goles\", \"Asistencias\", \"Tiros\", \"TirosAlArco\", \"xG\", \"xAG\",\n",
    "    \"PasesCompletados\", \"PasesClave\", \"DistanciaProgresiva\", \"Entradas\", \"Intercepciones\"\n",
    "]\n",
    "\n",
    "# Armamos el dataframe con las columnas que nos interesan\n",
    "df_grafico2 = df_grafico2[[\"Jugador\"] + stats]\n",
    "\n",
    "# Normalizamos los datos para que estén entre 0 y 1\n",
    "scaler = MinMaxScaler()\n",
    "df_grafico2[stats] = scaler.fit_transform(df_grafico2[stats])\n",
    "\n",
    "# Función que extrae lista de valores normalizados\n",
    "def valores(j):\n",
    "    return df_grafico2.loc[df_grafico2[\"Jugador\"] == j, stats].iloc[0].tolist()\n",
    "\n",
    "# Obtenemos el listado de jugadores y dos jugadores iniciales para comparar\n",
    "jugadores = df_grafico2[\"Jugador\"]\n",
    "j1, j2 = \"Lionel Messi\", \"Harry Kane\"\n",
    "\n",
    "# Creamos el FigureWidget con las estadisticas del jugador 1\n",
    "figw = go.FigureWidget(\n",
    "    go.Scatterpolar(r=valores(j1), theta=stats, fill=\"toself\", name=j1),\n",
    "    layout=go.Layout(\n",
    "        title=f\"Comparación: {j1} vs {j2}\",\n",
    "        polar=dict(radialaxis=dict(visible=True, range=[0,1]))\n",
    "    )\n",
    ")\n",
    "\n",
    "# Añadimos el segundo jugador al gráfico\n",
    "figw.add_trace(go.Scatterpolar(r=valores(j2), theta=stats, fill=\"toself\", name=j2))\n",
    "\n",
    "# Creamos el menú desplegable para ambos jugadores\n",
    "dd1 = widgets.Dropdown(options=jugadores, value=j1, description=\"Jugador 1\")\n",
    "dd2 = widgets.Dropdown(options=jugadores, value=j2, description=\"Jugador 2\")\n",
    "\n",
    "# Funcion que actualiza el gráfico al cambiar los jugadores\n",
    "def actualizar(change):\n",
    "    # trace 0\n",
    "    figw.data[0].r = valores(dd1.value)\n",
    "    figw.data[0].name = dd1.value\n",
    "    # trace 1\n",
    "    figw.data[1].r = valores(dd2.value)\n",
    "    figw.data[1].name = dd2.value\n",
    "    # título\n",
    "    figw.layout.title.text = f\"Comparación: {dd1.value} vs {dd2.value}\"\n",
    "\n",
    "# Actualizamos el gráfico al cambiar los jugadores\n",
    "dd1.observe(actualizar, names=\"value\")\n",
    "dd2.observe(actualizar, names=\"value\")\n",
    "\n",
    "# Mostramos el gráfico interactivo\n",
    "display(widgets.HBox([dd1, dd2]))\n",
    "display(figw)"
   ]
  },
  {
   "cell_type": "markdown",
   "id": "e06cff52",
   "metadata": {},
   "source": [
    "# Jugadores parecidos"
   ]
  },
  {
   "cell_type": "code",
<<<<<<< HEAD
   "execution_count": 9,
=======
   "execution_count": 162,
>>>>>>> f888c1835c3f32fb23bd3c382b3bb519bb48730a
   "id": "c6986da3",
   "metadata": {},
   "outputs": [],
   "source": [
    "# Nos quedamos con las columnas numéricas del dataframe completo\n",
    "df_num = df_completo.select_dtypes(include=[np.number])\n",
    "df_num[df_num.columns] = MinMaxScaler().fit_transform(df_num)"
   ]
  },
  {
   "cell_type": "code",
<<<<<<< HEAD
   "execution_count": 10,
=======
   "execution_count": 163,
>>>>>>> f888c1835c3f32fb23bd3c382b3bb519bb48730a
   "id": "7f060324",
   "metadata": {},
   "outputs": [],
   "source": [
    "# Definimos una función que nos devuelva, mediante knn, los k jugadores más parecidos para un jugador determinado\n",
    "\n",
    "def jugadores_parecidos(nombre_jugador, cant_recomendaciones):\n",
    "    # Obtenemos el índice del jugador\n",
    "    ind_jugador = df[df[\"Jugador\"]==nombre_jugador].index[0]\n",
    "\n",
    "    # Inicializamos un NearestNeighbors que busque los n+1 jugadores más parecidos al buscado (porque incluye al jugador buscado)\n",
    "    neighbors = NearestNeighbors(n_neighbors = cant_recomendaciones + 1).fit(df_num)\n",
    "\n",
    "    # Obtenemos las distancias a esos jugadores y sus índices\n",
    "    distances, indices = neighbors.kneighbors(df_num.iloc[[ind_jugador]])\n",
    "\n",
    "    # Devolvemos el dataset evaluado en esos índices\n",
    "    res = df.iloc[indices.flatten()]\n",
    "\n",
    "    # Eliminamos de la lista al mismo jugador\n",
    "    res = res.drop(ind_jugador, axis=0)\n",
    "    \n",
    "    return res"
   ]
  },
  {
   "cell_type": "code",
<<<<<<< HEAD
   "execution_count": 11,
=======
   "execution_count": 164,
>>>>>>> f888c1835c3f32fb23bd3c382b3bb519bb48730a
   "id": "bdbc0121",
   "metadata": {},
   "outputs": [
    {
<<<<<<< HEAD
     "name": "stderr",
     "output_type": "stream",
     "text": [
      "D:\\Program Files\\anaconda3\\Lib\\site-packages\\joblib\\externals\\loky\\backend\\context.py:136: UserWarning:\n",
      "\n",
      "Could not find the number of physical cores for the following reason:\n",
      "found 0 physical cores < 1\n",
      "Returning the number of logical cores instead. You can silence this warning by setting LOKY_MAX_CPU_COUNT to the number of cores you want to use.\n",
      "\n",
      "  File \"D:\\Program Files\\anaconda3\\Lib\\site-packages\\joblib\\externals\\loky\\backend\\context.py\", line 282, in _count_physical_cores\n",
      "    raise ValueError(f\"found {cpu_count_physical} physical cores < 1\")\n"
     ]
    },
    {
     "data": {
=======
     "data": {
      "application/vnd.microsoft.datawrangler.viewer.v0+json": {
       "columns": [
        {
         "name": "index",
         "rawType": "int64",
         "type": "integer"
        },
        {
         "name": "Jugador",
         "rawType": "object",
         "type": "string"
        },
        {
         "name": "Equipo",
         "rawType": "object",
         "type": "string"
        },
        {
         "name": "Competición",
         "rawType": "object",
         "type": "string"
        },
        {
         "name": "Posición",
         "rawType": "object",
         "type": "string"
        },
        {
         "name": "Edad",
         "rawType": "int64",
         "type": "integer"
        },
        {
         "name": "Partidos",
         "rawType": "int64",
         "type": "integer"
        },
        {
         "name": "Minutos",
         "rawType": "int64",
         "type": "integer"
        },
        {
         "name": "Goles",
         "rawType": "int64",
         "type": "integer"
        },
        {
         "name": "Asistencias",
         "rawType": "int64",
         "type": "integer"
        },
        {
         "name": "xG",
         "rawType": "float64",
         "type": "float"
        },
        {
         "name": "xAG",
         "rawType": "float64",
         "type": "float"
        },
        {
         "name": "npxG",
         "rawType": "float64",
         "type": "float"
        },
        {
         "name": "ValorMercado",
         "rawType": "float64",
         "type": "float"
        },
        {
         "name": "PasesCompletados",
         "rawType": "int64",
         "type": "integer"
        },
        {
         "name": "IntentosPase",
         "rawType": "int64",
         "type": "integer"
        },
        {
         "name": "PctPasesCompletados",
         "rawType": "float64",
         "type": "float"
        },
        {
         "name": "DistanciaTotalPases",
         "rawType": "int64",
         "type": "integer"
        },
        {
         "name": "DistanciaProgresiva",
         "rawType": "int64",
         "type": "integer"
        },
        {
         "name": "PasesClave",
         "rawType": "int64",
         "type": "integer"
        },
        {
         "name": "Entradas",
         "rawType": "int64",
         "type": "integer"
        },
        {
         "name": "Intercepciones",
         "rawType": "int64",
         "type": "integer"
        },
        {
         "name": "Bloqueos",
         "rawType": "int64",
         "type": "integer"
        },
        {
         "name": "TarjetasAmarillas",
         "rawType": "int64",
         "type": "integer"
        },
        {
         "name": "TarjetasRojas",
         "rawType": "int64",
         "type": "integer"
        },
        {
         "name": "Goles_Asistencias",
         "rawType": "int64",
         "type": "integer"
        },
        {
         "name": "xG_xAG",
         "rawType": "float64",
         "type": "float"
        },
        {
         "name": "Equiv_90min",
         "rawType": "float64",
         "type": "float"
        },
        {
         "name": "EntradasGanadas",
         "rawType": "int64",
         "type": "integer"
        },
        {
         "name": "AsistDesdeCruzados",
         "rawType": "int64",
         "type": "integer"
        },
        {
         "name": "Tiros",
         "rawType": "int64",
         "type": "integer"
        },
        {
         "name": "TirosAlArco",
         "rawType": "int64",
         "type": "integer"
        }
       ],
       "conversionMethod": "pd.DataFrame",
       "ref": "b9cf9de2-d106-4705-b1c4-8c089cc58949",
       "rows": [
        [
         "4",
         "Kylian Mbappe",
         "Real Madrid",
         "La Liga",
         "FW",
         "26",
         "28",
         "2420",
         "22",
         "3",
         "20.0",
         "6.5",
         "14.5",
         "170000000.0",
         "793",
         "957",
         "82.9",
         "11543",
         "2042",
         "41",
         "8",
         "0",
         "3",
         "3",
         "0",
         "25",
         "0.98",
         "26.9",
         "5",
         "2",
         "121",
         "62"
        ],
        [
         "20",
         "Harry Kane",
         "Bayern Munich",
         "Bundesliga",
         "FW",
         "31",
         "26",
         "2023",
         "23",
         "8",
         "17.9",
         "4.3",
         "10.9",
         "90000000.0",
         "426",
         "542",
         "78.6",
         "7603",
         "1839",
         "29",
         "10",
         "2",
         "12",
         "4",
         "0",
         "31",
         "0.98",
         "22.5",
         "9",
         "2",
         "86",
         "36"
        ],
        [
         "99",
         "Bryan Mbeumo",
         "Brentford",
         "Premier League",
         "FW",
         "25",
         "30",
         "2694",
         "16",
         "5",
         "9.8",
         "6.7",
         "5.9",
         "50000000.0",
         "700",
         "1040",
         "67.3",
         "11157",
         "3356",
         "53",
         "34",
         "13",
         "21",
         "2",
         "0",
         "21",
         "0.55",
         "29.9",
         "20",
         "14",
         "60",
         "27"
        ],
        [
         "182",
         "Mason Greenwood",
         "Marseille",
         "Ligue 1",
         "FW",
         "23",
         "27",
         "2191",
         "15",
         "3",
         "12.2",
         "4.2",
         "7.4",
         "35000000.0",
         "881",
         "1123",
         "78.5",
         "14720",
         "3393",
         "33",
         "32",
         "9",
         "4",
         "1",
         "0",
         "18",
         "0.67",
         "24.3",
         "16",
         "11",
         "88",
         "36"
        ],
        [
         "9",
         "Cole Palmer",
         "Chelsea",
         "Premier League",
         "MF",
         "22",
         "29",
         "2530",
         "14",
         "7",
         "15.3",
         "9.1",
         "12.1",
         "130000000.0",
         "892",
         "1172",
         "76.1",
         "17039",
         "4530",
         "71",
         "24",
         "7",
         "14",
         "5",
         "0",
         "21",
         "0.87",
         "28.1",
         "15",
         "14",
         "100",
         "38"
        ],
        [
         "6",
         "Florian Wirtz",
         "Leverkusen",
         "Bundesliga",
         "MF",
         "21",
         "25",
         "1876",
         "9",
         "10",
         "8.5",
         "6.0",
         "5.2",
         "140000000.0",
         "1105",
         "1392",
         "79.4",
         "14510",
         "3764",
         "48",
         "29",
         "8",
         "23",
         "1",
         "0",
         "19",
         "0.69",
         "20.8",
         "18",
         "6",
         "62",
         "28"
        ],
        [
         "48",
         "Bradley Barcola",
         "Paris S-G",
         "Ligue 1",
         "FW",
         "22",
         "28",
         "1832",
         "13",
         "9",
         "12.2",
         "9.2",
         "12.2",
         "70000000.0",
         "598",
         "735",
         "81.4",
         "8122",
         "1869",
         "42",
         "24",
         "16",
         "22",
         "2",
         "0",
         "22",
         "1.05",
         "20.4",
         "14",
         "3",
         "66",
         "32"
        ],
        [
         "16",
         "Alexander Isak",
         "Newcastle Utd",
         "Premier League",
         "FW",
         "25",
         "26",
         "2117",
         "20",
         "5",
         "16.1",
         "3.8",
         "14.5",
         "100000000.0",
         "401",
         "544",
         "73.7",
         "5620",
         "1305",
         "36",
         "12",
         "3",
         "17",
         "1",
         "0",
         "25",
         "0.85",
         "23.5",
         "5",
         "0",
         "70",
         "32"
        ],
        [
         "2",
         "Lamine Yamal",
         "Barcelona",
         "La Liga",
         "FW",
         "17",
         "27",
         "2236",
         "6",
         "11",
         "7.4",
         "11.2",
         "7.4",
         "180000000.0",
         "834",
         "1127",
         "74.0",
         "11775",
         "3430",
         "51",
         "35",
         "13",
         "12",
         "3",
         "0",
         "17",
         "0.75",
         "24.8",
         "24",
         "12",
         "101",
         "29"
        ],
        [
         "33",
         "Ousmane Dembele",
         "Paris S-G",
         "Ligue 1",
         "FW",
         "27",
         "26",
         "1528",
         "21",
         "5",
         "14.9",
         "7.0",
         "14.1",
         "75000000.0",
         "731",
         "933",
         "78.3",
         "11605",
         "3121",
         "55",
         "11",
         "9",
         "3",
         "1",
         "0",
         "26",
         "1.29",
         "17.0",
         "5",
         "3",
         "82",
         "43"
        ]
       ],
       "shape": {
        "columns": 31,
        "rows": 10
       }
      },
>>>>>>> f888c1835c3f32fb23bd3c382b3bb519bb48730a
      "text/html": [
       "<div>\n",
       "<style scoped>\n",
       "    .dataframe tbody tr th:only-of-type {\n",
       "        vertical-align: middle;\n",
       "    }\n",
       "\n",
       "    .dataframe tbody tr th {\n",
       "        vertical-align: top;\n",
       "    }\n",
       "\n",
       "    .dataframe thead th {\n",
       "        text-align: right;\n",
       "    }\n",
       "</style>\n",
       "<table border=\"1\" class=\"dataframe\">\n",
       "  <thead>\n",
       "    <tr style=\"text-align: right;\">\n",
       "      <th></th>\n",
       "      <th>Jugador</th>\n",
       "      <th>Equipo</th>\n",
       "      <th>Competición</th>\n",
       "      <th>Posición</th>\n",
       "      <th>Edad</th>\n",
       "      <th>Partidos</th>\n",
       "      <th>Minutos</th>\n",
       "      <th>Goles</th>\n",
       "      <th>Asistencias</th>\n",
       "      <th>xG</th>\n",
       "      <th>...</th>\n",
       "      <th>Bloqueos</th>\n",
       "      <th>TarjetasAmarillas</th>\n",
       "      <th>TarjetasRojas</th>\n",
       "      <th>Goles_Asistencias</th>\n",
       "      <th>xG_xAG</th>\n",
       "      <th>Equiv_90min</th>\n",
       "      <th>EntradasGanadas</th>\n",
       "      <th>AsistDesdeCruzados</th>\n",
       "      <th>Tiros</th>\n",
       "      <th>TirosAlArco</th>\n",
       "    </tr>\n",
       "  </thead>\n",
       "  <tbody>\n",
       "    <tr>\n",
       "      <th>4</th>\n",
       "      <td>Kylian Mbappe</td>\n",
       "      <td>Real Madrid</td>\n",
       "      <td>La Liga</td>\n",
       "      <td>FW</td>\n",
       "      <td>26</td>\n",
       "      <td>28</td>\n",
       "      <td>2420</td>\n",
       "      <td>22</td>\n",
       "      <td>3</td>\n",
       "      <td>20.0</td>\n",
       "      <td>...</td>\n",
       "      <td>3</td>\n",
       "      <td>3</td>\n",
       "      <td>0</td>\n",
       "      <td>25</td>\n",
       "      <td>0.98</td>\n",
       "      <td>26.9</td>\n",
       "      <td>5</td>\n",
       "      <td>2</td>\n",
       "      <td>121</td>\n",
       "      <td>62</td>\n",
       "    </tr>\n",
       "    <tr>\n",
       "      <th>20</th>\n",
       "      <td>Harry Kane</td>\n",
       "      <td>Bayern Munich</td>\n",
       "      <td>Bundesliga</td>\n",
       "      <td>FW</td>\n",
       "      <td>31</td>\n",
       "      <td>26</td>\n",
       "      <td>2023</td>\n",
       "      <td>23</td>\n",
       "      <td>8</td>\n",
       "      <td>17.9</td>\n",
       "      <td>...</td>\n",
       "      <td>12</td>\n",
       "      <td>4</td>\n",
       "      <td>0</td>\n",
       "      <td>31</td>\n",
       "      <td>0.98</td>\n",
       "      <td>22.5</td>\n",
       "      <td>9</td>\n",
       "      <td>2</td>\n",
       "      <td>86</td>\n",
       "      <td>36</td>\n",
       "    </tr>\n",
       "    <tr>\n",
       "      <th>99</th>\n",
       "      <td>Bryan Mbeumo</td>\n",
       "      <td>Brentford</td>\n",
       "      <td>Premier League</td>\n",
       "      <td>FW</td>\n",
       "      <td>25</td>\n",
       "      <td>30</td>\n",
       "      <td>2694</td>\n",
       "      <td>16</td>\n",
       "      <td>5</td>\n",
       "      <td>9.8</td>\n",
       "      <td>...</td>\n",
       "      <td>21</td>\n",
       "      <td>2</td>\n",
       "      <td>0</td>\n",
       "      <td>21</td>\n",
       "      <td>0.55</td>\n",
       "      <td>29.9</td>\n",
       "      <td>20</td>\n",
       "      <td>14</td>\n",
       "      <td>60</td>\n",
       "      <td>27</td>\n",
       "    </tr>\n",
       "    <tr>\n",
       "      <th>182</th>\n",
       "      <td>Mason Greenwood</td>\n",
       "      <td>Marseille</td>\n",
       "      <td>Ligue 1</td>\n",
       "      <td>FW</td>\n",
       "      <td>23</td>\n",
       "      <td>27</td>\n",
       "      <td>2191</td>\n",
       "      <td>15</td>\n",
       "      <td>3</td>\n",
       "      <td>12.2</td>\n",
       "      <td>...</td>\n",
       "      <td>4</td>\n",
       "      <td>1</td>\n",
       "      <td>0</td>\n",
       "      <td>18</td>\n",
       "      <td>0.67</td>\n",
       "      <td>24.3</td>\n",
       "      <td>16</td>\n",
       "      <td>11</td>\n",
       "      <td>88</td>\n",
       "      <td>36</td>\n",
       "    </tr>\n",
       "    <tr>\n",
       "      <th>9</th>\n",
       "      <td>Cole Palmer</td>\n",
       "      <td>Chelsea</td>\n",
       "      <td>Premier League</td>\n",
       "      <td>MF</td>\n",
       "      <td>22</td>\n",
       "      <td>29</td>\n",
       "      <td>2530</td>\n",
       "      <td>14</td>\n",
       "      <td>7</td>\n",
       "      <td>15.3</td>\n",
       "      <td>...</td>\n",
       "      <td>14</td>\n",
       "      <td>5</td>\n",
       "      <td>0</td>\n",
       "      <td>21</td>\n",
       "      <td>0.87</td>\n",
       "      <td>28.1</td>\n",
       "      <td>15</td>\n",
       "      <td>14</td>\n",
       "      <td>100</td>\n",
       "      <td>38</td>\n",
       "    </tr>\n",
       "    <tr>\n",
       "      <th>6</th>\n",
       "      <td>Florian Wirtz</td>\n",
       "      <td>Leverkusen</td>\n",
       "      <td>Bundesliga</td>\n",
       "      <td>MF</td>\n",
       "      <td>21</td>\n",
       "      <td>25</td>\n",
       "      <td>1876</td>\n",
       "      <td>9</td>\n",
       "      <td>10</td>\n",
       "      <td>8.5</td>\n",
       "      <td>...</td>\n",
       "      <td>23</td>\n",
       "      <td>1</td>\n",
       "      <td>0</td>\n",
       "      <td>19</td>\n",
       "      <td>0.69</td>\n",
       "      <td>20.8</td>\n",
       "      <td>18</td>\n",
       "      <td>6</td>\n",
       "      <td>62</td>\n",
       "      <td>28</td>\n",
       "    </tr>\n",
       "    <tr>\n",
       "      <th>48</th>\n",
       "      <td>Bradley Barcola</td>\n",
       "      <td>Paris S-G</td>\n",
       "      <td>Ligue 1</td>\n",
       "      <td>FW</td>\n",
       "      <td>22</td>\n",
       "      <td>28</td>\n",
       "      <td>1832</td>\n",
       "      <td>13</td>\n",
       "      <td>9</td>\n",
       "      <td>12.2</td>\n",
       "      <td>...</td>\n",
       "      <td>22</td>\n",
       "      <td>2</td>\n",
       "      <td>0</td>\n",
       "      <td>22</td>\n",
       "      <td>1.05</td>\n",
       "      <td>20.4</td>\n",
       "      <td>14</td>\n",
       "      <td>3</td>\n",
       "      <td>66</td>\n",
       "      <td>32</td>\n",
       "    </tr>\n",
       "    <tr>\n",
       "      <th>16</th>\n",
       "      <td>Alexander Isak</td>\n",
       "      <td>Newcastle Utd</td>\n",
       "      <td>Premier League</td>\n",
       "      <td>FW</td>\n",
       "      <td>25</td>\n",
       "      <td>26</td>\n",
       "      <td>2117</td>\n",
       "      <td>20</td>\n",
       "      <td>5</td>\n",
       "      <td>16.1</td>\n",
       "      <td>...</td>\n",
       "      <td>17</td>\n",
       "      <td>1</td>\n",
       "      <td>0</td>\n",
       "      <td>25</td>\n",
       "      <td>0.85</td>\n",
       "      <td>23.5</td>\n",
       "      <td>5</td>\n",
       "      <td>0</td>\n",
       "      <td>70</td>\n",
       "      <td>32</td>\n",
       "    </tr>\n",
       "    <tr>\n",
       "      <th>2</th>\n",
       "      <td>Lamine Yamal</td>\n",
       "      <td>Barcelona</td>\n",
       "      <td>La Liga</td>\n",
       "      <td>FW</td>\n",
       "      <td>17</td>\n",
       "      <td>27</td>\n",
       "      <td>2236</td>\n",
       "      <td>6</td>\n",
       "      <td>11</td>\n",
       "      <td>7.4</td>\n",
       "      <td>...</td>\n",
       "      <td>12</td>\n",
       "      <td>3</td>\n",
       "      <td>0</td>\n",
       "      <td>17</td>\n",
       "      <td>0.75</td>\n",
       "      <td>24.8</td>\n",
       "      <td>24</td>\n",
       "      <td>12</td>\n",
       "      <td>101</td>\n",
       "      <td>29</td>\n",
       "    </tr>\n",
       "    <tr>\n",
       "      <th>33</th>\n",
       "      <td>Ousmane Dembele</td>\n",
       "      <td>Paris S-G</td>\n",
       "      <td>Ligue 1</td>\n",
       "      <td>FW</td>\n",
       "      <td>27</td>\n",
       "      <td>26</td>\n",
       "      <td>1528</td>\n",
       "      <td>21</td>\n",
       "      <td>5</td>\n",
       "      <td>14.9</td>\n",
       "      <td>...</td>\n",
       "      <td>3</td>\n",
       "      <td>1</td>\n",
       "      <td>0</td>\n",
       "      <td>26</td>\n",
       "      <td>1.29</td>\n",
       "      <td>17.0</td>\n",
       "      <td>5</td>\n",
       "      <td>3</td>\n",
       "      <td>82</td>\n",
       "      <td>43</td>\n",
       "    </tr>\n",
       "  </tbody>\n",
       "</table>\n",
       "<p>10 rows × 31 columns</p>\n",
       "</div>"
      ],
      "text/plain": [
       "             Jugador         Equipo     Competición Posición  Edad  Partidos  \\\n",
       "4      Kylian Mbappe    Real Madrid         La Liga       FW    26        28   \n",
       "20        Harry Kane  Bayern Munich      Bundesliga       FW    31        26   \n",
       "99      Bryan Mbeumo      Brentford  Premier League       FW    25        30   \n",
       "182  Mason Greenwood      Marseille         Ligue 1       FW    23        27   \n",
       "9        Cole Palmer        Chelsea  Premier League       MF    22        29   \n",
       "6      Florian Wirtz     Leverkusen      Bundesliga       MF    21        25   \n",
       "48   Bradley Barcola      Paris S-G         Ligue 1       FW    22        28   \n",
       "16    Alexander Isak  Newcastle Utd  Premier League       FW    25        26   \n",
       "2       Lamine Yamal      Barcelona         La Liga       FW    17        27   \n",
       "33   Ousmane Dembele      Paris S-G         Ligue 1       FW    27        26   \n",
       "\n",
       "     Minutos  Goles  Asistencias    xG  ...  Bloqueos  TarjetasAmarillas  \\\n",
       "4       2420     22            3  20.0  ...         3                  3   \n",
       "20      2023     23            8  17.9  ...        12                  4   \n",
       "99      2694     16            5   9.8  ...        21                  2   \n",
       "182     2191     15            3  12.2  ...         4                  1   \n",
       "9       2530     14            7  15.3  ...        14                  5   \n",
       "6       1876      9           10   8.5  ...        23                  1   \n",
       "48      1832     13            9  12.2  ...        22                  2   \n",
       "16      2117     20            5  16.1  ...        17                  1   \n",
       "2       2236      6           11   7.4  ...        12                  3   \n",
       "33      1528     21            5  14.9  ...         3                  1   \n",
       "\n",
       "     TarjetasRojas  Goles_Asistencias  xG_xAG  Equiv_90min  EntradasGanadas  \\\n",
       "4                0                 25    0.98         26.9                5   \n",
       "20               0                 31    0.98         22.5                9   \n",
       "99               0                 21    0.55         29.9               20   \n",
       "182              0                 18    0.67         24.3               16   \n",
       "9                0                 21    0.87         28.1               15   \n",
       "6                0                 19    0.69         20.8               18   \n",
       "48               0                 22    1.05         20.4               14   \n",
       "16               0                 25    0.85         23.5                5   \n",
       "2                0                 17    0.75         24.8               24   \n",
       "33               0                 26    1.29         17.0                5   \n",
       "\n",
       "     AsistDesdeCruzados  Tiros  TirosAlArco  \n",
       "4                     2    121           62  \n",
       "20                    2     86           36  \n",
       "99                   14     60           27  \n",
       "182                  11     88           36  \n",
       "9                    14    100           38  \n",
       "6                     6     62           28  \n",
       "48                    3     66           32  \n",
       "16                    0     70           32  \n",
       "2                    12    101           29  \n",
       "33                    3     82           43  \n",
       "\n",
       "[10 rows x 31 columns]"
      ]
     },
<<<<<<< HEAD
     "execution_count": 11,
=======
     "execution_count": 164,
>>>>>>> f888c1835c3f32fb23bd3c382b3bb519bb48730a
     "metadata": {},
     "output_type": "execute_result"
    }
   ],
   "source": [
    "# Obtenemos los 10 jugadores más parecidos a Lionel Messi\n",
    "jugadores_parecidos(\"Mohamed Salah\", 10)"
   ]
  },
  {
   "cell_type": "markdown",
   "id": "a492a1fe",
   "metadata": {},
   "source": [
    "# Mejores jugadores"
   ]
  },
  {
   "cell_type": "code",
<<<<<<< HEAD
   "execution_count": 12,
=======
   "execution_count": 165,
>>>>>>> f888c1835c3f32fb23bd3c382b3bb519bb48730a
   "id": "662644f2",
   "metadata": {},
   "outputs": [],
   "source": [
    "# Separamos el dataset en 4, uno por cada posición\n",
    "df_delanteros = df_completo[df_completo[\"stats_Pos\"] == \"FW\"]\n",
    "df_mediocampistas = df_completo[df_completo[\"stats_Pos\"] == \"MF\"]\n",
    "df_defensores = df_completo[df_completo[\"stats_Pos\"] == \"DF\"]\n",
    "df_arqueros = df_completo[df_completo[\"stats_Pos\"] == \"GK\"]"
   ]
  },
  {
   "cell_type": "code",
<<<<<<< HEAD
   "execution_count": 13,
=======
   "execution_count": 166,
>>>>>>> f888c1835c3f32fb23bd3c382b3bb519bb48730a
   "id": "d11748ec",
   "metadata": {},
   "outputs": [],
   "source": [
    "def mejores_jugadores(posicion, cantidad, nacionalidad = None):\n",
    "\n",
    "    # Decidimos con qué dataframe trabajar según la posición\n",
    "    if posicion == \"delanteros\":\n",
    "        df_pos = df_delanteros\n",
    "        stats = df_num.columns\n",
    "\n",
    "    elif posicion == \"mediocampistas\":\n",
    "        df_pos = df_mediocampistas\n",
    "        stats = df_num.columns\n",
    "\n",
    "    elif posicion == \"defensores\":\n",
    "        df_pos = df_defensores\n",
    "        stats = df_num.columns\n",
    "\n",
    "    elif posicion == \"arqueros\":\n",
    "        df_pos = df_arqueros\n",
    "        stats = df_num.columns\n",
    "        \n",
    "    elif posicion == \"todos\":\n",
    "        df_pos = df.copy()\n",
    "        stats = df_num.columns\n",
    "\n",
    "    if nacionalidad is not None:\n",
    "        df_pos = df_pos[df_pos[\"stats_Nation\"].str.contains(nacionalidad, na=False)]\n",
    "\n",
    "    # Aplicamos Z-Score a las columnas\n",
    "    df_pos_zcores = df_pos[stats].apply(zscore)\n",
    "\n",
    "    # Calculamos el puntaje total sumando los Z-Scores de cada estadística, ya que todas las columnas son positivas\n",
    "    df_pos_zcores[\"score\"] = df_pos_zcores[stats].sum(axis=1)\n",
    "\n",
    "    # Ordenamos el dataframe por el puntaje total\n",
    "    df_pos_zcores = df_pos_zcores.sort_values(by=\"score\", ascending=False)\n",
    "\n",
    "    # Ordenamos el dataframe original por el puntaje total\n",
    "    mejores_jugadores = df_pos_zcores.head(cantidad)\n",
    "\n",
    "    # Devolvemos el dataframe original con los mejores jugadores\n",
    "    return df.loc[mejores_jugadores.index]"
   ]
  },
  {
   "cell_type": "code",
<<<<<<< HEAD
   "execution_count": 14,
=======
   "execution_count": 167,
>>>>>>> f888c1835c3f32fb23bd3c382b3bb519bb48730a
   "id": "91110432",
   "metadata": {},
   "outputs": [
    {
     "data": {
<<<<<<< HEAD
=======
      "application/vnd.microsoft.datawrangler.viewer.v0+json": {
       "columns": [
        {
         "name": "index",
         "rawType": "int64",
         "type": "integer"
        },
        {
         "name": "Jugador",
         "rawType": "object",
         "type": "string"
        },
        {
         "name": "Equipo",
         "rawType": "object",
         "type": "string"
        },
        {
         "name": "Competición",
         "rawType": "object",
         "type": "string"
        },
        {
         "name": "Posición",
         "rawType": "object",
         "type": "string"
        },
        {
         "name": "Edad",
         "rawType": "int64",
         "type": "integer"
        },
        {
         "name": "Partidos",
         "rawType": "int64",
         "type": "integer"
        },
        {
         "name": "Minutos",
         "rawType": "int64",
         "type": "integer"
        },
        {
         "name": "Goles",
         "rawType": "int64",
         "type": "integer"
        },
        {
         "name": "Asistencias",
         "rawType": "int64",
         "type": "integer"
        },
        {
         "name": "xG",
         "rawType": "float64",
         "type": "float"
        },
        {
         "name": "xAG",
         "rawType": "float64",
         "type": "float"
        },
        {
         "name": "npxG",
         "rawType": "float64",
         "type": "float"
        },
        {
         "name": "ValorMercado",
         "rawType": "float64",
         "type": "float"
        },
        {
         "name": "PasesCompletados",
         "rawType": "int64",
         "type": "integer"
        },
        {
         "name": "IntentosPase",
         "rawType": "int64",
         "type": "integer"
        },
        {
         "name": "PctPasesCompletados",
         "rawType": "float64",
         "type": "float"
        },
        {
         "name": "DistanciaTotalPases",
         "rawType": "int64",
         "type": "integer"
        },
        {
         "name": "DistanciaProgresiva",
         "rawType": "int64",
         "type": "integer"
        },
        {
         "name": "PasesClave",
         "rawType": "int64",
         "type": "integer"
        },
        {
         "name": "Entradas",
         "rawType": "int64",
         "type": "integer"
        },
        {
         "name": "Intercepciones",
         "rawType": "int64",
         "type": "integer"
        },
        {
         "name": "Bloqueos",
         "rawType": "int64",
         "type": "integer"
        },
        {
         "name": "TarjetasAmarillas",
         "rawType": "int64",
         "type": "integer"
        },
        {
         "name": "TarjetasRojas",
         "rawType": "int64",
         "type": "integer"
        },
        {
         "name": "Goles_Asistencias",
         "rawType": "int64",
         "type": "integer"
        },
        {
         "name": "xG_xAG",
         "rawType": "float64",
         "type": "float"
        },
        {
         "name": "Equiv_90min",
         "rawType": "float64",
         "type": "float"
        },
        {
         "name": "EntradasGanadas",
         "rawType": "int64",
         "type": "integer"
        },
        {
         "name": "AsistDesdeCruzados",
         "rawType": "int64",
         "type": "integer"
        },
        {
         "name": "Tiros",
         "rawType": "int64",
         "type": "integer"
        },
        {
         "name": "TirosAlArco",
         "rawType": "int64",
         "type": "integer"
        }
       ],
       "conversionMethod": "pd.DataFrame",
       "ref": "e120958e-4b05-4468-af1f-cdb3e5329791",
       "rows": [
        [
         "70",
         "Mohamed Salah",
         "Liverpool",
         "Premier League",
         "FW",
         "32",
         "30",
         "2657",
         "27",
         "17",
         "22.1",
         "11.2",
         "15.0",
         "55000000.0",
         "717",
         "1003",
         "71.5",
         "10819",
         "3035",
         "68",
         "20",
         "4",
         "6",
         "1",
         "0",
         "44",
         "1.13",
         "29.5",
         "11",
         "12",
         "98",
         "45"
        ],
        [
         "24",
         "Raphinha",
         "Barcelona",
         "La Liga",
         "FW",
         "28",
         "28",
         "2252",
         "13",
         "8",
         "14.5",
         "10.6",
         "13.7",
         "80000000.0",
         "808",
         "1166",
         "69.3",
         "13904",
         "3982",
         "75",
         "32",
         "7",
         "22",
         "3",
         "0",
         "21",
         "1.0",
         "25.0",
         "20",
         "14",
         "86",
         "33"
        ],
        [
         "2",
         "Lamine Yamal",
         "Barcelona",
         "La Liga",
         "FW",
         "17",
         "27",
         "2236",
         "6",
         "11",
         "7.4",
         "11.2",
         "7.4",
         "180000000.0",
         "834",
         "1127",
         "74.0",
         "11775",
         "3430",
         "51",
         "35",
         "13",
         "12",
         "3",
         "0",
         "17",
         "0.75",
         "24.8",
         "24",
         "12",
         "101",
         "29"
        ]
       ],
       "shape": {
        "columns": 31,
        "rows": 3
       }
      },
>>>>>>> f888c1835c3f32fb23bd3c382b3bb519bb48730a
      "text/html": [
       "<div>\n",
       "<style scoped>\n",
       "    .dataframe tbody tr th:only-of-type {\n",
       "        vertical-align: middle;\n",
       "    }\n",
       "\n",
       "    .dataframe tbody tr th {\n",
       "        vertical-align: top;\n",
       "    }\n",
       "\n",
       "    .dataframe thead th {\n",
       "        text-align: right;\n",
       "    }\n",
       "</style>\n",
       "<table border=\"1\" class=\"dataframe\">\n",
       "  <thead>\n",
       "    <tr style=\"text-align: right;\">\n",
       "      <th></th>\n",
       "      <th>Jugador</th>\n",
       "      <th>Equipo</th>\n",
       "      <th>Competición</th>\n",
       "      <th>Posición</th>\n",
       "      <th>Edad</th>\n",
       "      <th>Partidos</th>\n",
       "      <th>Minutos</th>\n",
       "      <th>Goles</th>\n",
       "      <th>Asistencias</th>\n",
       "      <th>xG</th>\n",
       "      <th>...</th>\n",
       "      <th>Bloqueos</th>\n",
       "      <th>TarjetasAmarillas</th>\n",
       "      <th>TarjetasRojas</th>\n",
       "      <th>Goles_Asistencias</th>\n",
       "      <th>xG_xAG</th>\n",
       "      <th>Equiv_90min</th>\n",
       "      <th>EntradasGanadas</th>\n",
       "      <th>AsistDesdeCruzados</th>\n",
       "      <th>Tiros</th>\n",
       "      <th>TirosAlArco</th>\n",
       "    </tr>\n",
       "  </thead>\n",
       "  <tbody>\n",
       "    <tr>\n",
       "      <th>70</th>\n",
       "      <td>Mohamed Salah</td>\n",
       "      <td>Liverpool</td>\n",
       "      <td>Premier League</td>\n",
       "      <td>FW</td>\n",
       "      <td>32</td>\n",
       "      <td>30</td>\n",
       "      <td>2657</td>\n",
       "      <td>27</td>\n",
       "      <td>17</td>\n",
       "      <td>22.1</td>\n",
       "      <td>...</td>\n",
       "      <td>6</td>\n",
       "      <td>1</td>\n",
       "      <td>0</td>\n",
       "      <td>44</td>\n",
       "      <td>1.13</td>\n",
       "      <td>29.5</td>\n",
       "      <td>11</td>\n",
       "      <td>12</td>\n",
       "      <td>98</td>\n",
       "      <td>45</td>\n",
       "    </tr>\n",
       "    <tr>\n",
       "      <th>24</th>\n",
       "      <td>Raphinha</td>\n",
       "      <td>Barcelona</td>\n",
       "      <td>La Liga</td>\n",
       "      <td>FW</td>\n",
       "      <td>28</td>\n",
       "      <td>28</td>\n",
       "      <td>2252</td>\n",
       "      <td>13</td>\n",
       "      <td>8</td>\n",
       "      <td>14.5</td>\n",
       "      <td>...</td>\n",
       "      <td>22</td>\n",
       "      <td>3</td>\n",
       "      <td>0</td>\n",
       "      <td>21</td>\n",
       "      <td>1.00</td>\n",
       "      <td>25.0</td>\n",
       "      <td>20</td>\n",
       "      <td>14</td>\n",
       "      <td>86</td>\n",
       "      <td>33</td>\n",
       "    </tr>\n",
       "    <tr>\n",
       "      <th>2</th>\n",
       "      <td>Lamine Yamal</td>\n",
       "      <td>Barcelona</td>\n",
       "      <td>La Liga</td>\n",
       "      <td>FW</td>\n",
       "      <td>17</td>\n",
       "      <td>27</td>\n",
       "      <td>2236</td>\n",
       "      <td>6</td>\n",
       "      <td>11</td>\n",
       "      <td>7.4</td>\n",
       "      <td>...</td>\n",
       "      <td>12</td>\n",
       "      <td>3</td>\n",
       "      <td>0</td>\n",
       "      <td>17</td>\n",
       "      <td>0.75</td>\n",
       "      <td>24.8</td>\n",
       "      <td>24</td>\n",
       "      <td>12</td>\n",
       "      <td>101</td>\n",
       "      <td>29</td>\n",
       "    </tr>\n",
       "  </tbody>\n",
       "</table>\n",
       "<p>3 rows × 31 columns</p>\n",
       "</div>"
      ],
      "text/plain": [
       "          Jugador     Equipo     Competición Posición  Edad  Partidos  \\\n",
       "70  Mohamed Salah  Liverpool  Premier League       FW    32        30   \n",
       "24       Raphinha  Barcelona         La Liga       FW    28        28   \n",
       "2    Lamine Yamal  Barcelona         La Liga       FW    17        27   \n",
       "\n",
       "    Minutos  Goles  Asistencias    xG  ...  Bloqueos  TarjetasAmarillas  \\\n",
       "70     2657     27           17  22.1  ...         6                  1   \n",
       "24     2252     13            8  14.5  ...        22                  3   \n",
       "2      2236      6           11   7.4  ...        12                  3   \n",
       "\n",
       "    TarjetasRojas  Goles_Asistencias  xG_xAG  Equiv_90min  EntradasGanadas  \\\n",
       "70              0                 44    1.13         29.5               11   \n",
       "24              0                 21    1.00         25.0               20   \n",
       "2               0                 17    0.75         24.8               24   \n",
       "\n",
       "    AsistDesdeCruzados  Tiros  TirosAlArco  \n",
       "70                  12     98           45  \n",
       "24                  14     86           33  \n",
       "2                   12    101           29  \n",
       "\n",
       "[3 rows x 31 columns]"
      ]
     },
     "metadata": {},
     "output_type": "display_data"
    },
    {
     "data": {
<<<<<<< HEAD
=======
      "application/vnd.microsoft.datawrangler.viewer.v0+json": {
       "columns": [
        {
         "name": "index",
         "rawType": "int64",
         "type": "integer"
        },
        {
         "name": "Jugador",
         "rawType": "object",
         "type": "string"
        },
        {
         "name": "Equipo",
         "rawType": "object",
         "type": "string"
        },
        {
         "name": "Competición",
         "rawType": "object",
         "type": "string"
        },
        {
         "name": "Posición",
         "rawType": "object",
         "type": "string"
        },
        {
         "name": "Edad",
         "rawType": "int64",
         "type": "integer"
        },
        {
         "name": "Partidos",
         "rawType": "int64",
         "type": "integer"
        },
        {
         "name": "Minutos",
         "rawType": "int64",
         "type": "integer"
        },
        {
         "name": "Goles",
         "rawType": "int64",
         "type": "integer"
        },
        {
         "name": "Asistencias",
         "rawType": "int64",
         "type": "integer"
        },
        {
         "name": "xG",
         "rawType": "float64",
         "type": "float"
        },
        {
         "name": "xAG",
         "rawType": "float64",
         "type": "float"
        },
        {
         "name": "npxG",
         "rawType": "float64",
         "type": "float"
        },
        {
         "name": "ValorMercado",
         "rawType": "float64",
         "type": "float"
        },
        {
         "name": "PasesCompletados",
         "rawType": "int64",
         "type": "integer"
        },
        {
         "name": "IntentosPase",
         "rawType": "int64",
         "type": "integer"
        },
        {
         "name": "PctPasesCompletados",
         "rawType": "float64",
         "type": "float"
        },
        {
         "name": "DistanciaTotalPases",
         "rawType": "int64",
         "type": "integer"
        },
        {
         "name": "DistanciaProgresiva",
         "rawType": "int64",
         "type": "integer"
        },
        {
         "name": "PasesClave",
         "rawType": "int64",
         "type": "integer"
        },
        {
         "name": "Entradas",
         "rawType": "int64",
         "type": "integer"
        },
        {
         "name": "Intercepciones",
         "rawType": "int64",
         "type": "integer"
        },
        {
         "name": "Bloqueos",
         "rawType": "int64",
         "type": "integer"
        },
        {
         "name": "TarjetasAmarillas",
         "rawType": "int64",
         "type": "integer"
        },
        {
         "name": "TarjetasRojas",
         "rawType": "int64",
         "type": "integer"
        },
        {
         "name": "Goles_Asistencias",
         "rawType": "int64",
         "type": "integer"
        },
        {
         "name": "xG_xAG",
         "rawType": "float64",
         "type": "float"
        },
        {
         "name": "Equiv_90min",
         "rawType": "float64",
         "type": "float"
        },
        {
         "name": "EntradasGanadas",
         "rawType": "int64",
         "type": "integer"
        },
        {
         "name": "AsistDesdeCruzados",
         "rawType": "int64",
         "type": "integer"
        },
        {
         "name": "Tiros",
         "rawType": "int64",
         "type": "integer"
        },
        {
         "name": "TirosAlArco",
         "rawType": "int64",
         "type": "integer"
        }
       ],
       "conversionMethod": "pd.DataFrame",
       "ref": "71236d94-a3c1-4241-8b05-1b617a9f6a33",
       "rows": [
        [
         "9",
         "Cole Palmer",
         "Chelsea",
         "Premier League",
         "MF",
         "22",
         "29",
         "2530",
         "14",
         "7",
         "15.3",
         "9.1",
         "12.1",
         "130000000.0",
         "892",
         "1172",
         "76.1",
         "17039",
         "4530",
         "71",
         "24",
         "7",
         "14",
         "5",
         "0",
         "21",
         "0.87",
         "28.1",
         "15",
         "14",
         "100",
         "38"
        ],
        [
         "80",
         "Bruno Fernandes",
         "Manchester Utd",
         "Premier League",
         "MF",
         "30",
         "29",
         "2465",
         "8",
         "9",
         "8.7",
         "6.4",
         "6.3",
         "55000000.0",
         "1348",
         "1800",
         "74.9",
         "23682",
         "8382",
         "72",
         "68",
         "21",
         "28",
         "4",
         "2",
         "17",
         "0.55",
         "27.4",
         "41",
         "9",
         "75",
         "23"
        ],
        [
         "6",
         "Florian Wirtz",
         "Leverkusen",
         "Bundesliga",
         "MF",
         "21",
         "25",
         "1876",
         "9",
         "10",
         "8.5",
         "6.0",
         "5.2",
         "140000000.0",
         "1105",
         "1392",
         "79.4",
         "14510",
         "3764",
         "48",
         "29",
         "8",
         "23",
         "1",
         "0",
         "19",
         "0.69",
         "20.8",
         "18",
         "6",
         "62",
         "28"
        ]
       ],
       "shape": {
        "columns": 31,
        "rows": 3
       }
      },
>>>>>>> f888c1835c3f32fb23bd3c382b3bb519bb48730a
      "text/html": [
       "<div>\n",
       "<style scoped>\n",
       "    .dataframe tbody tr th:only-of-type {\n",
       "        vertical-align: middle;\n",
       "    }\n",
       "\n",
       "    .dataframe tbody tr th {\n",
       "        vertical-align: top;\n",
       "    }\n",
       "\n",
       "    .dataframe thead th {\n",
       "        text-align: right;\n",
       "    }\n",
       "</style>\n",
       "<table border=\"1\" class=\"dataframe\">\n",
       "  <thead>\n",
       "    <tr style=\"text-align: right;\">\n",
       "      <th></th>\n",
       "      <th>Jugador</th>\n",
       "      <th>Equipo</th>\n",
       "      <th>Competición</th>\n",
       "      <th>Posición</th>\n",
       "      <th>Edad</th>\n",
       "      <th>Partidos</th>\n",
       "      <th>Minutos</th>\n",
       "      <th>Goles</th>\n",
       "      <th>Asistencias</th>\n",
       "      <th>xG</th>\n",
       "      <th>...</th>\n",
       "      <th>Bloqueos</th>\n",
       "      <th>TarjetasAmarillas</th>\n",
       "      <th>TarjetasRojas</th>\n",
       "      <th>Goles_Asistencias</th>\n",
       "      <th>xG_xAG</th>\n",
       "      <th>Equiv_90min</th>\n",
       "      <th>EntradasGanadas</th>\n",
       "      <th>AsistDesdeCruzados</th>\n",
       "      <th>Tiros</th>\n",
       "      <th>TirosAlArco</th>\n",
       "    </tr>\n",
       "  </thead>\n",
       "  <tbody>\n",
       "    <tr>\n",
       "      <th>9</th>\n",
       "      <td>Cole Palmer</td>\n",
       "      <td>Chelsea</td>\n",
       "      <td>Premier League</td>\n",
       "      <td>MF</td>\n",
       "      <td>22</td>\n",
       "      <td>29</td>\n",
       "      <td>2530</td>\n",
       "      <td>14</td>\n",
       "      <td>7</td>\n",
       "      <td>15.3</td>\n",
       "      <td>...</td>\n",
       "      <td>14</td>\n",
       "      <td>5</td>\n",
       "      <td>0</td>\n",
       "      <td>21</td>\n",
       "      <td>0.87</td>\n",
       "      <td>28.1</td>\n",
       "      <td>15</td>\n",
       "      <td>14</td>\n",
       "      <td>100</td>\n",
       "      <td>38</td>\n",
       "    </tr>\n",
       "    <tr>\n",
       "      <th>80</th>\n",
       "      <td>Bruno Fernandes</td>\n",
       "      <td>Manchester Utd</td>\n",
       "      <td>Premier League</td>\n",
       "      <td>MF</td>\n",
       "      <td>30</td>\n",
       "      <td>29</td>\n",
       "      <td>2465</td>\n",
       "      <td>8</td>\n",
       "      <td>9</td>\n",
       "      <td>8.7</td>\n",
       "      <td>...</td>\n",
       "      <td>28</td>\n",
       "      <td>4</td>\n",
       "      <td>2</td>\n",
       "      <td>17</td>\n",
       "      <td>0.55</td>\n",
       "      <td>27.4</td>\n",
       "      <td>41</td>\n",
       "      <td>9</td>\n",
       "      <td>75</td>\n",
       "      <td>23</td>\n",
       "    </tr>\n",
       "    <tr>\n",
       "      <th>6</th>\n",
       "      <td>Florian Wirtz</td>\n",
       "      <td>Leverkusen</td>\n",
       "      <td>Bundesliga</td>\n",
       "      <td>MF</td>\n",
       "      <td>21</td>\n",
       "      <td>25</td>\n",
       "      <td>1876</td>\n",
       "      <td>9</td>\n",
       "      <td>10</td>\n",
       "      <td>8.5</td>\n",
       "      <td>...</td>\n",
       "      <td>23</td>\n",
       "      <td>1</td>\n",
       "      <td>0</td>\n",
       "      <td>19</td>\n",
       "      <td>0.69</td>\n",
       "      <td>20.8</td>\n",
       "      <td>18</td>\n",
       "      <td>6</td>\n",
       "      <td>62</td>\n",
       "      <td>28</td>\n",
       "    </tr>\n",
       "  </tbody>\n",
       "</table>\n",
       "<p>3 rows × 31 columns</p>\n",
       "</div>"
      ],
      "text/plain": [
       "            Jugador          Equipo     Competición Posición  Edad  Partidos  \\\n",
       "9       Cole Palmer         Chelsea  Premier League       MF    22        29   \n",
       "80  Bruno Fernandes  Manchester Utd  Premier League       MF    30        29   \n",
       "6     Florian Wirtz      Leverkusen      Bundesliga       MF    21        25   \n",
       "\n",
       "    Minutos  Goles  Asistencias    xG  ...  Bloqueos  TarjetasAmarillas  \\\n",
       "9      2530     14            7  15.3  ...        14                  5   \n",
       "80     2465      8            9   8.7  ...        28                  4   \n",
       "6      1876      9           10   8.5  ...        23                  1   \n",
       "\n",
       "    TarjetasRojas  Goles_Asistencias  xG_xAG  Equiv_90min  EntradasGanadas  \\\n",
       "9               0                 21    0.87         28.1               15   \n",
       "80              2                 17    0.55         27.4               41   \n",
       "6               0                 19    0.69         20.8               18   \n",
       "\n",
       "    AsistDesdeCruzados  Tiros  TirosAlArco  \n",
       "9                   14    100           38  \n",
       "80                   9     75           23  \n",
       "6                    6     62           28  \n",
       "\n",
       "[3 rows x 31 columns]"
      ]
     },
     "metadata": {},
     "output_type": "display_data"
    },
    {
     "data": {
<<<<<<< HEAD
=======
      "application/vnd.microsoft.datawrangler.viewer.v0+json": {
       "columns": [
        {
         "name": "index",
         "rawType": "int64",
         "type": "integer"
        },
        {
         "name": "Jugador",
         "rawType": "object",
         "type": "string"
        },
        {
         "name": "Equipo",
         "rawType": "object",
         "type": "string"
        },
        {
         "name": "Competición",
         "rawType": "object",
         "type": "string"
        },
        {
         "name": "Posición",
         "rawType": "object",
         "type": "string"
        },
        {
         "name": "Edad",
         "rawType": "int64",
         "type": "integer"
        },
        {
         "name": "Partidos",
         "rawType": "int64",
         "type": "integer"
        },
        {
         "name": "Minutos",
         "rawType": "int64",
         "type": "integer"
        },
        {
         "name": "Goles",
         "rawType": "int64",
         "type": "integer"
        },
        {
         "name": "Asistencias",
         "rawType": "int64",
         "type": "integer"
        },
        {
         "name": "xG",
         "rawType": "float64",
         "type": "float"
        },
        {
         "name": "xAG",
         "rawType": "float64",
         "type": "float"
        },
        {
         "name": "npxG",
         "rawType": "float64",
         "type": "float"
        },
        {
         "name": "ValorMercado",
         "rawType": "float64",
         "type": "float"
        },
        {
         "name": "PasesCompletados",
         "rawType": "int64",
         "type": "integer"
        },
        {
         "name": "IntentosPase",
         "rawType": "int64",
         "type": "integer"
        },
        {
         "name": "PctPasesCompletados",
         "rawType": "float64",
         "type": "float"
        },
        {
         "name": "DistanciaTotalPases",
         "rawType": "int64",
         "type": "integer"
        },
        {
         "name": "DistanciaProgresiva",
         "rawType": "int64",
         "type": "integer"
        },
        {
         "name": "PasesClave",
         "rawType": "int64",
         "type": "integer"
        },
        {
         "name": "Entradas",
         "rawType": "int64",
         "type": "integer"
        },
        {
         "name": "Intercepciones",
         "rawType": "int64",
         "type": "integer"
        },
        {
         "name": "Bloqueos",
         "rawType": "int64",
         "type": "integer"
        },
        {
         "name": "TarjetasAmarillas",
         "rawType": "int64",
         "type": "integer"
        },
        {
         "name": "TarjetasRojas",
         "rawType": "int64",
         "type": "integer"
        },
        {
         "name": "Goles_Asistencias",
         "rawType": "int64",
         "type": "integer"
        },
        {
         "name": "xG_xAG",
         "rawType": "float64",
         "type": "float"
        },
        {
         "name": "Equiv_90min",
         "rawType": "float64",
         "type": "float"
        },
        {
         "name": "EntradasGanadas",
         "rawType": "int64",
         "type": "integer"
        },
        {
         "name": "AsistDesdeCruzados",
         "rawType": "int64",
         "type": "integer"
        },
        {
         "name": "Tiros",
         "rawType": "int64",
         "type": "integer"
        },
        {
         "name": "TirosAlArco",
         "rawType": "int64",
         "type": "integer"
        }
       ],
       "conversionMethod": "pd.DataFrame",
       "ref": "7f599fd7-a7ec-4e1d-b81e-53fa90c51a4e",
       "rows": [
        [
         "34",
         "Trent Alexander-Arnold",
         "Liverpool",
         "Premier League",
         "DF",
         "26",
         "28",
         "2145",
         "2",
         "6",
         "1.6",
         "6.7",
         "1.6",
         "75000000.0",
         "1321",
         "1787",
         "73.9",
         "25377",
         "10446",
         "50",
         "67",
         "30",
         "25",
         "4",
         "0",
         "8",
         "0.35",
         "23.8",
         "47",
         "20",
         "38",
         "7"
        ],
        [
         "52",
         "Achraf Hakimi",
         "Paris S-G",
         "Ligue 1",
         "DF",
         "26",
         "22",
         "1826",
         "4",
         "6",
         "2.7",
         "6.0",
         "2.7",
         "65000000.0",
         "1697",
         "1913",
         "88.7",
         "22760",
         "6635",
         "47",
         "44",
         "30",
         "24",
         "4",
         "0",
         "10",
         "0.43",
         "20.3",
         "34",
         "9",
         "29",
         "12"
        ],
        [
         "36",
         "Josko Gvardiol",
         "Manchester City",
         "Premier League",
         "DF",
         "23",
         "29",
         "2557",
         "5",
         "0",
         "4.2",
         "2.0",
         "3.9",
         "75000000.0",
         "1918",
         "2123",
         "90.3",
         "30774",
         "7902",
         "25",
         "48",
         "30",
         "33",
         "1",
         "0",
         "5",
         "0.22",
         "28.4",
         "32",
         "1",
         "35",
         "11"
        ],
        [
         "146",
         "Theo Hernandez",
         "Milan",
         "Serie A",
         "DF",
         "27",
         "28",
         "2254",
         "3",
         "3",
         "2.5",
         "4.3",
         "1.7",
         "40000000.0",
         "1163",
         "1385",
         "84.0",
         "18476",
         "5774",
         "41",
         "29",
         "14",
         "22",
         "4",
         "1",
         "6",
         "0.27",
         "25.0",
         "22",
         "11",
         "36",
         "10"
        ]
       ],
       "shape": {
        "columns": 31,
        "rows": 4
       }
      },
>>>>>>> f888c1835c3f32fb23bd3c382b3bb519bb48730a
      "text/html": [
       "<div>\n",
       "<style scoped>\n",
       "    .dataframe tbody tr th:only-of-type {\n",
       "        vertical-align: middle;\n",
       "    }\n",
       "\n",
       "    .dataframe tbody tr th {\n",
       "        vertical-align: top;\n",
       "    }\n",
       "\n",
       "    .dataframe thead th {\n",
       "        text-align: right;\n",
       "    }\n",
       "</style>\n",
       "<table border=\"1\" class=\"dataframe\">\n",
       "  <thead>\n",
       "    <tr style=\"text-align: right;\">\n",
       "      <th></th>\n",
       "      <th>Jugador</th>\n",
       "      <th>Equipo</th>\n",
       "      <th>Competición</th>\n",
       "      <th>Posición</th>\n",
       "      <th>Edad</th>\n",
       "      <th>Partidos</th>\n",
       "      <th>Minutos</th>\n",
       "      <th>Goles</th>\n",
       "      <th>Asistencias</th>\n",
       "      <th>xG</th>\n",
       "      <th>...</th>\n",
       "      <th>Bloqueos</th>\n",
       "      <th>TarjetasAmarillas</th>\n",
       "      <th>TarjetasRojas</th>\n",
       "      <th>Goles_Asistencias</th>\n",
       "      <th>xG_xAG</th>\n",
       "      <th>Equiv_90min</th>\n",
       "      <th>EntradasGanadas</th>\n",
       "      <th>AsistDesdeCruzados</th>\n",
       "      <th>Tiros</th>\n",
       "      <th>TirosAlArco</th>\n",
       "    </tr>\n",
       "  </thead>\n",
       "  <tbody>\n",
       "    <tr>\n",
       "      <th>34</th>\n",
       "      <td>Trent Alexander-Arnold</td>\n",
       "      <td>Liverpool</td>\n",
       "      <td>Premier League</td>\n",
       "      <td>DF</td>\n",
       "      <td>26</td>\n",
       "      <td>28</td>\n",
       "      <td>2145</td>\n",
       "      <td>2</td>\n",
       "      <td>6</td>\n",
       "      <td>1.6</td>\n",
       "      <td>...</td>\n",
       "      <td>25</td>\n",
       "      <td>4</td>\n",
       "      <td>0</td>\n",
       "      <td>8</td>\n",
       "      <td>0.35</td>\n",
       "      <td>23.8</td>\n",
       "      <td>47</td>\n",
       "      <td>20</td>\n",
       "      <td>38</td>\n",
       "      <td>7</td>\n",
       "    </tr>\n",
       "    <tr>\n",
       "      <th>52</th>\n",
       "      <td>Achraf Hakimi</td>\n",
       "      <td>Paris S-G</td>\n",
       "      <td>Ligue 1</td>\n",
       "      <td>DF</td>\n",
       "      <td>26</td>\n",
       "      <td>22</td>\n",
       "      <td>1826</td>\n",
       "      <td>4</td>\n",
       "      <td>6</td>\n",
       "      <td>2.7</td>\n",
       "      <td>...</td>\n",
       "      <td>24</td>\n",
       "      <td>4</td>\n",
       "      <td>0</td>\n",
       "      <td>10</td>\n",
       "      <td>0.43</td>\n",
       "      <td>20.3</td>\n",
       "      <td>34</td>\n",
       "      <td>9</td>\n",
       "      <td>29</td>\n",
       "      <td>12</td>\n",
       "    </tr>\n",
       "    <tr>\n",
       "      <th>36</th>\n",
       "      <td>Josko Gvardiol</td>\n",
       "      <td>Manchester City</td>\n",
       "      <td>Premier League</td>\n",
       "      <td>DF</td>\n",
       "      <td>23</td>\n",
       "      <td>29</td>\n",
       "      <td>2557</td>\n",
       "      <td>5</td>\n",
       "      <td>0</td>\n",
       "      <td>4.2</td>\n",
       "      <td>...</td>\n",
       "      <td>33</td>\n",
       "      <td>1</td>\n",
       "      <td>0</td>\n",
       "      <td>5</td>\n",
       "      <td>0.22</td>\n",
       "      <td>28.4</td>\n",
       "      <td>32</td>\n",
       "      <td>1</td>\n",
       "      <td>35</td>\n",
       "      <td>11</td>\n",
       "    </tr>\n",
       "    <tr>\n",
       "      <th>146</th>\n",
       "      <td>Theo Hernandez</td>\n",
       "      <td>Milan</td>\n",
       "      <td>Serie A</td>\n",
       "      <td>DF</td>\n",
       "      <td>27</td>\n",
       "      <td>28</td>\n",
       "      <td>2254</td>\n",
       "      <td>3</td>\n",
       "      <td>3</td>\n",
       "      <td>2.5</td>\n",
       "      <td>...</td>\n",
       "      <td>22</td>\n",
       "      <td>4</td>\n",
       "      <td>1</td>\n",
       "      <td>6</td>\n",
       "      <td>0.27</td>\n",
       "      <td>25.0</td>\n",
       "      <td>22</td>\n",
       "      <td>11</td>\n",
       "      <td>36</td>\n",
       "      <td>10</td>\n",
       "    </tr>\n",
       "  </tbody>\n",
       "</table>\n",
       "<p>4 rows × 31 columns</p>\n",
       "</div>"
      ],
      "text/plain": [
       "                    Jugador           Equipo     Competición Posición  Edad  \\\n",
       "34   Trent Alexander-Arnold        Liverpool  Premier League       DF    26   \n",
       "52            Achraf Hakimi        Paris S-G         Ligue 1       DF    26   \n",
       "36           Josko Gvardiol  Manchester City  Premier League       DF    23   \n",
       "146          Theo Hernandez            Milan         Serie A       DF    27   \n",
       "\n",
       "     Partidos  Minutos  Goles  Asistencias   xG  ...  Bloqueos  \\\n",
       "34         28     2145      2            6  1.6  ...        25   \n",
       "52         22     1826      4            6  2.7  ...        24   \n",
       "36         29     2557      5            0  4.2  ...        33   \n",
       "146        28     2254      3            3  2.5  ...        22   \n",
       "\n",
       "     TarjetasAmarillas  TarjetasRojas  Goles_Asistencias  xG_xAG  Equiv_90min  \\\n",
       "34                   4              0                  8    0.35         23.8   \n",
       "52                   4              0                 10    0.43         20.3   \n",
       "36                   1              0                  5    0.22         28.4   \n",
       "146                  4              1                  6    0.27         25.0   \n",
       "\n",
       "     EntradasGanadas  AsistDesdeCruzados  Tiros  TirosAlArco  \n",
       "34                47                  20     38            7  \n",
       "52                34                   9     29           12  \n",
       "36                32                   1     35           11  \n",
       "146               22                  11     36           10  \n",
       "\n",
       "[4 rows x 31 columns]"
      ]
     },
     "metadata": {},
     "output_type": "display_data"
    },
    {
     "data": {
<<<<<<< HEAD
=======
      "application/vnd.microsoft.datawrangler.viewer.v0+json": {
       "columns": [
        {
         "name": "index",
         "rawType": "int64",
         "type": "integer"
        },
        {
         "name": "Jugador",
         "rawType": "object",
         "type": "string"
        },
        {
         "name": "Equipo",
         "rawType": "object",
         "type": "string"
        },
        {
         "name": "Competición",
         "rawType": "object",
         "type": "string"
        },
        {
         "name": "Posición",
         "rawType": "object",
         "type": "string"
        },
        {
         "name": "Edad",
         "rawType": "int64",
         "type": "integer"
        },
        {
         "name": "Partidos",
         "rawType": "int64",
         "type": "integer"
        },
        {
         "name": "Minutos",
         "rawType": "int64",
         "type": "integer"
        },
        {
         "name": "Goles",
         "rawType": "int64",
         "type": "integer"
        },
        {
         "name": "Asistencias",
         "rawType": "int64",
         "type": "integer"
        },
        {
         "name": "xG",
         "rawType": "float64",
         "type": "float"
        },
        {
         "name": "xAG",
         "rawType": "float64",
         "type": "float"
        },
        {
         "name": "npxG",
         "rawType": "float64",
         "type": "float"
        },
        {
         "name": "ValorMercado",
         "rawType": "float64",
         "type": "float"
        },
        {
         "name": "PasesCompletados",
         "rawType": "int64",
         "type": "integer"
        },
        {
         "name": "IntentosPase",
         "rawType": "int64",
         "type": "integer"
        },
        {
         "name": "PctPasesCompletados",
         "rawType": "float64",
         "type": "float"
        },
        {
         "name": "DistanciaTotalPases",
         "rawType": "int64",
         "type": "integer"
        },
        {
         "name": "DistanciaProgresiva",
         "rawType": "int64",
         "type": "integer"
        },
        {
         "name": "PasesClave",
         "rawType": "int64",
         "type": "integer"
        },
        {
         "name": "Entradas",
         "rawType": "int64",
         "type": "integer"
        },
        {
         "name": "Intercepciones",
         "rawType": "int64",
         "type": "integer"
        },
        {
         "name": "Bloqueos",
         "rawType": "int64",
         "type": "integer"
        },
        {
         "name": "TarjetasAmarillas",
         "rawType": "int64",
         "type": "integer"
        },
        {
         "name": "TarjetasRojas",
         "rawType": "int64",
         "type": "integer"
        },
        {
         "name": "Goles_Asistencias",
         "rawType": "int64",
         "type": "integer"
        },
        {
         "name": "xG_xAG",
         "rawType": "float64",
         "type": "float"
        },
        {
         "name": "Equiv_90min",
         "rawType": "float64",
         "type": "float"
        },
        {
         "name": "EntradasGanadas",
         "rawType": "int64",
         "type": "integer"
        },
        {
         "name": "AsistDesdeCruzados",
         "rawType": "int64",
         "type": "integer"
        },
        {
         "name": "Tiros",
         "rawType": "int64",
         "type": "integer"
        },
        {
         "name": "TirosAlArco",
         "rawType": "int64",
         "type": "integer"
        }
       ],
       "conversionMethod": "pd.DataFrame",
       "ref": "823b777b-92c6-40e6-8c7b-5de6d0f4e9cb",
       "rows": [
        [
         "825",
         "Mark Flekken",
         "Brentford",
         "Premier League",
         "GK",
         "31",
         "29",
         "2555",
         "0",
         "1",
         "0.0",
         "0.2",
         "0.0",
         "10000000.0",
         "1012",
         "1375",
         "73.6",
         "29471",
         "19978",
         "2",
         "3",
         "0",
         "1",
         "1",
         "0",
         "1",
         "0.01",
         "28.4",
         "3",
         "0",
         "0",
         "0"
        ]
       ],
       "shape": {
        "columns": 31,
        "rows": 1
       }
      },
>>>>>>> f888c1835c3f32fb23bd3c382b3bb519bb48730a
      "text/html": [
       "<div>\n",
       "<style scoped>\n",
       "    .dataframe tbody tr th:only-of-type {\n",
       "        vertical-align: middle;\n",
       "    }\n",
       "\n",
       "    .dataframe tbody tr th {\n",
       "        vertical-align: top;\n",
       "    }\n",
       "\n",
       "    .dataframe thead th {\n",
       "        text-align: right;\n",
       "    }\n",
       "</style>\n",
       "<table border=\"1\" class=\"dataframe\">\n",
       "  <thead>\n",
       "    <tr style=\"text-align: right;\">\n",
       "      <th></th>\n",
       "      <th>Jugador</th>\n",
       "      <th>Equipo</th>\n",
       "      <th>Competición</th>\n",
       "      <th>Posición</th>\n",
       "      <th>Edad</th>\n",
       "      <th>Partidos</th>\n",
       "      <th>Minutos</th>\n",
       "      <th>Goles</th>\n",
       "      <th>Asistencias</th>\n",
       "      <th>xG</th>\n",
       "      <th>...</th>\n",
       "      <th>Bloqueos</th>\n",
       "      <th>TarjetasAmarillas</th>\n",
       "      <th>TarjetasRojas</th>\n",
       "      <th>Goles_Asistencias</th>\n",
       "      <th>xG_xAG</th>\n",
       "      <th>Equiv_90min</th>\n",
       "      <th>EntradasGanadas</th>\n",
       "      <th>AsistDesdeCruzados</th>\n",
       "      <th>Tiros</th>\n",
       "      <th>TirosAlArco</th>\n",
       "    </tr>\n",
       "  </thead>\n",
       "  <tbody>\n",
       "    <tr>\n",
       "      <th>825</th>\n",
       "      <td>Mark Flekken</td>\n",
       "      <td>Brentford</td>\n",
       "      <td>Premier League</td>\n",
       "      <td>GK</td>\n",
       "      <td>31</td>\n",
       "      <td>29</td>\n",
       "      <td>2555</td>\n",
       "      <td>0</td>\n",
       "      <td>1</td>\n",
       "      <td>0.0</td>\n",
       "      <td>...</td>\n",
       "      <td>1</td>\n",
       "      <td>1</td>\n",
       "      <td>0</td>\n",
       "      <td>1</td>\n",
       "      <td>0.01</td>\n",
       "      <td>28.4</td>\n",
       "      <td>3</td>\n",
       "      <td>0</td>\n",
       "      <td>0</td>\n",
       "      <td>0</td>\n",
       "    </tr>\n",
       "  </tbody>\n",
       "</table>\n",
       "<p>1 rows × 31 columns</p>\n",
       "</div>"
      ],
      "text/plain": [
       "          Jugador     Equipo     Competición Posición  Edad  Partidos  \\\n",
       "825  Mark Flekken  Brentford  Premier League       GK    31        29   \n",
       "\n",
       "     Minutos  Goles  Asistencias   xG  ...  Bloqueos  TarjetasAmarillas  \\\n",
       "825     2555      0            1  0.0  ...         1                  1   \n",
       "\n",
       "     TarjetasRojas  Goles_Asistencias  xG_xAG  Equiv_90min  EntradasGanadas  \\\n",
       "825              0                  1    0.01         28.4                3   \n",
       "\n",
       "     AsistDesdeCruzados  Tiros  TirosAlArco  \n",
       "825                   0      0            0  \n",
       "\n",
       "[1 rows x 31 columns]"
      ]
     },
     "metadata": {},
     "output_type": "display_data"
    }
   ],
   "source": [
    "# 11 ideal según estadísticas\n",
    "# Formación: 4-3-3\n",
    "\n",
    "display(\n",
    "    mejores_jugadores(\"delanteros\", 3),\n",
    "    mejores_jugadores(\"mediocampistas\", 3),\n",
    "    mejores_jugadores(\"defensores\", 4),\n",
    "    mejores_jugadores(\"arqueros\", 1)\n",
    ")\n",
    "\n",
    "#Obs: El dataset que conseguimos, no tiene estadísticas específicas de los arqueros (paradas, arcos en 0, penales atajados, etc.)\n",
    "#      lo cual explica por qué el resultado no es el Dibu Martínez."
   ]
  },
  {
   "cell_type": "code",
<<<<<<< HEAD
   "execution_count": 15,
=======
   "execution_count": 168,
>>>>>>> f888c1835c3f32fb23bd3c382b3bb519bb48730a
   "id": "6a413e34",
   "metadata": {},
   "outputs": [
    {
     "data": {
<<<<<<< HEAD
=======
      "application/vnd.microsoft.datawrangler.viewer.v0+json": {
       "columns": [
        {
         "name": "index",
         "rawType": "int64",
         "type": "integer"
        },
        {
         "name": "Jugador",
         "rawType": "object",
         "type": "string"
        },
        {
         "name": "Equipo",
         "rawType": "object",
         "type": "string"
        },
        {
         "name": "Competición",
         "rawType": "object",
         "type": "string"
        },
        {
         "name": "Posición",
         "rawType": "object",
         "type": "string"
        },
        {
         "name": "Edad",
         "rawType": "int64",
         "type": "integer"
        },
        {
         "name": "Partidos",
         "rawType": "int64",
         "type": "integer"
        },
        {
         "name": "Minutos",
         "rawType": "int64",
         "type": "integer"
        },
        {
         "name": "Goles",
         "rawType": "int64",
         "type": "integer"
        },
        {
         "name": "Asistencias",
         "rawType": "int64",
         "type": "integer"
        },
        {
         "name": "xG",
         "rawType": "float64",
         "type": "float"
        },
        {
         "name": "xAG",
         "rawType": "float64",
         "type": "float"
        },
        {
         "name": "npxG",
         "rawType": "float64",
         "type": "float"
        },
        {
         "name": "ValorMercado",
         "rawType": "float64",
         "type": "float"
        },
        {
         "name": "PasesCompletados",
         "rawType": "int64",
         "type": "integer"
        },
        {
         "name": "IntentosPase",
         "rawType": "int64",
         "type": "integer"
        },
        {
         "name": "PctPasesCompletados",
         "rawType": "float64",
         "type": "float"
        },
        {
         "name": "DistanciaTotalPases",
         "rawType": "int64",
         "type": "integer"
        },
        {
         "name": "DistanciaProgresiva",
         "rawType": "int64",
         "type": "integer"
        },
        {
         "name": "PasesClave",
         "rawType": "int64",
         "type": "integer"
        },
        {
         "name": "Entradas",
         "rawType": "int64",
         "type": "integer"
        },
        {
         "name": "Intercepciones",
         "rawType": "int64",
         "type": "integer"
        },
        {
         "name": "Bloqueos",
         "rawType": "int64",
         "type": "integer"
        },
        {
         "name": "TarjetasAmarillas",
         "rawType": "int64",
         "type": "integer"
        },
        {
         "name": "TarjetasRojas",
         "rawType": "int64",
         "type": "integer"
        },
        {
         "name": "Goles_Asistencias",
         "rawType": "int64",
         "type": "integer"
        },
        {
         "name": "xG_xAG",
         "rawType": "float64",
         "type": "float"
        },
        {
         "name": "Equiv_90min",
         "rawType": "float64",
         "type": "float"
        },
        {
         "name": "EntradasGanadas",
         "rawType": "int64",
         "type": "integer"
        },
        {
         "name": "AsistDesdeCruzados",
         "rawType": "int64",
         "type": "integer"
        },
        {
         "name": "Tiros",
         "rawType": "int64",
         "type": "integer"
        },
        {
         "name": "TirosAlArco",
         "rawType": "int64",
         "type": "integer"
        }
       ],
       "conversionMethod": "pd.DataFrame",
       "ref": "148b809d-14cc-41e2-a93c-21bf44d59f67",
       "rows": [
        [
         "196",
         "Lionel Messi",
         "Inter Miami",
         "MLS",
         "FW",
         "36",
         "19",
         "1489",
         "20",
         "11",
         "11.8",
         "4.0",
         "11.0",
         "35000000.0",
         "674",
         "874",
         "77.1",
         "11127",
         "4115",
         "30",
         "15",
         "2",
         "4",
         "2",
         "0",
         "31",
         "0.96",
         "16.5",
         "6",
         "1",
         "83",
         "39"
        ],
        [
         "17",
         "Lautaro Martinez",
         "Inter",
         "Serie A",
         "FW",
         "27",
         "28",
         "2321",
         "11",
         "3",
         "12.0",
         "4.0",
         "12.0",
         "95000000.0",
         "426",
         "568",
         "75.0",
         "6686",
         "1457",
         "33",
         "28",
         "9",
         "16",
         "0",
         "0",
         "14",
         "0.62",
         "25.8",
         "15",
         "1",
         "92",
         "32"
        ],
        [
         "954",
         "Paulo Dybala",
         "Roma",
         "Serie A",
         "FW",
         "31",
         "24",
         "1417",
         "6",
         "3",
         "6.4",
         "5.0",
         "4.0",
         "8000000.0",
         "596",
         "729",
         "81.8",
         "9980",
         "2382",
         "40",
         "17",
         "2",
         "12",
         "2",
         "0",
         "9",
         "0.72",
         "15.7",
         "7",
         "5",
         "47",
         "15"
        ]
       ],
       "shape": {
        "columns": 31,
        "rows": 3
       }
      },
>>>>>>> f888c1835c3f32fb23bd3c382b3bb519bb48730a
      "text/html": [
       "<div>\n",
       "<style scoped>\n",
       "    .dataframe tbody tr th:only-of-type {\n",
       "        vertical-align: middle;\n",
       "    }\n",
       "\n",
       "    .dataframe tbody tr th {\n",
       "        vertical-align: top;\n",
       "    }\n",
       "\n",
       "    .dataframe thead th {\n",
       "        text-align: right;\n",
       "    }\n",
       "</style>\n",
       "<table border=\"1\" class=\"dataframe\">\n",
       "  <thead>\n",
       "    <tr style=\"text-align: right;\">\n",
       "      <th></th>\n",
       "      <th>Jugador</th>\n",
       "      <th>Equipo</th>\n",
       "      <th>Competición</th>\n",
       "      <th>Posición</th>\n",
       "      <th>Edad</th>\n",
       "      <th>Partidos</th>\n",
       "      <th>Minutos</th>\n",
       "      <th>Goles</th>\n",
       "      <th>Asistencias</th>\n",
       "      <th>xG</th>\n",
       "      <th>...</th>\n",
       "      <th>Bloqueos</th>\n",
       "      <th>TarjetasAmarillas</th>\n",
       "      <th>TarjetasRojas</th>\n",
       "      <th>Goles_Asistencias</th>\n",
       "      <th>xG_xAG</th>\n",
       "      <th>Equiv_90min</th>\n",
       "      <th>EntradasGanadas</th>\n",
       "      <th>AsistDesdeCruzados</th>\n",
       "      <th>Tiros</th>\n",
       "      <th>TirosAlArco</th>\n",
       "    </tr>\n",
       "  </thead>\n",
       "  <tbody>\n",
       "    <tr>\n",
       "      <th>196</th>\n",
       "      <td>Lionel Messi</td>\n",
       "      <td>Inter Miami</td>\n",
       "      <td>MLS</td>\n",
       "      <td>FW</td>\n",
       "      <td>36</td>\n",
       "      <td>19</td>\n",
       "      <td>1489</td>\n",
       "      <td>20</td>\n",
       "      <td>11</td>\n",
       "      <td>11.8</td>\n",
       "      <td>...</td>\n",
       "      <td>4</td>\n",
       "      <td>2</td>\n",
       "      <td>0</td>\n",
       "      <td>31</td>\n",
       "      <td>0.96</td>\n",
       "      <td>16.5</td>\n",
       "      <td>6</td>\n",
       "      <td>1</td>\n",
       "      <td>83</td>\n",
       "      <td>39</td>\n",
       "    </tr>\n",
       "    <tr>\n",
       "      <th>17</th>\n",
       "      <td>Lautaro Martinez</td>\n",
       "      <td>Inter</td>\n",
       "      <td>Serie A</td>\n",
       "      <td>FW</td>\n",
       "      <td>27</td>\n",
       "      <td>28</td>\n",
       "      <td>2321</td>\n",
       "      <td>11</td>\n",
       "      <td>3</td>\n",
       "      <td>12.0</td>\n",
       "      <td>...</td>\n",
       "      <td>16</td>\n",
       "      <td>0</td>\n",
       "      <td>0</td>\n",
       "      <td>14</td>\n",
       "      <td>0.62</td>\n",
       "      <td>25.8</td>\n",
       "      <td>15</td>\n",
       "      <td>1</td>\n",
       "      <td>92</td>\n",
       "      <td>32</td>\n",
       "    </tr>\n",
       "    <tr>\n",
       "      <th>954</th>\n",
       "      <td>Paulo Dybala</td>\n",
       "      <td>Roma</td>\n",
       "      <td>Serie A</td>\n",
       "      <td>FW</td>\n",
       "      <td>31</td>\n",
       "      <td>24</td>\n",
       "      <td>1417</td>\n",
       "      <td>6</td>\n",
       "      <td>3</td>\n",
       "      <td>6.4</td>\n",
       "      <td>...</td>\n",
       "      <td>12</td>\n",
       "      <td>2</td>\n",
       "      <td>0</td>\n",
       "      <td>9</td>\n",
       "      <td>0.72</td>\n",
       "      <td>15.7</td>\n",
       "      <td>7</td>\n",
       "      <td>5</td>\n",
       "      <td>47</td>\n",
       "      <td>15</td>\n",
       "    </tr>\n",
       "  </tbody>\n",
       "</table>\n",
       "<p>3 rows × 31 columns</p>\n",
       "</div>"
      ],
      "text/plain": [
       "              Jugador       Equipo Competición Posición  Edad  Partidos  \\\n",
       "196      Lionel Messi  Inter Miami         MLS       FW    36        19   \n",
       "17   Lautaro Martinez        Inter     Serie A       FW    27        28   \n",
       "954      Paulo Dybala         Roma     Serie A       FW    31        24   \n",
       "\n",
       "     Minutos  Goles  Asistencias    xG  ...  Bloqueos  TarjetasAmarillas  \\\n",
       "196     1489     20           11  11.8  ...         4                  2   \n",
       "17      2321     11            3  12.0  ...        16                  0   \n",
       "954     1417      6            3   6.4  ...        12                  2   \n",
       "\n",
       "     TarjetasRojas  Goles_Asistencias  xG_xAG  Equiv_90min  EntradasGanadas  \\\n",
       "196              0                 31    0.96         16.5                6   \n",
       "17               0                 14    0.62         25.8               15   \n",
       "954              0                  9    0.72         15.7                7   \n",
       "\n",
       "     AsistDesdeCruzados  Tiros  TirosAlArco  \n",
       "196                   1     83           39  \n",
       "17                    1     92           32  \n",
       "954                   5     47           15  \n",
       "\n",
       "[3 rows x 31 columns]"
      ]
     },
     "metadata": {},
     "output_type": "display_data"
    },
    {
     "data": {
<<<<<<< HEAD
=======
      "application/vnd.microsoft.datawrangler.viewer.v0+json": {
       "columns": [
        {
         "name": "index",
         "rawType": "int64",
         "type": "integer"
        },
        {
         "name": "Jugador",
         "rawType": "object",
         "type": "string"
        },
        {
         "name": "Equipo",
         "rawType": "object",
         "type": "string"
        },
        {
         "name": "Competición",
         "rawType": "object",
         "type": "string"
        },
        {
         "name": "Posición",
         "rawType": "object",
         "type": "string"
        },
        {
         "name": "Edad",
         "rawType": "int64",
         "type": "integer"
        },
        {
         "name": "Partidos",
         "rawType": "int64",
         "type": "integer"
        },
        {
         "name": "Minutos",
         "rawType": "int64",
         "type": "integer"
        },
        {
         "name": "Goles",
         "rawType": "int64",
         "type": "integer"
        },
        {
         "name": "Asistencias",
         "rawType": "int64",
         "type": "integer"
        },
        {
         "name": "xG",
         "rawType": "float64",
         "type": "float"
        },
        {
         "name": "xAG",
         "rawType": "float64",
         "type": "float"
        },
        {
         "name": "npxG",
         "rawType": "float64",
         "type": "float"
        },
        {
         "name": "ValorMercado",
         "rawType": "float64",
         "type": "float"
        },
        {
         "name": "PasesCompletados",
         "rawType": "int64",
         "type": "integer"
        },
        {
         "name": "IntentosPase",
         "rawType": "int64",
         "type": "integer"
        },
        {
         "name": "PctPasesCompletados",
         "rawType": "float64",
         "type": "float"
        },
        {
         "name": "DistanciaTotalPases",
         "rawType": "int64",
         "type": "integer"
        },
        {
         "name": "DistanciaProgresiva",
         "rawType": "int64",
         "type": "integer"
        },
        {
         "name": "PasesClave",
         "rawType": "int64",
         "type": "integer"
        },
        {
         "name": "Entradas",
         "rawType": "int64",
         "type": "integer"
        },
        {
         "name": "Intercepciones",
         "rawType": "int64",
         "type": "integer"
        },
        {
         "name": "Bloqueos",
         "rawType": "int64",
         "type": "integer"
        },
        {
         "name": "TarjetasAmarillas",
         "rawType": "int64",
         "type": "integer"
        },
        {
         "name": "TarjetasRojas",
         "rawType": "int64",
         "type": "integer"
        },
        {
         "name": "Goles_Asistencias",
         "rawType": "int64",
         "type": "integer"
        },
        {
         "name": "xG_xAG",
         "rawType": "float64",
         "type": "float"
        },
        {
         "name": "Equiv_90min",
         "rawType": "float64",
         "type": "float"
        },
        {
         "name": "EntradasGanadas",
         "rawType": "int64",
         "type": "integer"
        },
        {
         "name": "AsistDesdeCruzados",
         "rawType": "int64",
         "type": "integer"
        },
        {
         "name": "Tiros",
         "rawType": "int64",
         "type": "integer"
        },
        {
         "name": "TirosAlArco",
         "rawType": "int64",
         "type": "integer"
        }
       ],
       "conversionMethod": "pd.DataFrame",
       "ref": "d24f0abc-8a2b-4d9a-bf29-a6bdb732869d",
       "rows": [
        [
         "37",
         "Enzo Fernandez",
         "Chelsea",
         "Premier League",
         "MF",
         "24",
         "28",
         "2230",
         "5",
         "5",
         "4.9",
         "5.1",
         "4.9",
         "75000000.0",
         "1226",
         "1520",
         "80.7",
         "21417",
         "5933",
         "58",
         "55",
         "11",
         "30",
         "6",
         "0",
         "10",
         "0.4",
         "24.8",
         "28",
         "4",
         "41",
         "15"
        ],
        [
         "19",
         "Alexis Mac Allister",
         "Liverpool",
         "Premier League",
         "MF",
         "26",
         "29",
         "2201",
         "3",
         "3",
         "2.3",
         "4.1",
         "2.3",
         "90000000.0",
         "1082",
         "1284",
         "84.3",
         "17187",
         "4718",
         "34",
         "79",
         "19",
         "52",
         "6",
         "0",
         "6",
         "0.26",
         "24.5",
         "49",
         "1",
         "30",
         "9"
        ],
        [
         "334",
         "Rodrigo De Paul",
         "Atletico Madrid",
         "La Liga",
         "MF",
         "30",
         "27",
         "1619",
         "3",
         "3",
         "1.2",
         "3.9",
         "1.2",
         "25000000.0",
         "1087",
         "1340",
         "81.1",
         "18511",
         "5734",
         "32",
         "22",
         "5",
         "22",
         "6",
         "0",
         "6",
         "0.28",
         "18.0",
         "17",
         "11",
         "14",
         "4"
        ]
       ],
       "shape": {
        "columns": 31,
        "rows": 3
       }
      },
>>>>>>> f888c1835c3f32fb23bd3c382b3bb519bb48730a
      "text/html": [
       "<div>\n",
       "<style scoped>\n",
       "    .dataframe tbody tr th:only-of-type {\n",
       "        vertical-align: middle;\n",
       "    }\n",
       "\n",
       "    .dataframe tbody tr th {\n",
       "        vertical-align: top;\n",
       "    }\n",
       "\n",
       "    .dataframe thead th {\n",
       "        text-align: right;\n",
       "    }\n",
       "</style>\n",
       "<table border=\"1\" class=\"dataframe\">\n",
       "  <thead>\n",
       "    <tr style=\"text-align: right;\">\n",
       "      <th></th>\n",
       "      <th>Jugador</th>\n",
       "      <th>Equipo</th>\n",
       "      <th>Competición</th>\n",
       "      <th>Posición</th>\n",
       "      <th>Edad</th>\n",
       "      <th>Partidos</th>\n",
       "      <th>Minutos</th>\n",
       "      <th>Goles</th>\n",
       "      <th>Asistencias</th>\n",
       "      <th>xG</th>\n",
       "      <th>...</th>\n",
       "      <th>Bloqueos</th>\n",
       "      <th>TarjetasAmarillas</th>\n",
       "      <th>TarjetasRojas</th>\n",
       "      <th>Goles_Asistencias</th>\n",
       "      <th>xG_xAG</th>\n",
       "      <th>Equiv_90min</th>\n",
       "      <th>EntradasGanadas</th>\n",
       "      <th>AsistDesdeCruzados</th>\n",
       "      <th>Tiros</th>\n",
       "      <th>TirosAlArco</th>\n",
       "    </tr>\n",
       "  </thead>\n",
       "  <tbody>\n",
       "    <tr>\n",
       "      <th>37</th>\n",
       "      <td>Enzo Fernandez</td>\n",
       "      <td>Chelsea</td>\n",
       "      <td>Premier League</td>\n",
       "      <td>MF</td>\n",
       "      <td>24</td>\n",
       "      <td>28</td>\n",
       "      <td>2230</td>\n",
       "      <td>5</td>\n",
       "      <td>5</td>\n",
       "      <td>4.9</td>\n",
       "      <td>...</td>\n",
       "      <td>30</td>\n",
       "      <td>6</td>\n",
       "      <td>0</td>\n",
       "      <td>10</td>\n",
       "      <td>0.40</td>\n",
       "      <td>24.8</td>\n",
       "      <td>28</td>\n",
       "      <td>4</td>\n",
       "      <td>41</td>\n",
       "      <td>15</td>\n",
       "    </tr>\n",
       "    <tr>\n",
       "      <th>19</th>\n",
       "      <td>Alexis Mac Allister</td>\n",
       "      <td>Liverpool</td>\n",
       "      <td>Premier League</td>\n",
       "      <td>MF</td>\n",
       "      <td>26</td>\n",
       "      <td>29</td>\n",
       "      <td>2201</td>\n",
       "      <td>3</td>\n",
       "      <td>3</td>\n",
       "      <td>2.3</td>\n",
       "      <td>...</td>\n",
       "      <td>52</td>\n",
       "      <td>6</td>\n",
       "      <td>0</td>\n",
       "      <td>6</td>\n",
       "      <td>0.26</td>\n",
       "      <td>24.5</td>\n",
       "      <td>49</td>\n",
       "      <td>1</td>\n",
       "      <td>30</td>\n",
       "      <td>9</td>\n",
       "    </tr>\n",
       "    <tr>\n",
       "      <th>334</th>\n",
       "      <td>Rodrigo De Paul</td>\n",
       "      <td>Atletico Madrid</td>\n",
       "      <td>La Liga</td>\n",
       "      <td>MF</td>\n",
       "      <td>30</td>\n",
       "      <td>27</td>\n",
       "      <td>1619</td>\n",
       "      <td>3</td>\n",
       "      <td>3</td>\n",
       "      <td>1.2</td>\n",
       "      <td>...</td>\n",
       "      <td>22</td>\n",
       "      <td>6</td>\n",
       "      <td>0</td>\n",
       "      <td>6</td>\n",
       "      <td>0.28</td>\n",
       "      <td>18.0</td>\n",
       "      <td>17</td>\n",
       "      <td>11</td>\n",
       "      <td>14</td>\n",
       "      <td>4</td>\n",
       "    </tr>\n",
       "  </tbody>\n",
       "</table>\n",
       "<p>3 rows × 31 columns</p>\n",
       "</div>"
      ],
      "text/plain": [
       "                 Jugador           Equipo     Competición Posición  Edad  \\\n",
       "37        Enzo Fernandez          Chelsea  Premier League       MF    24   \n",
       "19   Alexis Mac Allister        Liverpool  Premier League       MF    26   \n",
       "334      Rodrigo De Paul  Atletico Madrid         La Liga       MF    30   \n",
       "\n",
       "     Partidos  Minutos  Goles  Asistencias   xG  ...  Bloqueos  \\\n",
       "37         28     2230      5            5  4.9  ...        30   \n",
       "19         29     2201      3            3  2.3  ...        52   \n",
       "334        27     1619      3            3  1.2  ...        22   \n",
       "\n",
       "     TarjetasAmarillas  TarjetasRojas  Goles_Asistencias  xG_xAG  Equiv_90min  \\\n",
       "37                   6              0                 10    0.40         24.8   \n",
       "19                   6              0                  6    0.26         24.5   \n",
       "334                  6              0                  6    0.28         18.0   \n",
       "\n",
       "     EntradasGanadas  AsistDesdeCruzados  Tiros  TirosAlArco  \n",
       "37                28                   4     41           15  \n",
       "19                49                   1     30            9  \n",
       "334               17                  11     14            4  \n",
       "\n",
       "[3 rows x 31 columns]"
      ]
     },
     "metadata": {},
     "output_type": "display_data"
    },
    {
     "data": {
<<<<<<< HEAD
=======
      "application/vnd.microsoft.datawrangler.viewer.v0+json": {
       "columns": [
        {
         "name": "index",
         "rawType": "int64",
         "type": "integer"
        },
        {
         "name": "Jugador",
         "rawType": "object",
         "type": "string"
        },
        {
         "name": "Equipo",
         "rawType": "object",
         "type": "string"
        },
        {
         "name": "Competición",
         "rawType": "object",
         "type": "string"
        },
        {
         "name": "Posición",
         "rawType": "object",
         "type": "string"
        },
        {
         "name": "Edad",
         "rawType": "int64",
         "type": "integer"
        },
        {
         "name": "Partidos",
         "rawType": "int64",
         "type": "integer"
        },
        {
         "name": "Minutos",
         "rawType": "int64",
         "type": "integer"
        },
        {
         "name": "Goles",
         "rawType": "int64",
         "type": "integer"
        },
        {
         "name": "Asistencias",
         "rawType": "int64",
         "type": "integer"
        },
        {
         "name": "xG",
         "rawType": "float64",
         "type": "float"
        },
        {
         "name": "xAG",
         "rawType": "float64",
         "type": "float"
        },
        {
         "name": "npxG",
         "rawType": "float64",
         "type": "float"
        },
        {
         "name": "ValorMercado",
         "rawType": "float64",
         "type": "float"
        },
        {
         "name": "PasesCompletados",
         "rawType": "int64",
         "type": "integer"
        },
        {
         "name": "IntentosPase",
         "rawType": "int64",
         "type": "integer"
        },
        {
         "name": "PctPasesCompletados",
         "rawType": "float64",
         "type": "float"
        },
        {
         "name": "DistanciaTotalPases",
         "rawType": "int64",
         "type": "integer"
        },
        {
         "name": "DistanciaProgresiva",
         "rawType": "int64",
         "type": "integer"
        },
        {
         "name": "PasesClave",
         "rawType": "int64",
         "type": "integer"
        },
        {
         "name": "Entradas",
         "rawType": "int64",
         "type": "integer"
        },
        {
         "name": "Intercepciones",
         "rawType": "int64",
         "type": "integer"
        },
        {
         "name": "Bloqueos",
         "rawType": "int64",
         "type": "integer"
        },
        {
         "name": "TarjetasAmarillas",
         "rawType": "int64",
         "type": "integer"
        },
        {
         "name": "TarjetasRojas",
         "rawType": "int64",
         "type": "integer"
        },
        {
         "name": "Goles_Asistencias",
         "rawType": "int64",
         "type": "integer"
        },
        {
         "name": "xG_xAG",
         "rawType": "float64",
         "type": "float"
        },
        {
         "name": "Equiv_90min",
         "rawType": "float64",
         "type": "float"
        },
        {
         "name": "EntradasGanadas",
         "rawType": "int64",
         "type": "integer"
        },
        {
         "name": "AsistDesdeCruzados",
         "rawType": "int64",
         "type": "integer"
        },
        {
         "name": "Tiros",
         "rawType": "int64",
         "type": "integer"
        },
        {
         "name": "TirosAlArco",
         "rawType": "int64",
         "type": "integer"
        }
       ],
       "conversionMethod": "pd.DataFrame",
       "ref": "e8d25ba0-295e-4378-bec3-c344753fa133",
       "rows": [
        [
         "1554",
         "Nahuel Tenaglia",
         "Alaves",
         "La Liga",
         "DF",
         "29",
         "26",
         "2273",
         "1",
         "1",
         "1.7",
         "1.1",
         "1.7",
         "3000000.0",
         "731",
         "1033",
         "70.8",
         "12628",
         "5823",
         "14",
         "77",
         "35",
         "24",
         "10",
         "0",
         "2",
         "0.11",
         "25.3",
         "45",
         "7",
         "18",
         "4"
        ],
        [
         "351",
         "Facundo Medina",
         "Lens",
         "Ligue 1",
         "DF",
         "25",
         "23",
         "2004",
         "0",
         "1",
         "1.3",
         "1.6",
         "1.3",
         "25000000.0",
         "1266",
         "1459",
         "86.8",
         "20523",
         "7092",
         "18",
         "37",
         "29",
         "26",
         "10",
         "1",
         "1",
         "0.13",
         "22.3",
         "25",
         "2",
         "23",
         "3"
        ],
        [
         "434",
         "Leonardo Balerdi",
         "Marseille",
         "Ligue 1",
         "DF",
         "26",
         "23",
         "1927",
         "0",
         "0",
         "0.6",
         "0.7",
         "0.6",
         "20000000.0",
         "2117",
         "2252",
         "94.0",
         "35329",
         "13596",
         "8",
         "47",
         "30",
         "24",
         "8",
         "1",
         "0",
         "0.06",
         "21.4",
         "34",
         "0",
         "11",
         "1"
        ],
        [
         "1038",
         "Nicolas Tagliafico",
         "Lyon",
         "Ligue 1",
         "DF",
         "32",
         "19",
         "1541",
         "3",
         "1",
         "2.6",
         "0.8",
         "2.6",
         "7000000.0",
         "962",
         "1107",
         "86.9",
         "14710",
         "4606",
         "5",
         "51",
         "31",
         "22",
         "6",
         "0",
         "4",
         "0.2",
         "17.1",
         "33",
         "2",
         "22",
         "7"
        ]
       ],
       "shape": {
        "columns": 31,
        "rows": 4
       }
      },
>>>>>>> f888c1835c3f32fb23bd3c382b3bb519bb48730a
      "text/html": [
       "<div>\n",
       "<style scoped>\n",
       "    .dataframe tbody tr th:only-of-type {\n",
       "        vertical-align: middle;\n",
       "    }\n",
       "\n",
       "    .dataframe tbody tr th {\n",
       "        vertical-align: top;\n",
       "    }\n",
       "\n",
       "    .dataframe thead th {\n",
       "        text-align: right;\n",
       "    }\n",
       "</style>\n",
       "<table border=\"1\" class=\"dataframe\">\n",
       "  <thead>\n",
       "    <tr style=\"text-align: right;\">\n",
       "      <th></th>\n",
       "      <th>Jugador</th>\n",
       "      <th>Equipo</th>\n",
       "      <th>Competición</th>\n",
       "      <th>Posición</th>\n",
       "      <th>Edad</th>\n",
       "      <th>Partidos</th>\n",
       "      <th>Minutos</th>\n",
       "      <th>Goles</th>\n",
       "      <th>Asistencias</th>\n",
       "      <th>xG</th>\n",
       "      <th>...</th>\n",
       "      <th>Bloqueos</th>\n",
       "      <th>TarjetasAmarillas</th>\n",
       "      <th>TarjetasRojas</th>\n",
       "      <th>Goles_Asistencias</th>\n",
       "      <th>xG_xAG</th>\n",
       "      <th>Equiv_90min</th>\n",
       "      <th>EntradasGanadas</th>\n",
       "      <th>AsistDesdeCruzados</th>\n",
       "      <th>Tiros</th>\n",
       "      <th>TirosAlArco</th>\n",
       "    </tr>\n",
       "  </thead>\n",
       "  <tbody>\n",
       "    <tr>\n",
       "      <th>1554</th>\n",
       "      <td>Nahuel Tenaglia</td>\n",
       "      <td>Alaves</td>\n",
       "      <td>La Liga</td>\n",
       "      <td>DF</td>\n",
       "      <td>29</td>\n",
       "      <td>26</td>\n",
       "      <td>2273</td>\n",
       "      <td>1</td>\n",
       "      <td>1</td>\n",
       "      <td>1.7</td>\n",
       "      <td>...</td>\n",
       "      <td>24</td>\n",
       "      <td>10</td>\n",
       "      <td>0</td>\n",
       "      <td>2</td>\n",
       "      <td>0.11</td>\n",
       "      <td>25.3</td>\n",
       "      <td>45</td>\n",
       "      <td>7</td>\n",
       "      <td>18</td>\n",
       "      <td>4</td>\n",
       "    </tr>\n",
       "    <tr>\n",
       "      <th>351</th>\n",
       "      <td>Facundo Medina</td>\n",
       "      <td>Lens</td>\n",
       "      <td>Ligue 1</td>\n",
       "      <td>DF</td>\n",
       "      <td>25</td>\n",
       "      <td>23</td>\n",
       "      <td>2004</td>\n",
       "      <td>0</td>\n",
       "      <td>1</td>\n",
       "      <td>1.3</td>\n",
       "      <td>...</td>\n",
       "      <td>26</td>\n",
       "      <td>10</td>\n",
       "      <td>1</td>\n",
       "      <td>1</td>\n",
       "      <td>0.13</td>\n",
       "      <td>22.3</td>\n",
       "      <td>25</td>\n",
       "      <td>2</td>\n",
       "      <td>23</td>\n",
       "      <td>3</td>\n",
       "    </tr>\n",
       "    <tr>\n",
       "      <th>434</th>\n",
       "      <td>Leonardo Balerdi</td>\n",
       "      <td>Marseille</td>\n",
       "      <td>Ligue 1</td>\n",
       "      <td>DF</td>\n",
       "      <td>26</td>\n",
       "      <td>23</td>\n",
       "      <td>1927</td>\n",
       "      <td>0</td>\n",
       "      <td>0</td>\n",
       "      <td>0.6</td>\n",
       "      <td>...</td>\n",
       "      <td>24</td>\n",
       "      <td>8</td>\n",
       "      <td>1</td>\n",
       "      <td>0</td>\n",
       "      <td>0.06</td>\n",
       "      <td>21.4</td>\n",
       "      <td>34</td>\n",
       "      <td>0</td>\n",
       "      <td>11</td>\n",
       "      <td>1</td>\n",
       "    </tr>\n",
       "    <tr>\n",
       "      <th>1038</th>\n",
       "      <td>Nicolas Tagliafico</td>\n",
       "      <td>Lyon</td>\n",
       "      <td>Ligue 1</td>\n",
       "      <td>DF</td>\n",
       "      <td>32</td>\n",
       "      <td>19</td>\n",
       "      <td>1541</td>\n",
       "      <td>3</td>\n",
       "      <td>1</td>\n",
       "      <td>2.6</td>\n",
       "      <td>...</td>\n",
       "      <td>22</td>\n",
       "      <td>6</td>\n",
       "      <td>0</td>\n",
       "      <td>4</td>\n",
       "      <td>0.20</td>\n",
       "      <td>17.1</td>\n",
       "      <td>33</td>\n",
       "      <td>2</td>\n",
       "      <td>22</td>\n",
       "      <td>7</td>\n",
       "    </tr>\n",
       "  </tbody>\n",
       "</table>\n",
       "<p>4 rows × 31 columns</p>\n",
       "</div>"
      ],
      "text/plain": [
       "                 Jugador     Equipo Competición Posición  Edad  Partidos  \\\n",
       "1554     Nahuel Tenaglia     Alaves     La Liga       DF    29        26   \n",
       "351       Facundo Medina       Lens     Ligue 1       DF    25        23   \n",
       "434     Leonardo Balerdi  Marseille     Ligue 1       DF    26        23   \n",
       "1038  Nicolas Tagliafico       Lyon     Ligue 1       DF    32        19   \n",
       "\n",
       "      Minutos  Goles  Asistencias   xG  ...  Bloqueos  TarjetasAmarillas  \\\n",
       "1554     2273      1            1  1.7  ...        24                 10   \n",
       "351      2004      0            1  1.3  ...        26                 10   \n",
       "434      1927      0            0  0.6  ...        24                  8   \n",
       "1038     1541      3            1  2.6  ...        22                  6   \n",
       "\n",
       "      TarjetasRojas  Goles_Asistencias  xG_xAG  Equiv_90min  EntradasGanadas  \\\n",
       "1554              0                  2    0.11         25.3               45   \n",
       "351               1                  1    0.13         22.3               25   \n",
       "434               1                  0    0.06         21.4               34   \n",
       "1038              0                  4    0.20         17.1               33   \n",
       "\n",
       "      AsistDesdeCruzados  Tiros  TirosAlArco  \n",
       "1554                   7     18            4  \n",
       "351                    2     23            3  \n",
       "434                    0     11            1  \n",
       "1038                   2     22            7  \n",
       "\n",
       "[4 rows x 31 columns]"
      ]
     },
     "metadata": {},
     "output_type": "display_data"
    },
    {
     "data": {
<<<<<<< HEAD
=======
      "application/vnd.microsoft.datawrangler.viewer.v0+json": {
       "columns": [
        {
         "name": "index",
         "rawType": "int64",
         "type": "integer"
        },
        {
         "name": "Jugador",
         "rawType": "object",
         "type": "string"
        },
        {
         "name": "Equipo",
         "rawType": "object",
         "type": "string"
        },
        {
         "name": "Competición",
         "rawType": "object",
         "type": "string"
        },
        {
         "name": "Posición",
         "rawType": "object",
         "type": "string"
        },
        {
         "name": "Edad",
         "rawType": "int64",
         "type": "integer"
        },
        {
         "name": "Partidos",
         "rawType": "int64",
         "type": "integer"
        },
        {
         "name": "Minutos",
         "rawType": "int64",
         "type": "integer"
        },
        {
         "name": "Goles",
         "rawType": "int64",
         "type": "integer"
        },
        {
         "name": "Asistencias",
         "rawType": "int64",
         "type": "integer"
        },
        {
         "name": "xG",
         "rawType": "float64",
         "type": "float"
        },
        {
         "name": "xAG",
         "rawType": "float64",
         "type": "float"
        },
        {
         "name": "npxG",
         "rawType": "float64",
         "type": "float"
        },
        {
         "name": "ValorMercado",
         "rawType": "float64",
         "type": "float"
        },
        {
         "name": "PasesCompletados",
         "rawType": "int64",
         "type": "integer"
        },
        {
         "name": "IntentosPase",
         "rawType": "int64",
         "type": "integer"
        },
        {
         "name": "PctPasesCompletados",
         "rawType": "float64",
         "type": "float"
        },
        {
         "name": "DistanciaTotalPases",
         "rawType": "int64",
         "type": "integer"
        },
        {
         "name": "DistanciaProgresiva",
         "rawType": "int64",
         "type": "integer"
        },
        {
         "name": "PasesClave",
         "rawType": "int64",
         "type": "integer"
        },
        {
         "name": "Entradas",
         "rawType": "int64",
         "type": "integer"
        },
        {
         "name": "Intercepciones",
         "rawType": "int64",
         "type": "integer"
        },
        {
         "name": "Bloqueos",
         "rawType": "int64",
         "type": "integer"
        },
        {
         "name": "TarjetasAmarillas",
         "rawType": "int64",
         "type": "integer"
        },
        {
         "name": "TarjetasRojas",
         "rawType": "int64",
         "type": "integer"
        },
        {
         "name": "Goles_Asistencias",
         "rawType": "int64",
         "type": "integer"
        },
        {
         "name": "xG_xAG",
         "rawType": "float64",
         "type": "float"
        },
        {
         "name": "Equiv_90min",
         "rawType": "float64",
         "type": "float"
        },
        {
         "name": "EntradasGanadas",
         "rawType": "int64",
         "type": "integer"
        },
        {
         "name": "AsistDesdeCruzados",
         "rawType": "int64",
         "type": "integer"
        },
        {
         "name": "Tiros",
         "rawType": "int64",
         "type": "integer"
        },
        {
         "name": "TirosAlArco",
         "rawType": "int64",
         "type": "integer"
        }
       ],
       "conversionMethod": "pd.DataFrame",
       "ref": "2d2fbae1-48a3-4bbd-83b7-ce6cea2a342e",
       "rows": [
        [
         "329",
         "Emiliano Martinez",
         "Aston Villa",
         "Premier League",
         "GK",
         "32",
         "30",
         "2610",
         "0",
         "0",
         "0.0",
         "0.4",
         "0.0",
         "25000000.0",
         "906",
         "1137",
         "79.7",
         "23534",
         "14091",
         "1",
         "2",
         "0",
         "1",
         "4",
         "0",
         "0",
         "0.01",
         "29.0",
         "2",
         "0",
         "0",
         "0"
        ]
       ],
       "shape": {
        "columns": 31,
        "rows": 1
       }
      },
>>>>>>> f888c1835c3f32fb23bd3c382b3bb519bb48730a
      "text/html": [
       "<div>\n",
       "<style scoped>\n",
       "    .dataframe tbody tr th:only-of-type {\n",
       "        vertical-align: middle;\n",
       "    }\n",
       "\n",
       "    .dataframe tbody tr th {\n",
       "        vertical-align: top;\n",
       "    }\n",
       "\n",
       "    .dataframe thead th {\n",
       "        text-align: right;\n",
       "    }\n",
       "</style>\n",
       "<table border=\"1\" class=\"dataframe\">\n",
       "  <thead>\n",
       "    <tr style=\"text-align: right;\">\n",
       "      <th></th>\n",
       "      <th>Jugador</th>\n",
       "      <th>Equipo</th>\n",
       "      <th>Competición</th>\n",
       "      <th>Posición</th>\n",
       "      <th>Edad</th>\n",
       "      <th>Partidos</th>\n",
       "      <th>Minutos</th>\n",
       "      <th>Goles</th>\n",
       "      <th>Asistencias</th>\n",
       "      <th>xG</th>\n",
       "      <th>...</th>\n",
       "      <th>Bloqueos</th>\n",
       "      <th>TarjetasAmarillas</th>\n",
       "      <th>TarjetasRojas</th>\n",
       "      <th>Goles_Asistencias</th>\n",
       "      <th>xG_xAG</th>\n",
       "      <th>Equiv_90min</th>\n",
       "      <th>EntradasGanadas</th>\n",
       "      <th>AsistDesdeCruzados</th>\n",
       "      <th>Tiros</th>\n",
       "      <th>TirosAlArco</th>\n",
       "    </tr>\n",
       "  </thead>\n",
       "  <tbody>\n",
       "    <tr>\n",
       "      <th>329</th>\n",
       "      <td>Emiliano Martinez</td>\n",
       "      <td>Aston Villa</td>\n",
       "      <td>Premier League</td>\n",
       "      <td>GK</td>\n",
       "      <td>32</td>\n",
       "      <td>30</td>\n",
       "      <td>2610</td>\n",
       "      <td>0</td>\n",
       "      <td>0</td>\n",
       "      <td>0.0</td>\n",
       "      <td>...</td>\n",
       "      <td>1</td>\n",
       "      <td>4</td>\n",
       "      <td>0</td>\n",
       "      <td>0</td>\n",
       "      <td>0.01</td>\n",
       "      <td>29.0</td>\n",
       "      <td>2</td>\n",
       "      <td>0</td>\n",
       "      <td>0</td>\n",
       "      <td>0</td>\n",
       "    </tr>\n",
       "  </tbody>\n",
       "</table>\n",
       "<p>1 rows × 31 columns</p>\n",
       "</div>"
      ],
      "text/plain": [
       "               Jugador       Equipo     Competición Posición  Edad  Partidos  \\\n",
       "329  Emiliano Martinez  Aston Villa  Premier League       GK    32        30   \n",
       "\n",
       "     Minutos  Goles  Asistencias   xG  ...  Bloqueos  TarjetasAmarillas  \\\n",
       "329     2610      0            0  0.0  ...         1                  4   \n",
       "\n",
       "     TarjetasRojas  Goles_Asistencias  xG_xAG  Equiv_90min  EntradasGanadas  \\\n",
       "329              0                  0    0.01         29.0                2   \n",
       "\n",
       "     AsistDesdeCruzados  Tiros  TirosAlArco  \n",
       "329                   0      0            0  \n",
       "\n",
       "[1 rows x 31 columns]"
      ]
     },
     "metadata": {},
     "output_type": "display_data"
    }
   ],
   "source": [
    "# Mejor 11 ideal de jugadores argentinos, según estadísticas\n",
    "# Formación: 4-3-3\n",
    "\n",
    "display(\n",
    "    mejores_jugadores(\"delanteros\", 3, \"ARG\"),\n",
    "    mejores_jugadores(\"mediocampistas\", 3, \"ARG\"),\n",
    "    mejores_jugadores(\"defensores\", 4, \"ARG\"),\n",
    "    mejores_jugadores(\"arqueros\", 1, \"ARG\")\n",
    ")"
   ]
  }
 ],
 "metadata": {
  "kernelspec": {
   "display_name": "Python 3 (ipykernel)",
   "language": "python",
   "name": "python3"
  },
  "language_info": {
   "codemirror_mode": {
    "name": "ipython",
    "version": 3
   },
   "file_extension": ".py",
   "mimetype": "text/x-python",
   "name": "python",
   "nbconvert_exporter": "python",
   "pygments_lexer": "ipython3",
   "version": "3.11.5"
  }
 },
 "nbformat": 4,
 "nbformat_minor": 5
}

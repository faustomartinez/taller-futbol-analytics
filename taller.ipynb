{
 "cells": [
  {
   "cell_type": "markdown",
   "id": "8ce9a4e5-caff-4007-bba9-66b55f5ddd56",
   "metadata": {},
   "source": [
    "# Taller de Futbol Analytics"
   ]
  },
  {
   "cell_type": "markdown",
   "id": "c99d5c69-70df-411f-bd22-5fd6c2b556ae",
   "metadata": {},
   "source": [
    "La idea de este taller es bla bla ... queremos que se lleven bla bla..."
   ]
  },
  {
   "cell_type": "code",
   "execution_count": 1,
   "id": "493f3974-1982-41c0-a2c6-82facaf0ff91",
   "metadata": {},
   "outputs": [],
   "source": [
    "import numpy as np\n",
    "import pandas as pd\n",
    "import matplotlib.pyplot as plt"
   ]
  },
  {
   "cell_type": "code",
   "execution_count": 2,
   "id": "0d4ca7b4-b328-421f-9109-26987286aaf6",
   "metadata": {},
   "outputs": [],
   "source": [
    "# Desarrollo del código ..."
   ]
  }
 ],
 "metadata": {
  "kernelspec": {
   "display_name": "Python 3 (ipykernel)",
   "language": "python",
   "name": "python3"
  },
  "language_info": {
   "codemirror_mode": {
    "name": "ipython",
    "version": 3
   },
   "file_extension": ".py",
   "mimetype": "text/x-python",
   "name": "python",
   "nbconvert_exporter": "python",
   "pygments_lexer": "ipython3",
   "version": "3.11.5"
  }
 },
 "nbformat": 4,
 "nbformat_minor": 5
}

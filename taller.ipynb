{
 "cells": [
  {
   "cell_type": "markdown",
   "id": "8ce9a4e5-caff-4007-bba9-66b55f5ddd56",
   "metadata": {},
   "source": [
    "# Taller de Futbol Analytics"
   ]
  },
  {
   "cell_type": "markdown",
   "id": "cee4cee9-eb20-4855-bbed-ed52426c6c45",
   "metadata": {},
   "source": [
    "![Selección](images/seleccion.jpg)"
   ]
  },
  {
   "cell_type": "markdown",
   "id": "c99d5c69-70df-411f-bd22-5fd6c2b556ae",
   "metadata": {},
   "source": [
    "La idea de este taller es que vean parte de lo que se puede aprender en la facultad, en las carreras de Licenciatura en Ciencias Matemáticas y Ciencias de Datos de una manera interactiva. Nos centramos en el caso del fútbol, pero es interesante pensar que estos conceptos los pueden aplicar en cualquier cosa que les interese en su vida."
   ]
  },
  {
   "cell_type": "code",
   "execution_count": null,
   "id": "493f3974-1982-41c0-a2c6-82facaf0ff91",
   "metadata": {},
   "outputs": [],
   "source": [
    "# Primero importamos unas librerías de Python que vamos a usar a lo largo del notebook\n",
    "import numpy as np\n",
    "import pandas as pd\n",
    "import matplotlib.pyplot as plt\n",
    "import plotly.graph_objects as go\n",
    "import ipywidgets as widgets\n",
    "\n",
    "from IPython.display import display\n",
    "from scipy.stats import zscore\n",
    "from sklearn.neighbors import NearestNeighbors\n",
    "from sklearn.preprocessing import MinMaxScaler\n",
    "from adjustText import adjust_text"
   ]
  },
  {
   "cell_type": "code",
   "execution_count": null,
   "id": "e105b1a5",
   "metadata": {},
   "outputs": [],
   "source": [
    "# Instalamos las librerías necesarias si no las tenemos instaladas\n",
    "\n",
    "# !pip install adjustText\n",
    "# !pip install plotly\n",
    "# !pip install ipywidgets\n",
    "# !pip install anywidgets"
   ]
  },
  {
   "cell_type": "markdown",
   "id": "49c64149-6dc2-409f-b877-57c7bfa0b0a5",
   "metadata": {},
   "source": [
    "Para trabajar con los datos de los jugadores, los obtuvimos de dos páginas web de referencia en el ámbito de las estadísticas futbolísticas: FBRef y Transfermarkt"
   ]
  },
  {
   "cell_type": "markdown",
   "id": "fe985e17-cf73-4384-96f9-cc0cbe53c2fc",
   "metadata": {},
   "source": [
    "<img src=\"images/fbref.png\" width=400pt> <img src=\"images/transfermarkt.png\" width=280pt>"
   ]
  },
  {
   "cell_type": "markdown",
   "id": "9e8c72be-4a4e-469e-8946-c3e5e66ffbe3",
   "metadata": {},
   "source": [
    "De FBRef obtuvimos las estadísticas de todos los jugadores en estas temporadas y de Transfermarkt obtuvimos su valor de mercado. Estos datos suelen ser de mucha importancia para los clubes de fútbol, ya que les interesa comprar jugadores que tengan buenas estadísticas y valgan poco dinero."
   ]
  },
  {
   "cell_type": "code",
   "execution_count": null,
   "id": "07d89c6b-18b7-4624-9779-c0b281f9dafd",
   "metadata": {},
   "outputs": [],
   "source": [
    "# Obtenemos los datos desde el archivo df_reducido.csv\n",
    "df = pd.read_csv(\"datasets_procesados/df_reducido.csv\")\n",
    "df_completo = pd.read_csv(\"datasets_procesados/df.csv\")"
   ]
  },
  {
   "cell_type": "markdown",
   "id": "bf978f8e-90a6-4dcb-a2c4-f5285455830b",
   "metadata": {},
   "source": [
    "Los datos los tenemos en un formato de tabla, donde cada fila es un jugador, y cada columna es algún dato sobre el mismo. Podemos obtener una visualización de una pequeña parte de esta **gigante** tabla con el comando `head`:"
   ]
  },
  {
   "cell_type": "code",
   "execution_count": null,
   "id": "2a3e6934-f098-4da5-bb3e-e4109a68488f",
   "metadata": {},
   "outputs": [],
   "source": [
    "# Podemos obtener una primera visualización de los datos viendo sus primeras 5 filas con el comando head()\n",
    "display(df.head(), df_completo.head())"
   ]
  },
  {
   "cell_type": "markdown",
   "id": "02bd6b94-786c-443d-abbc-d70eb6850f2a",
   "metadata": {},
   "source": [
    "También podemos usar el comando `columns` para ver específicamente cuáles son los datos que tenemos sobre cada jugador:"
   ]
  },
  {
   "cell_type": "code",
   "execution_count": null,
   "id": "be3d881f-0ad2-40fb-8592-9cbd7c2e2156",
   "metadata": {},
   "outputs": [],
   "source": [
    "# Con este comando podemos ver las columnas e información de los datos que tenemos\n",
    "display(df.columns, df_completo.columns)"
   ]
  },
  {
   "cell_type": "markdown",
   "id": "15da63da-5c2d-4ab5-b874-f8bb1d07c6e2",
   "metadata": {},
   "source": [
    "Cómo podrán ver, tenemos un **montón** de información sobre cada uno de los jugadores (los cuales también son muchos). Entonces la pregunta lógica que uno se hace, y que se intenta responder en nuestras carreras, es **¿de qué manera podemos resumir esta información?** más allá, poniendose en el rol de un analista de datos de algún club: **¿de qué manera podemos sacar datos que nos sean de utilidad para la próxima compra de nuestro club?**"
   ]
  },
  {
   "cell_type": "markdown",
   "id": "56f14468",
   "metadata": {},
   "source": [
    "# Gráficos y visualización de datos"
   ]
  },
  {
   "cell_type": "markdown",
   "id": "d3a937e8-5b8c-49be-8b2a-4b2903c789f0",
   "metadata": {},
   "source": [
    "Lo primero que podríamos hacer es intentar tener una visualización directa de los datos en algún gráfico, para tener una idea de cómo se distribuyen las cosas. El problema es que no podemos graficar más de dos estadísticas juntas, así que hicimos un graficador interactivo para que ustedes puedan ir comparando las estadísticas que les parezca.\n",
    "\n",
    "Por cada jugador, se hace un punto, que tiene color más claro a medida que más caro es el mismo."
   ]
  },
  {
   "cell_type": "code",
   "execution_count": null,
   "id": "907fc3ba",
   "metadata": {},
   "outputs": [],
   "source": [
    "# Elegimos el dataframe con el que vamos a trabajar\n",
    "df_grafico1 = df.copy()\n",
    "\n",
    "# Filtrar jugadores con más de 90 minutos\n",
    "df_grafico1 = df_grafico1[df_grafico1[\"Minutos\"] > 90]\n",
    "\n",
    "# Identificar columnas numéricas\n",
    "numeric_columns = df_grafico1.select_dtypes(include=[np.number]).columns\n",
    "\n",
    "# Crear widgets para seleccionar las columnas\n",
    "x_dropdown = widgets.Dropdown(\n",
    "    options=numeric_columns,\n",
    "    value='Goles',\n",
    "    description='Eje X:'\n",
    ")\n",
    "\n",
    "y_dropdown = widgets.Dropdown(\n",
    "    options=numeric_columns,\n",
    "    value='Asistencias',\n",
    "    description='Eje Y:'\n",
    ")\n",
    "\n",
    "posiciones_dropdown = widgets.Dropdown(\n",
    "    options=[\n",
    "        ('Todos', 'all'),\n",
    "        ('Delanteros', 'FW'),\n",
    "        ('Mediocampistas', 'MF'),\n",
    "        ('Defensores', 'DF'),\n",
    "        ('Arqueros', 'GK')\n",
    "    ],\n",
    "    value='all',\n",
    "    description='Posición:'\n",
    ")\n",
    "\n",
    "\n",
    "# Elegimos que columnas queremos que se normalicen sobre 90 minutos\n",
    "normalizables = [\n",
    "    'Goles', 'Asistencias', 'xG', 'xAG', 'npxG', 'Goles_Asistencias', 'xG_xAG',\n",
    "    'Tiros', 'TirosAlArco', 'PasesClave', 'Entradas', 'Intercepciones', 'Bloqueos',\n",
    "    'EntradasGanadas', 'AsistDesdeCruzados'\n",
    "]\n",
    "\n",
    "# Función para actualizar el gráfico\n",
    "def update_graph(x_col, y_col, pos):\n",
    "\n",
    "    df_filtrado = df_grafico1.copy()\n",
    "\n",
    "    plt.figure(figsize=(10, 6))\n",
    "\n",
    "    # Filtrar por posición si corresponde\n",
    "    if pos != 'all':\n",
    "        df_filtrado = df_filtrado[df_filtrado[\"Posición\"] == pos]\n",
    "\n",
    "    # Aplico normalización solo si corresponde\n",
    "    x_data = df_filtrado[x_col]\n",
    "    y_data = df_filtrado[y_col]\n",
    "\n",
    "    if x_col in normalizables:\n",
    "        x_data = 90 * x_data / df_filtrado['Minutos']\n",
    "    if y_col in normalizables:\n",
    "        y_data = 90 * y_data / df_filtrado['Minutos']\n",
    "\n",
    "    # Scatter plot\n",
    "    plt.scatter(\n",
    "        x=x_data,\n",
    "        y=y_data,\n",
    "        c=np.log10(df_filtrado['ValorMercado'] + 1),  # Sumar 1 para evitar log(0)\n",
    "        cmap='viridis',\n",
    "        alpha=0.6,\n",
    "        s=50\n",
    "    )\n",
    "    cbar = plt.colorbar()\n",
    "    cbar.set_label('Log10(Valor de mercado €)', fontsize=10)\n",
    "\n",
    "    # Etiquetas dinámicas\n",
    "    x_label = f\"{x_col} {'(cada 90 min)' if x_col in normalizables else ''}\"\n",
    "    y_label = f\"{y_col} {'(cada 90 min)' if y_col in normalizables else ''}\"\n",
    "\n",
    "    # Títulos y etiquetas\n",
    "    plt.title(f'{x_col} vs {y_col} - {pos if pos != \"all\" else \"Todos\"}', fontsize=14)\n",
    "    plt.xlabel(x_label, fontsize=12)\n",
    "    plt.ylabel(y_label, fontsize=12)\n",
    "    plt.grid(True, linestyle='--', alpha=0.5)\n",
    "    plt.tight_layout()\n",
    "    plt.show()\n",
    "\n",
    "# Conectar los widgets a la función\n",
    "ui = widgets.VBox([posiciones_dropdown, x_dropdown, y_dropdown])\n",
    "out = widgets.interactive_output(update_graph, {\n",
    "    'x_col': x_dropdown,\n",
    "    'y_col': y_dropdown,\n",
    "    'pos': posiciones_dropdown\n",
    "})\n",
    "\n",
    "# Mostrar los widgets y el gráfico\n",
    "display(ui, out)"
   ]
  },
  {
   "cell_type": "markdown",
   "id": "b2f83df3-a512-4f58-9a2b-65faf91fc93b",
   "metadata": {},
   "source": [
    "Lo que vimos recién se denomina `scatter plot` o, en español, `diagrama de dispersión` y suele ser muy útil para resumir información cuando tenemos una gran cantidad de datos, pues nos ayuda a ver estadísticas de todos los jugadores de un solo vistazo, y también nos puede servir para hallar relaciones entre las mismas.\n",
    "\n",
    "Por ejemplo: a lo mejor esperamos que si un jugador tiene más pases claves, esperamos que tenga más asistencias, o si tiene más tiros, esperamos que tenga más goles. A partir de cómo se distribuyen los puntos en el gráfico podemos inferir si eso es realmente verdad o no."
   ]
  },
  {
   "cell_type": "markdown",
   "id": "0f3f4fef-ce85-4ea4-9afb-1d93b9aa1efe",
   "metadata": {},
   "source": [
    "Podemos también ver el rendimiento de los jugadores en cuánto a sus goles, asistencias, goles esperados y asistencias esperados. Lo mostramos entonces en el siguiente gráfico:"
   ]
  },
  {
   "cell_type": "code",
   "execution_count": null,
   "id": "82d23216",
   "metadata": {},
   "outputs": [],
   "source": [
    "# Elegimos estadísticas y jugadores\n",
    "estadisticas = ['Goles', 'Asistencias', 'xG', 'xAG']\n",
    "jugadores_top10 = df.iloc[0:10]\n",
    "x = np.arange(len(jugadores_top10))\n",
    "bar_width = 0.2\n",
    "\n",
    "# Elegimos una paleta de colores\n",
    "colors = plt.get_cmap(\"Paired\")(np.linspace(0, 1, len(estadisticas)))\n",
    "\n",
    "# Preparamos el gráfico\n",
    "fig, ax = plt.subplots(figsize=(12, 6))\n",
    "\n",
    "# Dibujamos las barras\n",
    "for i, (stat, color) in enumerate(zip(estadisticas, colors)):\n",
    "    ax.bar(\n",
    "        x + i * bar_width,\n",
    "        jugadores_top10[stat],\n",
    "        width=bar_width,\n",
    "        label=stat,\n",
    "        color=color\n",
    "    )\n",
    "\n",
    "# Etiquetas y estilo\n",
    "ax.set_xticks(x + bar_width * (len(estadisticas)-1) / 2)\n",
    "ax.set_xticklabels(jugadores_top10[\"Jugador\"], rotation=45, ha='right')\n",
    "ax.set_ylabel(\"Valor\")\n",
    "ax.set_title(\"Comparación de rendimiento (Top 10 jugadores más valiosos)\")\n",
    "ax.legend()\n",
    "ax.grid(True, axis='y', linestyle='--', alpha=0.7)\n",
    "\n",
    "# Mostramos el gráfico\n",
    "plt.tight_layout()\n",
    "plt.show()"
   ]
  },
  {
   "cell_type": "markdown",
   "id": "06e982b8-ad20-4cfe-9916-821ed1bf6fd6",
   "metadata": {},
   "source": [
    "![caros](images/caros.jpg)"
   ]
  },
  {
   "cell_type": "markdown",
   "id": "9b396f9e-4d24-49b6-b307-5a069f76c861",
   "metadata": {},
   "source": [
    "Lo que hicimos recién se llama `bar plot` o `gráfico de barras` y nos ayuda a comparar rápidamente la cantidad de goles y asistencias de todos los jugadores.\n",
    "\n",
    "En base al gráfico de recién, ¿creen que el  `xG` (goles esperados) y el  `xA` (asistencias esperadas) dan una buena idea de cuántos goles y asistencias se espera que un jugador haga?, es decir ¿se parecen para cada jugador su barra de `Goles` con la de `xG` y la de `Asistencias` con la de `xA`? ¿Cómo podrían explicar esto?"
   ]
  },
  {
   "cell_type": "markdown",
   "id": "7c84d363-9a4e-4ad3-84ad-1a95a8573f63",
   "metadata": {},
   "source": [
    "Ok, pero y si quisieramos comparar dos jugadores entre sí para ver cuál de ellos está teniendo una mejor temporada, cómo podríamos verlo de una forma rápida?"
   ]
  },
  {
   "cell_type": "code",
   "execution_count": null,
   "id": "442c6e8f",
   "metadata": {},
   "outputs": [],
   "source": [
    "# Seleccionamos el dataframe con el que vamos a trabajar\n",
    "df_grafico2 = df.copy()\n",
    "\n",
    "# Lo ordenamos alfabéticamente por el nombre del jugador\n",
    "df_grafico2.sort_values(\"Jugador\", inplace=True)\n",
    "\n",
    "# Seleccionamos los datos que vamos a graficar\n",
    "stats = [\n",
    "    \"Goles\", \"Asistencias\", \"Tiros\", \"TirosAlArco\", \"xG\", \"xAG\",\n",
    "    \"PasesCompletados\", \"PasesClave\", \"DistanciaProgresiva\", \"Entradas\", \"Intercepciones\"\n",
    "]\n",
    "\n",
    "# Armamos el dataframe con las columnas que nos interesan\n",
    "df_grafico2 = df_grafico2[[\"Jugador\"] + stats]\n",
    "\n",
    "# Normalizamos los datos para que estén entre 0 y 1\n",
    "scaler = MinMaxScaler()\n",
    "df_grafico2[stats] = scaler.fit_transform(df_grafico2[stats])\n",
    "\n",
    "# Función que extrae lista de valores normalizados\n",
    "def valores(j):\n",
    "    return df_grafico2.loc[df_grafico2[\"Jugador\"] == j, stats].iloc[0].tolist()\n",
    "\n",
    "# Obtenemos el listado de jugadores y dos jugadores iniciales para comparar\n",
    "jugadores = df_grafico2[\"Jugador\"]\n",
    "j1, j2 = \"Lionel Messi\", \"Harry Kane\"\n",
    "\n",
    "# Creamos el FigureWidget con las estadisticas del jugador 1\n",
    "figw = go.FigureWidget(\n",
    "    go.Scatterpolar(r=valores(j1), theta=stats, fill=\"toself\", name=j1),\n",
    "    layout=go.Layout(\n",
    "        title=f\"Comparación: {j1} vs {j2}\",\n",
    "        polar=dict(radialaxis=dict(visible=True, range=[0,1])),\n",
    "        width=1000,\n",
    "        height=600\n",
    "    )\n",
    ")\n",
    "\n",
    "# Añadimos el segundo jugador al gráfico\n",
    "figw.add_trace(go.Scatterpolar(r=valores(j2), theta=stats, fill=\"toself\", name=j2))\n",
    "\n",
    "# Creamos el menú desplegable para ambos jugadores\n",
    "dd1 = widgets.Dropdown(options=jugadores, value=j1, description=\"Jugador 1\")\n",
    "dd2 = widgets.Dropdown(options=jugadores, value=j2, description=\"Jugador 2\")\n",
    "\n",
    "# Funcion que actualiza el gráfico al cambiar los jugadores\n",
    "def actualizar(change):\n",
    "    # trace 0\n",
    "    figw.data[0].r = valores(dd1.value)\n",
    "    figw.data[0].name = dd1.value\n",
    "    # trace 1\n",
    "    figw.data[1].r = valores(dd2.value)\n",
    "    figw.data[1].name = dd2.value\n",
    "    # título\n",
    "    figw.layout.title.text = f\"Comparación: {dd1.value} vs {dd2.value}\"\n",
    "\n",
    "# Actualizamos el gráfico al cambiar los jugadores\n",
    "dd1.observe(actualizar, names=\"value\")\n",
    "dd2.observe(actualizar, names=\"value\")\n",
    "\n",
    "# Mostramos el gráfico interactivo\n",
    "display(widgets.HBox([dd1, dd2]))\n",
    "display(figw)"
   ]
  },
  {
   "cell_type": "markdown",
   "id": "fce4f3cf-ed23-41a0-9386-7918358aec83",
   "metadata": {},
   "source": [
    "![Messi y Kane](images/messi_kane.jpg)"
   ]
  },
  {
   "cell_type": "markdown",
   "id": "e06cff52",
   "metadata": {},
   "source": [
    "# Jugadores parecidos"
   ]
  },
  {
   "cell_type": "markdown",
   "id": "68cca4f0-c23a-48ea-9c68-4e93a5307b91",
   "metadata": {},
   "source": [
    "En el fútbol muchas veces nos interesa cuando se nos va un jugador importante de nuestro club saber cuál es su posible mejor reemplazo. Acá probamos un enfoque bastante básico: dado un jugador, buscaremos cuáles son los jugadores que tienen estadísticas \"más cercanas\" a él, como opciones para reemplazarlo en caso de que se vaya de nuestro club"
   ]
  },
  {
   "cell_type": "code",
   "execution_count": null,
   "id": "c6986da3",
   "metadata": {},
   "outputs": [],
   "source": [
    "# Nos quedamos con las columnas numéricas del dataframe completo\n",
    "df_num = df_completo.select_dtypes(include=[np.number])\n",
    "df_num[df_num.columns] = MinMaxScaler().fit_transform(df_num)"
   ]
  },
  {
   "cell_type": "code",
   "execution_count": null,
   "id": "7f060324",
   "metadata": {},
   "outputs": [],
   "source": [
    "# Definimos una función que nos devuelva, mediante knn, los k jugadores más parecidos para un jugador determinado\n",
    "\n",
    "def jugadores_parecidos(nombre_jugador, cant_recomendaciones):\n",
    "    # Obtenemos el índice del jugador\n",
    "    ind_jugador = df[df[\"Jugador\"]==nombre_jugador].index[0]\n",
    "\n",
    "    # Inicializamos un NearestNeighbors que busque los n+1 jugadores más parecidos al buscado (porque incluye al jugador buscado)\n",
    "    neighbors = NearestNeighbors(n_neighbors = cant_recomendaciones + 1).fit(df_num)\n",
    "\n",
    "    # Obtenemos las distancias a esos jugadores y sus índices\n",
    "    distances, indices = neighbors.kneighbors(df_num.iloc[[ind_jugador]])\n",
    "\n",
    "    # Devolvemos el dataset evaluado en esos índices\n",
    "    res = df.iloc[indices.flatten()]\n",
    "\n",
    "    # Eliminamos de la lista al mismo jugador\n",
    "    res = res.drop(ind_jugador, axis=0)\n",
    "    \n",
    "    return res"
   ]
  },
  {
   "cell_type": "markdown",
   "id": "dbe37686-ac55-43c0-a47c-d8a634e2da8e",
   "metadata": {},
   "source": [
    "Lo que hace nuestra función `jugadores_parecidos` que creamos en la celda de arriba es precisamente lo que dijimos, mide de cierta forma los jugadores que tienen estadísticas más parecidas al nuestro y devuelve los primeros `n` que más se parezcan. Por ejemplo, si quisieramos ver los 10 jugadores más parecidos a Messi en su forma de jugar, podríamos hacer lo siguiente:"
   ]
  },
  {
   "cell_type": "code",
   "execution_count": null,
   "id": "bdbc0121",
   "metadata": {},
   "outputs": [],
   "source": [
    "# Obtenemos los 10 jugadores más parecidos a Lionel Messi\n",
    "jugadores_parecidos(\"Lionel Messi\", 10)"
   ]
  },
  {
   "cell_type": "markdown",
   "id": "3cea9fa8-81bd-41a3-b959-ed153c12fe83",
   "metadata": {},
   "source": [
    "Y los invitamos a que experimenten un poco con esto y se fijen cuáles son los jugadores más parecidos a cualquiera de sus jugadores favoritos:"
   ]
  },
  {
   "cell_type": "code",
   "execution_count": null,
   "id": "789fe10c-e233-4f88-a672-7b76ea7aaff8",
   "metadata": {},
   "outputs": [],
   "source": [
    "jugador = \"\"\n",
    "jugadores_parecidos(jugador, 10)"
   ]
  },
  {
   "cell_type": "markdown",
   "id": "a492a1fe",
   "metadata": {},
   "source": [
    "# Mejores jugadores"
   ]
  },
  {
   "cell_type": "markdown",
   "id": "b2e46cba-518f-4efe-bd4a-ebb750d07fb3",
   "metadata": {},
   "source": [
    "Podemos también fijarnos cuáles son los mejores jugadores del mundo en cada posición. Esto por ejemplo le podría llegar a interesar a la FIFA para armar un 11 ideal que premiar a fin de año:"
   ]
  },
  {
   "cell_type": "code",
   "execution_count": null,
   "id": "662644f2",
   "metadata": {},
   "outputs": [],
   "source": [
    "# Separamos el dataset en 4, uno por cada posición\n",
    "df_delanteros = df_completo[df_completo[\"stats_Pos\"] == \"FW\"]\n",
    "df_mediocampistas = df_completo[df_completo[\"stats_Pos\"] == \"MF\"]\n",
    "df_defensores = df_completo[df_completo[\"stats_Pos\"] == \"DF\"]\n",
    "df_arqueros = df_completo[df_completo[\"stats_Pos\"] == \"GK\"]"
   ]
  },
  {
   "cell_type": "code",
   "execution_count": null,
   "id": "d11748ec",
   "metadata": {},
   "outputs": [],
   "source": [
    "def mejores_jugadores(posicion, cantidad, nacionalidad = None):\n",
    "\n",
    "    # Decidimos con qué dataframe trabajar según la posición\n",
    "    if posicion == \"delanteros\":\n",
    "        df_pos = df_delanteros\n",
    "        stats = df_num.columns\n",
    "\n",
    "    elif posicion == \"mediocampistas\":\n",
    "        df_pos = df_mediocampistas\n",
    "        stats = df_num.columns\n",
    "\n",
    "    elif posicion == \"defensores\":\n",
    "        df_pos = df_defensores\n",
    "        stats = df_num.columns\n",
    "\n",
    "    elif posicion == \"arqueros\":\n",
    "        df_pos = df_arqueros\n",
    "        stats = df_num.columns\n",
    "        \n",
    "    elif posicion == \"todos\":\n",
    "        df_pos = df.copy()\n",
    "        stats = df_num.columns\n",
    "\n",
    "    if nacionalidad is not None:\n",
    "        df_pos = df_pos[df_pos[\"stats_Nation\"].str.contains(nacionalidad, na=False)]\n",
    "\n",
    "    # Aplicamos Z-Score a las columnas\n",
    "    df_pos_zcores = df_pos[stats].apply(zscore)\n",
    "\n",
    "    # Calculamos el puntaje total sumando los Z-Scores de cada estadística, ya que todas las columnas son positivas\n",
    "    df_pos_zcores[\"score\"] = df_pos_zcores[stats].sum(axis=1)\n",
    "\n",
    "    # Ordenamos el dataframe por el puntaje total\n",
    "    df_pos_zcores = df_pos_zcores.sort_values(by=\"score\", ascending=False)\n",
    "\n",
    "    # Ordenamos el dataframe original por el puntaje total\n",
    "    mejores_jugadores = df_pos_zcores.head(cantidad)\n",
    "\n",
    "    # Devolvemos el dataframe original con los mejores jugadores\n",
    "    return df.loc[mejores_jugadores.index]"
   ]
  },
  {
   "cell_type": "markdown",
   "id": "90b6132e-0651-4683-a767-4396eb550c3f",
   "metadata": {},
   "source": [
    "Probemos entonces fijarnos cuál sería el 11 ideal del mundo, por ejemplo, si pedimos una formación 4-3-3 (esto, como todo lo pueden ajustar a su gusto)"
   ]
  },
  {
   "cell_type": "code",
   "execution_count": null,
   "id": "91110432",
   "metadata": {},
   "outputs": [],
   "source": [
    "# 11 ideal según estadísticas\n",
    "# Formación: 4-3-3\n",
    "\n",
    "cant_defensores = 4\n",
    "cant_mediocampistas = 3 \n",
    "cant_atacantes = 3\n",
    "\n",
    "display(\n",
    "    mejores_jugadores(\"delanteros\", cant_atacantes),\n",
    "    mejores_jugadores(\"mediocampistas\", cant_mediocampistas),\n",
    "    mejores_jugadores(\"defensores\", cant_defensores),\n",
    "    mejores_jugadores(\"arqueros\", 1)\n",
    ")\n",
    "\n",
    "#Obs: El dataset que conseguimos, no tiene estadísticas específicas de los arqueros (paradas, arcos en 0, penales atajados, etc.)\n",
    "#      lo cual explica por qué el resultado no es el Dibu Martínez."
   ]
  },
  {
   "cell_type": "markdown",
   "id": "71c64848-3d92-47be-8582-7822620d34e9",
   "metadata": {},
   "source": [
    "Entonces, pareciera ser que la mejor formación que uno podría crear es:\n",
    "\n",
    "![](images/11_mundo.png)\n",
    "\n",
    "Por supuesto, cada uno juzgará que tan confiable o no le parece esto, pero eso es lo entretenido, si nos parece que nos equivocamos, podemos buscar mejores maneras de determinar cuáles son los mejores jugadores. No existe una sola, así que en ese sentido, tenemos total libertad para experimentar y eventualmente llegar a mejores resultados."
   ]
  },
  {
   "cell_type": "markdown",
   "id": "62746c64-2041-4251-bdcf-b3b25ef970c5",
   "metadata": {},
   "source": [
    "Por último, nos atrevimos a tomar el rol de Scaloni y ver cuál podría llegar a ser el mejor 11 argentino usando el mismo método de antes, y lo que resultó fue lo siguiente:"
   ]
  },
  {
   "cell_type": "code",
   "execution_count": null,
   "id": "6a413e34",
   "metadata": {},
   "outputs": [],
   "source": [
    "# Mejor 11 ideal de jugadores argentinos, según estadísticas\n",
    "# Formación: 4-3-3\n",
    "\n",
    "display(\n",
    "    mejores_jugadores(\"delanteros\", 3, \"ARG\"),\n",
    "    mejores_jugadores(\"mediocampistas\", 3, \"ARG\"),\n",
    "    mejores_jugadores(\"defensores\", 4, \"ARG\"),\n",
    "    mejores_jugadores(\"arqueros\", 1, \"ARG\")\n",
    ")"
   ]
  },
  {
   "cell_type": "markdown",
   "id": "b51d8dc4-5415-4fd6-92cd-374385ee4774",
   "metadata": {},
   "source": [
    "![](images/11_argentina.png)"
   ]
  },
  {
   "cell_type": "markdown",
   "id": "f0d6ad97-52c1-4be1-90c4-99ce0db40f01",
   "metadata": {},
   "source": [
    "Nuevamente, alguno quizás puede interpretar que los resultados obtenidos son polémicos, o quizás... ¿será que tenemos que levantar el teléfono de Leo Scaloni y pedir a Balerdi de 2? Lo dejamos a libre interpretación."
   ]
  },
  {
   "cell_type": "markdown",
   "id": "06065735-e35c-47a0-ad8a-62dff323f6bd",
   "metadata": {},
   "source": [
    "**Muchas gracias por su atención!**\n",
    "\n",
    "Santi Oviedo y Faus Martínez."
   ]
  },
  {
   "cell_type": "markdown",
   "id": "11f6697b-2be6-46d2-8126-ad9f044bb896",
   "metadata": {},
   "source": [
    "![](images/logo_dm.jpg)"
   ]
  }
 ],
 "metadata": {
  "kernelspec": {
   "display_name": "Python 3 (ipykernel)",
   "language": "python",
   "name": "python3"
  },
  "language_info": {
   "codemirror_mode": {
    "name": "ipython",
    "version": 3
   },
   "file_extension": ".py",
   "mimetype": "text/x-python",
   "name": "python",
   "nbconvert_exporter": "python",
   "pygments_lexer": "ipython3",
   "version": "3.11.5"
  }
 },
 "nbformat": 4,
 "nbformat_minor": 5
}

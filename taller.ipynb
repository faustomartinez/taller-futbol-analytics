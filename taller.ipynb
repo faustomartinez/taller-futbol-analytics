{
 "cells": [
  {
   "cell_type": "markdown",
   "id": "8ce9a4e5-caff-4007-bba9-66b55f5ddd56",
   "metadata": {},
   "source": [
    "# Taller de Futbol Analytics"
   ]
  },
  {
   "cell_type": "markdown",
   "id": "c99d5c69-70df-411f-bd22-5fd6c2b556ae",
   "metadata": {},
   "source": [
    "La idea de este taller es bla bla ... queremos que se lleven bla bla..."
   ]
  },
  {
   "cell_type": "code",
   "execution_count": 1,
   "id": "493f3974-1982-41c0-a2c6-82facaf0ff91",
   "metadata": {},
   "outputs": [],
   "source": [
    "# Primero importamos unas librerías de Python que vamos a usar a lo largo del notebook\n",
    "import numpy as np\n",
    "import pandas as pd\n",
    "import matplotlib.pyplot as plt\n",
    "import plotly.express as px\n",
    "\n",
    "from scipy.stats import zscore\n",
    "from sklearn.neighbors import NearestNeighbors\n",
    "from sklearn.cluster import KMeans, DBSCAN\n",
    "from sklearn.decomposition import PCA\n",
    "from sklearn.preprocessing import MinMaxScaler, StandardScaler\n",
    "from sklearn.metrics import mean_squared_error, r2_score\n",
    "from sklearn.model_selection import train_test_split, KFold, cross_val_score, GridSearchCV\n",
    "\n",
    "\n",
    "from adjustText import adjust_text"
   ]
  },
  {
   "cell_type": "code",
   "execution_count": 2,
   "id": "07d89c6b-18b7-4624-9779-c0b281f9dafd",
   "metadata": {},
   "outputs": [],
   "source": [
    "# Obtenemos los datos desde el archivo df_reducido.csv\n",
    "df = pd.read_csv(\"datasets_procesados/df_reducido.csv\")"
   ]
  },
  {
   "cell_type": "code",
   "execution_count": 3,
   "id": "2a3e6934-f098-4da5-bb3e-e4109a68488f",
   "metadata": {},
   "outputs": [
    {
     "data": {
      "application/vnd.microsoft.datawrangler.viewer.v0+json": {
       "columns": [
        {
         "name": "index",
         "rawType": "int64",
         "type": "integer"
        },
        {
         "name": "Jugador",
         "rawType": "object",
         "type": "string"
        },
        {
         "name": "Equipo",
         "rawType": "object",
         "type": "string"
        },
        {
         "name": "Competición",
         "rawType": "object",
         "type": "string"
        },
        {
         "name": "Posición",
         "rawType": "object",
         "type": "string"
        },
        {
         "name": "Edad",
         "rawType": "int64",
         "type": "integer"
        },
        {
         "name": "Partidos",
         "rawType": "int64",
         "type": "integer"
        },
        {
         "name": "Minutos",
         "rawType": "int64",
         "type": "integer"
        },
        {
         "name": "Goles",
         "rawType": "int64",
         "type": "integer"
        },
        {
         "name": "Asistencias",
         "rawType": "int64",
         "type": "integer"
        },
        {
         "name": "xG",
         "rawType": "float64",
         "type": "float"
        },
        {
         "name": "xAG",
         "rawType": "float64",
         "type": "float"
        },
        {
         "name": "npxG",
         "rawType": "float64",
         "type": "float"
        },
        {
         "name": "ValorMercado",
         "rawType": "float64",
         "type": "float"
        },
        {
         "name": "PasesCompletados",
         "rawType": "int64",
         "type": "integer"
        },
        {
         "name": "IntentosPase",
         "rawType": "int64",
         "type": "integer"
        },
        {
         "name": "PctPasesCompletados",
         "rawType": "float64",
         "type": "float"
        },
        {
         "name": "DistanciaTotalPases",
         "rawType": "int64",
         "type": "integer"
        },
        {
         "name": "DistanciaProgresiva",
         "rawType": "int64",
         "type": "integer"
        },
        {
         "name": "PasesClave",
         "rawType": "int64",
         "type": "integer"
        },
        {
         "name": "Entradas",
         "rawType": "int64",
         "type": "integer"
        },
        {
         "name": "Intercepciones",
         "rawType": "int64",
         "type": "integer"
        },
        {
         "name": "Bloqueos",
         "rawType": "int64",
         "type": "integer"
        },
        {
         "name": "TarjetasAmarillas",
         "rawType": "int64",
         "type": "integer"
        },
        {
         "name": "TarjetasRojas",
         "rawType": "int64",
         "type": "integer"
        },
        {
         "name": "Goles_Asistencias",
         "rawType": "int64",
         "type": "integer"
        },
        {
         "name": "xG_xAG",
         "rawType": "float64",
         "type": "float"
        },
        {
         "name": "Equiv_90min",
         "rawType": "float64",
         "type": "float"
        },
        {
         "name": "EntradasGanadas",
         "rawType": "int64",
         "type": "integer"
        },
        {
         "name": "AsistDesdeCruzados",
         "rawType": "int64",
         "type": "integer"
        },
        {
         "name": "Tiros",
         "rawType": "int64",
         "type": "integer"
        },
        {
         "name": "TirosAlArco",
         "rawType": "int64",
         "type": "integer"
        }
       ],
       "conversionMethod": "pd.DataFrame",
       "ref": "da1d2d4d-0670-4050-944b-a1cefd015fad",
       "rows": [
        [
         "0",
         "Vinicius Junior",
         "Real Madrid",
         "La Liga",
         "FW",
         "24",
         "24",
         "1849",
         "11",
         "5",
         "9.6",
         "5.6",
         "7.5",
         "200000000.0",
         "535",
         "718",
         "74.5",
         "8162",
         "1965",
         "44",
         "18",
         "3",
         "5",
         "7",
         "1",
         "16",
         "0.74",
         "20.5",
         "8",
         "4",
         "68",
         "21"
        ],
        [
         "1",
         "Erling Haaland",
         "Manchester City",
         "Premier League",
         "FW",
         "24",
         "28",
         "2480",
         "21",
         "3",
         "20.8",
         "2.8",
         "18.4",
         "200000000.0",
         "225",
         "341",
         "66.0",
         "2706",
         "532",
         "26",
         "9",
         "5",
         "11",
         "2",
         "0",
         "24",
         "0.86",
         "27.6",
         "5",
         "1",
         "99",
         "54"
        ],
        [
         "2",
         "Lamine Yamal",
         "Barcelona",
         "La Liga",
         "FW",
         "17",
         "27",
         "2236",
         "6",
         "11",
         "7.4",
         "11.2",
         "7.4",
         "180000000.0",
         "834",
         "1127",
         "74.0",
         "11775",
         "3430",
         "51",
         "35",
         "13",
         "12",
         "3",
         "0",
         "17",
         "0.75",
         "24.8",
         "24",
         "12",
         "101",
         "29"
        ],
        [
         "3",
         "Jude Bellingham",
         "Real Madrid",
         "La Liga",
         "MF",
         "21",
         "24",
         "1983",
         "8",
         "7",
         "8.9",
         "3.6",
         "7.3",
         "180000000.0",
         "1092",
         "1260",
         "86.7",
         "17417",
         "3793",
         "33",
         "49",
         "23",
         "28",
         "3",
         "1",
         "15",
         "0.56",
         "22.0",
         "28",
         "0",
         "44",
         "16"
        ],
        [
         "4",
         "Kylian Mbappe",
         "Real Madrid",
         "La Liga",
         "FW",
         "26",
         "28",
         "2420",
         "22",
         "3",
         "20.0",
         "6.5",
         "14.5",
         "170000000.0",
         "793",
         "957",
         "82.9",
         "11543",
         "2042",
         "41",
         "8",
         "0",
         "3",
         "3",
         "0",
         "25",
         "0.98",
         "26.9",
         "5",
         "2",
         "121",
         "62"
        ]
       ],
       "shape": {
        "columns": 31,
        "rows": 5
       }
      },
      "text/html": [
       "<div>\n",
       "<style scoped>\n",
       "    .dataframe tbody tr th:only-of-type {\n",
       "        vertical-align: middle;\n",
       "    }\n",
       "\n",
       "    .dataframe tbody tr th {\n",
       "        vertical-align: top;\n",
       "    }\n",
       "\n",
       "    .dataframe thead th {\n",
       "        text-align: right;\n",
       "    }\n",
       "</style>\n",
       "<table border=\"1\" class=\"dataframe\">\n",
       "  <thead>\n",
       "    <tr style=\"text-align: right;\">\n",
       "      <th></th>\n",
       "      <th>Jugador</th>\n",
       "      <th>Equipo</th>\n",
       "      <th>Competición</th>\n",
       "      <th>Posición</th>\n",
       "      <th>Edad</th>\n",
       "      <th>Partidos</th>\n",
       "      <th>Minutos</th>\n",
       "      <th>Goles</th>\n",
       "      <th>Asistencias</th>\n",
       "      <th>xG</th>\n",
       "      <th>...</th>\n",
       "      <th>Bloqueos</th>\n",
       "      <th>TarjetasAmarillas</th>\n",
       "      <th>TarjetasRojas</th>\n",
       "      <th>Goles_Asistencias</th>\n",
       "      <th>xG_xAG</th>\n",
       "      <th>Equiv_90min</th>\n",
       "      <th>EntradasGanadas</th>\n",
       "      <th>AsistDesdeCruzados</th>\n",
       "      <th>Tiros</th>\n",
       "      <th>TirosAlArco</th>\n",
       "    </tr>\n",
       "  </thead>\n",
       "  <tbody>\n",
       "    <tr>\n",
       "      <th>0</th>\n",
       "      <td>Vinicius Junior</td>\n",
       "      <td>Real Madrid</td>\n",
       "      <td>La Liga</td>\n",
       "      <td>FW</td>\n",
       "      <td>24</td>\n",
       "      <td>24</td>\n",
       "      <td>1849</td>\n",
       "      <td>11</td>\n",
       "      <td>5</td>\n",
       "      <td>9.6</td>\n",
       "      <td>...</td>\n",
       "      <td>5</td>\n",
       "      <td>7</td>\n",
       "      <td>1</td>\n",
       "      <td>16</td>\n",
       "      <td>0.74</td>\n",
       "      <td>20.5</td>\n",
       "      <td>8</td>\n",
       "      <td>4</td>\n",
       "      <td>68</td>\n",
       "      <td>21</td>\n",
       "    </tr>\n",
       "    <tr>\n",
       "      <th>1</th>\n",
       "      <td>Erling Haaland</td>\n",
       "      <td>Manchester City</td>\n",
       "      <td>Premier League</td>\n",
       "      <td>FW</td>\n",
       "      <td>24</td>\n",
       "      <td>28</td>\n",
       "      <td>2480</td>\n",
       "      <td>21</td>\n",
       "      <td>3</td>\n",
       "      <td>20.8</td>\n",
       "      <td>...</td>\n",
       "      <td>11</td>\n",
       "      <td>2</td>\n",
       "      <td>0</td>\n",
       "      <td>24</td>\n",
       "      <td>0.86</td>\n",
       "      <td>27.6</td>\n",
       "      <td>5</td>\n",
       "      <td>1</td>\n",
       "      <td>99</td>\n",
       "      <td>54</td>\n",
       "    </tr>\n",
       "    <tr>\n",
       "      <th>2</th>\n",
       "      <td>Lamine Yamal</td>\n",
       "      <td>Barcelona</td>\n",
       "      <td>La Liga</td>\n",
       "      <td>FW</td>\n",
       "      <td>17</td>\n",
       "      <td>27</td>\n",
       "      <td>2236</td>\n",
       "      <td>6</td>\n",
       "      <td>11</td>\n",
       "      <td>7.4</td>\n",
       "      <td>...</td>\n",
       "      <td>12</td>\n",
       "      <td>3</td>\n",
       "      <td>0</td>\n",
       "      <td>17</td>\n",
       "      <td>0.75</td>\n",
       "      <td>24.8</td>\n",
       "      <td>24</td>\n",
       "      <td>12</td>\n",
       "      <td>101</td>\n",
       "      <td>29</td>\n",
       "    </tr>\n",
       "    <tr>\n",
       "      <th>3</th>\n",
       "      <td>Jude Bellingham</td>\n",
       "      <td>Real Madrid</td>\n",
       "      <td>La Liga</td>\n",
       "      <td>MF</td>\n",
       "      <td>21</td>\n",
       "      <td>24</td>\n",
       "      <td>1983</td>\n",
       "      <td>8</td>\n",
       "      <td>7</td>\n",
       "      <td>8.9</td>\n",
       "      <td>...</td>\n",
       "      <td>28</td>\n",
       "      <td>3</td>\n",
       "      <td>1</td>\n",
       "      <td>15</td>\n",
       "      <td>0.56</td>\n",
       "      <td>22.0</td>\n",
       "      <td>28</td>\n",
       "      <td>0</td>\n",
       "      <td>44</td>\n",
       "      <td>16</td>\n",
       "    </tr>\n",
       "    <tr>\n",
       "      <th>4</th>\n",
       "      <td>Kylian Mbappe</td>\n",
       "      <td>Real Madrid</td>\n",
       "      <td>La Liga</td>\n",
       "      <td>FW</td>\n",
       "      <td>26</td>\n",
       "      <td>28</td>\n",
       "      <td>2420</td>\n",
       "      <td>22</td>\n",
       "      <td>3</td>\n",
       "      <td>20.0</td>\n",
       "      <td>...</td>\n",
       "      <td>3</td>\n",
       "      <td>3</td>\n",
       "      <td>0</td>\n",
       "      <td>25</td>\n",
       "      <td>0.98</td>\n",
       "      <td>26.9</td>\n",
       "      <td>5</td>\n",
       "      <td>2</td>\n",
       "      <td>121</td>\n",
       "      <td>62</td>\n",
       "    </tr>\n",
       "  </tbody>\n",
       "</table>\n",
       "<p>5 rows × 31 columns</p>\n",
       "</div>"
      ],
      "text/plain": [
       "           Jugador           Equipo     Competición Posición  Edad  Partidos  \\\n",
       "0  Vinicius Junior      Real Madrid         La Liga       FW    24        24   \n",
       "1   Erling Haaland  Manchester City  Premier League       FW    24        28   \n",
       "2     Lamine Yamal        Barcelona         La Liga       FW    17        27   \n",
       "3  Jude Bellingham      Real Madrid         La Liga       MF    21        24   \n",
       "4    Kylian Mbappe      Real Madrid         La Liga       FW    26        28   \n",
       "\n",
       "   Minutos  Goles  Asistencias    xG  ...  Bloqueos  TarjetasAmarillas  \\\n",
       "0     1849     11            5   9.6  ...         5                  7   \n",
       "1     2480     21            3  20.8  ...        11                  2   \n",
       "2     2236      6           11   7.4  ...        12                  3   \n",
       "3     1983      8            7   8.9  ...        28                  3   \n",
       "4     2420     22            3  20.0  ...         3                  3   \n",
       "\n",
       "   TarjetasRojas  Goles_Asistencias  xG_xAG  Equiv_90min  EntradasGanadas  \\\n",
       "0              1                 16    0.74         20.5                8   \n",
       "1              0                 24    0.86         27.6                5   \n",
       "2              0                 17    0.75         24.8               24   \n",
       "3              1                 15    0.56         22.0               28   \n",
       "4              0                 25    0.98         26.9                5   \n",
       "\n",
       "   AsistDesdeCruzados  Tiros  TirosAlArco  \n",
       "0                   4     68           21  \n",
       "1                   1     99           54  \n",
       "2                  12    101           29  \n",
       "3                   0     44           16  \n",
       "4                   2    121           62  \n",
       "\n",
       "[5 rows x 31 columns]"
      ]
     },
     "metadata": {},
     "output_type": "display_data"
    }
   ],
   "source": [
    "# Podemos obtener una primera visualización de los datos viendo sus primeras 5 filas con el comando head()\n",
    "display(df.head())"
   ]
  },
  {
   "cell_type": "raw",
   "id": "a6eb2fb4-8529-462a-9dab-92ea61fd8db4",
   "metadata": {},
   "source": [
    "# También tenemos otro donde solo nos quedamos con los datos numéricos (por ejemplo sacamos columnas como el nombre)\n",
    "# Esto nos sirve para que la compu no se vuelva loca cuando hacemos las cuentas\n",
    "df_num = pd.read_csv(\"datasets_procesados/df_caros_num.csv\")\n",
    "display(df_num.head())\n",
    "\n",
    "### Esta celda quizas la borro a la mierda"
   ]
  },
  {
   "cell_type": "markdown",
   "id": "3f82905b-c052-40ec-a844-545c8f2985c5",
   "metadata": {},
   "source": [
    "Fijense que en los datos que tenemos que tienen solo numeros, hay menos columnas (porque nos quedamos solo con las que tienen números)"
   ]
  },
  {
   "cell_type": "code",
   "execution_count": 4,
   "id": "be3d881f-0ad2-40fb-8592-9cbd7c2e2156",
   "metadata": {},
   "outputs": [
    {
     "name": "stdout",
     "output_type": "stream",
     "text": [
      "['Jugador', 'Equipo', 'Competición', 'Posición', 'Edad', 'Partidos', 'Minutos', 'Goles', 'Asistencias', 'xG', 'xAG', 'npxG', 'ValorMercado', 'PasesCompletados', 'IntentosPase', 'PctPasesCompletados', 'DistanciaTotalPases', 'DistanciaProgresiva', 'PasesClave', 'Entradas', 'Intercepciones', 'Bloqueos', 'TarjetasAmarillas', 'TarjetasRojas', 'Goles_Asistencias', 'xG_xAG', 'Equiv_90min', 'EntradasGanadas', 'AsistDesdeCruzados', 'Tiros', 'TirosAlArco']\n"
     ]
    }
   ],
   "source": [
    "# Con este comando podemos ver las columnas (o sea, toda la información que tenemos de cada jugador)\n",
    "print(list(df.columns))"
   ]
  },
  {
   "cell_type": "markdown",
   "id": "2936b71e-59e3-4560-aa02-011b4118c181",
   "metadata": {},
   "source": [
    "También podemos usar gráficos para ver la información de manera más comprimida. Por ejemplo si queremos ver los goles y las asistencias de los jugadores, los podemos poner en un gráfico:"
   ]
  },
  {
   "cell_type": "code",
   "execution_count": 5,
   "id": "76eb91ff-3168-4b48-8635-a0bbdcde9374",
   "metadata": {},
   "outputs": [
    {
     "data": {
      "image/png": "[encoded data removed]",
      "text/plain": [
       "<Figure size 800x600 with 1 Axes>"
      ]
     },
     "metadata": {},
     "output_type": "display_data"
    }
   ],
   "source": [
    "df_grafico=df[:10]\n",
    "plt.figure(figsize=(8, 6))\n",
    "plt.scatter(df_grafico['Goles'], df_grafico['Asistencias'], label=\"Jugadores\", color=\"blue\")\n",
    "plt.text(df_grafico['Goles'][0]-2, df_grafico['Asistencias'][0]-0.3, df[\"Jugador\"][0])\n",
    "for i in range(1,10):\n",
    "    plt.text(df_grafico['Goles'][i]+0.1, df_grafico['Asistencias'][i]+0.1, df[\"Jugador\"][i])\n",
    "plt.xlabel('Goles')\n",
    "plt.ylabel('Asistencias')\n",
    "plt.title('Goles y Asistencias de los jugadores')\n",
    "plt.grid()\n",
    "plt.legend(fontsize=12)\n",
    "plt.show()"
   ]
  },
  {
   "cell_type": "markdown",
   "id": "2768929e-4214-42f5-8599-1ad57b824d9f",
   "metadata": {},
   "source": [
    "Se pone divertido cuando podemos ver un monton de estos datos. Podemos buscar relaciones entre las estadísticas de los futbolistas.\n",
    "\n",
    "Elijamos dos columnas y veamos la relación:"
   ]
  },
  {
   "cell_type": "code",
   "execution_count": 6,
   "id": "ef1bf7d6-7768-492f-b6d0-5eb18582780f",
   "metadata": {},
   "outputs": [],
   "source": [
    "# Acá capaz podrían jugar un poco con esto\n",
    "primera_columna = 'PasesCompletados' # Pases completados cada 90 minutos\n",
    "segunda_columna = 'Goles' # Tiros totales cada 90 minutos"
   ]
  },
  {
   "cell_type": "code",
   "execution_count": 7,
   "id": "0e1306a1-fd72-48e4-b189-4179145896fe",
   "metadata": {},
   "outputs": [
    {
     "data": {
      "image/png": "[encoded data removed]",
      "text/plain": [
       "<Figure size 1000x600 with 2 Axes>"
      ]
     },
     "metadata": {},
     "output_type": "display_data"
    }
   ],
   "source": [
    "df_grafico = df[df[\"Minutos\"] > 90] # Para el gráfico nos quedamos con los futbolistas que hayan jugado al menos 90 minutos\n",
    "\n",
    "# Configuración de estilo\n",
    "plt.figure(figsize=(10, 6))  # Tamaño del gráfico\n",
    "\n",
    "# Normalizar las métricas por 90 minutos\n",
    "pases_90 = 90 * df_grafico[primera_columna] / df_grafico['Minutos'] # Cuantos pases hizo cada 90 minutos\n",
    "tiros_90 = 90 * df_grafico[segunda_columna] / df_grafico['Minutos'] # Cuantos tiros al arco hizo cada 90 minutos\n",
    "\n",
    "plt.scatter(\n",
    "    x=pases_90,\n",
    "    y=tiros_90,\n",
    "    c=np.log10(df_grafico['ValorMercado']),  # Escala logarítmica base 10\n",
    "    cmap='viridis',\n",
    "    alpha=0.6,\n",
    "    s=50\n",
    ")\n",
    "cbar = plt.colorbar()\n",
    "cbar.set_label('Log10(Valor de mercado €)', fontsize=10)\n",
    "\n",
    "# Títulos y etiquetas\n",
    "plt.title('Relación entre Pases Completados y Tiros cada 90 Minutos', fontsize=14, pad=20)\n",
    "plt.xlabel('Pases completados por 90\\'', fontsize=12)\n",
    "plt.ylabel('Tiros totales por 90\\'', fontsize=12)\n",
    "\n",
    "# Grid y leyenda\n",
    "plt.grid(True, linestyle='--', alpha=0.5)\n",
    "plt.legend(['Jugadores'], loc='upper right')\n",
    "\n",
    "# Mostrar gráfico\n",
    "plt.tight_layout()  # Evita cortes en etiquetas\n",
    "plt.show()"
   ]
  },
  {
   "cell_type": "markdown",
   "id": "294f950e-698d-4072-8900-22145a7afda9",
   "metadata": {},
   "source": [
    "Estuve experimentando con estas cosas. Pero habría que repensar varias cosas, como ponerles nombres más descriptivos a las columnas, hacer gráficos más interesantes, etc"
   ]
  },
  {
   "cell_type": "code",
   "execution_count": 8,
   "id": "36e0b7f4-f2db-4dd2-a4e9-921138f938e6",
   "metadata": {},
   "outputs": [
    {
     "data": {
      "image/png": "[encoded data removed]",
      "text/plain": [
       "<Figure size 1000x600 with 2 Axes>"
      ]
     },
     "metadata": {},
     "output_type": "display_data"
    }
   ],
   "source": [
    "# Configuración de estilo\n",
    "plt.figure(figsize=(10, 6))  # Tamaño del gráfico\n",
    "\n",
    "# Normalizar las métricas por 90 minutos\n",
    "tiros_al_arco_90 = 90 * df_grafico['TirosAlArco'] / df_grafico['Minutos'] # Tiros al arco cada 90 minutos\n",
    "tiros_90 = 90 * df_grafico['Tiros'] / df_grafico['Minutos']               # Tiros cada 90 minutos\n",
    "\n",
    "plt.scatter(\n",
    "    x=tiros_90,\n",
    "    y=tiros_al_arco_90,\n",
    "    c=np.log10(df_grafico['ValorMercado']),  # Escala logarítmica base 10\n",
    "    cmap='viridis',\n",
    "    alpha=0.6,\n",
    "    s=50\n",
    ")\n",
    "cbar = plt.colorbar()\n",
    "cbar.set_label('Log10(Valor de mercado €)', fontsize=10)\n",
    "\n",
    "# Títulos y etiquetas\n",
    "plt.title('Relación entre Tiros totales y Tiros al arco cada 90 Minutos', fontsize=14, pad=20)\n",
    "plt.xlabel('Tiros totales cada 90 minutos', fontsize=12)\n",
    "plt.ylabel('Tiros al arco cada 90 minutos', fontsize=12)\n",
    "\n",
    "# Grid y leyenda\n",
    "plt.grid(True, linestyle='--', alpha=0.5)\n",
    "plt.legend(['Jugadores'], loc='upper right')\n",
    "\n",
    "# Mostrar gráfico\n",
    "plt.tight_layout()  # Evita cortes en etiquetas\n",
    "plt.show()"
   ]
  },
  {
   "cell_type": "raw",
   "id": "156a8acc-2025-47f4-abd1-a6082a6bce06",
   "metadata": {},
   "source": [
    "Acá la idea no sería mostrarles esto quizás tan directamente pero experimentando que se lleguen a dar cuenta alguno ¿acá que pasó? aparecieron de la nada relaciones lineales de unos datos que estaban bastante por cualquier lado si agarrabamos dos columnas random. Esta interesante tambien ver que los jugadores caros suelen tener un montón de remates al arco, etc. Bueno, iremos viendo cómo lo manejamos."
   ]
  },
  {
   "cell_type": "markdown",
   "id": "d1d1121f-641b-4c85-a972-a30b85194bfc",
   "metadata": {},
   "source": [
    "Podríamos también experimentar cómo afecta la estadística esta del xG a los goles de un jugaador, veamos qué onda..."
   ]
  },
  {
   "cell_type": "code",
   "execution_count": 9,
   "id": "f53697af-f500-4060-9135-298852970211",
   "metadata": {},
   "outputs": [
    {
     "data": {
      "image/png": "[encoded data removed]",
      "text/plain": [
       "<Figure size 1000x600 with 2 Axes>"
      ]
     },
     "metadata": {},
     "output_type": "display_data"
    }
   ],
   "source": [
    "# Configuración de estilo\n",
    "plt.figure(figsize=(10, 6))  # Tamaño del gráfico\n",
    "\n",
    "# Normalizar las métricas por 90 minutos\n",
    "xG_90 = 90 * df_grafico['xG'] / df_grafico['Minutos']          # xG del jugador cada 90 minutos\n",
    "goles_90 = 90 * df_grafico['Goles'] / df_grafico['Minutos']    # Goles cada 90 minutos\n",
    "\n",
    "plt.scatter(\n",
    "    x=xG_90,\n",
    "    y=goles_90,\n",
    "    c=np.log10(df_grafico['ValorMercado']),  # Escala logarítmica base 10\n",
    "    cmap='viridis',\n",
    "    alpha=0.6,\n",
    "    s=50\n",
    ")\n",
    "cbar = plt.colorbar()\n",
    "cbar.set_label('Log10(Valor de mercado €)', fontsize=10)\n",
    "\n",
    "# Títulos y etiquetas\n",
    "plt.title('Relación entre el xG y los goles del jugador cada 90 Minutos', fontsize=14, pad=20)\n",
    "plt.xlabel('xG cada 90 minutos', fontsize=12)\n",
    "plt.ylabel('Goles cada 90 minutos', fontsize=12)\n",
    "\n",
    "# Grid y leyenda\n",
    "plt.grid(True, linestyle='--', alpha=0.5)\n",
    "plt.legend(['Jugadores'], loc='upper right')\n",
    "\n",
    "# Mostrar gráfico\n",
    "plt.tight_layout()  # Evita cortes en etiquetas\n",
    "plt.show()"
   ]
  },
  {
   "cell_type": "raw",
   "id": "be538132-a7a1-44eb-9469-59a92dcb1a18",
   "metadata": {},
   "source": [
    "Acá podríamos seguir charlando de cómo los jugadores más caros parecen ser los que más rendimiento tienen, pero también podríamos mencionar algo más interesante: hay jugadores que hacen muchos goles y tienen muchas chances a pesar de ser baratos. Podemos investigar cual es ese jugador:"
   ]
  },
  {
   "cell_type": "code",
   "execution_count": 10,
   "id": "bc8243a7-92ee-4ce7-9ece-3dbae017e842",
   "metadata": {},
   "outputs": [
    {
     "data": {
      "application/vnd.microsoft.datawrangler.viewer.v0+json": {
       "columns": [
        {
         "name": "index",
         "rawType": "int64",
         "type": "integer"
        },
        {
         "name": "Jugador",
         "rawType": "object",
         "type": "string"
        },
        {
         "name": "Equipo",
         "rawType": "object",
         "type": "string"
        },
        {
         "name": "Competición",
         "rawType": "object",
         "type": "string"
        },
        {
         "name": "Posición",
         "rawType": "object",
         "type": "string"
        },
        {
         "name": "Edad",
         "rawType": "int64",
         "type": "integer"
        },
        {
         "name": "Partidos",
         "rawType": "int64",
         "type": "integer"
        },
        {
         "name": "Minutos",
         "rawType": "int64",
         "type": "integer"
        },
        {
         "name": "Goles",
         "rawType": "int64",
         "type": "integer"
        },
        {
         "name": "Asistencias",
         "rawType": "int64",
         "type": "integer"
        },
        {
         "name": "xG",
         "rawType": "float64",
         "type": "float"
        },
        {
         "name": "xAG",
         "rawType": "float64",
         "type": "float"
        },
        {
         "name": "npxG",
         "rawType": "float64",
         "type": "float"
        },
        {
         "name": "ValorMercado",
         "rawType": "float64",
         "type": "float"
        },
        {
         "name": "PasesCompletados",
         "rawType": "int64",
         "type": "integer"
        },
        {
         "name": "IntentosPase",
         "rawType": "int64",
         "type": "integer"
        },
        {
         "name": "PctPasesCompletados",
         "rawType": "float64",
         "type": "float"
        },
        {
         "name": "DistanciaTotalPases",
         "rawType": "int64",
         "type": "integer"
        },
        {
         "name": "DistanciaProgresiva",
         "rawType": "int64",
         "type": "integer"
        },
        {
         "name": "PasesClave",
         "rawType": "int64",
         "type": "integer"
        },
        {
         "name": "Entradas",
         "rawType": "int64",
         "type": "integer"
        },
        {
         "name": "Intercepciones",
         "rawType": "int64",
         "type": "integer"
        },
        {
         "name": "Bloqueos",
         "rawType": "int64",
         "type": "integer"
        },
        {
         "name": "TarjetasAmarillas",
         "rawType": "int64",
         "type": "integer"
        },
        {
         "name": "TarjetasRojas",
         "rawType": "int64",
         "type": "integer"
        },
        {
         "name": "Goles_Asistencias",
         "rawType": "int64",
         "type": "integer"
        },
        {
         "name": "xG_xAG",
         "rawType": "float64",
         "type": "float"
        },
        {
         "name": "Equiv_90min",
         "rawType": "float64",
         "type": "float"
        },
        {
         "name": "EntradasGanadas",
         "rawType": "int64",
         "type": "integer"
        },
        {
         "name": "AsistDesdeCruzados",
         "rawType": "int64",
         "type": "integer"
        },
        {
         "name": "Tiros",
         "rawType": "int64",
         "type": "integer"
        },
        {
         "name": "TirosAlArco",
         "rawType": "int64",
         "type": "integer"
        }
       ],
       "conversionMethod": "pd.DataFrame",
       "ref": "b91e8026-b141-4482-8686-849b7594dd65",
       "rows": [
        [
         "2224",
         "Noah Edjouma",
         "Toulouse",
         "Ligue 1",
         "MF,FW",
         "19",
         "7",
         "114",
         "2",
         "0",
         "1.3",
         "0.0",
         "1.3",
         "500000.0",
         "24",
         "35",
         "68.6",
         "272",
         "114",
         "0",
         "2",
         "2",
         "1",
         "0",
         "0",
         "2",
         "1.01",
         "1.3",
         "2",
         "1",
         "5",
         "3"
        ]
       ],
       "shape": {
        "columns": 31,
        "rows": 1
       }
      },
      "text/html": [
       "<div>\n",
       "<style scoped>\n",
       "    .dataframe tbody tr th:only-of-type {\n",
       "        vertical-align: middle;\n",
       "    }\n",
       "\n",
       "    .dataframe tbody tr th {\n",
       "        vertical-align: top;\n",
       "    }\n",
       "\n",
       "    .dataframe thead th {\n",
       "        text-align: right;\n",
       "    }\n",
       "</style>\n",
       "<table border=\"1\" class=\"dataframe\">\n",
       "  <thead>\n",
       "    <tr style=\"text-align: right;\">\n",
       "      <th></th>\n",
       "      <th>Jugador</th>\n",
       "      <th>Equipo</th>\n",
       "      <th>Competición</th>\n",
       "      <th>Posición</th>\n",
       "      <th>Edad</th>\n",
       "      <th>Partidos</th>\n",
       "      <th>Minutos</th>\n",
       "      <th>Goles</th>\n",
       "      <th>Asistencias</th>\n",
       "      <th>xG</th>\n",
       "      <th>...</th>\n",
       "      <th>Bloqueos</th>\n",
       "      <th>TarjetasAmarillas</th>\n",
       "      <th>TarjetasRojas</th>\n",
       "      <th>Goles_Asistencias</th>\n",
       "      <th>xG_xAG</th>\n",
       "      <th>Equiv_90min</th>\n",
       "      <th>EntradasGanadas</th>\n",
       "      <th>AsistDesdeCruzados</th>\n",
       "      <th>Tiros</th>\n",
       "      <th>TirosAlArco</th>\n",
       "    </tr>\n",
       "  </thead>\n",
       "  <tbody>\n",
       "    <tr>\n",
       "      <th>2224</th>\n",
       "      <td>Noah Edjouma</td>\n",
       "      <td>Toulouse</td>\n",
       "      <td>Ligue 1</td>\n",
       "      <td>MF,FW</td>\n",
       "      <td>19</td>\n",
       "      <td>7</td>\n",
       "      <td>114</td>\n",
       "      <td>2</td>\n",
       "      <td>0</td>\n",
       "      <td>1.3</td>\n",
       "      <td>...</td>\n",
       "      <td>1</td>\n",
       "      <td>0</td>\n",
       "      <td>0</td>\n",
       "      <td>2</td>\n",
       "      <td>1.01</td>\n",
       "      <td>1.3</td>\n",
       "      <td>2</td>\n",
       "      <td>1</td>\n",
       "      <td>5</td>\n",
       "      <td>3</td>\n",
       "    </tr>\n",
       "  </tbody>\n",
       "</table>\n",
       "<p>1 rows × 31 columns</p>\n",
       "</div>"
      ],
      "text/plain": [
       "           Jugador    Equipo Competición Posición  Edad  Partidos  Minutos  \\\n",
       "2224  Noah Edjouma  Toulouse     Ligue 1    MF,FW    19         7      114   \n",
       "\n",
       "      Goles  Asistencias   xG  ...  Bloqueos  TarjetasAmarillas  \\\n",
       "2224      2            0  1.3  ...         1                  0   \n",
       "\n",
       "      TarjetasRojas  Goles_Asistencias  xG_xAG  Equiv_90min  EntradasGanadas  \\\n",
       "2224              0                  2    1.01          1.3                2   \n",
       "\n",
       "      AsistDesdeCruzados  Tiros  TirosAlArco  \n",
       "2224                   1      5            3  \n",
       "\n",
       "[1 rows x 31 columns]"
      ]
     },
     "execution_count": 10,
     "metadata": {},
     "output_type": "execute_result"
    }
   ],
   "source": [
    "df_grafico[(goles_90>1.4) & (xG_90>1.0)]"
   ]
  },
  {
   "cell_type": "raw",
   "id": "bfb59806-2f7e-448e-991e-ffcb475627c9",
   "metadata": {},
   "source": [
    "Bueno, era aun jugador Edjouma de la Ligue One, puede fallar jajaja."
   ]
  },
  {
   "cell_type": "code",
   "execution_count": 11,
   "id": "274bb573",
   "metadata": {},
   "outputs": [],
   "source": [
    "def df_num_completo(): return pd.read_csv(\"datasets_procesados/df_num.csv\")\n",
    "def df_num_reducido(): return df.select_dtypes(include=[\"float64\", \"int64\"])"
   ]
  },
  {
   "cell_type": "code",
   "execution_count": 12,
   "id": "c6986da3",
   "metadata": {},
   "outputs": [],
   "source": [
    "df_num = df_num_completo()\n",
    "df_num[df_num.columns] = MinMaxScaler().fit_transform(df_num)"
   ]
  },
  {
   "cell_type": "code",
   "execution_count": 13,
   "id": "7f060324",
   "metadata": {},
   "outputs": [],
   "source": [
    "# Definimos una función que nos devuelva, mediante knn, los k jugadores más parecidos para un jugador determinado\n",
    "\n",
    "def jugadores_parecidos(nombre_jugador, cant_recomendaciones):\n",
    "    # Obtenemos el índice del jugador\n",
    "    ind_jugador = df[df[\"Jugador\"]==nombre_jugador].index[0]\n",
    "\n",
    "    # Inicializamos un NearestNeighbors que busque los n+1 jugadores más parecidos al buscado (porque incluye al jugador buscado)\n",
    "    neighbors = NearestNeighbors(n_neighbors = cant_recomendaciones + 1).fit(df_num)\n",
    "\n",
    "    # Obtenemos las distancias a esos jugadores y sus índices\n",
    "    distances, indices = neighbors.kneighbors(df_num.iloc[[ind_jugador]])\n",
    "\n",
    "    # Devolvemos el dataset evaluado en esos índices\n",
    "    res = df.iloc[indices.flatten()]\n",
    "\n",
    "    # Eliminamos de la lista al mismo jugador\n",
    "    res = res.drop(ind_jugador, axis=0)\n",
    "    \n",
    "    return res"
   ]
  },
  {
   "cell_type": "code",
   "execution_count": 14,
   "id": "bdbc0121",
   "metadata": {},
   "outputs": [
    {
     "data": {
      "application/vnd.microsoft.datawrangler.viewer.v0+json": {
       "columns": [
        {
         "name": "index",
         "rawType": "int64",
         "type": "integer"
        },
        {
         "name": "Jugador",
         "rawType": "object",
         "type": "string"
        },
        {
         "name": "Equipo",
         "rawType": "object",
         "type": "string"
        },
        {
         "name": "Competición",
         "rawType": "object",
         "type": "string"
        },
        {
         "name": "Posición",
         "rawType": "object",
         "type": "string"
        },
        {
         "name": "Edad",
         "rawType": "int64",
         "type": "integer"
        },
        {
         "name": "Partidos",
         "rawType": "int64",
         "type": "integer"
        },
        {
         "name": "Minutos",
         "rawType": "int64",
         "type": "integer"
        },
        {
         "name": "Goles",
         "rawType": "int64",
         "type": "integer"
        },
        {
         "name": "Asistencias",
         "rawType": "int64",
         "type": "integer"
        },
        {
         "name": "xG",
         "rawType": "float64",
         "type": "float"
        },
        {
         "name": "xAG",
         "rawType": "float64",
         "type": "float"
        },
        {
         "name": "npxG",
         "rawType": "float64",
         "type": "float"
        },
        {
         "name": "ValorMercado",
         "rawType": "float64",
         "type": "float"
        },
        {
         "name": "PasesCompletados",
         "rawType": "int64",
         "type": "integer"
        },
        {
         "name": "IntentosPase",
         "rawType": "int64",
         "type": "integer"
        },
        {
         "name": "PctPasesCompletados",
         "rawType": "float64",
         "type": "float"
        },
        {
         "name": "DistanciaTotalPases",
         "rawType": "int64",
         "type": "integer"
        },
        {
         "name": "DistanciaProgresiva",
         "rawType": "int64",
         "type": "integer"
        },
        {
         "name": "PasesClave",
         "rawType": "int64",
         "type": "integer"
        },
        {
         "name": "Entradas",
         "rawType": "int64",
         "type": "integer"
        },
        {
         "name": "Intercepciones",
         "rawType": "int64",
         "type": "integer"
        },
        {
         "name": "Bloqueos",
         "rawType": "int64",
         "type": "integer"
        },
        {
         "name": "TarjetasAmarillas",
         "rawType": "int64",
         "type": "integer"
        },
        {
         "name": "TarjetasRojas",
         "rawType": "int64",
         "type": "integer"
        },
        {
         "name": "Goles_Asistencias",
         "rawType": "int64",
         "type": "integer"
        },
        {
         "name": "xG_xAG",
         "rawType": "float64",
         "type": "float"
        },
        {
         "name": "Equiv_90min",
         "rawType": "float64",
         "type": "float"
        },
        {
         "name": "EntradasGanadas",
         "rawType": "int64",
         "type": "integer"
        },
        {
         "name": "AsistDesdeCruzados",
         "rawType": "int64",
         "type": "integer"
        },
        {
         "name": "Tiros",
         "rawType": "int64",
         "type": "integer"
        },
        {
         "name": "TirosAlArco",
         "rawType": "int64",
         "type": "integer"
        }
       ],
       "conversionMethod": "pd.DataFrame",
       "ref": "7fba5c55-a1a5-4805-abb3-e2b8e951c51a",
       "rows": [
        [
         "33",
         "Ousmane Dembele",
         "Paris S-G",
         "Ligue 1",
         "FW",
         "27",
         "26",
         "1528",
         "21",
         "5",
         "14.9",
         "7.0",
         "14.1",
         "75000000.0",
         "731",
         "933",
         "78.3",
         "11605",
         "3121",
         "55",
         "11",
         "9",
         "3",
         "1",
         "0",
         "26",
         "1.29",
         "17.0",
         "5",
         "3",
         "82",
         "43"
        ],
        [
         "97",
         "James Maddison",
         "Tottenham",
         "Premier League",
         "MF",
         "28",
         "28",
         "1611",
         "9",
         "5",
         "5.8",
         "3.6",
         "5.8",
         "50000000.0",
         "904",
         "1123",
         "80.5",
         "14611",
         "4456",
         "34",
         "27",
         "11",
         "13",
         "6",
         "0",
         "14",
         "0.52",
         "17.9",
         "16",
         "5",
         "38",
         "17"
        ],
        [
         "6",
         "Florian Wirtz",
         "Leverkusen",
         "Bundesliga",
         "MF,FW",
         "21",
         "25",
         "1876",
         "9",
         "10",
         "8.5",
         "6.0",
         "5.2",
         "140000000.0",
         "1105",
         "1392",
         "79.4",
         "14510",
         "3764",
         "48",
         "29",
         "8",
         "23",
         "1",
         "0",
         "19",
         "0.69",
         "20.8",
         "18",
         "6",
         "62",
         "28"
        ],
        [
         "16",
         "Alexander Isak",
         "Newcastle Utd",
         "Premier League",
         "FW",
         "25",
         "26",
         "2117",
         "20",
         "5",
         "16.1",
         "3.8",
         "14.5",
         "100000000.0",
         "401",
         "544",
         "73.7",
         "5620",
         "1305",
         "36",
         "12",
         "3",
         "17",
         "1",
         "0",
         "25",
         "0.85",
         "23.5",
         "5",
         "0",
         "70",
         "32"
        ],
        [
         "191",
         "Rayan Cherki",
         "Lyon",
         "Ligue 1",
         "FW,MF",
         "21",
         "24",
         "1578",
         "7",
         "9",
         "4.5",
         "8.3",
         "4.5",
         "35000000.0",
         "824",
         "1052",
         "78.3",
         "13216",
         "4012",
         "58",
         "14",
         "6",
         "6",
         "3",
         "0",
         "16",
         "0.73",
         "17.5",
         "11",
         "3",
         "33",
         "13"
        ],
        [
         "74",
         "Matheus Cunha",
         "Wolves",
         "Premier League",
         "MF,FW",
         "25",
         "26",
         "2143",
         "13",
         "4",
         "6.7",
         "6.6",
         "6.7",
         "55000000.0",
         "638",
         "908",
         "70.3",
         "10202",
         "3454",
         "43",
         "32",
         "16",
         "17",
         "3",
         "0",
         "17",
         "0.56",
         "23.8",
         "18",
         "9",
         "86",
         "35"
        ],
        [
         "60",
         "Ademola Lookman",
         "Atalanta",
         "Serie A",
         "FW,MF",
         "27",
         "24",
         "1703",
         "13",
         "5",
         "9.2",
         "5.3",
         "8.4",
         "60000000.0",
         "522",
         "711",
         "73.4",
         "7346",
         "2051",
         "49",
         "27",
         "2",
         "16",
         "4",
         "0",
         "18",
         "0.76",
         "18.9",
         "13",
         "8",
         "67",
         "28"
        ],
        [
         "1179",
         "Alassane Plea",
         "Gladbach",
         "Bundesliga",
         "MF,FW",
         "32",
         "24",
         "1481",
         "10",
         "4",
         "6.6",
         "2.7",
         "5.9",
         "6000000.0",
         "468",
         "652",
         "71.8",
         "7374",
         "2435",
         "20",
         "7",
         "2",
         "8",
         "3",
         "0",
         "14",
         "0.57",
         "16.5",
         "3",
         "6",
         "35",
         "10"
        ],
        [
         "5",
         "Bukayo Saka",
         "Arsenal",
         "Premier League",
         "FW,MF",
         "23",
         "18",
         "1338",
         "6",
         "10",
         "5.2",
         "6.0",
         "4.4",
         "150000000.0",
         "420",
         "565",
         "74.3",
         "6582",
         "1985",
         "43",
         "23",
         "2",
         "16",
         "3",
         "0",
         "16",
         "0.75",
         "14.9",
         "13",
         "10",
         "48",
         "18"
        ],
        [
         "39",
         "Marcus Thuram",
         "Inter",
         "Serie A",
         "FW",
         "27",
         "30",
         "2176",
         "14",
         "4",
         "9.8",
         "4.3",
         "9.8",
         "75000000.0",
         "383",
         "524",
         "73.1",
         "4898",
         "1052",
         "38",
         "17",
         "3",
         "15",
         "1",
         "0",
         "18",
         "0.58",
         "24.2",
         "10",
         "3",
         "64",
         "27"
        ]
       ],
       "shape": {
        "columns": 31,
        "rows": 10
       }
      },
      "text/html": [
       "<div>\n",
       "<style scoped>\n",
       "    .dataframe tbody tr th:only-of-type {\n",
       "        vertical-align: middle;\n",
       "    }\n",
       "\n",
       "    .dataframe tbody tr th {\n",
       "        vertical-align: top;\n",
       "    }\n",
       "\n",
       "    .dataframe thead th {\n",
       "        text-align: right;\n",
       "    }\n",
       "</style>\n",
       "<table border=\"1\" class=\"dataframe\">\n",
       "  <thead>\n",
       "    <tr style=\"text-align: right;\">\n",
       "      <th></th>\n",
       "      <th>Jugador</th>\n",
       "      <th>Equipo</th>\n",
       "      <th>Competición</th>\n",
       "      <th>Posición</th>\n",
       "      <th>Edad</th>\n",
       "      <th>Partidos</th>\n",
       "      <th>Minutos</th>\n",
       "      <th>Goles</th>\n",
       "      <th>Asistencias</th>\n",
       "      <th>xG</th>\n",
       "      <th>...</th>\n",
       "      <th>Bloqueos</th>\n",
       "      <th>TarjetasAmarillas</th>\n",
       "      <th>TarjetasRojas</th>\n",
       "      <th>Goles_Asistencias</th>\n",
       "      <th>xG_xAG</th>\n",
       "      <th>Equiv_90min</th>\n",
       "      <th>EntradasGanadas</th>\n",
       "      <th>AsistDesdeCruzados</th>\n",
       "      <th>Tiros</th>\n",
       "      <th>TirosAlArco</th>\n",
       "    </tr>\n",
       "  </thead>\n",
       "  <tbody>\n",
       "    <tr>\n",
       "      <th>33</th>\n",
       "      <td>Ousmane Dembele</td>\n",
       "      <td>Paris S-G</td>\n",
       "      <td>Ligue 1</td>\n",
       "      <td>FW</td>\n",
       "      <td>27</td>\n",
       "      <td>26</td>\n",
       "      <td>1528</td>\n",
       "      <td>21</td>\n",
       "      <td>5</td>\n",
       "      <td>14.9</td>\n",
       "      <td>...</td>\n",
       "      <td>3</td>\n",
       "      <td>1</td>\n",
       "      <td>0</td>\n",
       "      <td>26</td>\n",
       "      <td>1.29</td>\n",
       "      <td>17.0</td>\n",
       "      <td>5</td>\n",
       "      <td>3</td>\n",
       "      <td>82</td>\n",
       "      <td>43</td>\n",
       "    </tr>\n",
       "    <tr>\n",
       "      <th>97</th>\n",
       "      <td>James Maddison</td>\n",
       "      <td>Tottenham</td>\n",
       "      <td>Premier League</td>\n",
       "      <td>MF</td>\n",
       "      <td>28</td>\n",
       "      <td>28</td>\n",
       "      <td>1611</td>\n",
       "      <td>9</td>\n",
       "      <td>5</td>\n",
       "      <td>5.8</td>\n",
       "      <td>...</td>\n",
       "      <td>13</td>\n",
       "      <td>6</td>\n",
       "      <td>0</td>\n",
       "      <td>14</td>\n",
       "      <td>0.52</td>\n",
       "      <td>17.9</td>\n",
       "      <td>16</td>\n",
       "      <td>5</td>\n",
       "      <td>38</td>\n",
       "      <td>17</td>\n",
       "    </tr>\n",
       "    <tr>\n",
       "      <th>6</th>\n",
       "      <td>Florian Wirtz</td>\n",
       "      <td>Leverkusen</td>\n",
       "      <td>Bundesliga</td>\n",
       "      <td>MF,FW</td>\n",
       "      <td>21</td>\n",
       "      <td>25</td>\n",
       "      <td>1876</td>\n",
       "      <td>9</td>\n",
       "      <td>10</td>\n",
       "      <td>8.5</td>\n",
       "      <td>...</td>\n",
       "      <td>23</td>\n",
       "      <td>1</td>\n",
       "      <td>0</td>\n",
       "      <td>19</td>\n",
       "      <td>0.69</td>\n",
       "      <td>20.8</td>\n",
       "      <td>18</td>\n",
       "      <td>6</td>\n",
       "      <td>62</td>\n",
       "      <td>28</td>\n",
       "    </tr>\n",
       "    <tr>\n",
       "      <th>16</th>\n",
       "      <td>Alexander Isak</td>\n",
       "      <td>Newcastle Utd</td>\n",
       "      <td>Premier League</td>\n",
       "      <td>FW</td>\n",
       "      <td>25</td>\n",
       "      <td>26</td>\n",
       "      <td>2117</td>\n",
       "      <td>20</td>\n",
       "      <td>5</td>\n",
       "      <td>16.1</td>\n",
       "      <td>...</td>\n",
       "      <td>17</td>\n",
       "      <td>1</td>\n",
       "      <td>0</td>\n",
       "      <td>25</td>\n",
       "      <td>0.85</td>\n",
       "      <td>23.5</td>\n",
       "      <td>5</td>\n",
       "      <td>0</td>\n",
       "      <td>70</td>\n",
       "      <td>32</td>\n",
       "    </tr>\n",
       "    <tr>\n",
       "      <th>191</th>\n",
       "      <td>Rayan Cherki</td>\n",
       "      <td>Lyon</td>\n",
       "      <td>Ligue 1</td>\n",
       "      <td>FW,MF</td>\n",
       "      <td>21</td>\n",
       "      <td>24</td>\n",
       "      <td>1578</td>\n",
       "      <td>7</td>\n",
       "      <td>9</td>\n",
       "      <td>4.5</td>\n",
       "      <td>...</td>\n",
       "      <td>6</td>\n",
       "      <td>3</td>\n",
       "      <td>0</td>\n",
       "      <td>16</td>\n",
       "      <td>0.73</td>\n",
       "      <td>17.5</td>\n",
       "      <td>11</td>\n",
       "      <td>3</td>\n",
       "      <td>33</td>\n",
       "      <td>13</td>\n",
       "    </tr>\n",
       "    <tr>\n",
       "      <th>74</th>\n",
       "      <td>Matheus Cunha</td>\n",
       "      <td>Wolves</td>\n",
       "      <td>Premier League</td>\n",
       "      <td>MF,FW</td>\n",
       "      <td>25</td>\n",
       "      <td>26</td>\n",
       "      <td>2143</td>\n",
       "      <td>13</td>\n",
       "      <td>4</td>\n",
       "      <td>6.7</td>\n",
       "      <td>...</td>\n",
       "      <td>17</td>\n",
       "      <td>3</td>\n",
       "      <td>0</td>\n",
       "      <td>17</td>\n",
       "      <td>0.56</td>\n",
       "      <td>23.8</td>\n",
       "      <td>18</td>\n",
       "      <td>9</td>\n",
       "      <td>86</td>\n",
       "      <td>35</td>\n",
       "    </tr>\n",
       "    <tr>\n",
       "      <th>60</th>\n",
       "      <td>Ademola Lookman</td>\n",
       "      <td>Atalanta</td>\n",
       "      <td>Serie A</td>\n",
       "      <td>FW,MF</td>\n",
       "      <td>27</td>\n",
       "      <td>24</td>\n",
       "      <td>1703</td>\n",
       "      <td>13</td>\n",
       "      <td>5</td>\n",
       "      <td>9.2</td>\n",
       "      <td>...</td>\n",
       "      <td>16</td>\n",
       "      <td>4</td>\n",
       "      <td>0</td>\n",
       "      <td>18</td>\n",
       "      <td>0.76</td>\n",
       "      <td>18.9</td>\n",
       "      <td>13</td>\n",
       "      <td>8</td>\n",
       "      <td>67</td>\n",
       "      <td>28</td>\n",
       "    </tr>\n",
       "    <tr>\n",
       "      <th>1179</th>\n",
       "      <td>Alassane Plea</td>\n",
       "      <td>Gladbach</td>\n",
       "      <td>Bundesliga</td>\n",
       "      <td>MF,FW</td>\n",
       "      <td>32</td>\n",
       "      <td>24</td>\n",
       "      <td>1481</td>\n",
       "      <td>10</td>\n",
       "      <td>4</td>\n",
       "      <td>6.6</td>\n",
       "      <td>...</td>\n",
       "      <td>8</td>\n",
       "      <td>3</td>\n",
       "      <td>0</td>\n",
       "      <td>14</td>\n",
       "      <td>0.57</td>\n",
       "      <td>16.5</td>\n",
       "      <td>3</td>\n",
       "      <td>6</td>\n",
       "      <td>35</td>\n",
       "      <td>10</td>\n",
       "    </tr>\n",
       "    <tr>\n",
       "      <th>5</th>\n",
       "      <td>Bukayo Saka</td>\n",
       "      <td>Arsenal</td>\n",
       "      <td>Premier League</td>\n",
       "      <td>FW,MF</td>\n",
       "      <td>23</td>\n",
       "      <td>18</td>\n",
       "      <td>1338</td>\n",
       "      <td>6</td>\n",
       "      <td>10</td>\n",
       "      <td>5.2</td>\n",
       "      <td>...</td>\n",
       "      <td>16</td>\n",
       "      <td>3</td>\n",
       "      <td>0</td>\n",
       "      <td>16</td>\n",
       "      <td>0.75</td>\n",
       "      <td>14.9</td>\n",
       "      <td>13</td>\n",
       "      <td>10</td>\n",
       "      <td>48</td>\n",
       "      <td>18</td>\n",
       "    </tr>\n",
       "    <tr>\n",
       "      <th>39</th>\n",
       "      <td>Marcus Thuram</td>\n",
       "      <td>Inter</td>\n",
       "      <td>Serie A</td>\n",
       "      <td>FW</td>\n",
       "      <td>27</td>\n",
       "      <td>30</td>\n",
       "      <td>2176</td>\n",
       "      <td>14</td>\n",
       "      <td>4</td>\n",
       "      <td>9.8</td>\n",
       "      <td>...</td>\n",
       "      <td>15</td>\n",
       "      <td>1</td>\n",
       "      <td>0</td>\n",
       "      <td>18</td>\n",
       "      <td>0.58</td>\n",
       "      <td>24.2</td>\n",
       "      <td>10</td>\n",
       "      <td>3</td>\n",
       "      <td>64</td>\n",
       "      <td>27</td>\n",
       "    </tr>\n",
       "  </tbody>\n",
       "</table>\n",
       "<p>10 rows × 31 columns</p>\n",
       "</div>"
      ],
      "text/plain": [
       "              Jugador         Equipo     Competición Posición  Edad  Partidos  \\\n",
       "33    Ousmane Dembele      Paris S-G         Ligue 1       FW    27        26   \n",
       "97     James Maddison      Tottenham  Premier League       MF    28        28   \n",
       "6       Florian Wirtz     Leverkusen      Bundesliga    MF,FW    21        25   \n",
       "16     Alexander Isak  Newcastle Utd  Premier League       FW    25        26   \n",
       "191      Rayan Cherki           Lyon         Ligue 1    FW,MF    21        24   \n",
       "74      Matheus Cunha         Wolves  Premier League    MF,FW    25        26   \n",
       "60    Ademola Lookman       Atalanta         Serie A    FW,MF    27        24   \n",
       "1179    Alassane Plea       Gladbach      Bundesliga    MF,FW    32        24   \n",
       "5         Bukayo Saka        Arsenal  Premier League    FW,MF    23        18   \n",
       "39      Marcus Thuram          Inter         Serie A       FW    27        30   \n",
       "\n",
       "      Minutos  Goles  Asistencias    xG  ...  Bloqueos  TarjetasAmarillas  \\\n",
       "33       1528     21            5  14.9  ...         3                  1   \n",
       "97       1611      9            5   5.8  ...        13                  6   \n",
       "6        1876      9           10   8.5  ...        23                  1   \n",
       "16       2117     20            5  16.1  ...        17                  1   \n",
       "191      1578      7            9   4.5  ...         6                  3   \n",
       "74       2143     13            4   6.7  ...        17                  3   \n",
       "60       1703     13            5   9.2  ...        16                  4   \n",
       "1179     1481     10            4   6.6  ...         8                  3   \n",
       "5        1338      6           10   5.2  ...        16                  3   \n",
       "39       2176     14            4   9.8  ...        15                  1   \n",
       "\n",
       "      TarjetasRojas  Goles_Asistencias  xG_xAG  Equiv_90min  EntradasGanadas  \\\n",
       "33                0                 26    1.29         17.0                5   \n",
       "97                0                 14    0.52         17.9               16   \n",
       "6                 0                 19    0.69         20.8               18   \n",
       "16                0                 25    0.85         23.5                5   \n",
       "191               0                 16    0.73         17.5               11   \n",
       "74                0                 17    0.56         23.8               18   \n",
       "60                0                 18    0.76         18.9               13   \n",
       "1179              0                 14    0.57         16.5                3   \n",
       "5                 0                 16    0.75         14.9               13   \n",
       "39                0                 18    0.58         24.2               10   \n",
       "\n",
       "      AsistDesdeCruzados  Tiros  TirosAlArco  \n",
       "33                     3     82           43  \n",
       "97                     5     38           17  \n",
       "6                      6     62           28  \n",
       "16                     0     70           32  \n",
       "191                    3     33           13  \n",
       "74                     9     86           35  \n",
       "60                     8     67           28  \n",
       "1179                   6     35           10  \n",
       "5                     10     48           18  \n",
       "39                     3     64           27  \n",
       "\n",
       "[10 rows x 31 columns]"
      ]
     },
     "execution_count": 14,
     "metadata": {},
     "output_type": "execute_result"
    }
   ],
   "source": [
    "jugadores_parecidos(\"Lionel Messi\", 10)"
   ]
  },
  {
   "cell_type": "code",
   "execution_count": 15,
   "id": "d655d0cd",
   "metadata": {},
   "outputs": [],
   "source": [
    "#  Separo las estadísticas según cuales son más relevantes para cada posición\n",
    "\n",
    "stats_delanteros = [\n",
    "    'stats_Gls', 'stats_Ast', 'stats_G+A', 'stats_xG', 'stats_npxG', 'stats_xAG',\n",
    "    'stats_npxG+xAG', 'stats_PrgR', 'shooting_Gls', 'shooting_Sh', 'shooting_SoT',\n",
    "    'shooting_SoT%', 'shooting_G/Sh', 'shooting_G/SoT', 'shooting_xG',\n",
    "    'shooting_npxG', 'passing_KP', 'passing_PPA', 'passing_xAG', 'gca_SCA90',\n",
    "    'gca_GCA90', 'possession_Touches', 'possession_Att Pen', 'possession_PrgC',\n",
    "    'possession_PrgR', 'market_value_in_eur'\n",
    "]\n",
    "stats_mediocampistas = [\n",
    "    'stats_Ast', 'stats_xAG', 'stats_npxG+xAG', 'stats_PrgP', 'stats_PrgR',\n",
    "    'passing_Cmp%', 'passing_KP', 'passing_PPA', 'passing_xA', 'passing_TotDist',\n",
    "    'passing_PrgDist', 'passing_xAG', 'gca_SCA', 'gca_SCA90', 'gca_GCA90',\n",
    "    'possession_Touches', 'possession_PrgC', 'possession_PrgR', 'defense_Tkl',\n",
    "    'defense_Int', 'misc_Recov', 'market_value_in_eur'\n",
    "]\n",
    "stats_defensores = [\n",
    "    'defense_Tkl', 'defense_TklW', 'defense_Int', 'defense_Clr', 'defense_Blocks',\n",
    "    'defense_Err', 'defense_Tkl+Int', 'defense_Lost', 'possession_Touches',\n",
    "    'possession_Def 3rd', 'possession_Def Pen', 'possession_PrgC',\n",
    "    'misc_CrdY', 'misc_CrdR', 'misc_OG', 'passing_Cmp%', 'passing_PrgDist',\n",
    "    'market_value_in_eur'\n",
    "]\n",
    "stats_arqueros = [\n",
    "    'stats_MP', 'stats_Starts', 'playingtime_Min%', 'playingtime_onGA',\n",
    "    'playingtime_onxGA', 'playingtime_xG+/-', 'playingtime_xG+/-90',\n",
    "    'misc_CrdY', 'misc_CrdR', 'market_value_in_eur'\n",
    "]"
   ]
  },
  {
   "cell_type": "code",
   "execution_count": 16,
   "id": "662644f2",
   "metadata": {},
   "outputs": [],
   "source": [
    "df = pd.read_csv(\"datasets_procesados/df.csv\")\n",
    "\n",
    "# Asignamos una única posición por jugador, en caso de que haya más de una\n",
    "df[\"stats_Pos\"] = df[\"stats_Pos\"].apply(lambda x : x[:2])\n",
    "\n",
    "# Separamos el dataset en 4, uno por cada posición\n",
    "df_delanteros = df[df[\"stats_Pos\"] == \"FW\"]\n",
    "df_mediocampistas = df[df[\"stats_Pos\"] == \"MF\"]\n",
    "df_defensores = df[df[\"stats_Pos\"] == \"DF\"]\n",
    "df_arqueros = df[df[\"stats_Pos\"] == \"GK\"]"
   ]
  },
  {
   "cell_type": "code",
   "execution_count": 17,
   "id": "d11748ec",
   "metadata": {},
   "outputs": [],
   "source": [
    "def mejores_jugadores(posicion, cantidad):\n",
    "\n",
    "    #Obs: comparar si realmente vale la pena seleccionar las stats más importantes para cada posición o no\n",
    "    # Sería cambiando las stats asignadas, por las stats que estan comentadas, y comparar el resultado\n",
    "\n",
    "    # Decidimos con qué dataframe trabajar según la posición\n",
    "    if posicion == \"delanteros\":\n",
    "        df_pos = df_delanteros\n",
    "        #stats = stats_delanteros\n",
    "        stats = df_num.columns\n",
    "    elif posicion == \"mediocampistas\":\n",
    "        df_pos = df_mediocampistas\n",
    "        #stats = stats_mediocampistas\n",
    "        stats = df_num.columns\n",
    "    elif posicion == \"defensores\":\n",
    "        df_pos = df_defensores\n",
    "        #stats = stats_defensores\n",
    "        stats = df_num.columns\n",
    "    elif posicion == \"arqueros\":\n",
    "        df_pos = df_arqueros\n",
    "        #stats = stats_arqueros\n",
    "        stats = df_num.columns\n",
    "\n",
    "    # Aplicamos Z-Score a las columnas\n",
    "    df_pos_zcores = df_pos[stats].apply(zscore)\n",
    "\n",
    "    # Calculamos el puntaje total sumando los Z-Scores de cada estadística, ya que todas las columnas son positivas\n",
    "    df_pos_zcores[\"score\"] = df_pos_zcores.sum(axis=1)\n",
    "\n",
    "    # Ordenamos el dataframe por el puntaje total\n",
    "    df_pos_zcores = df_pos_zcores.sort_values(by=\"score\", ascending=False)\n",
    "\n",
    "    # Ordenamos el dataframe original por el puntaje total\n",
    "    mejores_jugadores = df_pos_zcores.head(cantidad)\n",
    "\n",
    "    # Devolvemos el dataframe original con los mejores jugadores\n",
    "    return df.iloc[mejores_jugadores.index]"
   ]
  },
  {
   "cell_type": "code",
   "execution_count": 18,
   "id": "91110432",
   "metadata": {},
   "outputs": [
    {
     "data": {
      "application/vnd.microsoft.datawrangler.viewer.v0+json": {
       "columns": [
        {
         "name": "index",
         "rawType": "int64",
         "type": "integer"
        },
        {
         "name": "Player",
         "rawType": "object",
         "type": "string"
        },
        {
         "name": "stats_Nation",
         "rawType": "object",
         "type": "string"
        },
        {
         "name": "stats_Pos",
         "rawType": "object",
         "type": "string"
        },
        {
         "name": "stats_Squad",
         "rawType": "object",
         "type": "string"
        },
        {
         "name": "stats_Comp",
         "rawType": "object",
         "type": "string"
        },
        {
         "name": "stats_Age",
         "rawType": "int64",
         "type": "integer"
        },
        {
         "name": "stats_Born",
         "rawType": "int64",
         "type": "integer"
        },
        {
         "name": "stats_MP",
         "rawType": "int64",
         "type": "integer"
        },
        {
         "name": "stats_Starts",
         "rawType": "int64",
         "type": "integer"
        },
        {
         "name": "stats_Min",
         "rawType": "object",
         "type": "string"
        },
        {
         "name": "stats_90s",
         "rawType": "float64",
         "type": "float"
        },
        {
         "name": "stats_Gls",
         "rawType": "int64",
         "type": "integer"
        },
        {
         "name": "stats_Ast",
         "rawType": "int64",
         "type": "integer"
        },
        {
         "name": "stats_G+A",
         "rawType": "int64",
         "type": "integer"
        },
        {
         "name": "stats_G-PK",
         "rawType": "int64",
         "type": "integer"
        },
        {
         "name": "stats_PK",
         "rawType": "int64",
         "type": "integer"
        },
        {
         "name": "stats_PKatt",
         "rawType": "int64",
         "type": "integer"
        },
        {
         "name": "stats_CrdY",
         "rawType": "int64",
         "type": "integer"
        },
        {
         "name": "stats_CrdR",
         "rawType": "int64",
         "type": "integer"
        },
        {
         "name": "stats_xG",
         "rawType": "float64",
         "type": "float"
        },
        {
         "name": "stats_npxG",
         "rawType": "float64",
         "type": "float"
        },
        {
         "name": "stats_xAG",
         "rawType": "float64",
         "type": "float"
        },
        {
         "name": "stats_npxG+xAG",
         "rawType": "float64",
         "type": "float"
        },
        {
         "name": "stats_PrgC",
         "rawType": "int64",
         "type": "integer"
        },
        {
         "name": "stats_PrgP",
         "rawType": "int64",
         "type": "integer"
        },
        {
         "name": "stats_PrgR",
         "rawType": "int64",
         "type": "integer"
        },
        {
         "name": "stats_Gls.1",
         "rawType": "float64",
         "type": "float"
        },
        {
         "name": "stats_Ast.1",
         "rawType": "float64",
         "type": "float"
        },
        {
         "name": "stats_G+A.1",
         "rawType": "float64",
         "type": "float"
        },
        {
         "name": "stats_G-PK.1",
         "rawType": "float64",
         "type": "float"
        },
        {
         "name": "stats_G+A-PK",
         "rawType": "float64",
         "type": "float"
        },
        {
         "name": "stats_xG.1",
         "rawType": "float64",
         "type": "float"
        },
        {
         "name": "stats_xAG.1",
         "rawType": "float64",
         "type": "float"
        },
        {
         "name": "stats_xG+xAG",
         "rawType": "float64",
         "type": "float"
        },
        {
         "name": "stats_npxG.1",
         "rawType": "float64",
         "type": "float"
        },
        {
         "name": "stats_npxG+xAG.1",
         "rawType": "float64",
         "type": "float"
        },
        {
         "name": "shooting_Nation",
         "rawType": "object",
         "type": "string"
        },
        {
         "name": "shooting_Pos",
         "rawType": "object",
         "type": "string"
        },
        {
         "name": "shooting_Squad",
         "rawType": "object",
         "type": "string"
        },
        {
         "name": "shooting_Comp",
         "rawType": "object",
         "type": "string"
        },
        {
         "name": "shooting_Age",
         "rawType": "object",
         "type": "string"
        },
        {
         "name": "shooting_Born",
         "rawType": "int64",
         "type": "integer"
        },
        {
         "name": "shooting_90s",
         "rawType": "float64",
         "type": "float"
        },
        {
         "name": "shooting_Gls",
         "rawType": "int64",
         "type": "integer"
        },
        {
         "name": "shooting_Sh",
         "rawType": "int64",
         "type": "integer"
        },
        {
         "name": "shooting_SoT",
         "rawType": "int64",
         "type": "integer"
        },
        {
         "name": "shooting_SoT%",
         "rawType": "float64",
         "type": "float"
        },
        {
         "name": "shooting_Sh/90",
         "rawType": "float64",
         "type": "float"
        },
        {
         "name": "shooting_SoT/90",
         "rawType": "float64",
         "type": "float"
        },
        {
         "name": "shooting_G/Sh",
         "rawType": "float64",
         "type": "float"
        },
        {
         "name": "shooting_G/SoT",
         "rawType": "float64",
         "type": "float"
        },
        {
         "name": "shooting_Dist",
         "rawType": "float64",
         "type": "float"
        },
        {
         "name": "shooting_FK",
         "rawType": "int64",
         "type": "integer"
        },
        {
         "name": "shooting_PK",
         "rawType": "int64",
         "type": "integer"
        },
        {
         "name": "shooting_PKatt",
         "rawType": "int64",
         "type": "integer"
        },
        {
         "name": "shooting_xG",
         "rawType": "float64",
         "type": "float"
        },
        {
         "name": "shooting_npxG",
         "rawType": "float64",
         "type": "float"
        },
        {
         "name": "shooting_npxG/Sh",
         "rawType": "float64",
         "type": "float"
        },
        {
         "name": "shooting_G-xG",
         "rawType": "float64",
         "type": "float"
        },
        {
         "name": "shooting_np:G-xG",
         "rawType": "float64",
         "type": "float"
        },
        {
         "name": "passing_Nation",
         "rawType": "object",
         "type": "string"
        },
        {
         "name": "passing_Pos",
         "rawType": "object",
         "type": "string"
        },
        {
         "name": "passing_Squad",
         "rawType": "object",
         "type": "string"
        },
        {
         "name": "passing_Comp",
         "rawType": "object",
         "type": "string"
        },
        {
         "name": "passing_Age",
         "rawType": "object",
         "type": "string"
        },
        {
         "name": "passing_Born",
         "rawType": "int64",
         "type": "integer"
        },
        {
         "name": "passing_90s",
         "rawType": "float64",
         "type": "float"
        },
        {
         "name": "passing_Cmp",
         "rawType": "int64",
         "type": "integer"
        },
        {
         "name": "passing_Att",
         "rawType": "int64",
         "type": "integer"
        },
        {
         "name": "passing_Cmp%",
         "rawType": "float64",
         "type": "float"
        },
        {
         "name": "passing_TotDist",
         "rawType": "int64",
         "type": "integer"
        },
        {
         "name": "passing_PrgDist",
         "rawType": "int64",
         "type": "integer"
        },
        {
         "name": "passing_Cmp.1",
         "rawType": "int64",
         "type": "integer"
        },
        {
         "name": "passing_Att.1",
         "rawType": "int64",
         "type": "integer"
        },
        {
         "name": "passing_Cmp%.1",
         "rawType": "float64",
         "type": "float"
        },
        {
         "name": "passing_Cmp.2",
         "rawType": "int64",
         "type": "integer"
        },
        {
         "name": "passing_Att.2",
         "rawType": "int64",
         "type": "integer"
        },
        {
         "name": "passing_Cmp%.2",
         "rawType": "float64",
         "type": "float"
        },
        {
         "name": "passing_Cmp.3",
         "rawType": "int64",
         "type": "integer"
        },
        {
         "name": "passing_Att.3",
         "rawType": "int64",
         "type": "integer"
        },
        {
         "name": "passing_Cmp%.3",
         "rawType": "float64",
         "type": "float"
        },
        {
         "name": "passing_Ast",
         "rawType": "int64",
         "type": "integer"
        },
        {
         "name": "passing_xAG",
         "rawType": "float64",
         "type": "float"
        },
        {
         "name": "passing_xA",
         "rawType": "float64",
         "type": "float"
        },
        {
         "name": "passing_A-xAG",
         "rawType": "float64",
         "type": "float"
        },
        {
         "name": "passing_KP",
         "rawType": "int64",
         "type": "integer"
        },
        {
         "name": "passing_1/3",
         "rawType": "int64",
         "type": "integer"
        },
        {
         "name": "passing_PPA",
         "rawType": "int64",
         "type": "integer"
        },
        {
         "name": "passing_CrsPA",
         "rawType": "int64",
         "type": "integer"
        },
        {
         "name": "passing_PrgP",
         "rawType": "int64",
         "type": "integer"
        },
        {
         "name": "passing_types_Nation",
         "rawType": "object",
         "type": "string"
        },
        {
         "name": "passing_types_Pos",
         "rawType": "object",
         "type": "string"
        },
        {
         "name": "passing_types_Squad",
         "rawType": "object",
         "type": "string"
        },
        {
         "name": "passing_types_Comp",
         "rawType": "object",
         "type": "string"
        },
        {
         "name": "passing_types_Age",
         "rawType": "object",
         "type": "string"
        },
        {
         "name": "passing_types_Born",
         "rawType": "int64",
         "type": "integer"
        },
        {
         "name": "passing_types_90s",
         "rawType": "float64",
         "type": "float"
        },
        {
         "name": "passing_types_Att",
         "rawType": "int64",
         "type": "integer"
        },
        {
         "name": "passing_types_Live",
         "rawType": "int64",
         "type": "integer"
        },
        {
         "name": "passing_types_Dead",
         "rawType": "int64",
         "type": "integer"
        },
        {
         "name": "passing_types_FK",
         "rawType": "int64",
         "type": "integer"
        },
        {
         "name": "passing_types_TB",
         "rawType": "int64",
         "type": "integer"
        },
        {
         "name": "passing_types_Sw",
         "rawType": "int64",
         "type": "integer"
        },
        {
         "name": "passing_types_Crs",
         "rawType": "int64",
         "type": "integer"
        },
        {
         "name": "passing_types_TI",
         "rawType": "int64",
         "type": "integer"
        },
        {
         "name": "passing_types_CK",
         "rawType": "int64",
         "type": "integer"
        },
        {
         "name": "passing_types_In",
         "rawType": "int64",
         "type": "integer"
        },
        {
         "name": "passing_types_Out",
         "rawType": "int64",
         "type": "integer"
        },
        {
         "name": "passing_types_Str",
         "rawType": "int64",
         "type": "integer"
        },
        {
         "name": "passing_types_Cmp",
         "rawType": "int64",
         "type": "integer"
        },
        {
         "name": "passing_types_Off",
         "rawType": "int64",
         "type": "integer"
        },
        {
         "name": "passing_types_Blocks",
         "rawType": "int64",
         "type": "integer"
        },
        {
         "name": "gca_Nation",
         "rawType": "object",
         "type": "string"
        },
        {
         "name": "gca_Pos",
         "rawType": "object",
         "type": "string"
        },
        {
         "name": "gca_Squad",
         "rawType": "object",
         "type": "string"
        },
        {
         "name": "gca_Comp",
         "rawType": "object",
         "type": "string"
        },
        {
         "name": "gca_Age",
         "rawType": "object",
         "type": "string"
        },
        {
         "name": "gca_Born",
         "rawType": "int64",
         "type": "integer"
        },
        {
         "name": "gca_90s",
         "rawType": "float64",
         "type": "float"
        },
        {
         "name": "gca_SCA",
         "rawType": "int64",
         "type": "integer"
        },
        {
         "name": "gca_SCA90",
         "rawType": "float64",
         "type": "float"
        },
        {
         "name": "gca_PassLive",
         "rawType": "int64",
         "type": "integer"
        },
        {
         "name": "gca_PassDead",
         "rawType": "int64",
         "type": "integer"
        },
        {
         "name": "gca_TO",
         "rawType": "int64",
         "type": "integer"
        },
        {
         "name": "gca_Sh",
         "rawType": "int64",
         "type": "integer"
        },
        {
         "name": "gca_Fld",
         "rawType": "int64",
         "type": "integer"
        },
        {
         "name": "gca_Def",
         "rawType": "int64",
         "type": "integer"
        },
        {
         "name": "gca_GCA",
         "rawType": "int64",
         "type": "integer"
        },
        {
         "name": "gca_GCA90",
         "rawType": "float64",
         "type": "float"
        },
        {
         "name": "gca_PassLive.1",
         "rawType": "int64",
         "type": "integer"
        },
        {
         "name": "gca_PassDead.1",
         "rawType": "int64",
         "type": "integer"
        },
        {
         "name": "gca_TO.1",
         "rawType": "int64",
         "type": "integer"
        },
        {
         "name": "gca_Sh.1",
         "rawType": "int64",
         "type": "integer"
        },
        {
         "name": "gca_Fld.1",
         "rawType": "int64",
         "type": "integer"
        },
        {
         "name": "gca_Def.1",
         "rawType": "int64",
         "type": "integer"
        },
        {
         "name": "defense_Nation",
         "rawType": "object",
         "type": "string"
        },
        {
         "name": "defense_Pos",
         "rawType": "object",
         "type": "string"
        },
        {
         "name": "defense_Squad",
         "rawType": "object",
         "type": "string"
        },
        {
         "name": "defense_Comp",
         "rawType": "object",
         "type": "string"
        },
        {
         "name": "defense_Age",
         "rawType": "object",
         "type": "string"
        },
        {
         "name": "defense_Born",
         "rawType": "int64",
         "type": "integer"
        },
        {
         "name": "defense_90s",
         "rawType": "float64",
         "type": "float"
        },
        {
         "name": "defense_Tkl",
         "rawType": "int64",
         "type": "integer"
        },
        {
         "name": "defense_TklW",
         "rawType": "int64",
         "type": "integer"
        },
        {
         "name": "defense_Def 3rd",
         "rawType": "int64",
         "type": "integer"
        },
        {
         "name": "defense_Mid 3rd",
         "rawType": "int64",
         "type": "integer"
        },
        {
         "name": "defense_Att 3rd",
         "rawType": "int64",
         "type": "integer"
        },
        {
         "name": "defense_Tkl.1",
         "rawType": "int64",
         "type": "integer"
        },
        {
         "name": "defense_Att",
         "rawType": "int64",
         "type": "integer"
        },
        {
         "name": "defense_Tkl%",
         "rawType": "float64",
         "type": "float"
        },
        {
         "name": "defense_Lost",
         "rawType": "int64",
         "type": "integer"
        },
        {
         "name": "defense_Blocks",
         "rawType": "int64",
         "type": "integer"
        },
        {
         "name": "defense_Sh",
         "rawType": "int64",
         "type": "integer"
        },
        {
         "name": "defense_Pass",
         "rawType": "int64",
         "type": "integer"
        },
        {
         "name": "defense_Int",
         "rawType": "int64",
         "type": "integer"
        },
        {
         "name": "defense_Tkl+Int",
         "rawType": "int64",
         "type": "integer"
        },
        {
         "name": "defense_Clr",
         "rawType": "int64",
         "type": "integer"
        },
        {
         "name": "defense_Err",
         "rawType": "int64",
         "type": "integer"
        },
        {
         "name": "possession_Nation",
         "rawType": "object",
         "type": "string"
        },
        {
         "name": "possession_Pos",
         "rawType": "object",
         "type": "string"
        },
        {
         "name": "possession_Squad",
         "rawType": "object",
         "type": "string"
        },
        {
         "name": "possession_Comp",
         "rawType": "object",
         "type": "string"
        },
        {
         "name": "possession_Age",
         "rawType": "object",
         "type": "string"
        },
        {
         "name": "possession_Born",
         "rawType": "int64",
         "type": "integer"
        },
        {
         "name": "possession_90s",
         "rawType": "float64",
         "type": "float"
        },
        {
         "name": "possession_Touches",
         "rawType": "int64",
         "type": "integer"
        },
        {
         "name": "possession_Def Pen",
         "rawType": "int64",
         "type": "integer"
        },
        {
         "name": "possession_Def 3rd",
         "rawType": "int64",
         "type": "integer"
        },
        {
         "name": "possession_Mid 3rd",
         "rawType": "int64",
         "type": "integer"
        },
        {
         "name": "possession_Att 3rd",
         "rawType": "int64",
         "type": "integer"
        },
        {
         "name": "possession_Att Pen",
         "rawType": "int64",
         "type": "integer"
        },
        {
         "name": "possession_Live",
         "rawType": "int64",
         "type": "integer"
        },
        {
         "name": "possession_Att",
         "rawType": "int64",
         "type": "integer"
        },
        {
         "name": "possession_Succ",
         "rawType": "int64",
         "type": "integer"
        },
        {
         "name": "possession_Succ%",
         "rawType": "float64",
         "type": "float"
        },
        {
         "name": "possession_Tkld",
         "rawType": "int64",
         "type": "integer"
        },
        {
         "name": "possession_Tkld%",
         "rawType": "float64",
         "type": "float"
        },
        {
         "name": "possession_Carries",
         "rawType": "int64",
         "type": "integer"
        },
        {
         "name": "possession_TotDist",
         "rawType": "int64",
         "type": "integer"
        },
        {
         "name": "possession_PrgDist",
         "rawType": "int64",
         "type": "integer"
        },
        {
         "name": "possession_PrgC",
         "rawType": "int64",
         "type": "integer"
        },
        {
         "name": "possession_1/3",
         "rawType": "int64",
         "type": "integer"
        },
        {
         "name": "possession_CPA",
         "rawType": "int64",
         "type": "integer"
        },
        {
         "name": "possession_Mis",
         "rawType": "int64",
         "type": "integer"
        },
        {
         "name": "possession_Dis",
         "rawType": "int64",
         "type": "integer"
        },
        {
         "name": "possession_Rec",
         "rawType": "int64",
         "type": "integer"
        },
        {
         "name": "possession_PrgR",
         "rawType": "int64",
         "type": "integer"
        },
        {
         "name": "playingtime_Nation",
         "rawType": "object",
         "type": "string"
        },
        {
         "name": "playingtime_Pos",
         "rawType": "object",
         "type": "string"
        },
        {
         "name": "playingtime_Squad",
         "rawType": "object",
         "type": "string"
        },
        {
         "name": "playingtime_Comp",
         "rawType": "object",
         "type": "string"
        },
        {
         "name": "playingtime_Age",
         "rawType": "object",
         "type": "string"
        },
        {
         "name": "playingtime_Born",
         "rawType": "int64",
         "type": "integer"
        },
        {
         "name": "playingtime_MP",
         "rawType": "int64",
         "type": "integer"
        },
        {
         "name": "playingtime_Min",
         "rawType": "object",
         "type": "string"
        },
        {
         "name": "playingtime_Mn/MP",
         "rawType": "int64",
         "type": "integer"
        },
        {
         "name": "playingtime_Min%",
         "rawType": "float64",
         "type": "float"
        },
        {
         "name": "playingtime_90s",
         "rawType": "float64",
         "type": "float"
        },
        {
         "name": "playingtime_Starts",
         "rawType": "int64",
         "type": "integer"
        },
        {
         "name": "playingtime_Mn/Start",
         "rawType": "int64",
         "type": "integer"
        },
        {
         "name": "playingtime_Compl",
         "rawType": "int64",
         "type": "integer"
        },
        {
         "name": "playingtime_Subs",
         "rawType": "int64",
         "type": "integer"
        },
        {
         "name": "playingtime_Mn/Sub",
         "rawType": "int64",
         "type": "integer"
        },
        {
         "name": "playingtime_unSub",
         "rawType": "int64",
         "type": "integer"
        },
        {
         "name": "playingtime_PPM",
         "rawType": "float64",
         "type": "float"
        },
        {
         "name": "playingtime_onG",
         "rawType": "int64",
         "type": "integer"
        },
        {
         "name": "playingtime_onGA",
         "rawType": "int64",
         "type": "integer"
        },
        {
         "name": "playingtime_+/-",
         "rawType": "int64",
         "type": "integer"
        },
        {
         "name": "playingtime_+/-90",
         "rawType": "float64",
         "type": "float"
        },
        {
         "name": "playingtime_On-Off",
         "rawType": "float64",
         "type": "float"
        },
        {
         "name": "playingtime_onxG",
         "rawType": "float64",
         "type": "float"
        },
        {
         "name": "playingtime_onxGA",
         "rawType": "float64",
         "type": "float"
        },
        {
         "name": "playingtime_xG+/-",
         "rawType": "float64",
         "type": "float"
        },
        {
         "name": "playingtime_xG+/-90",
         "rawType": "float64",
         "type": "float"
        },
        {
         "name": "playingtime_On-Off.1",
         "rawType": "float64",
         "type": "float"
        },
        {
         "name": "misc_Nation",
         "rawType": "object",
         "type": "string"
        },
        {
         "name": "misc_Pos",
         "rawType": "object",
         "type": "string"
        },
        {
         "name": "misc_Squad",
         "rawType": "object",
         "type": "string"
        },
        {
         "name": "misc_Comp",
         "rawType": "object",
         "type": "string"
        },
        {
         "name": "misc_Age",
         "rawType": "object",
         "type": "string"
        },
        {
         "name": "misc_Born",
         "rawType": "int64",
         "type": "integer"
        },
        {
         "name": "misc_90s",
         "rawType": "float64",
         "type": "float"
        },
        {
         "name": "misc_CrdY",
         "rawType": "int64",
         "type": "integer"
        },
        {
         "name": "misc_CrdR",
         "rawType": "int64",
         "type": "integer"
        },
        {
         "name": "misc_2CrdY",
         "rawType": "int64",
         "type": "integer"
        },
        {
         "name": "misc_Fls",
         "rawType": "int64",
         "type": "integer"
        },
        {
         "name": "misc_Fld",
         "rawType": "int64",
         "type": "integer"
        },
        {
         "name": "misc_Off",
         "rawType": "int64",
         "type": "integer"
        },
        {
         "name": "misc_Crs",
         "rawType": "int64",
         "type": "integer"
        },
        {
         "name": "misc_Int",
         "rawType": "int64",
         "type": "integer"
        },
        {
         "name": "misc_TklW",
         "rawType": "int64",
         "type": "integer"
        },
        {
         "name": "misc_PKwon",
         "rawType": "int64",
         "type": "integer"
        },
        {
         "name": "misc_PKcon",
         "rawType": "int64",
         "type": "integer"
        },
        {
         "name": "misc_OG",
         "rawType": "int64",
         "type": "integer"
        },
        {
         "name": "misc_Recov",
         "rawType": "int64",
         "type": "integer"
        },
        {
         "name": "misc_Won",
         "rawType": "int64",
         "type": "integer"
        },
        {
         "name": "misc_Lost",
         "rawType": "int64",
         "type": "integer"
        },
        {
         "name": "misc_Won%",
         "rawType": "float64",
         "type": "float"
        },
        {
         "name": "first_name",
         "rawType": "object",
         "type": "unknown"
        },
        {
         "name": "last_name",
         "rawType": "object",
         "type": "string"
        },
        {
         "name": "full_name",
         "rawType": "object",
         "type": "string"
        },
        {
         "name": "market_value_in_eur",
         "rawType": "float64",
         "type": "float"
        },
        {
         "name": "highest_market_value_in_eur",
         "rawType": "float64",
         "type": "float"
        }
       ],
       "conversionMethod": "pd.DataFrame",
       "ref": "42f5bb57-4809-41e0-b1d8-ac3cc0da6a57",
       "rows": [
        [
         "70",
         "Mohamed Salah",
         "eg EGY",
         "FW",
         "Liverpool",
         "Premier League",
         "32",
         "1992",
         "30",
         "30",
         "2,657",
         "29.5",
         "27",
         "17",
         "44",
         "18",
         "9",
         "9",
         "1",
         "0",
         "22.1",
         "15.0",
         "11.2",
         "26.2",
         "124",
         "114",
         "375",
         "0.91",
         "0.58",
         "1.49",
         "0.61",
         "1.19",
         "0.75",
         "0.38",
         "1.13",
         "0.51",
         "0.89",
         "eg EGY",
         "FW",
         "Liverpool",
         "Premier League",
         "32-295",
         "1992",
         "29.5",
         "27",
         "98",
         "45",
         "45.9",
         "3.32",
         "1.52",
         "0.18",
         "0.4",
         "15.1",
         "1",
         "9",
         "9",
         "22.1",
         "15.0",
         "0.15",
         "4.9",
         "3.0",
         "eg EGY",
         "FW",
         "Liverpool",
         "Premier League",
         "32-295",
         "1992",
         "29.5",
         "717",
         "1003",
         "71.5",
         "10819",
         "3035",
         "404",
         "483",
         "83.6",
         "243",
         "341",
         "71.3",
         "46",
         "77",
         "59.7",
         "17",
         "11.2",
         "7.1",
         "5.8",
         "68",
         "44",
         "72",
         "12",
         "114",
         "eg EGY",
         "FW",
         "Liverpool",
         "Premier League",
         "32-295",
         "1992",
         "29.5",
         "1003",
         "976",
         "21",
         "5",
         "13",
         "3",
         "55",
         "16",
         "0",
         "0",
         "0",
         "0",
         "717",
         "6",
         "45",
         "eg EGY",
         "FW",
         "Liverpool",
         "Premier League",
         "32-295",
         "1992",
         "29.5",
         "133",
         "4.51",
         "98",
         "1",
         "17",
         "11",
         "4",
         "2",
         "23",
         "0.78",
         "17",
         "0",
         "4",
         "2",
         "0",
         "0",
         "eg EGY",
         "FW",
         "Liverpool",
         "Premier League",
         "32-295",
         "1992",
         "29.5",
         "20",
         "11",
         "7",
         "5",
         "8",
         "7",
         "13",
         "53.8",
         "6",
         "6",
         "0",
         "6",
         "4",
         "24",
         "5",
         "0",
         "eg EGY",
         "FW",
         "Liverpool",
         "Premier League",
         "32-295",
         "1992",
         "29.5",
         "1354",
         "10",
         "78",
         "410",
         "883",
         "288",
         "1345",
         "112",
         "51",
         "45.5",
         "58",
         "51.8",
         "928",
         "5640",
         "2927",
         "124",
         "48",
         "103",
         "94",
         "56",
         "1134",
         "375",
         "eg EGY",
         "FW",
         "Liverpool",
         "Premier League",
         "32-295",
         "1992",
         "30",
         "2,657",
         "89",
         "98.4",
         "29.5",
         "30",
         "89",
         "22",
         "0",
         "0",
         "0",
         "2.43",
         "70",
         "27",
         "43",
         "1.46",
         "1.46",
         "66.2",
         "25.7",
         "40.5",
         "1.37",
         "1.72",
         "eg EGY",
         "FW",
         "Liverpool",
         "Premier League",
         "32-295",
         "1992",
         "29.5",
         "1",
         "0",
         "0",
         "20",
         "33",
         "12",
         "55",
         "4",
         "11",
         "0",
         "0",
         "0",
         "82",
         "8",
         "9",
         "47.1",
         null,
         "Mohamed Salah",
         "Mohamed Salah",
         "55000000.0",
         "150000000.0"
        ],
        [
         "24",
         "Raphinha",
         "br BRA",
         "FW",
         "Barcelona",
         "La Liga",
         "28",
         "1996",
         "28",
         "26",
         "2,252",
         "25.0",
         "13",
         "8",
         "21",
         "12",
         "1",
         "1",
         "3",
         "0",
         "14.5",
         "13.7",
         "10.6",
         "24.3",
         "74",
         "115",
         "264",
         "0.52",
         "0.32",
         "0.84",
         "0.48",
         "0.8",
         "0.58",
         "0.42",
         "1.0",
         "0.55",
         "0.97",
         "br BRA",
         "FW,MF",
         "Barcelona",
         "La Liga",
         "28-113",
         "1996",
         "25.0",
         "13",
         "86",
         "33",
         "38.4",
         "3.44",
         "1.32",
         "0.14",
         "0.36",
         "19.3",
         "14",
         "1",
         "1",
         "14.5",
         "13.7",
         "0.16",
         "-1.5",
         "-1.7",
         "br BRA",
         "FW,MF",
         "Barcelona",
         "La Liga",
         "28-113",
         "1996",
         "25.0",
         "808",
         "1166",
         "69.3",
         "13904",
         "3982",
         "409",
         "494",
         "82.8",
         "281",
         "376",
         "74.7",
         "95",
         "205",
         "46.3",
         "8",
         "10.6",
         "8.3",
         "-2.6",
         "75",
         "69",
         "54",
         "14",
         "115",
         "br BRA",
         "FW,MF",
         "Barcelona",
         "La Liga",
         "28-113",
         "1996",
         "25.0",
         "1166",
         "964",
         "190",
         "42",
         "7",
         "14",
         "174",
         "15",
         "116",
         "33",
         "37",
         "0",
         "808",
         "12",
         "31",
         "br BRA",
         "FW,MF",
         "Barcelona",
         "La Liga",
         "28-113",
         "1996",
         "25.0",
         "133",
         "5.32",
         "81",
         "26",
         "7",
         "11",
         "7",
         "1",
         "21",
         "0.84",
         "10",
         "2",
         "4",
         "2",
         "2",
         "1",
         "br BRA",
         "FW,MF",
         "Barcelona",
         "La Liga",
         "28-113",
         "1996",
         "25.0",
         "32",
         "20",
         "6",
         "16",
         "10",
         "18",
         "33",
         "54.5",
         "15",
         "22",
         "2",
         "20",
         "7",
         "39",
         "23",
         "0",
         "br BRA",
         "FW,MF",
         "Barcelona",
         "La Liga",
         "28-113",
         "1996",
         "25.0",
         "1461",
         "28",
         "92",
         "519",
         "872",
         "147",
         "1460",
         "86",
         "42",
         "48.8",
         "37",
         "43.0",
         "783",
         "4372",
         "2193",
         "74",
         "48",
         "39",
         "43",
         "25",
         "1012",
         "264",
         "br BRA",
         "FW,MF",
         "Barcelona",
         "La Liga",
         "28-113",
         "1996",
         "28",
         "2,252",
         "80",
         "83.4",
         "25.0",
         "26",
         "84",
         "18",
         "2",
         "33",
         "1",
         "2.18",
         "68",
         "22",
         "46",
         "1.84",
         "0.23",
         "60.2",
         "26.0",
         "34.2",
         "1.37",
         "-0.01",
         "br BRA",
         "FW,MF",
         "Barcelona",
         "La Liga",
         "28-113",
         "1996",
         "25.0",
         "3",
         "0",
         "0",
         "7",
         "29",
         "7",
         "174",
         "7",
         "20",
         "2",
         "0",
         "0",
         "78",
         "6",
         "5",
         "54.5",
         null,
         "Raphinha",
         "Raphinha",
         "80000000.0",
         "80000000.0"
        ],
        [
         "2",
         "Lamine Yamal",
         "es ESP",
         "FW",
         "Barcelona",
         "La Liga",
         "17",
         "2007",
         "27",
         "25",
         "2,236",
         "24.8",
         "6",
         "11",
         "17",
         "6",
         "0",
         "0",
         "3",
         "0",
         "7.4",
         "7.4",
         "11.2",
         "18.6",
         "148",
         "126",
         "354",
         "0.24",
         "0.44",
         "0.68",
         "0.24",
         "0.68",
         "0.3",
         "0.45",
         "0.75",
         "0.3",
         "0.75",
         "es ESP",
         "FW",
         "Barcelona",
         "La Liga",
         "17-267",
         "2007",
         "24.8",
         "6",
         "101",
         "29",
         "28.7",
         "4.07",
         "1.17",
         "0.06",
         "0.21",
         "19.0",
         "0",
         "0",
         "0",
         "7.4",
         "7.4",
         "0.07",
         "-1.4",
         "-1.4",
         "es ESP",
         "FW",
         "Barcelona",
         "La Liga",
         "17-267",
         "2007",
         "24.8",
         "834",
         "1127",
         "74.0",
         "11775",
         "3430",
         "520",
         "614",
         "84.7",
         "242",
         "333",
         "72.7",
         "39",
         "81",
         "48.1",
         "11",
         "11.2",
         "8.8",
         "-0.2",
         "51",
         "60",
         "75",
         "12",
         "126",
         "es ESP",
         "FW",
         "Barcelona",
         "La Liga",
         "17-267",
         "2007",
         "24.8",
         "1127",
         "1087",
         "32",
         "4",
         "27",
         "3",
         "73",
         "15",
         "13",
         "3",
         "0",
         "0",
         "834",
         "8",
         "45",
         "es ESP",
         "FW",
         "Barcelona",
         "La Liga",
         "17-267",
         "2007",
         "24.8",
         "138",
         "5.55",
         "86",
         "1",
         "29",
         "11",
         "9",
         "2",
         "25",
         "1.01",
         "17",
         "0",
         "4",
         "2",
         "2",
         "0",
         "es ESP",
         "FW",
         "Barcelona",
         "La Liga",
         "17-267",
         "2007",
         "24.8",
         "35",
         "24",
         "5",
         "15",
         "15",
         "15",
         "28",
         "53.6",
         "13",
         "12",
         "0",
         "12",
         "13",
         "48",
         "3",
         "0",
         "es ESP",
         "FW",
         "Barcelona",
         "La Liga",
         "17-267",
         "2007",
         "24.8",
         "1537",
         "8",
         "79",
         "483",
         "1008",
         "183",
         "1537",
         "238",
         "121",
         "50.8",
         "98",
         "41.2",
         "1086",
         "7684",
         "4131",
         "148",
         "73",
         "79",
         "79",
         "40",
         "1261",
         "354",
         "es ESP",
         "FW",
         "Barcelona",
         "La Liga",
         "17-267",
         "2007",
         "27",
         "2,236",
         "83",
         "82.8",
         "24.8",
         "25",
         "86",
         "15",
         "2",
         "39",
         "0",
         "2.44",
         "74",
         "21",
         "53",
         "2.13",
         "1.94",
         "62.7",
         "22.1",
         "40.6",
         "1.63",
         "1.53",
         "es ESP",
         "FW",
         "Barcelona",
         "La Liga",
         "17-267",
         "2007",
         "24.8",
         "3",
         "0",
         "0",
         "25",
         "50",
         "11",
         "73",
         "13",
         "24",
         "2",
         "0",
         "0",
         "96",
         "1",
         "1",
         "50.0",
         null,
         "Lamine Yamal",
         "Lamine Yamal",
         "180000000.0",
         "180000000.0"
        ]
       ],
       "shape": {
        "columns": 243,
        "rows": 3
       }
      },
      "text/html": [
       "<div>\n",
       "<style scoped>\n",
       "    .dataframe tbody tr th:only-of-type {\n",
       "        vertical-align: middle;\n",
       "    }\n",
       "\n",
       "    .dataframe tbody tr th {\n",
       "        vertical-align: top;\n",
       "    }\n",
       "\n",
       "    .dataframe thead th {\n",
       "        text-align: right;\n",
       "    }\n",
       "</style>\n",
       "<table border=\"1\" class=\"dataframe\">\n",
       "  <thead>\n",
       "    <tr style=\"text-align: right;\">\n",
       "      <th></th>\n",
       "      <th>Player</th>\n",
       "      <th>stats_Nation</th>\n",
       "      <th>stats_Pos</th>\n",
       "      <th>stats_Squad</th>\n",
       "      <th>stats_Comp</th>\n",
       "      <th>stats_Age</th>\n",
       "      <th>stats_Born</th>\n",
       "      <th>stats_MP</th>\n",
       "      <th>stats_Starts</th>\n",
       "      <th>stats_Min</th>\n",
       "      <th>...</th>\n",
       "      <th>misc_OG</th>\n",
       "      <th>misc_Recov</th>\n",
       "      <th>misc_Won</th>\n",
       "      <th>misc_Lost</th>\n",
       "      <th>misc_Won%</th>\n",
       "      <th>first_name</th>\n",
       "      <th>last_name</th>\n",
       "      <th>full_name</th>\n",
       "      <th>market_value_in_eur</th>\n",
       "      <th>highest_market_value_in_eur</th>\n",
       "    </tr>\n",
       "  </thead>\n",
       "  <tbody>\n",
       "    <tr>\n",
       "      <th>70</th>\n",
       "      <td>Mohamed Salah</td>\n",
       "      <td>eg EGY</td>\n",
       "      <td>FW</td>\n",
       "      <td>Liverpool</td>\n",
       "      <td>Premier League</td>\n",
       "      <td>32</td>\n",
       "      <td>1992</td>\n",
       "      <td>30</td>\n",
       "      <td>30</td>\n",
       "      <td>2,657</td>\n",
       "      <td>...</td>\n",
       "      <td>0</td>\n",
       "      <td>82</td>\n",
       "      <td>8</td>\n",
       "      <td>9</td>\n",
       "      <td>47.1</td>\n",
       "      <td>NaN</td>\n",
       "      <td>Mohamed Salah</td>\n",
       "      <td>Mohamed Salah</td>\n",
       "      <td>55000000.0</td>\n",
       "      <td>150000000.0</td>\n",
       "    </tr>\n",
       "    <tr>\n",
       "      <th>24</th>\n",
       "      <td>Raphinha</td>\n",
       "      <td>br BRA</td>\n",
       "      <td>FW</td>\n",
       "      <td>Barcelona</td>\n",
       "      <td>La Liga</td>\n",
       "      <td>28</td>\n",
       "      <td>1996</td>\n",
       "      <td>28</td>\n",
       "      <td>26</td>\n",
       "      <td>2,252</td>\n",
       "      <td>...</td>\n",
       "      <td>0</td>\n",
       "      <td>78</td>\n",
       "      <td>6</td>\n",
       "      <td>5</td>\n",
       "      <td>54.5</td>\n",
       "      <td>NaN</td>\n",
       "      <td>Raphinha</td>\n",
       "      <td>Raphinha</td>\n",
       "      <td>80000000.0</td>\n",
       "      <td>80000000.0</td>\n",
       "    </tr>\n",
       "    <tr>\n",
       "      <th>2</th>\n",
       "      <td>Lamine Yamal</td>\n",
       "      <td>es ESP</td>\n",
       "      <td>FW</td>\n",
       "      <td>Barcelona</td>\n",
       "      <td>La Liga</td>\n",
       "      <td>17</td>\n",
       "      <td>2007</td>\n",
       "      <td>27</td>\n",
       "      <td>25</td>\n",
       "      <td>2,236</td>\n",
       "      <td>...</td>\n",
       "      <td>0</td>\n",
       "      <td>96</td>\n",
       "      <td>1</td>\n",
       "      <td>1</td>\n",
       "      <td>50.0</td>\n",
       "      <td>NaN</td>\n",
       "      <td>Lamine Yamal</td>\n",
       "      <td>Lamine Yamal</td>\n",
       "      <td>180000000.0</td>\n",
       "      <td>180000000.0</td>\n",
       "    </tr>\n",
       "  </tbody>\n",
       "</table>\n",
       "<p>3 rows × 243 columns</p>\n",
       "</div>"
      ],
      "text/plain": [
       "           Player stats_Nation stats_Pos stats_Squad      stats_Comp  \\\n",
       "70  Mohamed Salah       eg EGY        FW   Liverpool  Premier League   \n",
       "24       Raphinha       br BRA        FW   Barcelona         La Liga   \n",
       "2    Lamine Yamal       es ESP        FW   Barcelona         La Liga   \n",
       "\n",
       "    stats_Age  stats_Born  stats_MP  stats_Starts stats_Min  ...  misc_OG  \\\n",
       "70         32        1992        30            30     2,657  ...        0   \n",
       "24         28        1996        28            26     2,252  ...        0   \n",
       "2          17        2007        27            25     2,236  ...        0   \n",
       "\n",
       "    misc_Recov  misc_Won  misc_Lost  misc_Won%  first_name      last_name  \\\n",
       "70          82         8          9       47.1         NaN  Mohamed Salah   \n",
       "24          78         6          5       54.5         NaN       Raphinha   \n",
       "2           96         1          1       50.0         NaN   Lamine Yamal   \n",
       "\n",
       "        full_name  market_value_in_eur  highest_market_value_in_eur  \n",
       "70  Mohamed Salah           55000000.0                  150000000.0  \n",
       "24       Raphinha           80000000.0                   80000000.0  \n",
       "2    Lamine Yamal          180000000.0                  180000000.0  \n",
       "\n",
       "[3 rows x 243 columns]"
      ]
     },
     "metadata": {},
     "output_type": "display_data"
    },
    {
     "data": {
      "application/vnd.microsoft.datawrangler.viewer.v0+json": {
       "columns": [
        {
         "name": "index",
         "rawType": "int64",
         "type": "integer"
        },
        {
         "name": "Player",
         "rawType": "object",
         "type": "string"
        },
        {
         "name": "stats_Nation",
         "rawType": "object",
         "type": "string"
        },
        {
         "name": "stats_Pos",
         "rawType": "object",
         "type": "string"
        },
        {
         "name": "stats_Squad",
         "rawType": "object",
         "type": "string"
        },
        {
         "name": "stats_Comp",
         "rawType": "object",
         "type": "string"
        },
        {
         "name": "stats_Age",
         "rawType": "int64",
         "type": "integer"
        },
        {
         "name": "stats_Born",
         "rawType": "int64",
         "type": "integer"
        },
        {
         "name": "stats_MP",
         "rawType": "int64",
         "type": "integer"
        },
        {
         "name": "stats_Starts",
         "rawType": "int64",
         "type": "integer"
        },
        {
         "name": "stats_Min",
         "rawType": "object",
         "type": "string"
        },
        {
         "name": "stats_90s",
         "rawType": "float64",
         "type": "float"
        },
        {
         "name": "stats_Gls",
         "rawType": "int64",
         "type": "integer"
        },
        {
         "name": "stats_Ast",
         "rawType": "int64",
         "type": "integer"
        },
        {
         "name": "stats_G+A",
         "rawType": "int64",
         "type": "integer"
        },
        {
         "name": "stats_G-PK",
         "rawType": "int64",
         "type": "integer"
        },
        {
         "name": "stats_PK",
         "rawType": "int64",
         "type": "integer"
        },
        {
         "name": "stats_PKatt",
         "rawType": "int64",
         "type": "integer"
        },
        {
         "name": "stats_CrdY",
         "rawType": "int64",
         "type": "integer"
        },
        {
         "name": "stats_CrdR",
         "rawType": "int64",
         "type": "integer"
        },
        {
         "name": "stats_xG",
         "rawType": "float64",
         "type": "float"
        },
        {
         "name": "stats_npxG",
         "rawType": "float64",
         "type": "float"
        },
        {
         "name": "stats_xAG",
         "rawType": "float64",
         "type": "float"
        },
        {
         "name": "stats_npxG+xAG",
         "rawType": "float64",
         "type": "float"
        },
        {
         "name": "stats_PrgC",
         "rawType": "int64",
         "type": "integer"
        },
        {
         "name": "stats_PrgP",
         "rawType": "int64",
         "type": "integer"
        },
        {
         "name": "stats_PrgR",
         "rawType": "int64",
         "type": "integer"
        },
        {
         "name": "stats_Gls.1",
         "rawType": "float64",
         "type": "float"
        },
        {
         "name": "stats_Ast.1",
         "rawType": "float64",
         "type": "float"
        },
        {
         "name": "stats_G+A.1",
         "rawType": "float64",
         "type": "float"
        },
        {
         "name": "stats_G-PK.1",
         "rawType": "float64",
         "type": "float"
        },
        {
         "name": "stats_G+A-PK",
         "rawType": "float64",
         "type": "float"
        },
        {
         "name": "stats_xG.1",
         "rawType": "float64",
         "type": "float"
        },
        {
         "name": "stats_xAG.1",
         "rawType": "float64",
         "type": "float"
        },
        {
         "name": "stats_xG+xAG",
         "rawType": "float64",
         "type": "float"
        },
        {
         "name": "stats_npxG.1",
         "rawType": "float64",
         "type": "float"
        },
        {
         "name": "stats_npxG+xAG.1",
         "rawType": "float64",
         "type": "float"
        },
        {
         "name": "shooting_Nation",
         "rawType": "object",
         "type": "string"
        },
        {
         "name": "shooting_Pos",
         "rawType": "object",
         "type": "string"
        },
        {
         "name": "shooting_Squad",
         "rawType": "object",
         "type": "string"
        },
        {
         "name": "shooting_Comp",
         "rawType": "object",
         "type": "string"
        },
        {
         "name": "shooting_Age",
         "rawType": "object",
         "type": "string"
        },
        {
         "name": "shooting_Born",
         "rawType": "int64",
         "type": "integer"
        },
        {
         "name": "shooting_90s",
         "rawType": "float64",
         "type": "float"
        },
        {
         "name": "shooting_Gls",
         "rawType": "int64",
         "type": "integer"
        },
        {
         "name": "shooting_Sh",
         "rawType": "int64",
         "type": "integer"
        },
        {
         "name": "shooting_SoT",
         "rawType": "int64",
         "type": "integer"
        },
        {
         "name": "shooting_SoT%",
         "rawType": "float64",
         "type": "float"
        },
        {
         "name": "shooting_Sh/90",
         "rawType": "float64",
         "type": "float"
        },
        {
         "name": "shooting_SoT/90",
         "rawType": "float64",
         "type": "float"
        },
        {
         "name": "shooting_G/Sh",
         "rawType": "float64",
         "type": "float"
        },
        {
         "name": "shooting_G/SoT",
         "rawType": "float64",
         "type": "float"
        },
        {
         "name": "shooting_Dist",
         "rawType": "float64",
         "type": "float"
        },
        {
         "name": "shooting_FK",
         "rawType": "int64",
         "type": "integer"
        },
        {
         "name": "shooting_PK",
         "rawType": "int64",
         "type": "integer"
        },
        {
         "name": "shooting_PKatt",
         "rawType": "int64",
         "type": "integer"
        },
        {
         "name": "shooting_xG",
         "rawType": "float64",
         "type": "float"
        },
        {
         "name": "shooting_npxG",
         "rawType": "float64",
         "type": "float"
        },
        {
         "name": "shooting_npxG/Sh",
         "rawType": "float64",
         "type": "float"
        },
        {
         "name": "shooting_G-xG",
         "rawType": "float64",
         "type": "float"
        },
        {
         "name": "shooting_np:G-xG",
         "rawType": "float64",
         "type": "float"
        },
        {
         "name": "passing_Nation",
         "rawType": "object",
         "type": "string"
        },
        {
         "name": "passing_Pos",
         "rawType": "object",
         "type": "string"
        },
        {
         "name": "passing_Squad",
         "rawType": "object",
         "type": "string"
        },
        {
         "name": "passing_Comp",
         "rawType": "object",
         "type": "string"
        },
        {
         "name": "passing_Age",
         "rawType": "object",
         "type": "string"
        },
        {
         "name": "passing_Born",
         "rawType": "int64",
         "type": "integer"
        },
        {
         "name": "passing_90s",
         "rawType": "float64",
         "type": "float"
        },
        {
         "name": "passing_Cmp",
         "rawType": "int64",
         "type": "integer"
        },
        {
         "name": "passing_Att",
         "rawType": "int64",
         "type": "integer"
        },
        {
         "name": "passing_Cmp%",
         "rawType": "float64",
         "type": "float"
        },
        {
         "name": "passing_TotDist",
         "rawType": "int64",
         "type": "integer"
        },
        {
         "name": "passing_PrgDist",
         "rawType": "int64",
         "type": "integer"
        },
        {
         "name": "passing_Cmp.1",
         "rawType": "int64",
         "type": "integer"
        },
        {
         "name": "passing_Att.1",
         "rawType": "int64",
         "type": "integer"
        },
        {
         "name": "passing_Cmp%.1",
         "rawType": "float64",
         "type": "float"
        },
        {
         "name": "passing_Cmp.2",
         "rawType": "int64",
         "type": "integer"
        },
        {
         "name": "passing_Att.2",
         "rawType": "int64",
         "type": "integer"
        },
        {
         "name": "passing_Cmp%.2",
         "rawType": "float64",
         "type": "float"
        },
        {
         "name": "passing_Cmp.3",
         "rawType": "int64",
         "type": "integer"
        },
        {
         "name": "passing_Att.3",
         "rawType": "int64",
         "type": "integer"
        },
        {
         "name": "passing_Cmp%.3",
         "rawType": "float64",
         "type": "float"
        },
        {
         "name": "passing_Ast",
         "rawType": "int64",
         "type": "integer"
        },
        {
         "name": "passing_xAG",
         "rawType": "float64",
         "type": "float"
        },
        {
         "name": "passing_xA",
         "rawType": "float64",
         "type": "float"
        },
        {
         "name": "passing_A-xAG",
         "rawType": "float64",
         "type": "float"
        },
        {
         "name": "passing_KP",
         "rawType": "int64",
         "type": "integer"
        },
        {
         "name": "passing_1/3",
         "rawType": "int64",
         "type": "integer"
        },
        {
         "name": "passing_PPA",
         "rawType": "int64",
         "type": "integer"
        },
        {
         "name": "passing_CrsPA",
         "rawType": "int64",
         "type": "integer"
        },
        {
         "name": "passing_PrgP",
         "rawType": "int64",
         "type": "integer"
        },
        {
         "name": "passing_types_Nation",
         "rawType": "object",
         "type": "string"
        },
        {
         "name": "passing_types_Pos",
         "rawType": "object",
         "type": "string"
        },
        {
         "name": "passing_types_Squad",
         "rawType": "object",
         "type": "string"
        },
        {
         "name": "passing_types_Comp",
         "rawType": "object",
         "type": "string"
        },
        {
         "name": "passing_types_Age",
         "rawType": "object",
         "type": "string"
        },
        {
         "name": "passing_types_Born",
         "rawType": "int64",
         "type": "integer"
        },
        {
         "name": "passing_types_90s",
         "rawType": "float64",
         "type": "float"
        },
        {
         "name": "passing_types_Att",
         "rawType": "int64",
         "type": "integer"
        },
        {
         "name": "passing_types_Live",
         "rawType": "int64",
         "type": "integer"
        },
        {
         "name": "passing_types_Dead",
         "rawType": "int64",
         "type": "integer"
        },
        {
         "name": "passing_types_FK",
         "rawType": "int64",
         "type": "integer"
        },
        {
         "name": "passing_types_TB",
         "rawType": "int64",
         "type": "integer"
        },
        {
         "name": "passing_types_Sw",
         "rawType": "int64",
         "type": "integer"
        },
        {
         "name": "passing_types_Crs",
         "rawType": "int64",
         "type": "integer"
        },
        {
         "name": "passing_types_TI",
         "rawType": "int64",
         "type": "integer"
        },
        {
         "name": "passing_types_CK",
         "rawType": "int64",
         "type": "integer"
        },
        {
         "name": "passing_types_In",
         "rawType": "int64",
         "type": "integer"
        },
        {
         "name": "passing_types_Out",
         "rawType": "int64",
         "type": "integer"
        },
        {
         "name": "passing_types_Str",
         "rawType": "int64",
         "type": "integer"
        },
        {
         "name": "passing_types_Cmp",
         "rawType": "int64",
         "type": "integer"
        },
        {
         "name": "passing_types_Off",
         "rawType": "int64",
         "type": "integer"
        },
        {
         "name": "passing_types_Blocks",
         "rawType": "int64",
         "type": "integer"
        },
        {
         "name": "gca_Nation",
         "rawType": "object",
         "type": "string"
        },
        {
         "name": "gca_Pos",
         "rawType": "object",
         "type": "string"
        },
        {
         "name": "gca_Squad",
         "rawType": "object",
         "type": "string"
        },
        {
         "name": "gca_Comp",
         "rawType": "object",
         "type": "string"
        },
        {
         "name": "gca_Age",
         "rawType": "object",
         "type": "string"
        },
        {
         "name": "gca_Born",
         "rawType": "int64",
         "type": "integer"
        },
        {
         "name": "gca_90s",
         "rawType": "float64",
         "type": "float"
        },
        {
         "name": "gca_SCA",
         "rawType": "int64",
         "type": "integer"
        },
        {
         "name": "gca_SCA90",
         "rawType": "float64",
         "type": "float"
        },
        {
         "name": "gca_PassLive",
         "rawType": "int64",
         "type": "integer"
        },
        {
         "name": "gca_PassDead",
         "rawType": "int64",
         "type": "integer"
        },
        {
         "name": "gca_TO",
         "rawType": "int64",
         "type": "integer"
        },
        {
         "name": "gca_Sh",
         "rawType": "int64",
         "type": "integer"
        },
        {
         "name": "gca_Fld",
         "rawType": "int64",
         "type": "integer"
        },
        {
         "name": "gca_Def",
         "rawType": "int64",
         "type": "integer"
        },
        {
         "name": "gca_GCA",
         "rawType": "int64",
         "type": "integer"
        },
        {
         "name": "gca_GCA90",
         "rawType": "float64",
         "type": "float"
        },
        {
         "name": "gca_PassLive.1",
         "rawType": "int64",
         "type": "integer"
        },
        {
         "name": "gca_PassDead.1",
         "rawType": "int64",
         "type": "integer"
        },
        {
         "name": "gca_TO.1",
         "rawType": "int64",
         "type": "integer"
        },
        {
         "name": "gca_Sh.1",
         "rawType": "int64",
         "type": "integer"
        },
        {
         "name": "gca_Fld.1",
         "rawType": "int64",
         "type": "integer"
        },
        {
         "name": "gca_Def.1",
         "rawType": "int64",
         "type": "integer"
        },
        {
         "name": "defense_Nation",
         "rawType": "object",
         "type": "string"
        },
        {
         "name": "defense_Pos",
         "rawType": "object",
         "type": "string"
        },
        {
         "name": "defense_Squad",
         "rawType": "object",
         "type": "string"
        },
        {
         "name": "defense_Comp",
         "rawType": "object",
         "type": "string"
        },
        {
         "name": "defense_Age",
         "rawType": "object",
         "type": "string"
        },
        {
         "name": "defense_Born",
         "rawType": "int64",
         "type": "integer"
        },
        {
         "name": "defense_90s",
         "rawType": "float64",
         "type": "float"
        },
        {
         "name": "defense_Tkl",
         "rawType": "int64",
         "type": "integer"
        },
        {
         "name": "defense_TklW",
         "rawType": "int64",
         "type": "integer"
        },
        {
         "name": "defense_Def 3rd",
         "rawType": "int64",
         "type": "integer"
        },
        {
         "name": "defense_Mid 3rd",
         "rawType": "int64",
         "type": "integer"
        },
        {
         "name": "defense_Att 3rd",
         "rawType": "int64",
         "type": "integer"
        },
        {
         "name": "defense_Tkl.1",
         "rawType": "int64",
         "type": "integer"
        },
        {
         "name": "defense_Att",
         "rawType": "int64",
         "type": "integer"
        },
        {
         "name": "defense_Tkl%",
         "rawType": "float64",
         "type": "float"
        },
        {
         "name": "defense_Lost",
         "rawType": "int64",
         "type": "integer"
        },
        {
         "name": "defense_Blocks",
         "rawType": "int64",
         "type": "integer"
        },
        {
         "name": "defense_Sh",
         "rawType": "int64",
         "type": "integer"
        },
        {
         "name": "defense_Pass",
         "rawType": "int64",
         "type": "integer"
        },
        {
         "name": "defense_Int",
         "rawType": "int64",
         "type": "integer"
        },
        {
         "name": "defense_Tkl+Int",
         "rawType": "int64",
         "type": "integer"
        },
        {
         "name": "defense_Clr",
         "rawType": "int64",
         "type": "integer"
        },
        {
         "name": "defense_Err",
         "rawType": "int64",
         "type": "integer"
        },
        {
         "name": "possession_Nation",
         "rawType": "object",
         "type": "string"
        },
        {
         "name": "possession_Pos",
         "rawType": "object",
         "type": "string"
        },
        {
         "name": "possession_Squad",
         "rawType": "object",
         "type": "string"
        },
        {
         "name": "possession_Comp",
         "rawType": "object",
         "type": "string"
        },
        {
         "name": "possession_Age",
         "rawType": "object",
         "type": "string"
        },
        {
         "name": "possession_Born",
         "rawType": "int64",
         "type": "integer"
        },
        {
         "name": "possession_90s",
         "rawType": "float64",
         "type": "float"
        },
        {
         "name": "possession_Touches",
         "rawType": "int64",
         "type": "integer"
        },
        {
         "name": "possession_Def Pen",
         "rawType": "int64",
         "type": "integer"
        },
        {
         "name": "possession_Def 3rd",
         "rawType": "int64",
         "type": "integer"
        },
        {
         "name": "possession_Mid 3rd",
         "rawType": "int64",
         "type": "integer"
        },
        {
         "name": "possession_Att 3rd",
         "rawType": "int64",
         "type": "integer"
        },
        {
         "name": "possession_Att Pen",
         "rawType": "int64",
         "type": "integer"
        },
        {
         "name": "possession_Live",
         "rawType": "int64",
         "type": "integer"
        },
        {
         "name": "possession_Att",
         "rawType": "int64",
         "type": "integer"
        },
        {
         "name": "possession_Succ",
         "rawType": "int64",
         "type": "integer"
        },
        {
         "name": "possession_Succ%",
         "rawType": "float64",
         "type": "float"
        },
        {
         "name": "possession_Tkld",
         "rawType": "int64",
         "type": "integer"
        },
        {
         "name": "possession_Tkld%",
         "rawType": "float64",
         "type": "float"
        },
        {
         "name": "possession_Carries",
         "rawType": "int64",
         "type": "integer"
        },
        {
         "name": "possession_TotDist",
         "rawType": "int64",
         "type": "integer"
        },
        {
         "name": "possession_PrgDist",
         "rawType": "int64",
         "type": "integer"
        },
        {
         "name": "possession_PrgC",
         "rawType": "int64",
         "type": "integer"
        },
        {
         "name": "possession_1/3",
         "rawType": "int64",
         "type": "integer"
        },
        {
         "name": "possession_CPA",
         "rawType": "int64",
         "type": "integer"
        },
        {
         "name": "possession_Mis",
         "rawType": "int64",
         "type": "integer"
        },
        {
         "name": "possession_Dis",
         "rawType": "int64",
         "type": "integer"
        },
        {
         "name": "possession_Rec",
         "rawType": "int64",
         "type": "integer"
        },
        {
         "name": "possession_PrgR",
         "rawType": "int64",
         "type": "integer"
        },
        {
         "name": "playingtime_Nation",
         "rawType": "object",
         "type": "string"
        },
        {
         "name": "playingtime_Pos",
         "rawType": "object",
         "type": "string"
        },
        {
         "name": "playingtime_Squad",
         "rawType": "object",
         "type": "string"
        },
        {
         "name": "playingtime_Comp",
         "rawType": "object",
         "type": "string"
        },
        {
         "name": "playingtime_Age",
         "rawType": "object",
         "type": "string"
        },
        {
         "name": "playingtime_Born",
         "rawType": "int64",
         "type": "integer"
        },
        {
         "name": "playingtime_MP",
         "rawType": "int64",
         "type": "integer"
        },
        {
         "name": "playingtime_Min",
         "rawType": "object",
         "type": "string"
        },
        {
         "name": "playingtime_Mn/MP",
         "rawType": "int64",
         "type": "integer"
        },
        {
         "name": "playingtime_Min%",
         "rawType": "float64",
         "type": "float"
        },
        {
         "name": "playingtime_90s",
         "rawType": "float64",
         "type": "float"
        },
        {
         "name": "playingtime_Starts",
         "rawType": "int64",
         "type": "integer"
        },
        {
         "name": "playingtime_Mn/Start",
         "rawType": "int64",
         "type": "integer"
        },
        {
         "name": "playingtime_Compl",
         "rawType": "int64",
         "type": "integer"
        },
        {
         "name": "playingtime_Subs",
         "rawType": "int64",
         "type": "integer"
        },
        {
         "name": "playingtime_Mn/Sub",
         "rawType": "int64",
         "type": "integer"
        },
        {
         "name": "playingtime_unSub",
         "rawType": "int64",
         "type": "integer"
        },
        {
         "name": "playingtime_PPM",
         "rawType": "float64",
         "type": "float"
        },
        {
         "name": "playingtime_onG",
         "rawType": "int64",
         "type": "integer"
        },
        {
         "name": "playingtime_onGA",
         "rawType": "int64",
         "type": "integer"
        },
        {
         "name": "playingtime_+/-",
         "rawType": "int64",
         "type": "integer"
        },
        {
         "name": "playingtime_+/-90",
         "rawType": "float64",
         "type": "float"
        },
        {
         "name": "playingtime_On-Off",
         "rawType": "float64",
         "type": "float"
        },
        {
         "name": "playingtime_onxG",
         "rawType": "float64",
         "type": "float"
        },
        {
         "name": "playingtime_onxGA",
         "rawType": "float64",
         "type": "float"
        },
        {
         "name": "playingtime_xG+/-",
         "rawType": "float64",
         "type": "float"
        },
        {
         "name": "playingtime_xG+/-90",
         "rawType": "float64",
         "type": "float"
        },
        {
         "name": "playingtime_On-Off.1",
         "rawType": "float64",
         "type": "float"
        },
        {
         "name": "misc_Nation",
         "rawType": "object",
         "type": "string"
        },
        {
         "name": "misc_Pos",
         "rawType": "object",
         "type": "string"
        },
        {
         "name": "misc_Squad",
         "rawType": "object",
         "type": "string"
        },
        {
         "name": "misc_Comp",
         "rawType": "object",
         "type": "string"
        },
        {
         "name": "misc_Age",
         "rawType": "object",
         "type": "string"
        },
        {
         "name": "misc_Born",
         "rawType": "int64",
         "type": "integer"
        },
        {
         "name": "misc_90s",
         "rawType": "float64",
         "type": "float"
        },
        {
         "name": "misc_CrdY",
         "rawType": "int64",
         "type": "integer"
        },
        {
         "name": "misc_CrdR",
         "rawType": "int64",
         "type": "integer"
        },
        {
         "name": "misc_2CrdY",
         "rawType": "int64",
         "type": "integer"
        },
        {
         "name": "misc_Fls",
         "rawType": "int64",
         "type": "integer"
        },
        {
         "name": "misc_Fld",
         "rawType": "int64",
         "type": "integer"
        },
        {
         "name": "misc_Off",
         "rawType": "int64",
         "type": "integer"
        },
        {
         "name": "misc_Crs",
         "rawType": "int64",
         "type": "integer"
        },
        {
         "name": "misc_Int",
         "rawType": "int64",
         "type": "integer"
        },
        {
         "name": "misc_TklW",
         "rawType": "int64",
         "type": "integer"
        },
        {
         "name": "misc_PKwon",
         "rawType": "int64",
         "type": "integer"
        },
        {
         "name": "misc_PKcon",
         "rawType": "int64",
         "type": "integer"
        },
        {
         "name": "misc_OG",
         "rawType": "int64",
         "type": "integer"
        },
        {
         "name": "misc_Recov",
         "rawType": "int64",
         "type": "integer"
        },
        {
         "name": "misc_Won",
         "rawType": "int64",
         "type": "integer"
        },
        {
         "name": "misc_Lost",
         "rawType": "int64",
         "type": "integer"
        },
        {
         "name": "misc_Won%",
         "rawType": "float64",
         "type": "float"
        },
        {
         "name": "first_name",
         "rawType": "object",
         "type": "string"
        },
        {
         "name": "last_name",
         "rawType": "object",
         "type": "string"
        },
        {
         "name": "full_name",
         "rawType": "object",
         "type": "string"
        },
        {
         "name": "market_value_in_eur",
         "rawType": "float64",
         "type": "float"
        },
        {
         "name": "highest_market_value_in_eur",
         "rawType": "float64",
         "type": "float"
        }
       ],
       "conversionMethod": "pd.DataFrame",
       "ref": "854423b0-0e81-446b-8480-be75c2194b28",
       "rows": [
        [
         "9",
         "Cole Palmer",
         "eng ENG",
         "MF",
         "Chelsea",
         "Premier League",
         "22",
         "2002",
         "29",
         "29",
         "2,530",
         "28.1",
         "14",
         "7",
         "21",
         "11",
         "3",
         "4",
         "5",
         "0",
         "15.3",
         "12.1",
         "9.1",
         "21.2",
         "89",
         "162",
         "145",
         "0.5",
         "0.25",
         "0.75",
         "0.39",
         "0.64",
         "0.54",
         "0.32",
         "0.87",
         "0.43",
         "0.75",
         "eng ENG",
         "MF",
         "Chelsea",
         "Premier League",
         "22-335",
         "2002",
         "28.1",
         "14",
         "100",
         "38",
         "38.0",
         "3.56",
         "1.35",
         "0.11",
         "0.29",
         "20.3",
         "12",
         "3",
         "4",
         "15.3",
         "12.1",
         "0.12",
         "-1.3",
         "-1.1",
         "eng ENG",
         "MF",
         "Chelsea",
         "Premier League",
         "22-335",
         "2002",
         "28.1",
         "892",
         "1172",
         "76.1",
         "17039",
         "4530",
         "367",
         "431",
         "85.2",
         "361",
         "428",
         "84.3",
         "141",
         "238",
         "59.2",
         "7",
         "9.1",
         "7.7",
         "-2.1",
         "71",
         "126",
         "50",
         "14",
         "162",
         "eng ENG",
         "MF",
         "Chelsea",
         "Premier League",
         "22-335",
         "2002",
         "28.1",
         "1172",
         "992",
         "173",
         "41",
         "18",
         "12",
         "122",
         "13",
         "70",
         "49",
         "5",
         "0",
         "892",
         "7",
         "40",
         "eng ENG",
         "MF",
         "Chelsea",
         "Premier League",
         "22-335",
         "2002",
         "28.1",
         "154",
         "5.48",
         "97",
         "21",
         "11",
         "16",
         "7",
         "2",
         "12",
         "0.43",
         "8",
         "0",
         "2",
         "1",
         "1",
         "0",
         "eng ENG",
         "MF",
         "Chelsea",
         "Premier League",
         "22-335",
         "2002",
         "28.1",
         "24",
         "15",
         "11",
         "7",
         "6",
         "8",
         "21",
         "38.1",
         "13",
         "14",
         "1",
         "13",
         "7",
         "31",
         "15",
         "1",
         "eng ENG",
         "MF",
         "Chelsea",
         "Premier League",
         "22-335",
         "2002",
         "28.1",
         "1464",
         "17",
         "117",
         "657",
         "710",
         "112",
         "1460",
         "92",
         "41",
         "44.6",
         "36",
         "39.1",
         "923",
         "6153",
         "2943",
         "89",
         "60",
         "28",
         "54",
         "28",
         "1080",
         "145",
         "eng ENG",
         "MF",
         "Chelsea",
         "Premier League",
         "22-335",
         "2002",
         "29",
         "2,530",
         "87",
         "93.7",
         "28.1",
         "29",
         "87",
         "20",
         "0",
         "0",
         "0",
         "1.79",
         "53",
         "35",
         "18",
         "0.64",
         "1.17",
         "54.4",
         "37.7",
         "16.8",
         "0.6",
         "0.68",
         "eng ENG",
         "MF",
         "Chelsea",
         "Premier League",
         "22-335",
         "2002",
         "28.1",
         "5",
         "0",
         "0",
         "12",
         "54",
         "6",
         "122",
         "7",
         "15",
         "1",
         "0",
         "0",
         "83",
         "1",
         "5",
         "16.7",
         "Cole",
         "Palmer",
         "Cole Palmer",
         "130000000.0",
         "130000000.0"
        ],
        [
         "80",
         "Bruno Fernandes",
         "pt POR",
         "MF",
         "Manchester Utd",
         "Premier League",
         "30",
         "1994",
         "29",
         "29",
         "2,465",
         "27.4",
         "8",
         "9",
         "17",
         "5",
         "3",
         "3",
         "4",
         "2",
         "8.7",
         "6.3",
         "6.4",
         "12.7",
         "59",
         "242",
         "110",
         "0.29",
         "0.33",
         "0.62",
         "0.18",
         "0.51",
         "0.32",
         "0.23",
         "0.55",
         "0.23",
         "0.46",
         "pt POR",
         "MF",
         "Manchester Utd",
         "Premier League",
         "30-210",
         "1994",
         "27.4",
         "8",
         "75",
         "23",
         "30.7",
         "2.74",
         "0.84",
         "0.07",
         "0.22",
         "21.7",
         "10",
         "3",
         "3",
         "8.7",
         "6.3",
         "0.08",
         "-0.7",
         "-1.3",
         "pt POR",
         "MF",
         "Manchester Utd",
         "Premier League",
         "30-210",
         "1994",
         "27.4",
         "1348",
         "1800",
         "74.9",
         "23682",
         "8382",
         "658",
         "762",
         "86.4",
         "479",
         "599",
         "80.0",
         "168",
         "320",
         "52.5",
         "9",
         "6.4",
         "5.8",
         "2.6",
         "72",
         "163",
         "57",
         "9",
         "242",
         "pt POR",
         "MF",
         "Manchester Utd",
         "Premier League",
         "30-210",
         "1994",
         "27.4",
         "1800",
         "1597",
         "190",
         "81",
         "22",
         "15",
         "154",
         "14",
         "74",
         "41",
         "16",
         "3",
         "1348",
         "13",
         "43",
         "pt POR",
         "MF",
         "Manchester Utd",
         "Premier League",
         "30-210",
         "1994",
         "27.4",
         "145",
         "5.29",
         "99",
         "28",
         "4",
         "6",
         "6",
         "2",
         "12",
         "0.44",
         "9",
         "2",
         "0",
         "1",
         "0",
         "0",
         "pt POR",
         "MF",
         "Manchester Utd",
         "Premier League",
         "30-210",
         "1994",
         "27.4",
         "68",
         "41",
         "19",
         "35",
         "14",
         "27",
         "69",
         "39.1",
         "42",
         "28",
         "4",
         "24",
         "21",
         "89",
         "32",
         "2",
         "pt POR",
         "MF",
         "Manchester Utd",
         "Premier League",
         "30-210",
         "1994",
         "27.4",
         "2126",
         "52",
         "352",
         "1006",
         "789",
         "67",
         "2123",
         "57",
         "22",
         "38.6",
         "29",
         "50.9",
         "1234",
         "5812",
         "3080",
         "59",
         "51",
         "9",
         "34",
         "30",
         "1486",
         "110",
         "pt POR",
         "MF",
         "Manchester Utd",
         "Premier League",
         "30-210",
         "1994",
         "29",
         "2,465",
         "85",
         "91.3",
         "27.4",
         "29",
         "85",
         "24",
         "0",
         "0",
         "0",
         "1.28",
         "37",
         "34",
         "3",
         "0.11",
         "2.79",
         "38.4",
         "39.0",
         "-0.6",
         "-0.02",
         "1.38",
         "pt POR",
         "MF",
         "Manchester Utd",
         "Premier League",
         "30-210",
         "1994",
         "27.4",
         "4",
         "2",
         "1",
         "25",
         "34",
         "2",
         "154",
         "21",
         "41",
         "0",
         "0",
         "0",
         "172",
         "18",
         "25",
         "41.9",
         "Bruno",
         "Fernandes",
         "Bruno Fernandes",
         "55000000.0",
         "90000000.0"
        ],
        [
         "6",
         "Florian Wirtz",
         "de GER",
         "MF",
         "Leverkusen",
         "Bundesliga",
         "21",
         "2003",
         "25",
         "20",
         "1,876",
         "20.8",
         "9",
         "10",
         "19",
         "7",
         "2",
         "4",
         "1",
         "0",
         "8.5",
         "5.2",
         "6.0",
         "11.1",
         "103",
         "135",
         "246",
         "0.43",
         "0.48",
         "0.91",
         "0.34",
         "0.82",
         "0.41",
         "0.29",
         "0.69",
         "0.25",
         "0.53",
         "de GER",
         "MF,FW",
         "Leverkusen",
         "Bundesliga",
         "21-338",
         "2003",
         "20.8",
         "9",
         "62",
         "28",
         "45.2",
         "2.97",
         "1.34",
         "0.11",
         "0.25",
         "19.6",
         "1",
         "2",
         "4",
         "8.5",
         "5.2",
         "0.08",
         "0.5",
         "1.8",
         "de GER",
         "MF,FW",
         "Leverkusen",
         "Bundesliga",
         "21-338",
         "2003",
         "20.8",
         "1105",
         "1392",
         "79.4",
         "14510",
         "3764",
         "715",
         "812",
         "88.1",
         "288",
         "391",
         "73.7",
         "49",
         "89",
         "55.1",
         "10",
         "6.0",
         "8.1",
         "4.0",
         "48",
         "67",
         "53",
         "6",
         "135",
         "de GER",
         "MF,FW",
         "Leverkusen",
         "Bundesliga",
         "21-338",
         "2003",
         "20.8",
         "1392",
         "1303",
         "83",
         "19",
         "21",
         "7",
         "68",
         "32",
         "29",
         "11",
         "2",
         "0",
         "1105",
         "6",
         "32",
         "de GER",
         "MF,FW",
         "Leverkusen",
         "Bundesliga",
         "21-338",
         "2003",
         "20.8",
         "123",
         "5.9",
         "87",
         "5",
         "20",
         "6",
         "4",
         "1",
         "19",
         "0.91",
         "12",
         "0",
         "3",
         "3",
         "1",
         "0",
         "de GER",
         "MF,FW",
         "Leverkusen",
         "Bundesliga",
         "21-338",
         "2003",
         "20.8",
         "29",
         "18",
         "10",
         "11",
         "8",
         "8",
         "19",
         "42.1",
         "11",
         "23",
         "1",
         "22",
         "8",
         "37",
         "4",
         "0",
         "de GER",
         "MF,FW",
         "Leverkusen",
         "Bundesliga",
         "21-338",
         "2003",
         "20.8",
         "1665",
         "7",
         "96",
         "622",
         "969",
         "118",
         "1661",
         "139",
         "73",
         "52.5",
         "62",
         "44.6",
         "966",
         "5700",
         "2930",
         "103",
         "59",
         "46",
         "43",
         "39",
         "1315",
         "246",
         "de GER",
         "MF,FW",
         "Leverkusen",
         "Bundesliga",
         "21-338",
         "2003",
         "25",
         "1,876",
         "75",
         "74.4",
         "20.8",
         "20",
         "87",
         "13",
         "5",
         "26",
         "0",
         "2.12",
         "49",
         "23",
         "26",
         "1.25",
         "0.83",
         "38.5",
         "20.4",
         "18.2",
         "0.87",
         "0.34",
         "de GER",
         "MF,FW",
         "Leverkusen",
         "Bundesliga",
         "21-338",
         "2003",
         "20.8",
         "1",
         "0",
         "0",
         "17",
         "34",
         "9",
         "68",
         "8",
         "18",
         "1",
         "0",
         "0",
         "94",
         "6",
         "32",
         "15.8",
         "Florian",
         "Wirtz",
         "Florian Wirtz",
         "140000000.0",
         "140000000.0"
        ]
       ],
       "shape": {
        "columns": 243,
        "rows": 3
       }
      },
      "text/html": [
       "<div>\n",
       "<style scoped>\n",
       "    .dataframe tbody tr th:only-of-type {\n",
       "        vertical-align: middle;\n",
       "    }\n",
       "\n",
       "    .dataframe tbody tr th {\n",
       "        vertical-align: top;\n",
       "    }\n",
       "\n",
       "    .dataframe thead th {\n",
       "        text-align: right;\n",
       "    }\n",
       "</style>\n",
       "<table border=\"1\" class=\"dataframe\">\n",
       "  <thead>\n",
       "    <tr style=\"text-align: right;\">\n",
       "      <th></th>\n",
       "      <th>Player</th>\n",
       "      <th>stats_Nation</th>\n",
       "      <th>stats_Pos</th>\n",
       "      <th>stats_Squad</th>\n",
       "      <th>stats_Comp</th>\n",
       "      <th>stats_Age</th>\n",
       "      <th>stats_Born</th>\n",
       "      <th>stats_MP</th>\n",
       "      <th>stats_Starts</th>\n",
       "      <th>stats_Min</th>\n",
       "      <th>...</th>\n",
       "      <th>misc_OG</th>\n",
       "      <th>misc_Recov</th>\n",
       "      <th>misc_Won</th>\n",
       "      <th>misc_Lost</th>\n",
       "      <th>misc_Won%</th>\n",
       "      <th>first_name</th>\n",
       "      <th>last_name</th>\n",
       "      <th>full_name</th>\n",
       "      <th>market_value_in_eur</th>\n",
       "      <th>highest_market_value_in_eur</th>\n",
       "    </tr>\n",
       "  </thead>\n",
       "  <tbody>\n",
       "    <tr>\n",
       "      <th>9</th>\n",
       "      <td>Cole Palmer</td>\n",
       "      <td>eng ENG</td>\n",
       "      <td>MF</td>\n",
       "      <td>Chelsea</td>\n",
       "      <td>Premier League</td>\n",
       "      <td>22</td>\n",
       "      <td>2002</td>\n",
       "      <td>29</td>\n",
       "      <td>29</td>\n",
       "      <td>2,530</td>\n",
       "      <td>...</td>\n",
       "      <td>0</td>\n",
       "      <td>83</td>\n",
       "      <td>1</td>\n",
       "      <td>5</td>\n",
       "      <td>16.7</td>\n",
       "      <td>Cole</td>\n",
       "      <td>Palmer</td>\n",
       "      <td>Cole Palmer</td>\n",
       "      <td>130000000.0</td>\n",
       "      <td>130000000.0</td>\n",
       "    </tr>\n",
       "    <tr>\n",
       "      <th>80</th>\n",
       "      <td>Bruno Fernandes</td>\n",
       "      <td>pt POR</td>\n",
       "      <td>MF</td>\n",
       "      <td>Manchester Utd</td>\n",
       "      <td>Premier League</td>\n",
       "      <td>30</td>\n",
       "      <td>1994</td>\n",
       "      <td>29</td>\n",
       "      <td>29</td>\n",
       "      <td>2,465</td>\n",
       "      <td>...</td>\n",
       "      <td>0</td>\n",
       "      <td>172</td>\n",
       "      <td>18</td>\n",
       "      <td>25</td>\n",
       "      <td>41.9</td>\n",
       "      <td>Bruno</td>\n",
       "      <td>Fernandes</td>\n",
       "      <td>Bruno Fernandes</td>\n",
       "      <td>55000000.0</td>\n",
       "      <td>90000000.0</td>\n",
       "    </tr>\n",
       "    <tr>\n",
       "      <th>6</th>\n",
       "      <td>Florian Wirtz</td>\n",
       "      <td>de GER</td>\n",
       "      <td>MF</td>\n",
       "      <td>Leverkusen</td>\n",
       "      <td>Bundesliga</td>\n",
       "      <td>21</td>\n",
       "      <td>2003</td>\n",
       "      <td>25</td>\n",
       "      <td>20</td>\n",
       "      <td>1,876</td>\n",
       "      <td>...</td>\n",
       "      <td>0</td>\n",
       "      <td>94</td>\n",
       "      <td>6</td>\n",
       "      <td>32</td>\n",
       "      <td>15.8</td>\n",
       "      <td>Florian</td>\n",
       "      <td>Wirtz</td>\n",
       "      <td>Florian Wirtz</td>\n",
       "      <td>140000000.0</td>\n",
       "      <td>140000000.0</td>\n",
       "    </tr>\n",
       "  </tbody>\n",
       "</table>\n",
       "<p>3 rows × 243 columns</p>\n",
       "</div>"
      ],
      "text/plain": [
       "             Player stats_Nation stats_Pos     stats_Squad      stats_Comp  \\\n",
       "9       Cole Palmer      eng ENG        MF         Chelsea  Premier League   \n",
       "80  Bruno Fernandes       pt POR        MF  Manchester Utd  Premier League   \n",
       "6     Florian Wirtz       de GER        MF      Leverkusen      Bundesliga   \n",
       "\n",
       "    stats_Age  stats_Born  stats_MP  stats_Starts stats_Min  ...  misc_OG  \\\n",
       "9          22        2002        29            29     2,530  ...        0   \n",
       "80         30        1994        29            29     2,465  ...        0   \n",
       "6          21        2003        25            20     1,876  ...        0   \n",
       "\n",
       "    misc_Recov  misc_Won  misc_Lost  misc_Won%  first_name  last_name  \\\n",
       "9           83         1          5       16.7        Cole     Palmer   \n",
       "80         172        18         25       41.9       Bruno  Fernandes   \n",
       "6           94         6         32       15.8     Florian      Wirtz   \n",
       "\n",
       "          full_name  market_value_in_eur  highest_market_value_in_eur  \n",
       "9       Cole Palmer          130000000.0                  130000000.0  \n",
       "80  Bruno Fernandes           55000000.0                   90000000.0  \n",
       "6     Florian Wirtz          140000000.0                  140000000.0  \n",
       "\n",
       "[3 rows x 243 columns]"
      ]
     },
     "metadata": {},
     "output_type": "display_data"
    },
    {
     "data": {
      "application/vnd.microsoft.datawrangler.viewer.v0+json": {
       "columns": [
        {
         "name": "index",
         "rawType": "int64",
         "type": "integer"
        },
        {
         "name": "Player",
         "rawType": "object",
         "type": "string"
        },
        {
         "name": "stats_Nation",
         "rawType": "object",
         "type": "string"
        },
        {
         "name": "stats_Pos",
         "rawType": "object",
         "type": "string"
        },
        {
         "name": "stats_Squad",
         "rawType": "object",
         "type": "string"
        },
        {
         "name": "stats_Comp",
         "rawType": "object",
         "type": "string"
        },
        {
         "name": "stats_Age",
         "rawType": "int64",
         "type": "integer"
        },
        {
         "name": "stats_Born",
         "rawType": "int64",
         "type": "integer"
        },
        {
         "name": "stats_MP",
         "rawType": "int64",
         "type": "integer"
        },
        {
         "name": "stats_Starts",
         "rawType": "int64",
         "type": "integer"
        },
        {
         "name": "stats_Min",
         "rawType": "object",
         "type": "string"
        },
        {
         "name": "stats_90s",
         "rawType": "float64",
         "type": "float"
        },
        {
         "name": "stats_Gls",
         "rawType": "int64",
         "type": "integer"
        },
        {
         "name": "stats_Ast",
         "rawType": "int64",
         "type": "integer"
        },
        {
         "name": "stats_G+A",
         "rawType": "int64",
         "type": "integer"
        },
        {
         "name": "stats_G-PK",
         "rawType": "int64",
         "type": "integer"
        },
        {
         "name": "stats_PK",
         "rawType": "int64",
         "type": "integer"
        },
        {
         "name": "stats_PKatt",
         "rawType": "int64",
         "type": "integer"
        },
        {
         "name": "stats_CrdY",
         "rawType": "int64",
         "type": "integer"
        },
        {
         "name": "stats_CrdR",
         "rawType": "int64",
         "type": "integer"
        },
        {
         "name": "stats_xG",
         "rawType": "float64",
         "type": "float"
        },
        {
         "name": "stats_npxG",
         "rawType": "float64",
         "type": "float"
        },
        {
         "name": "stats_xAG",
         "rawType": "float64",
         "type": "float"
        },
        {
         "name": "stats_npxG+xAG",
         "rawType": "float64",
         "type": "float"
        },
        {
         "name": "stats_PrgC",
         "rawType": "int64",
         "type": "integer"
        },
        {
         "name": "stats_PrgP",
         "rawType": "int64",
         "type": "integer"
        },
        {
         "name": "stats_PrgR",
         "rawType": "int64",
         "type": "integer"
        },
        {
         "name": "stats_Gls.1",
         "rawType": "float64",
         "type": "float"
        },
        {
         "name": "stats_Ast.1",
         "rawType": "float64",
         "type": "float"
        },
        {
         "name": "stats_G+A.1",
         "rawType": "float64",
         "type": "float"
        },
        {
         "name": "stats_G-PK.1",
         "rawType": "float64",
         "type": "float"
        },
        {
         "name": "stats_G+A-PK",
         "rawType": "float64",
         "type": "float"
        },
        {
         "name": "stats_xG.1",
         "rawType": "float64",
         "type": "float"
        },
        {
         "name": "stats_xAG.1",
         "rawType": "float64",
         "type": "float"
        },
        {
         "name": "stats_xG+xAG",
         "rawType": "float64",
         "type": "float"
        },
        {
         "name": "stats_npxG.1",
         "rawType": "float64",
         "type": "float"
        },
        {
         "name": "stats_npxG+xAG.1",
         "rawType": "float64",
         "type": "float"
        },
        {
         "name": "shooting_Nation",
         "rawType": "object",
         "type": "string"
        },
        {
         "name": "shooting_Pos",
         "rawType": "object",
         "type": "string"
        },
        {
         "name": "shooting_Squad",
         "rawType": "object",
         "type": "string"
        },
        {
         "name": "shooting_Comp",
         "rawType": "object",
         "type": "string"
        },
        {
         "name": "shooting_Age",
         "rawType": "object",
         "type": "string"
        },
        {
         "name": "shooting_Born",
         "rawType": "int64",
         "type": "integer"
        },
        {
         "name": "shooting_90s",
         "rawType": "float64",
         "type": "float"
        },
        {
         "name": "shooting_Gls",
         "rawType": "int64",
         "type": "integer"
        },
        {
         "name": "shooting_Sh",
         "rawType": "int64",
         "type": "integer"
        },
        {
         "name": "shooting_SoT",
         "rawType": "int64",
         "type": "integer"
        },
        {
         "name": "shooting_SoT%",
         "rawType": "float64",
         "type": "float"
        },
        {
         "name": "shooting_Sh/90",
         "rawType": "float64",
         "type": "float"
        },
        {
         "name": "shooting_SoT/90",
         "rawType": "float64",
         "type": "float"
        },
        {
         "name": "shooting_G/Sh",
         "rawType": "float64",
         "type": "float"
        },
        {
         "name": "shooting_G/SoT",
         "rawType": "float64",
         "type": "float"
        },
        {
         "name": "shooting_Dist",
         "rawType": "float64",
         "type": "float"
        },
        {
         "name": "shooting_FK",
         "rawType": "int64",
         "type": "integer"
        },
        {
         "name": "shooting_PK",
         "rawType": "int64",
         "type": "integer"
        },
        {
         "name": "shooting_PKatt",
         "rawType": "int64",
         "type": "integer"
        },
        {
         "name": "shooting_xG",
         "rawType": "float64",
         "type": "float"
        },
        {
         "name": "shooting_npxG",
         "rawType": "float64",
         "type": "float"
        },
        {
         "name": "shooting_npxG/Sh",
         "rawType": "float64",
         "type": "float"
        },
        {
         "name": "shooting_G-xG",
         "rawType": "float64",
         "type": "float"
        },
        {
         "name": "shooting_np:G-xG",
         "rawType": "float64",
         "type": "float"
        },
        {
         "name": "passing_Nation",
         "rawType": "object",
         "type": "string"
        },
        {
         "name": "passing_Pos",
         "rawType": "object",
         "type": "string"
        },
        {
         "name": "passing_Squad",
         "rawType": "object",
         "type": "string"
        },
        {
         "name": "passing_Comp",
         "rawType": "object",
         "type": "string"
        },
        {
         "name": "passing_Age",
         "rawType": "object",
         "type": "string"
        },
        {
         "name": "passing_Born",
         "rawType": "int64",
         "type": "integer"
        },
        {
         "name": "passing_90s",
         "rawType": "float64",
         "type": "float"
        },
        {
         "name": "passing_Cmp",
         "rawType": "int64",
         "type": "integer"
        },
        {
         "name": "passing_Att",
         "rawType": "int64",
         "type": "integer"
        },
        {
         "name": "passing_Cmp%",
         "rawType": "float64",
         "type": "float"
        },
        {
         "name": "passing_TotDist",
         "rawType": "int64",
         "type": "integer"
        },
        {
         "name": "passing_PrgDist",
         "rawType": "int64",
         "type": "integer"
        },
        {
         "name": "passing_Cmp.1",
         "rawType": "int64",
         "type": "integer"
        },
        {
         "name": "passing_Att.1",
         "rawType": "int64",
         "type": "integer"
        },
        {
         "name": "passing_Cmp%.1",
         "rawType": "float64",
         "type": "float"
        },
        {
         "name": "passing_Cmp.2",
         "rawType": "int64",
         "type": "integer"
        },
        {
         "name": "passing_Att.2",
         "rawType": "int64",
         "type": "integer"
        },
        {
         "name": "passing_Cmp%.2",
         "rawType": "float64",
         "type": "float"
        },
        {
         "name": "passing_Cmp.3",
         "rawType": "int64",
         "type": "integer"
        },
        {
         "name": "passing_Att.3",
         "rawType": "int64",
         "type": "integer"
        },
        {
         "name": "passing_Cmp%.3",
         "rawType": "float64",
         "type": "float"
        },
        {
         "name": "passing_Ast",
         "rawType": "int64",
         "type": "integer"
        },
        {
         "name": "passing_xAG",
         "rawType": "float64",
         "type": "float"
        },
        {
         "name": "passing_xA",
         "rawType": "float64",
         "type": "float"
        },
        {
         "name": "passing_A-xAG",
         "rawType": "float64",
         "type": "float"
        },
        {
         "name": "passing_KP",
         "rawType": "int64",
         "type": "integer"
        },
        {
         "name": "passing_1/3",
         "rawType": "int64",
         "type": "integer"
        },
        {
         "name": "passing_PPA",
         "rawType": "int64",
         "type": "integer"
        },
        {
         "name": "passing_CrsPA",
         "rawType": "int64",
         "type": "integer"
        },
        {
         "name": "passing_PrgP",
         "rawType": "int64",
         "type": "integer"
        },
        {
         "name": "passing_types_Nation",
         "rawType": "object",
         "type": "string"
        },
        {
         "name": "passing_types_Pos",
         "rawType": "object",
         "type": "string"
        },
        {
         "name": "passing_types_Squad",
         "rawType": "object",
         "type": "string"
        },
        {
         "name": "passing_types_Comp",
         "rawType": "object",
         "type": "string"
        },
        {
         "name": "passing_types_Age",
         "rawType": "object",
         "type": "string"
        },
        {
         "name": "passing_types_Born",
         "rawType": "int64",
         "type": "integer"
        },
        {
         "name": "passing_types_90s",
         "rawType": "float64",
         "type": "float"
        },
        {
         "name": "passing_types_Att",
         "rawType": "int64",
         "type": "integer"
        },
        {
         "name": "passing_types_Live",
         "rawType": "int64",
         "type": "integer"
        },
        {
         "name": "passing_types_Dead",
         "rawType": "int64",
         "type": "integer"
        },
        {
         "name": "passing_types_FK",
         "rawType": "int64",
         "type": "integer"
        },
        {
         "name": "passing_types_TB",
         "rawType": "int64",
         "type": "integer"
        },
        {
         "name": "passing_types_Sw",
         "rawType": "int64",
         "type": "integer"
        },
        {
         "name": "passing_types_Crs",
         "rawType": "int64",
         "type": "integer"
        },
        {
         "name": "passing_types_TI",
         "rawType": "int64",
         "type": "integer"
        },
        {
         "name": "passing_types_CK",
         "rawType": "int64",
         "type": "integer"
        },
        {
         "name": "passing_types_In",
         "rawType": "int64",
         "type": "integer"
        },
        {
         "name": "passing_types_Out",
         "rawType": "int64",
         "type": "integer"
        },
        {
         "name": "passing_types_Str",
         "rawType": "int64",
         "type": "integer"
        },
        {
         "name": "passing_types_Cmp",
         "rawType": "int64",
         "type": "integer"
        },
        {
         "name": "passing_types_Off",
         "rawType": "int64",
         "type": "integer"
        },
        {
         "name": "passing_types_Blocks",
         "rawType": "int64",
         "type": "integer"
        },
        {
         "name": "gca_Nation",
         "rawType": "object",
         "type": "string"
        },
        {
         "name": "gca_Pos",
         "rawType": "object",
         "type": "string"
        },
        {
         "name": "gca_Squad",
         "rawType": "object",
         "type": "string"
        },
        {
         "name": "gca_Comp",
         "rawType": "object",
         "type": "string"
        },
        {
         "name": "gca_Age",
         "rawType": "object",
         "type": "string"
        },
        {
         "name": "gca_Born",
         "rawType": "int64",
         "type": "integer"
        },
        {
         "name": "gca_90s",
         "rawType": "float64",
         "type": "float"
        },
        {
         "name": "gca_SCA",
         "rawType": "int64",
         "type": "integer"
        },
        {
         "name": "gca_SCA90",
         "rawType": "float64",
         "type": "float"
        },
        {
         "name": "gca_PassLive",
         "rawType": "int64",
         "type": "integer"
        },
        {
         "name": "gca_PassDead",
         "rawType": "int64",
         "type": "integer"
        },
        {
         "name": "gca_TO",
         "rawType": "int64",
         "type": "integer"
        },
        {
         "name": "gca_Sh",
         "rawType": "int64",
         "type": "integer"
        },
        {
         "name": "gca_Fld",
         "rawType": "int64",
         "type": "integer"
        },
        {
         "name": "gca_Def",
         "rawType": "int64",
         "type": "integer"
        },
        {
         "name": "gca_GCA",
         "rawType": "int64",
         "type": "integer"
        },
        {
         "name": "gca_GCA90",
         "rawType": "float64",
         "type": "float"
        },
        {
         "name": "gca_PassLive.1",
         "rawType": "int64",
         "type": "integer"
        },
        {
         "name": "gca_PassDead.1",
         "rawType": "int64",
         "type": "integer"
        },
        {
         "name": "gca_TO.1",
         "rawType": "int64",
         "type": "integer"
        },
        {
         "name": "gca_Sh.1",
         "rawType": "int64",
         "type": "integer"
        },
        {
         "name": "gca_Fld.1",
         "rawType": "int64",
         "type": "integer"
        },
        {
         "name": "gca_Def.1",
         "rawType": "int64",
         "type": "integer"
        },
        {
         "name": "defense_Nation",
         "rawType": "object",
         "type": "string"
        },
        {
         "name": "defense_Pos",
         "rawType": "object",
         "type": "string"
        },
        {
         "name": "defense_Squad",
         "rawType": "object",
         "type": "string"
        },
        {
         "name": "defense_Comp",
         "rawType": "object",
         "type": "string"
        },
        {
         "name": "defense_Age",
         "rawType": "object",
         "type": "string"
        },
        {
         "name": "defense_Born",
         "rawType": "int64",
         "type": "integer"
        },
        {
         "name": "defense_90s",
         "rawType": "float64",
         "type": "float"
        },
        {
         "name": "defense_Tkl",
         "rawType": "int64",
         "type": "integer"
        },
        {
         "name": "defense_TklW",
         "rawType": "int64",
         "type": "integer"
        },
        {
         "name": "defense_Def 3rd",
         "rawType": "int64",
         "type": "integer"
        },
        {
         "name": "defense_Mid 3rd",
         "rawType": "int64",
         "type": "integer"
        },
        {
         "name": "defense_Att 3rd",
         "rawType": "int64",
         "type": "integer"
        },
        {
         "name": "defense_Tkl.1",
         "rawType": "int64",
         "type": "integer"
        },
        {
         "name": "defense_Att",
         "rawType": "int64",
         "type": "integer"
        },
        {
         "name": "defense_Tkl%",
         "rawType": "float64",
         "type": "float"
        },
        {
         "name": "defense_Lost",
         "rawType": "int64",
         "type": "integer"
        },
        {
         "name": "defense_Blocks",
         "rawType": "int64",
         "type": "integer"
        },
        {
         "name": "defense_Sh",
         "rawType": "int64",
         "type": "integer"
        },
        {
         "name": "defense_Pass",
         "rawType": "int64",
         "type": "integer"
        },
        {
         "name": "defense_Int",
         "rawType": "int64",
         "type": "integer"
        },
        {
         "name": "defense_Tkl+Int",
         "rawType": "int64",
         "type": "integer"
        },
        {
         "name": "defense_Clr",
         "rawType": "int64",
         "type": "integer"
        },
        {
         "name": "defense_Err",
         "rawType": "int64",
         "type": "integer"
        },
        {
         "name": "possession_Nation",
         "rawType": "object",
         "type": "string"
        },
        {
         "name": "possession_Pos",
         "rawType": "object",
         "type": "string"
        },
        {
         "name": "possession_Squad",
         "rawType": "object",
         "type": "string"
        },
        {
         "name": "possession_Comp",
         "rawType": "object",
         "type": "string"
        },
        {
         "name": "possession_Age",
         "rawType": "object",
         "type": "string"
        },
        {
         "name": "possession_Born",
         "rawType": "int64",
         "type": "integer"
        },
        {
         "name": "possession_90s",
         "rawType": "float64",
         "type": "float"
        },
        {
         "name": "possession_Touches",
         "rawType": "int64",
         "type": "integer"
        },
        {
         "name": "possession_Def Pen",
         "rawType": "int64",
         "type": "integer"
        },
        {
         "name": "possession_Def 3rd",
         "rawType": "int64",
         "type": "integer"
        },
        {
         "name": "possession_Mid 3rd",
         "rawType": "int64",
         "type": "integer"
        },
        {
         "name": "possession_Att 3rd",
         "rawType": "int64",
         "type": "integer"
        },
        {
         "name": "possession_Att Pen",
         "rawType": "int64",
         "type": "integer"
        },
        {
         "name": "possession_Live",
         "rawType": "int64",
         "type": "integer"
        },
        {
         "name": "possession_Att",
         "rawType": "int64",
         "type": "integer"
        },
        {
         "name": "possession_Succ",
         "rawType": "int64",
         "type": "integer"
        },
        {
         "name": "possession_Succ%",
         "rawType": "float64",
         "type": "float"
        },
        {
         "name": "possession_Tkld",
         "rawType": "int64",
         "type": "integer"
        },
        {
         "name": "possession_Tkld%",
         "rawType": "float64",
         "type": "float"
        },
        {
         "name": "possession_Carries",
         "rawType": "int64",
         "type": "integer"
        },
        {
         "name": "possession_TotDist",
         "rawType": "int64",
         "type": "integer"
        },
        {
         "name": "possession_PrgDist",
         "rawType": "int64",
         "type": "integer"
        },
        {
         "name": "possession_PrgC",
         "rawType": "int64",
         "type": "integer"
        },
        {
         "name": "possession_1/3",
         "rawType": "int64",
         "type": "integer"
        },
        {
         "name": "possession_CPA",
         "rawType": "int64",
         "type": "integer"
        },
        {
         "name": "possession_Mis",
         "rawType": "int64",
         "type": "integer"
        },
        {
         "name": "possession_Dis",
         "rawType": "int64",
         "type": "integer"
        },
        {
         "name": "possession_Rec",
         "rawType": "int64",
         "type": "integer"
        },
        {
         "name": "possession_PrgR",
         "rawType": "int64",
         "type": "integer"
        },
        {
         "name": "playingtime_Nation",
         "rawType": "object",
         "type": "string"
        },
        {
         "name": "playingtime_Pos",
         "rawType": "object",
         "type": "string"
        },
        {
         "name": "playingtime_Squad",
         "rawType": "object",
         "type": "string"
        },
        {
         "name": "playingtime_Comp",
         "rawType": "object",
         "type": "string"
        },
        {
         "name": "playingtime_Age",
         "rawType": "object",
         "type": "string"
        },
        {
         "name": "playingtime_Born",
         "rawType": "int64",
         "type": "integer"
        },
        {
         "name": "playingtime_MP",
         "rawType": "int64",
         "type": "integer"
        },
        {
         "name": "playingtime_Min",
         "rawType": "object",
         "type": "string"
        },
        {
         "name": "playingtime_Mn/MP",
         "rawType": "int64",
         "type": "integer"
        },
        {
         "name": "playingtime_Min%",
         "rawType": "float64",
         "type": "float"
        },
        {
         "name": "playingtime_90s",
         "rawType": "float64",
         "type": "float"
        },
        {
         "name": "playingtime_Starts",
         "rawType": "int64",
         "type": "integer"
        },
        {
         "name": "playingtime_Mn/Start",
         "rawType": "int64",
         "type": "integer"
        },
        {
         "name": "playingtime_Compl",
         "rawType": "int64",
         "type": "integer"
        },
        {
         "name": "playingtime_Subs",
         "rawType": "int64",
         "type": "integer"
        },
        {
         "name": "playingtime_Mn/Sub",
         "rawType": "int64",
         "type": "integer"
        },
        {
         "name": "playingtime_unSub",
         "rawType": "int64",
         "type": "integer"
        },
        {
         "name": "playingtime_PPM",
         "rawType": "float64",
         "type": "float"
        },
        {
         "name": "playingtime_onG",
         "rawType": "int64",
         "type": "integer"
        },
        {
         "name": "playingtime_onGA",
         "rawType": "int64",
         "type": "integer"
        },
        {
         "name": "playingtime_+/-",
         "rawType": "int64",
         "type": "integer"
        },
        {
         "name": "playingtime_+/-90",
         "rawType": "float64",
         "type": "float"
        },
        {
         "name": "playingtime_On-Off",
         "rawType": "float64",
         "type": "float"
        },
        {
         "name": "playingtime_onxG",
         "rawType": "float64",
         "type": "float"
        },
        {
         "name": "playingtime_onxGA",
         "rawType": "float64",
         "type": "float"
        },
        {
         "name": "playingtime_xG+/-",
         "rawType": "float64",
         "type": "float"
        },
        {
         "name": "playingtime_xG+/-90",
         "rawType": "float64",
         "type": "float"
        },
        {
         "name": "playingtime_On-Off.1",
         "rawType": "float64",
         "type": "float"
        },
        {
         "name": "misc_Nation",
         "rawType": "object",
         "type": "string"
        },
        {
         "name": "misc_Pos",
         "rawType": "object",
         "type": "string"
        },
        {
         "name": "misc_Squad",
         "rawType": "object",
         "type": "string"
        },
        {
         "name": "misc_Comp",
         "rawType": "object",
         "type": "string"
        },
        {
         "name": "misc_Age",
         "rawType": "object",
         "type": "string"
        },
        {
         "name": "misc_Born",
         "rawType": "int64",
         "type": "integer"
        },
        {
         "name": "misc_90s",
         "rawType": "float64",
         "type": "float"
        },
        {
         "name": "misc_CrdY",
         "rawType": "int64",
         "type": "integer"
        },
        {
         "name": "misc_CrdR",
         "rawType": "int64",
         "type": "integer"
        },
        {
         "name": "misc_2CrdY",
         "rawType": "int64",
         "type": "integer"
        },
        {
         "name": "misc_Fls",
         "rawType": "int64",
         "type": "integer"
        },
        {
         "name": "misc_Fld",
         "rawType": "int64",
         "type": "integer"
        },
        {
         "name": "misc_Off",
         "rawType": "int64",
         "type": "integer"
        },
        {
         "name": "misc_Crs",
         "rawType": "int64",
         "type": "integer"
        },
        {
         "name": "misc_Int",
         "rawType": "int64",
         "type": "integer"
        },
        {
         "name": "misc_TklW",
         "rawType": "int64",
         "type": "integer"
        },
        {
         "name": "misc_PKwon",
         "rawType": "int64",
         "type": "integer"
        },
        {
         "name": "misc_PKcon",
         "rawType": "int64",
         "type": "integer"
        },
        {
         "name": "misc_OG",
         "rawType": "int64",
         "type": "integer"
        },
        {
         "name": "misc_Recov",
         "rawType": "int64",
         "type": "integer"
        },
        {
         "name": "misc_Won",
         "rawType": "int64",
         "type": "integer"
        },
        {
         "name": "misc_Lost",
         "rawType": "int64",
         "type": "integer"
        },
        {
         "name": "misc_Won%",
         "rawType": "float64",
         "type": "float"
        },
        {
         "name": "first_name",
         "rawType": "object",
         "type": "string"
        },
        {
         "name": "last_name",
         "rawType": "object",
         "type": "string"
        },
        {
         "name": "full_name",
         "rawType": "object",
         "type": "string"
        },
        {
         "name": "market_value_in_eur",
         "rawType": "float64",
         "type": "float"
        },
        {
         "name": "highest_market_value_in_eur",
         "rawType": "float64",
         "type": "float"
        }
       ],
       "conversionMethod": "pd.DataFrame",
       "ref": "271ea86a-49ef-4c2e-af96-93505198b028",
       "rows": [
        [
         "34",
         "Trent Alexander-Arnold",
         "eng ENG",
         "DF",
         "Liverpool",
         "Premier League",
         "26",
         "1998",
         "28",
         "26",
         "2,145",
         "23.8",
         "2",
         "6",
         "8",
         "2",
         "0",
         "0",
         "4",
         "0",
         "1.6",
         "1.6",
         "6.7",
         "8.3",
         "48",
         "204",
         "87",
         "0.08",
         "0.25",
         "0.34",
         "0.08",
         "0.34",
         "0.07",
         "0.28",
         "0.35",
         "0.07",
         "0.35",
         "eng ENG",
         "DF",
         "Liverpool",
         "Premier League",
         "26-181",
         "1998",
         "23.8",
         "2",
         "38",
         "7",
         "18.4",
         "1.59",
         "0.29",
         "0.05",
         "0.29",
         "23.6",
         "2",
         "0",
         "0",
         "1.6",
         "1.6",
         "0.04",
         "0.4",
         "0.4",
         "eng ENG",
         "DF",
         "Liverpool",
         "Premier League",
         "26-181",
         "1998",
         "23.8",
         "1321",
         "1787",
         "73.9",
         "25377",
         "10446",
         "578",
         "642",
         "90.0",
         "535",
         "704",
         "76.0",
         "185",
         "367",
         "50.4",
         "6",
         "6.7",
         "6.7",
         "-0.7",
         "50",
         "187",
         "62",
         "20",
         "204",
         "eng ENG",
         "DF",
         "Liverpool",
         "Premier League",
         "26-181",
         "1998",
         "23.8",
         "1787",
         "1501",
         "277",
         "57",
         "9",
         "31",
         "140",
         "172",
         "48",
         "31",
         "10",
         "1",
         "1321",
         "9",
         "34",
         "eng ENG",
         "DF",
         "Liverpool",
         "Premier League",
         "26-181",
         "1998",
         "23.8",
         "92",
         "3.86",
         "71",
         "14",
         "4",
         "3",
         "0",
         "0",
         "10",
         "0.42",
         "9",
         "1",
         "0",
         "0",
         "0",
         "0",
         "eng ENG",
         "DF",
         "Liverpool",
         "Premier League",
         "26-181",
         "1998",
         "23.8",
         "67",
         "47",
         "41",
         "17",
         "9",
         "46",
         "99",
         "46.5",
         "53",
         "25",
         "8",
         "17",
         "30",
         "97",
         "51",
         "4",
         "eng ENG",
         "DF",
         "Liverpool",
         "Premier League",
         "26-181",
         "1998",
         "23.8",
         "2044",
         "82",
         "546",
         "902",
         "609",
         "39",
         "2044",
         "29",
         "13",
         "44.8",
         "14",
         "48.3",
         "1075",
         "4978",
         "2652",
         "48",
         "35",
         "8",
         "19",
         "15",
         "1299",
         "87",
         "eng ENG",
         "DF",
         "Liverpool",
         "Premier League",
         "26-181",
         "1998",
         "28",
         "2,145",
         "77",
         "79.4",
         "23.8",
         "26",
         "80",
         "12",
         "2",
         "27",
         "0",
         "2.39",
         "60",
         "21",
         "39",
         "1.64",
         "0.99",
         "53.9",
         "18.0",
         "35.9",
         "1.51",
         "0.78",
         "eng ENG",
         "DF",
         "Liverpool",
         "Premier League",
         "26-181",
         "1998",
         "23.8",
         "4",
         "0",
         "0",
         "9",
         "7",
         "1",
         "140",
         "30",
         "47",
         "0",
         "0",
         "0",
         "120",
         "3",
         "12",
         "20.0",
         "Trent",
         "Alexander-Arnold",
         "Trent Alexander-Arnold",
         "75000000.0",
         "110000000.0"
        ],
        [
         "52",
         "Achraf Hakimi",
         "ma MAR",
         "DF",
         "Paris S-G",
         "Ligue 1",
         "26",
         "1998",
         "22",
         "21",
         "1,826",
         "20.3",
         "4",
         "6",
         "10",
         "4",
         "0",
         "0",
         "4",
         "0",
         "2.7",
         "2.7",
         "6.0",
         "8.8",
         "90",
         "159",
         "240",
         "0.2",
         "0.3",
         "0.49",
         "0.2",
         "0.49",
         "0.14",
         "0.3",
         "0.43",
         "0.14",
         "0.43",
         "ma MAR",
         "DF",
         "Paris S-G",
         "Ligue 1",
         "26-153",
         "1998",
         "20.3",
         "4",
         "29",
         "12",
         "41.4",
         "1.43",
         "0.59",
         "0.14",
         "0.33",
         "19.1",
         "5",
         "0",
         "0",
         "2.7",
         "2.7",
         "0.09",
         "1.3",
         "1.3",
         "ma MAR",
         "DF",
         "Paris S-G",
         "Ligue 1",
         "26-153",
         "1998",
         "20.3",
         "1697",
         "1913",
         "88.7",
         "22760",
         "6635",
         "1081",
         "1150",
         "94.0",
         "499",
         "566",
         "88.2",
         "48",
         "75",
         "64.0",
         "6",
         "6.0",
         "4.9",
         "0.0",
         "47",
         "115",
         "33",
         "9",
         "159",
         "ma MAR",
         "DF",
         "Paris S-G",
         "Ligue 1",
         "26-153",
         "1998",
         "20.3",
         "1913",
         "1740",
         "170",
         "30",
         "2",
         "6",
         "71",
         "137",
         "3",
         "0",
         "0",
         "0",
         "1697",
         "3",
         "29",
         "ma MAR",
         "DF",
         "Paris S-G",
         "Ligue 1",
         "26-153",
         "1998",
         "20.3",
         "95",
         "4.68",
         "84",
         "2",
         "3",
         "1",
         "3",
         "2",
         "11",
         "0.54",
         "10",
         "0",
         "1",
         "0",
         "0",
         "0",
         "ma MAR",
         "DF",
         "Paris S-G",
         "Ligue 1",
         "26-153",
         "1998",
         "20.3",
         "44",
         "34",
         "17",
         "17",
         "10",
         "24",
         "48",
         "50.0",
         "24",
         "24",
         "2",
         "22",
         "30",
         "74",
         "15",
         "3",
         "ma MAR",
         "DF",
         "Paris S-G",
         "Ligue 1",
         "26-153",
         "1998",
         "20.3",
         "2122",
         "38",
         "394",
         "879",
         "862",
         "73",
         "2122",
         "45",
         "23",
         "51.1",
         "19",
         "42.2",
         "1223",
         "5506",
         "3288",
         "90",
         "51",
         "19",
         "33",
         "15",
         "1626",
         "240",
         "ma MAR",
         "DF",
         "Paris S-G",
         "Ligue 1",
         "26-153",
         "1998",
         "22",
         "1,826",
         "83",
         "72.5",
         "20.3",
         "21",
         "86",
         "18",
         "1",
         "17",
         "2",
         "2.73",
         "59",
         "15",
         "44",
         "2.17",
         "0.87",
         "55.6",
         "18.3",
         "37.3",
         "1.84",
         "0.57",
         "ma MAR",
         "DF",
         "Paris S-G",
         "Ligue 1",
         "26-153",
         "1998",
         "20.3",
         "4",
         "0",
         "0",
         "18",
         "23",
         "8",
         "71",
         "30",
         "34",
         "0",
         "0",
         "0",
         "124",
         "8",
         "11",
         "42.1",
         "Achraf",
         "Hakimi",
         "Achraf Hakimi",
         "65000000.0",
         "70000000.0"
        ],
        [
         "36",
         "Josko Gvardiol",
         "hr CRO",
         "DF",
         "Manchester City",
         "Premier League",
         "23",
         "2002",
         "29",
         "28",
         "2,557",
         "28.4",
         "5",
         "0",
         "5",
         "5",
         "0",
         "0",
         "1",
         "0",
         "4.2",
         "3.9",
         "2.0",
         "5.9",
         "73",
         "213",
         "95",
         "0.18",
         "0.0",
         "0.18",
         "0.18",
         "0.18",
         "0.15",
         "0.07",
         "0.22",
         "0.14",
         "0.21",
         "hr CRO",
         "DF",
         "Manchester City",
         "Premier League",
         "23-073",
         "2002",
         "28.4",
         "5",
         "35",
         "11",
         "31.4",
         "1.23",
         "0.39",
         "0.14",
         "0.45",
         "13.3",
         "0",
         "0",
         "0",
         "4.2",
         "3.9",
         "0.11",
         "0.8",
         "1.1",
         "hr CRO",
         "DF",
         "Manchester City",
         "Premier League",
         "23-073",
         "2002",
         "28.4",
         "1918",
         "2123",
         "90.3",
         "30774",
         "7902",
         "953",
         "1014",
         "94.0",
         "866",
         "939",
         "92.2",
         "78",
         "113",
         "69.0",
         "0",
         "2.0",
         "2.7",
         "-2.0",
         "25",
         "181",
         "19",
         "1",
         "213",
         "hr CRO",
         "DF",
         "Manchester City",
         "Premier League",
         "23-073",
         "2002",
         "28.4",
         "2123",
         "1954",
         "162",
         "30",
         "4",
         "6",
         "19",
         "132",
         "0",
         "0",
         "0",
         "0",
         "1918",
         "7",
         "25",
         "hr CRO",
         "DF",
         "Manchester City",
         "Premier League",
         "23-073",
         "2002",
         "28.4",
         "63",
         "2.22",
         "58",
         "1",
         "2",
         "2",
         "0",
         "0",
         "6",
         "0.21",
         "5",
         "0",
         "1",
         "0",
         "0",
         "0",
         "hr CRO",
         "DF",
         "Manchester City",
         "Premier League",
         "23-073",
         "2002",
         "28.4",
         "48",
         "32",
         "23",
         "15",
         "10",
         "19",
         "34",
         "55.9",
         "15",
         "33",
         "15",
         "18",
         "30",
         "78",
         "94",
         "8",
         "hr CRO",
         "DF",
         "Manchester City",
         "Premier League",
         "23-073",
         "2002",
         "28.4",
         "2423",
         "100",
         "579",
         "1159",
         "706",
         "81",
         "2423",
         "38",
         "22",
         "57.9",
         "13",
         "34.2",
         "1553",
         "8052",
         "4441",
         "73",
         "88",
         "13",
         "21",
         "15",
         "1767",
         "95",
         "hr CRO",
         "DF",
         "Manchester City",
         "Premier League",
         "23-073",
         "2002",
         "29",
         "2,557",
         "88",
         "94.7",
         "28.4",
         "28",
         "90",
         "25",
         "1",
         "45",
         "1",
         "1.76",
         "55",
         "37",
         "18",
         "0.63",
         "1.26",
         "51.8",
         "35.0",
         "16.8",
         "0.59",
         "2.29",
         "hr CRO",
         "DF",
         "Manchester City",
         "Premier League",
         "23-073",
         "2002",
         "28.4",
         "1",
         "0",
         "0",
         "12",
         "18",
         "2",
         "19",
         "30",
         "32",
         "0",
         "0",
         "0",
         "116",
         "42",
         "26",
         "61.8",
         "Josko",
         "Gvardiol",
         "Josko Gvardiol",
         "75000000.0",
         "80000000.0"
        ],
        [
         "146",
         "Theo Hernandez",
         "fr FRA",
         "DF",
         "Milan",
         "Serie A",
         "27",
         "1997",
         "28",
         "25",
         "2,254",
         "25.0",
         "3",
         "3",
         "6",
         "3",
         "0",
         "1",
         "4",
         "1",
         "2.5",
         "1.7",
         "4.3",
         "6.0",
         "79",
         "123",
         "124",
         "0.12",
         "0.12",
         "0.24",
         "0.12",
         "0.24",
         "0.1",
         "0.17",
         "0.27",
         "0.07",
         "0.24",
         "fr FRA",
         "DF",
         "Milan",
         "Serie A",
         "27-182",
         "1997",
         "25.0",
         "3",
         "36",
         "10",
         "27.8",
         "1.44",
         "0.4",
         "0.08",
         "0.3",
         "20.5",
         "2",
         "0",
         "1",
         "2.5",
         "1.7",
         "0.05",
         "0.5",
         "1.3",
         "fr FRA",
         "DF",
         "Milan",
         "Serie A",
         "27-182",
         "1997",
         "25.0",
         "1163",
         "1385",
         "84.0",
         "18476",
         "5774",
         "616",
         "666",
         "92.5",
         "449",
         "506",
         "88.7",
         "70",
         "146",
         "47.9",
         "3",
         "4.3",
         "3.8",
         "-1.3",
         "41",
         "88",
         "32",
         "11",
         "123",
         "fr FRA",
         "DF",
         "Milan",
         "Serie A",
         "27-182",
         "1997",
         "25.0",
         "1385",
         "1106",
         "274",
         "64",
         "4",
         "7",
         "95",
         "144",
         "66",
         "45",
         "4",
         "0",
         "1163",
         "5",
         "29",
         "fr FRA",
         "DF",
         "Milan",
         "Serie A",
         "27-182",
         "1997",
         "25.0",
         "95",
         "3.79",
         "58",
         "19",
         "6",
         "8",
         "3",
         "1",
         "11",
         "0.44",
         "8",
         "1",
         "0",
         "1",
         "0",
         "1",
         "fr FRA",
         "DF",
         "Milan",
         "Serie A",
         "27-182",
         "1997",
         "25.0",
         "29",
         "22",
         "22",
         "4",
         "3",
         "17",
         "32",
         "53.1",
         "15",
         "22",
         "9",
         "13",
         "14",
         "43",
         "61",
         "3",
         "fr FRA",
         "DF",
         "Milan",
         "Serie A",
         "27-182",
         "1997",
         "25.0",
         "1597",
         "69",
         "412",
         "724",
         "484",
         "53",
         "1596",
         "42",
         "17",
         "40.5",
         "20",
         "47.6",
         "879",
         "5428",
         "3370",
         "79",
         "47",
         "21",
         "24",
         "15",
         "989",
         "124",
         "fr FRA",
         "DF",
         "Milan",
         "Serie A",
         "27-182",
         "1997",
         "28",
         "2,254",
         "81",
         "80.8",
         "25.0",
         "25",
         "86",
         "21",
         "3",
         "37",
         "1",
         "1.57",
         "41",
         "31",
         "10",
         "0.4",
         "0.4",
         "46.1",
         "28.6",
         "17.5",
         "0.7",
         "0.4",
         "fr FRA",
         "DF",
         "Milan",
         "Serie A",
         "27-182",
         "1997",
         "25.0",
         "4",
         "1",
         "0",
         "13",
         "38",
         "2",
         "95",
         "14",
         "22",
         "1",
         "1",
         "0",
         "111",
         "28",
         "13",
         "68.3",
         "Theo",
         "Hernandez",
         "Theo Hernandez",
         "40000000.0",
         "60000000.0"
        ]
       ],
       "shape": {
        "columns": 243,
        "rows": 4
       }
      },
      "text/html": [
       "<div>\n",
       "<style scoped>\n",
       "    .dataframe tbody tr th:only-of-type {\n",
       "        vertical-align: middle;\n",
       "    }\n",
       "\n",
       "    .dataframe tbody tr th {\n",
       "        vertical-align: top;\n",
       "    }\n",
       "\n",
       "    .dataframe thead th {\n",
       "        text-align: right;\n",
       "    }\n",
       "</style>\n",
       "<table border=\"1\" class=\"dataframe\">\n",
       "  <thead>\n",
       "    <tr style=\"text-align: right;\">\n",
       "      <th></th>\n",
       "      <th>Player</th>\n",
       "      <th>stats_Nation</th>\n",
       "      <th>stats_Pos</th>\n",
       "      <th>stats_Squad</th>\n",
       "      <th>stats_Comp</th>\n",
       "      <th>stats_Age</th>\n",
       "      <th>stats_Born</th>\n",
       "      <th>stats_MP</th>\n",
       "      <th>stats_Starts</th>\n",
       "      <th>stats_Min</th>\n",
       "      <th>...</th>\n",
       "      <th>misc_OG</th>\n",
       "      <th>misc_Recov</th>\n",
       "      <th>misc_Won</th>\n",
       "      <th>misc_Lost</th>\n",
       "      <th>misc_Won%</th>\n",
       "      <th>first_name</th>\n",
       "      <th>last_name</th>\n",
       "      <th>full_name</th>\n",
       "      <th>market_value_in_eur</th>\n",
       "      <th>highest_market_value_in_eur</th>\n",
       "    </tr>\n",
       "  </thead>\n",
       "  <tbody>\n",
       "    <tr>\n",
       "      <th>34</th>\n",
       "      <td>Trent Alexander-Arnold</td>\n",
       "      <td>eng ENG</td>\n",
       "      <td>DF</td>\n",
       "      <td>Liverpool</td>\n",
       "      <td>Premier League</td>\n",
       "      <td>26</td>\n",
       "      <td>1998</td>\n",
       "      <td>28</td>\n",
       "      <td>26</td>\n",
       "      <td>2,145</td>\n",
       "      <td>...</td>\n",
       "      <td>0</td>\n",
       "      <td>120</td>\n",
       "      <td>3</td>\n",
       "      <td>12</td>\n",
       "      <td>20.0</td>\n",
       "      <td>Trent</td>\n",
       "      <td>Alexander-Arnold</td>\n",
       "      <td>Trent Alexander-Arnold</td>\n",
       "      <td>75000000.0</td>\n",
       "      <td>110000000.0</td>\n",
       "    </tr>\n",
       "    <tr>\n",
       "      <th>52</th>\n",
       "      <td>Achraf Hakimi</td>\n",
       "      <td>ma MAR</td>\n",
       "      <td>DF</td>\n",
       "      <td>Paris S-G</td>\n",
       "      <td>Ligue 1</td>\n",
       "      <td>26</td>\n",
       "      <td>1998</td>\n",
       "      <td>22</td>\n",
       "      <td>21</td>\n",
       "      <td>1,826</td>\n",
       "      <td>...</td>\n",
       "      <td>0</td>\n",
       "      <td>124</td>\n",
       "      <td>8</td>\n",
       "      <td>11</td>\n",
       "      <td>42.1</td>\n",
       "      <td>Achraf</td>\n",
       "      <td>Hakimi</td>\n",
       "      <td>Achraf Hakimi</td>\n",
       "      <td>65000000.0</td>\n",
       "      <td>70000000.0</td>\n",
       "    </tr>\n",
       "    <tr>\n",
       "      <th>36</th>\n",
       "      <td>Josko Gvardiol</td>\n",
       "      <td>hr CRO</td>\n",
       "      <td>DF</td>\n",
       "      <td>Manchester City</td>\n",
       "      <td>Premier League</td>\n",
       "      <td>23</td>\n",
       "      <td>2002</td>\n",
       "      <td>29</td>\n",
       "      <td>28</td>\n",
       "      <td>2,557</td>\n",
       "      <td>...</td>\n",
       "      <td>0</td>\n",
       "      <td>116</td>\n",
       "      <td>42</td>\n",
       "      <td>26</td>\n",
       "      <td>61.8</td>\n",
       "      <td>Josko</td>\n",
       "      <td>Gvardiol</td>\n",
       "      <td>Josko Gvardiol</td>\n",
       "      <td>75000000.0</td>\n",
       "      <td>80000000.0</td>\n",
       "    </tr>\n",
       "    <tr>\n",
       "      <th>146</th>\n",
       "      <td>Theo Hernandez</td>\n",
       "      <td>fr FRA</td>\n",
       "      <td>DF</td>\n",
       "      <td>Milan</td>\n",
       "      <td>Serie A</td>\n",
       "      <td>27</td>\n",
       "      <td>1997</td>\n",
       "      <td>28</td>\n",
       "      <td>25</td>\n",
       "      <td>2,254</td>\n",
       "      <td>...</td>\n",
       "      <td>0</td>\n",
       "      <td>111</td>\n",
       "      <td>28</td>\n",
       "      <td>13</td>\n",
       "      <td>68.3</td>\n",
       "      <td>Theo</td>\n",
       "      <td>Hernandez</td>\n",
       "      <td>Theo Hernandez</td>\n",
       "      <td>40000000.0</td>\n",
       "      <td>60000000.0</td>\n",
       "    </tr>\n",
       "  </tbody>\n",
       "</table>\n",
       "<p>4 rows × 243 columns</p>\n",
       "</div>"
      ],
      "text/plain": [
       "                     Player stats_Nation stats_Pos      stats_Squad  \\\n",
       "34   Trent Alexander-Arnold      eng ENG        DF        Liverpool   \n",
       "52            Achraf Hakimi       ma MAR        DF        Paris S-G   \n",
       "36           Josko Gvardiol       hr CRO        DF  Manchester City   \n",
       "146          Theo Hernandez       fr FRA        DF            Milan   \n",
       "\n",
       "         stats_Comp  stats_Age  stats_Born  stats_MP  stats_Starts stats_Min  \\\n",
       "34   Premier League         26        1998        28            26     2,145   \n",
       "52          Ligue 1         26        1998        22            21     1,826   \n",
       "36   Premier League         23        2002        29            28     2,557   \n",
       "146         Serie A         27        1997        28            25     2,254   \n",
       "\n",
       "     ...  misc_OG  misc_Recov  misc_Won  misc_Lost  misc_Won%  first_name  \\\n",
       "34   ...        0         120         3         12       20.0       Trent   \n",
       "52   ...        0         124         8         11       42.1      Achraf   \n",
       "36   ...        0         116        42         26       61.8       Josko   \n",
       "146  ...        0         111        28         13       68.3        Theo   \n",
       "\n",
       "            last_name               full_name  market_value_in_eur  \\\n",
       "34   Alexander-Arnold  Trent Alexander-Arnold           75000000.0   \n",
       "52             Hakimi           Achraf Hakimi           65000000.0   \n",
       "36           Gvardiol          Josko Gvardiol           75000000.0   \n",
       "146         Hernandez          Theo Hernandez           40000000.0   \n",
       "\n",
       "     highest_market_value_in_eur  \n",
       "34                   110000000.0  \n",
       "52                    70000000.0  \n",
       "36                    80000000.0  \n",
       "146                   60000000.0  \n",
       "\n",
       "[4 rows x 243 columns]"
      ]
     },
     "metadata": {},
     "output_type": "display_data"
    },
    {
     "data": {
      "application/vnd.microsoft.datawrangler.viewer.v0+json": {
       "columns": [
        {
         "name": "index",
         "rawType": "int64",
         "type": "integer"
        },
        {
         "name": "Player",
         "rawType": "object",
         "type": "string"
        },
        {
         "name": "stats_Nation",
         "rawType": "object",
         "type": "string"
        },
        {
         "name": "stats_Pos",
         "rawType": "object",
         "type": "string"
        },
        {
         "name": "stats_Squad",
         "rawType": "object",
         "type": "string"
        },
        {
         "name": "stats_Comp",
         "rawType": "object",
         "type": "string"
        },
        {
         "name": "stats_Age",
         "rawType": "int64",
         "type": "integer"
        },
        {
         "name": "stats_Born",
         "rawType": "int64",
         "type": "integer"
        },
        {
         "name": "stats_MP",
         "rawType": "int64",
         "type": "integer"
        },
        {
         "name": "stats_Starts",
         "rawType": "int64",
         "type": "integer"
        },
        {
         "name": "stats_Min",
         "rawType": "object",
         "type": "string"
        },
        {
         "name": "stats_90s",
         "rawType": "float64",
         "type": "float"
        },
        {
         "name": "stats_Gls",
         "rawType": "int64",
         "type": "integer"
        },
        {
         "name": "stats_Ast",
         "rawType": "int64",
         "type": "integer"
        },
        {
         "name": "stats_G+A",
         "rawType": "int64",
         "type": "integer"
        },
        {
         "name": "stats_G-PK",
         "rawType": "int64",
         "type": "integer"
        },
        {
         "name": "stats_PK",
         "rawType": "int64",
         "type": "integer"
        },
        {
         "name": "stats_PKatt",
         "rawType": "int64",
         "type": "integer"
        },
        {
         "name": "stats_CrdY",
         "rawType": "int64",
         "type": "integer"
        },
        {
         "name": "stats_CrdR",
         "rawType": "int64",
         "type": "integer"
        },
        {
         "name": "stats_xG",
         "rawType": "float64",
         "type": "float"
        },
        {
         "name": "stats_npxG",
         "rawType": "float64",
         "type": "float"
        },
        {
         "name": "stats_xAG",
         "rawType": "float64",
         "type": "float"
        },
        {
         "name": "stats_npxG+xAG",
         "rawType": "float64",
         "type": "float"
        },
        {
         "name": "stats_PrgC",
         "rawType": "int64",
         "type": "integer"
        },
        {
         "name": "stats_PrgP",
         "rawType": "int64",
         "type": "integer"
        },
        {
         "name": "stats_PrgR",
         "rawType": "int64",
         "type": "integer"
        },
        {
         "name": "stats_Gls.1",
         "rawType": "float64",
         "type": "float"
        },
        {
         "name": "stats_Ast.1",
         "rawType": "float64",
         "type": "float"
        },
        {
         "name": "stats_G+A.1",
         "rawType": "float64",
         "type": "float"
        },
        {
         "name": "stats_G-PK.1",
         "rawType": "float64",
         "type": "float"
        },
        {
         "name": "stats_G+A-PK",
         "rawType": "float64",
         "type": "float"
        },
        {
         "name": "stats_xG.1",
         "rawType": "float64",
         "type": "float"
        },
        {
         "name": "stats_xAG.1",
         "rawType": "float64",
         "type": "float"
        },
        {
         "name": "stats_xG+xAG",
         "rawType": "float64",
         "type": "float"
        },
        {
         "name": "stats_npxG.1",
         "rawType": "float64",
         "type": "float"
        },
        {
         "name": "stats_npxG+xAG.1",
         "rawType": "float64",
         "type": "float"
        },
        {
         "name": "shooting_Nation",
         "rawType": "object",
         "type": "string"
        },
        {
         "name": "shooting_Pos",
         "rawType": "object",
         "type": "string"
        },
        {
         "name": "shooting_Squad",
         "rawType": "object",
         "type": "string"
        },
        {
         "name": "shooting_Comp",
         "rawType": "object",
         "type": "string"
        },
        {
         "name": "shooting_Age",
         "rawType": "object",
         "type": "string"
        },
        {
         "name": "shooting_Born",
         "rawType": "int64",
         "type": "integer"
        },
        {
         "name": "shooting_90s",
         "rawType": "float64",
         "type": "float"
        },
        {
         "name": "shooting_Gls",
         "rawType": "int64",
         "type": "integer"
        },
        {
         "name": "shooting_Sh",
         "rawType": "int64",
         "type": "integer"
        },
        {
         "name": "shooting_SoT",
         "rawType": "int64",
         "type": "integer"
        },
        {
         "name": "shooting_SoT%",
         "rawType": "float64",
         "type": "float"
        },
        {
         "name": "shooting_Sh/90",
         "rawType": "float64",
         "type": "float"
        },
        {
         "name": "shooting_SoT/90",
         "rawType": "float64",
         "type": "float"
        },
        {
         "name": "shooting_G/Sh",
         "rawType": "float64",
         "type": "float"
        },
        {
         "name": "shooting_G/SoT",
         "rawType": "float64",
         "type": "float"
        },
        {
         "name": "shooting_Dist",
         "rawType": "float64",
         "type": "float"
        },
        {
         "name": "shooting_FK",
         "rawType": "int64",
         "type": "integer"
        },
        {
         "name": "shooting_PK",
         "rawType": "int64",
         "type": "integer"
        },
        {
         "name": "shooting_PKatt",
         "rawType": "int64",
         "type": "integer"
        },
        {
         "name": "shooting_xG",
         "rawType": "float64",
         "type": "float"
        },
        {
         "name": "shooting_npxG",
         "rawType": "float64",
         "type": "float"
        },
        {
         "name": "shooting_npxG/Sh",
         "rawType": "float64",
         "type": "float"
        },
        {
         "name": "shooting_G-xG",
         "rawType": "float64",
         "type": "float"
        },
        {
         "name": "shooting_np:G-xG",
         "rawType": "float64",
         "type": "float"
        },
        {
         "name": "passing_Nation",
         "rawType": "object",
         "type": "string"
        },
        {
         "name": "passing_Pos",
         "rawType": "object",
         "type": "string"
        },
        {
         "name": "passing_Squad",
         "rawType": "object",
         "type": "string"
        },
        {
         "name": "passing_Comp",
         "rawType": "object",
         "type": "string"
        },
        {
         "name": "passing_Age",
         "rawType": "object",
         "type": "string"
        },
        {
         "name": "passing_Born",
         "rawType": "int64",
         "type": "integer"
        },
        {
         "name": "passing_90s",
         "rawType": "float64",
         "type": "float"
        },
        {
         "name": "passing_Cmp",
         "rawType": "int64",
         "type": "integer"
        },
        {
         "name": "passing_Att",
         "rawType": "int64",
         "type": "integer"
        },
        {
         "name": "passing_Cmp%",
         "rawType": "float64",
         "type": "float"
        },
        {
         "name": "passing_TotDist",
         "rawType": "int64",
         "type": "integer"
        },
        {
         "name": "passing_PrgDist",
         "rawType": "int64",
         "type": "integer"
        },
        {
         "name": "passing_Cmp.1",
         "rawType": "int64",
         "type": "integer"
        },
        {
         "name": "passing_Att.1",
         "rawType": "int64",
         "type": "integer"
        },
        {
         "name": "passing_Cmp%.1",
         "rawType": "float64",
         "type": "float"
        },
        {
         "name": "passing_Cmp.2",
         "rawType": "int64",
         "type": "integer"
        },
        {
         "name": "passing_Att.2",
         "rawType": "int64",
         "type": "integer"
        },
        {
         "name": "passing_Cmp%.2",
         "rawType": "float64",
         "type": "float"
        },
        {
         "name": "passing_Cmp.3",
         "rawType": "int64",
         "type": "integer"
        },
        {
         "name": "passing_Att.3",
         "rawType": "int64",
         "type": "integer"
        },
        {
         "name": "passing_Cmp%.3",
         "rawType": "float64",
         "type": "float"
        },
        {
         "name": "passing_Ast",
         "rawType": "int64",
         "type": "integer"
        },
        {
         "name": "passing_xAG",
         "rawType": "float64",
         "type": "float"
        },
        {
         "name": "passing_xA",
         "rawType": "float64",
         "type": "float"
        },
        {
         "name": "passing_A-xAG",
         "rawType": "float64",
         "type": "float"
        },
        {
         "name": "passing_KP",
         "rawType": "int64",
         "type": "integer"
        },
        {
         "name": "passing_1/3",
         "rawType": "int64",
         "type": "integer"
        },
        {
         "name": "passing_PPA",
         "rawType": "int64",
         "type": "integer"
        },
        {
         "name": "passing_CrsPA",
         "rawType": "int64",
         "type": "integer"
        },
        {
         "name": "passing_PrgP",
         "rawType": "int64",
         "type": "integer"
        },
        {
         "name": "passing_types_Nation",
         "rawType": "object",
         "type": "string"
        },
        {
         "name": "passing_types_Pos",
         "rawType": "object",
         "type": "string"
        },
        {
         "name": "passing_types_Squad",
         "rawType": "object",
         "type": "string"
        },
        {
         "name": "passing_types_Comp",
         "rawType": "object",
         "type": "string"
        },
        {
         "name": "passing_types_Age",
         "rawType": "object",
         "type": "string"
        },
        {
         "name": "passing_types_Born",
         "rawType": "int64",
         "type": "integer"
        },
        {
         "name": "passing_types_90s",
         "rawType": "float64",
         "type": "float"
        },
        {
         "name": "passing_types_Att",
         "rawType": "int64",
         "type": "integer"
        },
        {
         "name": "passing_types_Live",
         "rawType": "int64",
         "type": "integer"
        },
        {
         "name": "passing_types_Dead",
         "rawType": "int64",
         "type": "integer"
        },
        {
         "name": "passing_types_FK",
         "rawType": "int64",
         "type": "integer"
        },
        {
         "name": "passing_types_TB",
         "rawType": "int64",
         "type": "integer"
        },
        {
         "name": "passing_types_Sw",
         "rawType": "int64",
         "type": "integer"
        },
        {
         "name": "passing_types_Crs",
         "rawType": "int64",
         "type": "integer"
        },
        {
         "name": "passing_types_TI",
         "rawType": "int64",
         "type": "integer"
        },
        {
         "name": "passing_types_CK",
         "rawType": "int64",
         "type": "integer"
        },
        {
         "name": "passing_types_In",
         "rawType": "int64",
         "type": "integer"
        },
        {
         "name": "passing_types_Out",
         "rawType": "int64",
         "type": "integer"
        },
        {
         "name": "passing_types_Str",
         "rawType": "int64",
         "type": "integer"
        },
        {
         "name": "passing_types_Cmp",
         "rawType": "int64",
         "type": "integer"
        },
        {
         "name": "passing_types_Off",
         "rawType": "int64",
         "type": "integer"
        },
        {
         "name": "passing_types_Blocks",
         "rawType": "int64",
         "type": "integer"
        },
        {
         "name": "gca_Nation",
         "rawType": "object",
         "type": "string"
        },
        {
         "name": "gca_Pos",
         "rawType": "object",
         "type": "string"
        },
        {
         "name": "gca_Squad",
         "rawType": "object",
         "type": "string"
        },
        {
         "name": "gca_Comp",
         "rawType": "object",
         "type": "string"
        },
        {
         "name": "gca_Age",
         "rawType": "object",
         "type": "string"
        },
        {
         "name": "gca_Born",
         "rawType": "int64",
         "type": "integer"
        },
        {
         "name": "gca_90s",
         "rawType": "float64",
         "type": "float"
        },
        {
         "name": "gca_SCA",
         "rawType": "int64",
         "type": "integer"
        },
        {
         "name": "gca_SCA90",
         "rawType": "float64",
         "type": "float"
        },
        {
         "name": "gca_PassLive",
         "rawType": "int64",
         "type": "integer"
        },
        {
         "name": "gca_PassDead",
         "rawType": "int64",
         "type": "integer"
        },
        {
         "name": "gca_TO",
         "rawType": "int64",
         "type": "integer"
        },
        {
         "name": "gca_Sh",
         "rawType": "int64",
         "type": "integer"
        },
        {
         "name": "gca_Fld",
         "rawType": "int64",
         "type": "integer"
        },
        {
         "name": "gca_Def",
         "rawType": "int64",
         "type": "integer"
        },
        {
         "name": "gca_GCA",
         "rawType": "int64",
         "type": "integer"
        },
        {
         "name": "gca_GCA90",
         "rawType": "float64",
         "type": "float"
        },
        {
         "name": "gca_PassLive.1",
         "rawType": "int64",
         "type": "integer"
        },
        {
         "name": "gca_PassDead.1",
         "rawType": "int64",
         "type": "integer"
        },
        {
         "name": "gca_TO.1",
         "rawType": "int64",
         "type": "integer"
        },
        {
         "name": "gca_Sh.1",
         "rawType": "int64",
         "type": "integer"
        },
        {
         "name": "gca_Fld.1",
         "rawType": "int64",
         "type": "integer"
        },
        {
         "name": "gca_Def.1",
         "rawType": "int64",
         "type": "integer"
        },
        {
         "name": "defense_Nation",
         "rawType": "object",
         "type": "string"
        },
        {
         "name": "defense_Pos",
         "rawType": "object",
         "type": "string"
        },
        {
         "name": "defense_Squad",
         "rawType": "object",
         "type": "string"
        },
        {
         "name": "defense_Comp",
         "rawType": "object",
         "type": "string"
        },
        {
         "name": "defense_Age",
         "rawType": "object",
         "type": "string"
        },
        {
         "name": "defense_Born",
         "rawType": "int64",
         "type": "integer"
        },
        {
         "name": "defense_90s",
         "rawType": "float64",
         "type": "float"
        },
        {
         "name": "defense_Tkl",
         "rawType": "int64",
         "type": "integer"
        },
        {
         "name": "defense_TklW",
         "rawType": "int64",
         "type": "integer"
        },
        {
         "name": "defense_Def 3rd",
         "rawType": "int64",
         "type": "integer"
        },
        {
         "name": "defense_Mid 3rd",
         "rawType": "int64",
         "type": "integer"
        },
        {
         "name": "defense_Att 3rd",
         "rawType": "int64",
         "type": "integer"
        },
        {
         "name": "defense_Tkl.1",
         "rawType": "int64",
         "type": "integer"
        },
        {
         "name": "defense_Att",
         "rawType": "int64",
         "type": "integer"
        },
        {
         "name": "defense_Tkl%",
         "rawType": "float64",
         "type": "float"
        },
        {
         "name": "defense_Lost",
         "rawType": "int64",
         "type": "integer"
        },
        {
         "name": "defense_Blocks",
         "rawType": "int64",
         "type": "integer"
        },
        {
         "name": "defense_Sh",
         "rawType": "int64",
         "type": "integer"
        },
        {
         "name": "defense_Pass",
         "rawType": "int64",
         "type": "integer"
        },
        {
         "name": "defense_Int",
         "rawType": "int64",
         "type": "integer"
        },
        {
         "name": "defense_Tkl+Int",
         "rawType": "int64",
         "type": "integer"
        },
        {
         "name": "defense_Clr",
         "rawType": "int64",
         "type": "integer"
        },
        {
         "name": "defense_Err",
         "rawType": "int64",
         "type": "integer"
        },
        {
         "name": "possession_Nation",
         "rawType": "object",
         "type": "string"
        },
        {
         "name": "possession_Pos",
         "rawType": "object",
         "type": "string"
        },
        {
         "name": "possession_Squad",
         "rawType": "object",
         "type": "string"
        },
        {
         "name": "possession_Comp",
         "rawType": "object",
         "type": "string"
        },
        {
         "name": "possession_Age",
         "rawType": "object",
         "type": "string"
        },
        {
         "name": "possession_Born",
         "rawType": "int64",
         "type": "integer"
        },
        {
         "name": "possession_90s",
         "rawType": "float64",
         "type": "float"
        },
        {
         "name": "possession_Touches",
         "rawType": "int64",
         "type": "integer"
        },
        {
         "name": "possession_Def Pen",
         "rawType": "int64",
         "type": "integer"
        },
        {
         "name": "possession_Def 3rd",
         "rawType": "int64",
         "type": "integer"
        },
        {
         "name": "possession_Mid 3rd",
         "rawType": "int64",
         "type": "integer"
        },
        {
         "name": "possession_Att 3rd",
         "rawType": "int64",
         "type": "integer"
        },
        {
         "name": "possession_Att Pen",
         "rawType": "int64",
         "type": "integer"
        },
        {
         "name": "possession_Live",
         "rawType": "int64",
         "type": "integer"
        },
        {
         "name": "possession_Att",
         "rawType": "int64",
         "type": "integer"
        },
        {
         "name": "possession_Succ",
         "rawType": "int64",
         "type": "integer"
        },
        {
         "name": "possession_Succ%",
         "rawType": "float64",
         "type": "float"
        },
        {
         "name": "possession_Tkld",
         "rawType": "int64",
         "type": "integer"
        },
        {
         "name": "possession_Tkld%",
         "rawType": "float64",
         "type": "float"
        },
        {
         "name": "possession_Carries",
         "rawType": "int64",
         "type": "integer"
        },
        {
         "name": "possession_TotDist",
         "rawType": "int64",
         "type": "integer"
        },
        {
         "name": "possession_PrgDist",
         "rawType": "int64",
         "type": "integer"
        },
        {
         "name": "possession_PrgC",
         "rawType": "int64",
         "type": "integer"
        },
        {
         "name": "possession_1/3",
         "rawType": "int64",
         "type": "integer"
        },
        {
         "name": "possession_CPA",
         "rawType": "int64",
         "type": "integer"
        },
        {
         "name": "possession_Mis",
         "rawType": "int64",
         "type": "integer"
        },
        {
         "name": "possession_Dis",
         "rawType": "int64",
         "type": "integer"
        },
        {
         "name": "possession_Rec",
         "rawType": "int64",
         "type": "integer"
        },
        {
         "name": "possession_PrgR",
         "rawType": "int64",
         "type": "integer"
        },
        {
         "name": "playingtime_Nation",
         "rawType": "object",
         "type": "string"
        },
        {
         "name": "playingtime_Pos",
         "rawType": "object",
         "type": "string"
        },
        {
         "name": "playingtime_Squad",
         "rawType": "object",
         "type": "string"
        },
        {
         "name": "playingtime_Comp",
         "rawType": "object",
         "type": "string"
        },
        {
         "name": "playingtime_Age",
         "rawType": "object",
         "type": "string"
        },
        {
         "name": "playingtime_Born",
         "rawType": "int64",
         "type": "integer"
        },
        {
         "name": "playingtime_MP",
         "rawType": "int64",
         "type": "integer"
        },
        {
         "name": "playingtime_Min",
         "rawType": "object",
         "type": "string"
        },
        {
         "name": "playingtime_Mn/MP",
         "rawType": "int64",
         "type": "integer"
        },
        {
         "name": "playingtime_Min%",
         "rawType": "float64",
         "type": "float"
        },
        {
         "name": "playingtime_90s",
         "rawType": "float64",
         "type": "float"
        },
        {
         "name": "playingtime_Starts",
         "rawType": "int64",
         "type": "integer"
        },
        {
         "name": "playingtime_Mn/Start",
         "rawType": "int64",
         "type": "integer"
        },
        {
         "name": "playingtime_Compl",
         "rawType": "int64",
         "type": "integer"
        },
        {
         "name": "playingtime_Subs",
         "rawType": "int64",
         "type": "integer"
        },
        {
         "name": "playingtime_Mn/Sub",
         "rawType": "int64",
         "type": "integer"
        },
        {
         "name": "playingtime_unSub",
         "rawType": "int64",
         "type": "integer"
        },
        {
         "name": "playingtime_PPM",
         "rawType": "float64",
         "type": "float"
        },
        {
         "name": "playingtime_onG",
         "rawType": "int64",
         "type": "integer"
        },
        {
         "name": "playingtime_onGA",
         "rawType": "int64",
         "type": "integer"
        },
        {
         "name": "playingtime_+/-",
         "rawType": "int64",
         "type": "integer"
        },
        {
         "name": "playingtime_+/-90",
         "rawType": "float64",
         "type": "float"
        },
        {
         "name": "playingtime_On-Off",
         "rawType": "float64",
         "type": "float"
        },
        {
         "name": "playingtime_onxG",
         "rawType": "float64",
         "type": "float"
        },
        {
         "name": "playingtime_onxGA",
         "rawType": "float64",
         "type": "float"
        },
        {
         "name": "playingtime_xG+/-",
         "rawType": "float64",
         "type": "float"
        },
        {
         "name": "playingtime_xG+/-90",
         "rawType": "float64",
         "type": "float"
        },
        {
         "name": "playingtime_On-Off.1",
         "rawType": "float64",
         "type": "float"
        },
        {
         "name": "misc_Nation",
         "rawType": "object",
         "type": "string"
        },
        {
         "name": "misc_Pos",
         "rawType": "object",
         "type": "string"
        },
        {
         "name": "misc_Squad",
         "rawType": "object",
         "type": "string"
        },
        {
         "name": "misc_Comp",
         "rawType": "object",
         "type": "string"
        },
        {
         "name": "misc_Age",
         "rawType": "object",
         "type": "string"
        },
        {
         "name": "misc_Born",
         "rawType": "int64",
         "type": "integer"
        },
        {
         "name": "misc_90s",
         "rawType": "float64",
         "type": "float"
        },
        {
         "name": "misc_CrdY",
         "rawType": "int64",
         "type": "integer"
        },
        {
         "name": "misc_CrdR",
         "rawType": "int64",
         "type": "integer"
        },
        {
         "name": "misc_2CrdY",
         "rawType": "int64",
         "type": "integer"
        },
        {
         "name": "misc_Fls",
         "rawType": "int64",
         "type": "integer"
        },
        {
         "name": "misc_Fld",
         "rawType": "int64",
         "type": "integer"
        },
        {
         "name": "misc_Off",
         "rawType": "int64",
         "type": "integer"
        },
        {
         "name": "misc_Crs",
         "rawType": "int64",
         "type": "integer"
        },
        {
         "name": "misc_Int",
         "rawType": "int64",
         "type": "integer"
        },
        {
         "name": "misc_TklW",
         "rawType": "int64",
         "type": "integer"
        },
        {
         "name": "misc_PKwon",
         "rawType": "int64",
         "type": "integer"
        },
        {
         "name": "misc_PKcon",
         "rawType": "int64",
         "type": "integer"
        },
        {
         "name": "misc_OG",
         "rawType": "int64",
         "type": "integer"
        },
        {
         "name": "misc_Recov",
         "rawType": "int64",
         "type": "integer"
        },
        {
         "name": "misc_Won",
         "rawType": "int64",
         "type": "integer"
        },
        {
         "name": "misc_Lost",
         "rawType": "int64",
         "type": "integer"
        },
        {
         "name": "misc_Won%",
         "rawType": "float64",
         "type": "float"
        },
        {
         "name": "first_name",
         "rawType": "object",
         "type": "string"
        },
        {
         "name": "last_name",
         "rawType": "object",
         "type": "string"
        },
        {
         "name": "full_name",
         "rawType": "object",
         "type": "string"
        },
        {
         "name": "market_value_in_eur",
         "rawType": "float64",
         "type": "float"
        },
        {
         "name": "highest_market_value_in_eur",
         "rawType": "float64",
         "type": "float"
        }
       ],
       "conversionMethod": "pd.DataFrame",
       "ref": "44dfba6e-9af8-44ca-baa9-528685e328b0",
       "rows": [
        [
         "825",
         "Mark Flekken",
         "nl NED",
         "GK",
         "Brentford",
         "Premier League",
         "31",
         "1993",
         "29",
         "29",
         "2,555",
         "28.4",
         "0",
         "1",
         "1",
         "0",
         "0",
         "0",
         "1",
         "0",
         "0.0",
         "0.0",
         "0.2",
         "0.2",
         "0",
         "0",
         "0",
         "0.0",
         "0.04",
         "0.04",
         "0.0",
         "0.04",
         "0.0",
         "0.01",
         "0.01",
         "0.0",
         "0.01",
         "nl NED",
         "GK",
         "Brentford",
         "Premier League",
         "31-297",
         "1993",
         "28.4",
         "0",
         "0",
         "0",
         "0.0",
         "0.0",
         "0.0",
         "0.0",
         "0.0",
         "0.0",
         "0",
         "0",
         "0",
         "0.0",
         "0.0",
         "0.0",
         "0.0",
         "0.0",
         "nl NED",
         "GK",
         "Brentford",
         "Premier League",
         "31-297",
         "1993",
         "28.4",
         "1012",
         "1375",
         "73.6",
         "29471",
         "19978",
         "125",
         "128",
         "97.7",
         "553",
         "568",
         "97.4",
         "334",
         "673",
         "49.6",
         "1",
         "0.2",
         "0.1",
         "0.8",
         "2",
         "40",
         "2",
         "0",
         "0",
         "nl NED",
         "GK",
         "Brentford",
         "Premier League",
         "31-297",
         "1993",
         "28.4",
         "1375",
         "1104",
         "265",
         "112",
         "0",
         "5",
         "0",
         "0",
         "0",
         "0",
         "0",
         "0",
         "1012",
         "6",
         "0",
         "nl NED",
         "GK",
         "Brentford",
         "Premier League",
         "31-297",
         "1993",
         "28.4",
         "7",
         "0.25",
         "4",
         "3",
         "0",
         "0",
         "0",
         "0",
         "1",
         "0.04",
         "0",
         "1",
         "0",
         "0",
         "0",
         "0",
         "nl NED",
         "GK",
         "Brentford",
         "Premier League",
         "31-297",
         "1993",
         "28.4",
         "3",
         "3",
         "3",
         "0",
         "0",
         "2",
         "7",
         "28.6",
         "5",
         "1",
         "0",
         "1",
         "0",
         "3",
         "23",
         "3",
         "nl NED",
         "GK",
         "Brentford",
         "Premier League",
         "31-297",
         "1993",
         "28.4",
         "1461",
         "1139",
         "1418",
         "48",
         "0",
         "0",
         "1461",
         "1",
         "1",
         "100.0",
         "0",
         "0.0",
         "897",
         "4519",
         "2561",
         "0",
         "0",
         "0",
         "2",
         "0",
         "826",
         "0",
         "nl NED",
         "GK",
         "Brentford",
         "Premier League",
         "31-297",
         "1993",
         "29",
         "2,555",
         "88",
         "94.6",
         "28.4",
         "29",
         "88",
         "28",
         "0",
         "0",
         "0",
         "1.41",
         "51",
         "45",
         "6",
         "0.21",
         "1.45",
         "43.1",
         "45.0",
         "-1.9",
         "-0.07",
         "-1.09",
         "nl NED",
         "GK",
         "Brentford",
         "Premier League",
         "31-297",
         "1993",
         "28.4",
         "1",
         "0",
         "0",
         "0",
         "3",
         "0",
         "0",
         "0",
         "3",
         "0",
         "0",
         "0",
         "35",
         "4",
         "0",
         "100.0",
         "Mark",
         "Flekken",
         "Mark Flekken",
         "10000000.0",
         "12000000.0"
        ]
       ],
       "shape": {
        "columns": 243,
        "rows": 1
       }
      },
      "text/html": [
       "<div>\n",
       "<style scoped>\n",
       "    .dataframe tbody tr th:only-of-type {\n",
       "        vertical-align: middle;\n",
       "    }\n",
       "\n",
       "    .dataframe tbody tr th {\n",
       "        vertical-align: top;\n",
       "    }\n",
       "\n",
       "    .dataframe thead th {\n",
       "        text-align: right;\n",
       "    }\n",
       "</style>\n",
       "<table border=\"1\" class=\"dataframe\">\n",
       "  <thead>\n",
       "    <tr style=\"text-align: right;\">\n",
       "      <th></th>\n",
       "      <th>Player</th>\n",
       "      <th>stats_Nation</th>\n",
       "      <th>stats_Pos</th>\n",
       "      <th>stats_Squad</th>\n",
       "      <th>stats_Comp</th>\n",
       "      <th>stats_Age</th>\n",
       "      <th>stats_Born</th>\n",
       "      <th>stats_MP</th>\n",
       "      <th>stats_Starts</th>\n",
       "      <th>stats_Min</th>\n",
       "      <th>...</th>\n",
       "      <th>misc_OG</th>\n",
       "      <th>misc_Recov</th>\n",
       "      <th>misc_Won</th>\n",
       "      <th>misc_Lost</th>\n",
       "      <th>misc_Won%</th>\n",
       "      <th>first_name</th>\n",
       "      <th>last_name</th>\n",
       "      <th>full_name</th>\n",
       "      <th>market_value_in_eur</th>\n",
       "      <th>highest_market_value_in_eur</th>\n",
       "    </tr>\n",
       "  </thead>\n",
       "  <tbody>\n",
       "    <tr>\n",
       "      <th>825</th>\n",
       "      <td>Mark Flekken</td>\n",
       "      <td>nl NED</td>\n",
       "      <td>GK</td>\n",
       "      <td>Brentford</td>\n",
       "      <td>Premier League</td>\n",
       "      <td>31</td>\n",
       "      <td>1993</td>\n",
       "      <td>29</td>\n",
       "      <td>29</td>\n",
       "      <td>2,555</td>\n",
       "      <td>...</td>\n",
       "      <td>0</td>\n",
       "      <td>35</td>\n",
       "      <td>4</td>\n",
       "      <td>0</td>\n",
       "      <td>100.0</td>\n",
       "      <td>Mark</td>\n",
       "      <td>Flekken</td>\n",
       "      <td>Mark Flekken</td>\n",
       "      <td>10000000.0</td>\n",
       "      <td>12000000.0</td>\n",
       "    </tr>\n",
       "  </tbody>\n",
       "</table>\n",
       "<p>1 rows × 243 columns</p>\n",
       "</div>"
      ],
      "text/plain": [
       "           Player stats_Nation stats_Pos stats_Squad      stats_Comp  \\\n",
       "825  Mark Flekken       nl NED        GK   Brentford  Premier League   \n",
       "\n",
       "     stats_Age  stats_Born  stats_MP  stats_Starts stats_Min  ...  misc_OG  \\\n",
       "825         31        1993        29            29     2,555  ...        0   \n",
       "\n",
       "     misc_Recov  misc_Won  misc_Lost  misc_Won%  first_name  last_name  \\\n",
       "825          35         4          0      100.0        Mark    Flekken   \n",
       "\n",
       "        full_name  market_value_in_eur  highest_market_value_in_eur  \n",
       "825  Mark Flekken           10000000.0                   12000000.0  \n",
       "\n",
       "[1 rows x 243 columns]"
      ]
     },
     "metadata": {},
     "output_type": "display_data"
    }
   ],
   "source": [
    "# 11 ideal según estadísticas\n",
    "# Formación: 4-3-3\n",
    "\n",
    "display(\n",
    "    mejores_jugadores(\"delanteros\", 3),\n",
    "    mejores_jugadores(\"mediocampistas\", 3),\n",
    "    mejores_jugadores(\"defensores\", 4),\n",
    "    mejores_jugadores(\"arqueros\", 1)\n",
    ")\n",
    "\n",
    "#Obs: El dataset que conseguimos, no tiene estadísticas específicas de los arqueros (paradas, arcos en 0, penales atajados, etc.)\n",
    "#      lo cual explica por qué el resultado no es el Dibu Martínez."
   ]
  },
  {
   "cell_type": "code",
   "execution_count": 19,
   "id": "866c4b2a",
   "metadata": {},
   "outputs": [
    {
     "data": {
      "application/vnd.microsoft.datawrangler.viewer.v0+json": {
       "columns": [
        {
         "name": "index",
         "rawType": "int64",
         "type": "integer"
        },
        {
         "name": "Jugador",
         "rawType": "object",
         "type": "string"
        },
        {
         "name": "Equipo",
         "rawType": "object",
         "type": "string"
        },
        {
         "name": "Competición",
         "rawType": "object",
         "type": "string"
        },
        {
         "name": "Posición",
         "rawType": "object",
         "type": "string"
        },
        {
         "name": "Edad",
         "rawType": "int64",
         "type": "integer"
        },
        {
         "name": "Partidos",
         "rawType": "int64",
         "type": "integer"
        },
        {
         "name": "Minutos",
         "rawType": "int64",
         "type": "integer"
        },
        {
         "name": "Goles",
         "rawType": "int64",
         "type": "integer"
        },
        {
         "name": "Asistencias",
         "rawType": "int64",
         "type": "integer"
        },
        {
         "name": "xG",
         "rawType": "float64",
         "type": "float"
        },
        {
         "name": "xAG",
         "rawType": "float64",
         "type": "float"
        },
        {
         "name": "npxG",
         "rawType": "float64",
         "type": "float"
        },
        {
         "name": "ValorMercado",
         "rawType": "float64",
         "type": "float"
        },
        {
         "name": "PasesCompletados",
         "rawType": "int64",
         "type": "integer"
        },
        {
         "name": "IntentosPase",
         "rawType": "int64",
         "type": "integer"
        },
        {
         "name": "PctPasesCompletados",
         "rawType": "float64",
         "type": "float"
        },
        {
         "name": "DistanciaTotalPases",
         "rawType": "int64",
         "type": "integer"
        },
        {
         "name": "DistanciaProgresiva",
         "rawType": "int64",
         "type": "integer"
        },
        {
         "name": "PasesClave",
         "rawType": "int64",
         "type": "integer"
        },
        {
         "name": "Entradas",
         "rawType": "int64",
         "type": "integer"
        },
        {
         "name": "Intercepciones",
         "rawType": "int64",
         "type": "integer"
        },
        {
         "name": "Bloqueos",
         "rawType": "int64",
         "type": "integer"
        },
        {
         "name": "TarjetasAmarillas",
         "rawType": "int64",
         "type": "integer"
        },
        {
         "name": "TarjetasRojas",
         "rawType": "int64",
         "type": "integer"
        },
        {
         "name": "Goles_Asistencias",
         "rawType": "int64",
         "type": "integer"
        },
        {
         "name": "xG_xAG",
         "rawType": "float64",
         "type": "float"
        },
        {
         "name": "Equiv_90min",
         "rawType": "float64",
         "type": "float"
        },
        {
         "name": "EntradasGanadas",
         "rawType": "int64",
         "type": "integer"
        },
        {
         "name": "AsistDesdeCruzados",
         "rawType": "int64",
         "type": "integer"
        },
        {
         "name": "Tiros",
         "rawType": "int64",
         "type": "integer"
        },
        {
         "name": "TirosAlArco",
         "rawType": "int64",
         "type": "integer"
        }
       ],
       "conversionMethod": "pd.DataFrame",
       "ref": "1c686ea9-69c7-4dbd-84ba-79840eaaed64",
       "rows": [
        [
         "0",
         "Vinicius Junior",
         "Real Madrid",
         "La Liga",
         "FW",
         "24",
         "24",
         "1849",
         "11",
         "5",
         "9.6",
         "5.6",
         "7.5",
         "200000000.0",
         "535",
         "718",
         "74.5",
         "8162",
         "1965",
         "44",
         "18",
         "3",
         "5",
         "7",
         "1",
         "16",
         "0.74",
         "20.5",
         "8",
         "4",
         "68",
         "21"
        ],
        [
         "1",
         "Erling Haaland",
         "Manchester City",
         "Premier League",
         "FW",
         "24",
         "28",
         "2480",
         "21",
         "3",
         "20.8",
         "2.8",
         "18.4",
         "200000000.0",
         "225",
         "341",
         "66.0",
         "2706",
         "532",
         "26",
         "9",
         "5",
         "11",
         "2",
         "0",
         "24",
         "0.86",
         "27.6",
         "5",
         "1",
         "99",
         "54"
        ],
        [
         "2",
         "Lamine Yamal",
         "Barcelona",
         "La Liga",
         "FW",
         "17",
         "27",
         "2236",
         "6",
         "11",
         "7.4",
         "11.2",
         "7.4",
         "180000000.0",
         "834",
         "1127",
         "74.0",
         "11775",
         "3430",
         "51",
         "35",
         "13",
         "12",
         "3",
         "0",
         "17",
         "0.75",
         "24.8",
         "24",
         "12",
         "101",
         "29"
        ],
        [
         "4",
         "Kylian Mbappe",
         "Real Madrid",
         "La Liga",
         "FW",
         "26",
         "28",
         "2420",
         "22",
         "3",
         "20.0",
         "6.5",
         "14.5",
         "170000000.0",
         "793",
         "957",
         "82.9",
         "11543",
         "2042",
         "41",
         "8",
         "0",
         "3",
         "3",
         "0",
         "25",
         "0.98",
         "26.9",
         "5",
         "2",
         "121",
         "62"
        ],
        [
         "16",
         "Alexander Isak",
         "Newcastle Utd",
         "Premier League",
         "FW",
         "25",
         "26",
         "2117",
         "20",
         "5",
         "16.1",
         "3.8",
         "14.5",
         "100000000.0",
         "401",
         "544",
         "73.7",
         "5620",
         "1305",
         "36",
         "12",
         "3",
         "17",
         "1",
         "0",
         "25",
         "0.85",
         "23.5",
         "5",
         "0",
         "70",
         "32"
        ],
        [
         "17",
         "Lautaro Martinez",
         "Inter",
         "Serie A",
         "FW",
         "27",
         "28",
         "2321",
         "11",
         "3",
         "12.0",
         "4.0",
         "12.0",
         "95000000.0",
         "426",
         "568",
         "75.0",
         "6686",
         "1457",
         "33",
         "28",
         "9",
         "16",
         "0",
         "0",
         "14",
         "0.62",
         "25.8",
         "15",
         "1",
         "92",
         "32"
        ],
        [
         "20",
         "Harry Kane",
         "Bayern Munich",
         "Bundesliga",
         "FW",
         "31",
         "26",
         "2023",
         "23",
         "8",
         "17.9",
         "4.3",
         "10.9",
         "90000000.0",
         "426",
         "542",
         "78.6",
         "7603",
         "1839",
         "29",
         "10",
         "2",
         "12",
         "4",
         "0",
         "31",
         "0.98",
         "22.5",
         "9",
         "2",
         "86",
         "36"
        ],
        [
         "21",
         "Luis Diaz",
         "Liverpool",
         "Premier League",
         "FW",
         "28",
         "29",
         "1935",
         "9",
         "5",
         "7.9",
         "3.8",
         "7.9",
         "85000000.0",
         "619",
         "730",
         "84.8",
         "9859",
         "2053",
         "45",
         "28",
         "6",
         "14",
         "2",
         "0",
         "14",
         "0.54",
         "21.5",
         "18",
         "3",
         "57",
         "23"
        ],
        [
         "33",
         "Ousmane Dembele",
         "Paris S-G",
         "Ligue 1",
         "FW",
         "27",
         "26",
         "1528",
         "21",
         "5",
         "14.9",
         "7.0",
         "14.1",
         "75000000.0",
         "731",
         "933",
         "78.3",
         "11605",
         "3121",
         "55",
         "11",
         "9",
         "3",
         "1",
         "0",
         "26",
         "1.29",
         "17.0",
         "5",
         "3",
         "82",
         "43"
        ],
        [
         "38",
         "Rafael Leao",
         "Milan",
         "Serie A",
         "FW",
         "25",
         "29",
         "2002",
         "6",
         "7",
         "6.4",
         "7.0",
         "6.4",
         "75000000.0",
         "562",
         "749",
         "75.0",
         "9236",
         "2430",
         "55",
         "11",
         "6",
         "11",
         "4",
         "0",
         "13",
         "0.6",
         "22.2",
         "8",
         "10",
         "57",
         "23"
        ],
        [
         "39",
         "Marcus Thuram",
         "Inter",
         "Serie A",
         "FW",
         "27",
         "30",
         "2176",
         "14",
         "4",
         "9.8",
         "4.3",
         "9.8",
         "75000000.0",
         "383",
         "524",
         "73.1",
         "4898",
         "1052",
         "38",
         "17",
         "3",
         "15",
         "1",
         "0",
         "18",
         "0.58",
         "24.2",
         "10",
         "3",
         "64",
         "27"
        ],
        [
         "40",
         "Nico Williams",
         "Athletic Club",
         "La Liga",
         "FW",
         "22",
         "25",
         "1811",
         "4",
         "5",
         "3.8",
         "3.1",
         "3.8",
         "70000000.0",
         "461",
         "653",
         "70.6",
         "7130",
         "1645",
         "38",
         "26",
         "6",
         "18",
         "1",
         "0",
         "9",
         "0.34",
         "20.1",
         "16",
         "8",
         "51",
         "18"
        ],
        [
         "41",
         "Cody Gakpo",
         "Liverpool",
         "Premier League",
         "FW",
         "25",
         "27",
         "1416",
         "8",
         "3",
         "6.0",
         "3.5",
         "6.0",
         "70000000.0",
         "368",
         "482",
         "76.3",
         "5200",
         "1312",
         "30",
         "23",
         "7",
         "17",
         "4",
         "0",
         "11",
         "0.6",
         "15.7",
         "12",
         "6",
         "44",
         "17"
        ],
        [
         "48",
         "Bradley Barcola",
         "Paris S-G",
         "Ligue 1",
         "FW",
         "22",
         "28",
         "1832",
         "13",
         "9",
         "12.2",
         "9.2",
         "12.2",
         "70000000.0",
         "598",
         "735",
         "81.4",
         "8122",
         "1869",
         "42",
         "24",
         "16",
         "22",
         "2",
         "0",
         "22",
         "1.05",
         "20.4",
         "14",
         "3",
         "66",
         "32"
        ],
        [
         "53",
         "Anthony Gordon",
         "Newcastle Utd",
         "Premier League",
         "FW",
         "24",
         "26",
         "2108",
         "6",
         "5",
         "7.8",
         "4.9",
         "6.3",
         "65000000.0",
         "612",
         "850",
         "72.0",
         "9404",
         "3173",
         "49",
         "28",
         "6",
         "24",
         "2",
         "0",
         "11",
         "0.54",
         "23.4",
         "17",
         "16",
         "52",
         "15"
        ],
        [
         "70",
         "Mohamed Salah",
         "Liverpool",
         "Premier League",
         "FW",
         "32",
         "30",
         "2657",
         "27",
         "17",
         "22.1",
         "11.2",
         "15.0",
         "55000000.0",
         "717",
         "1003",
         "71.5",
         "10819",
         "3035",
         "68",
         "20",
         "4",
         "6",
         "1",
         "0",
         "44",
         "1.13",
         "29.5",
         "11",
         "12",
         "98",
         "45"
        ],
        [
         "77",
         "Nicolas Jackson",
         "Chelsea",
         "Premier League",
         "FW",
         "23",
         "24",
         "1817",
         "9",
         "5",
         "11.5",
         "4.0",
         "11.5",
         "55000000.0",
         "239",
         "319",
         "74.9",
         "3159",
         "734",
         "25",
         "17",
         "2",
         "12",
         "6",
         "0",
         "14",
         "0.77",
         "20.2",
         "10",
         "1",
         "65",
         "31"
        ],
        [
         "78",
         "Hugo Ekitike",
         "Eint Frankfurt",
         "Bundesliga",
         "FW",
         "22",
         "27",
         "2050",
         "13",
         "4",
         "18.5",
         "4.9",
         "16.2",
         "55000000.0",
         "389",
         "512",
         "76.0",
         "5144",
         "962",
         "37",
         "14",
         "7",
         "12",
         "0",
         "0",
         "17",
         "1.03",
         "22.8",
         "11",
         "4",
         "94",
         "33"
        ],
        [
         "85",
         "Pedro Neto",
         "Chelsea",
         "Premier League",
         "FW",
         "25",
         "27",
         "1621",
         "3",
         "4",
         "2.1",
         "4.5",
         "2.1",
         "50000000.0",
         "494",
         "628",
         "78.7",
         "7855",
         "1580",
         "33",
         "16",
         "7",
         "11",
         "8",
         "0",
         "7",
         "0.37",
         "18.0",
         "9",
         "13",
         "39",
         "10"
        ],
        [
         "91",
         "Brennan Johnson",
         "Tottenham",
         "Premier League",
         "FW",
         "23",
         "27",
         "1789",
         "9",
         "2",
         "9.2",
         "2.0",
         "9.2",
         "50000000.0",
         "383",
         "535",
         "71.6",
         "5021",
         "1341",
         "17",
         "37",
         "4",
         "20",
         "5",
         "0",
         "11",
         "0.56",
         "19.9",
         "24",
         "5",
         "49",
         "18"
        ],
        [
         "99",
         "Bryan Mbeumo",
         "Brentford",
         "Premier League",
         "FW",
         "25",
         "30",
         "2694",
         "16",
         "5",
         "9.8",
         "6.7",
         "5.9",
         "50000000.0",
         "700",
         "1040",
         "67.3",
         "11157",
         "3356",
         "53",
         "34",
         "13",
         "21",
         "2",
         "0",
         "21",
         "0.55",
         "29.9",
         "20",
         "14",
         "60",
         "27"
        ],
        [
         "100",
         "Darwin Nunez",
         "Liverpool",
         "Premier League",
         "FW",
         "25",
         "24",
         "986",
         "5",
         "2",
         "5.0",
         "1.2",
         "5.0",
         "50000000.0",
         "139",
         "197",
         "70.6",
         "2060",
         "501",
         "9",
         "18",
         "3",
         "6",
         "8",
         "0",
         "7",
         "0.57",
         "11.0",
         "15",
         "0",
         "31",
         "12"
        ],
        [
         "103",
         "Ollie Watkins",
         "Aston Villa",
         "Premier League",
         "FW",
         "29",
         "31",
         "2142",
         "13",
         "6",
         "13.9",
         "2.7",
         "12.3",
         "50000000.0",
         "256",
         "350",
         "73.1",
         "3204",
         "514",
         "20",
         "7",
         "6",
         "11",
         "1",
         "0",
         "19",
         "0.69",
         "23.8",
         "5",
         "0",
         "70",
         "30"
        ],
        [
         "119",
         "Diogo Jota",
         "Liverpool",
         "Premier League",
         "FW",
         "28",
         "19",
         "918",
         "6",
         "3",
         "6.5",
         "1.8",
         "6.5",
         "45000000.0",
         "176",
         "251",
         "70.1",
         "2532",
         "595",
         "10",
         "10",
         "6",
         "7",
         "2",
         "0",
         "9",
         "0.81",
         "10.2",
         "6",
         "1",
         "40",
         "12"
        ],
        [
         "120",
         "Rasmus Hojlund",
         "Manchester Utd",
         "Premier League",
         "FW",
         "22",
         "25",
         "1479",
         "3",
         "0",
         "3.0",
         "1.2",
         "3.0",
         "45000000.0",
         "187",
         "243",
         "77.0",
         "2029",
         "348",
         "13",
         "3",
         "1",
         "4",
         "2",
         "0",
         "3",
         "0.25",
         "16.4",
         "1",
         "0",
         "21",
         "9"
        ],
        [
         "128",
         "Christopher Nkunku",
         "Chelsea",
         "Premier League",
         "FW",
         "27",
         "25",
         "872",
         "3",
         "2",
         "4.7",
         "2.0",
         "4.6",
         "45000000.0",
         "285",
         "319",
         "89.3",
         "3793",
         "738",
         "13",
         "12",
         "7",
         "9",
         "2",
         "0",
         "5",
         "0.69",
         "9.7",
         "8",
         "0",
         "24",
         "11"
        ],
        [
         "129",
         "Jonathan David",
         "Lille",
         "Ligue 1",
         "FW",
         "25",
         "26",
         "2060",
         "14",
         "3",
         "14.1",
         "3.6",
         "8.6",
         "45000000.0",
         "450",
         "551",
         "81.7",
         "5873",
         "905",
         "28",
         "18",
         "4",
         "11",
         "4",
         "0",
         "17",
         "0.77",
         "22.9",
         "4",
         "0",
         "50",
         "22"
        ],
        [
         "130",
         "Dominic Solanke",
         "Tottenham",
         "Premier League",
         "FW",
         "27",
         "21",
         "1868",
         "7",
         "3",
         "9.2",
         "2.8",
         "9.2",
         "45000000.0",
         "230",
         "323",
         "71.2",
         "3067",
         "838",
         "13",
         "18",
         "0",
         "15",
         "0",
         "0",
         "10",
         "0.58",
         "20.8",
         "11",
         "0",
         "52",
         "21"
        ],
        [
         "132",
         "Victor Boniface",
         "Leverkusen",
         "Bundesliga",
         "FW",
         "24",
         "17",
         "989",
         "8",
         "1",
         "7.8",
         "1.1",
         "7.1",
         "45000000.0",
         "167",
         "235",
         "71.1",
         "2336",
         "494",
         "10",
         "5",
         "0",
         "1",
         "2",
         "0",
         "9",
         "0.81",
         "11.0",
         "4",
         "2",
         "50",
         "17"
        ],
        [
         "134",
         "Goncalo Ramos",
         "Paris S-G",
         "Ligue 1",
         "FW",
         "23",
         "16",
         "728",
         "6",
         "2",
         "8.7",
         "1.6",
         "7.9",
         "45000000.0",
         "132",
         "164",
         "80.5",
         "1504",
         "236",
         "11",
         "11",
         "0",
         "4",
         "0",
         "0",
         "8",
         "1.27",
         "8.1",
         "6",
         "0",
         "36",
         "20"
        ],
        [
         "135",
         "Dusan Vlahovic",
         "Juventus",
         "Serie A",
         "FW",
         "25",
         "23",
         "1568",
         "9",
         "2",
         "10.9",
         "1.1",
         "7.8",
         "45000000.0",
         "208",
         "303",
         "68.6",
         "3195",
         "319",
         "13",
         "2",
         "1",
         "7",
         "3",
         "0",
         "11",
         "0.69",
         "17.4",
         "1",
         "0",
         "60",
         "21"
        ],
        [
         "138",
         "Mateo Retegui",
         "Atalanta",
         "Serie A",
         "FW",
         "25",
         "28",
         "1720",
         "22",
         "4",
         "14.1",
         "3.2",
         "11.0",
         "45000000.0",
         "334",
         "428",
         "78.0",
         "4671",
         "651",
         "27",
         "12",
         "2",
         "3",
         "2",
         "0",
         "26",
         "0.91",
         "19.1",
         "7",
         "0",
         "72",
         "26"
        ],
        [
         "142",
         "Gabriel Jesus",
         "Arsenal",
         "Premier League",
         "FW",
         "28",
         "17",
         "608",
         "3",
         "0",
         "3.0",
         "0.7",
         "3.0",
         "40000000.0",
         "156",
         "203",
         "76.8",
         "2030",
         "378",
         "8",
         "10",
         "4",
         "10",
         "4",
         "0",
         "3",
         "0.54",
         "6.8",
         "6",
         "1",
         "20",
         "7"
        ],
        [
         "149",
         "Moise Kean",
         "Fiorentina",
         "Serie A",
         "FW",
         "25",
         "28",
         "2344",
         "17",
         "3",
         "15.4",
         "1.8",
         "13.8",
         "40000000.0",
         "199",
         "284",
         "70.1",
         "3101",
         "492",
         "16",
         "7",
         "4",
         "12",
         "5",
         "0",
         "20",
         "0.66",
         "26.0",
         "5",
         "1",
         "86",
         "38"
        ],
        [
         "166",
         "Noni Madueke",
         "Chelsea",
         "Premier League",
         "FW",
         "23",
         "24",
         "1476",
         "7",
         "3",
         "7.6",
         "3.6",
         "7.6",
         "40000000.0",
         "382",
         "488",
         "78.3",
         "5559",
         "1376",
         "24",
         "17",
         "7",
         "11",
         "3",
         "0",
         "10",
         "0.68",
         "16.4",
         "12",
         "6",
         "64",
         "25"
        ],
        [
         "172",
         "Endrick",
         "Real Madrid",
         "La Liga",
         "FW",
         "18",
         "17",
         "130",
         "1",
         "0",
         "1.2",
         "0.3",
         "1.2",
         "40000000.0",
         "31",
         "41",
         "75.6",
         "509",
         "77",
         "2",
         "1",
         "3",
         "0",
         "1",
         "0",
         "1",
         "1.0",
         "1.4",
         "1",
         "0",
         "15",
         "4"
        ],
        [
         "173",
         "Serhou Guirassy",
         "Dortmund",
         "Bundesliga",
         "FW",
         "29",
         "24",
         "2073",
         "15",
         "1",
         "17.3",
         "3.7",
         "15.7",
         "40000000.0",
         "346",
         "469",
         "73.8",
         "4403",
         "655",
         "22",
         "3",
         "4",
         "8",
         "3",
         "0",
         "16",
         "0.91",
         "23.0",
         "2",
         "0",
         "72",
         "25"
        ],
        [
         "176",
         "Leroy Sane",
         "Bayern Munich",
         "Bundesliga",
         "FW",
         "29",
         "24",
         "1315",
         "9",
         "4",
         "8.7",
         "4.4",
         "8.7",
         "38000000.0",
         "602",
         "729",
         "82.6",
         "8439",
         "1462",
         "28",
         "18",
         "6",
         "7",
         "2",
         "0",
         "13",
         "0.9",
         "14.6",
         "12",
         "6",
         "54",
         "20"
        ],
        [
         "179",
         "Santiago Gimenez",
         "Milan",
         "Serie A",
         "FW",
         "23",
         "9",
         "567",
         "2",
         "1",
         "3.5",
         "0.7",
         "2.7",
         "37000000.0",
         "63",
         "77",
         "81.8",
         "780",
         "154",
         "4",
         "4",
         "1",
         "3",
         "3",
         "0",
         "3",
         "0.66",
         "6.3",
         "3",
         "1",
         "18",
         "6"
        ],
        [
         "183",
         "Evanilson",
         "Bournemouth",
         "Premier League",
         "FW",
         "25",
         "24",
         "1723",
         "9",
         "0",
         "10.3",
         "1.5",
         "9.5",
         "35000000.0",
         "174",
         "250",
         "69.6",
         "2120",
         "420",
         "21",
         "11",
         "0",
         "8",
         "0",
         "0",
         "9",
         "0.62",
         "19.1",
         "6",
         "0",
         "55",
         "27"
        ],
        [
         "185",
         "Anthony Elanga",
         "Nott'ham Forest",
         "Premier League",
         "FW",
         "22",
         "31",
         "1975",
         "6",
         "8",
         "3.9",
         "4.3",
         "3.9",
         "35000000.0",
         "410",
         "631",
         "65.0",
         "5917",
         "2017",
         "39",
         "17",
         "5",
         "9",
         "1",
         "0",
         "14",
         "0.38",
         "21.9",
         "12",
         "6",
         "35",
         "16"
        ],
        [
         "188",
         "Kingsley Coman",
         "Bayern Munich",
         "Bundesliga",
         "FW",
         "28",
         "22",
         "1039",
         "4",
         "4",
         "3.8",
         "3.2",
         "3.8",
         "35000000.0",
         "512",
         "601",
         "85.2",
         "8025",
         "1354",
         "30",
         "15",
         "7",
         "7",
         "0",
         "0",
         "8",
         "0.6",
         "11.5",
         "10",
         "5",
         "38",
         "15"
        ],
        [
         "189",
         "Jonathan Burkardt",
         "Mainz 05",
         "Bundesliga",
         "FW",
         "24",
         "24",
         "1665",
         "15",
         "2",
         "11.9",
         "2.7",
         "11.1",
         "35000000.0",
         "308",
         "430",
         "71.6",
         "5193",
         "650",
         "15",
         "10",
         "1",
         "9",
         "0",
         "0",
         "17",
         "0.79",
         "18.5",
         "6",
         "3",
         "51",
         "22"
        ],
        [
         "195",
         "Liam Delap",
         "Ipswich Town",
         "Premier League",
         "FW",
         "22",
         "30",
         "2324",
         "12",
         "2",
         "9.0",
         "1.9",
         "7.4",
         "35000000.0",
         "199",
         "325",
         "61.2",
         "2780",
         "618",
         "20",
         "10",
         "2",
         "8",
         "8",
         "0",
         "14",
         "0.42",
         "25.8",
         "7",
         "0",
         "58",
         "26"
        ],
        [
         "205",
         "Antoine Semenyo",
         "Bournemouth",
         "Premier League",
         "FW",
         "25",
         "30",
         "2645",
         "7",
         "4",
         "8.9",
         "5.2",
         "8.9",
         "35000000.0",
         "657",
         "902",
         "72.8",
         "9366",
         "2399",
         "40",
         "50",
         "7",
         "54",
         "9",
         "0",
         "11",
         "0.48",
         "29.4",
         "32",
         "7",
         "112",
         "35"
        ],
        [
         "211",
         "Santiago Castro",
         "Bologna",
         "Serie A",
         "FW",
         "20",
         "29",
         "2117",
         "8",
         "4",
         "7.0",
         "2.3",
         "6.2",
         "35000000.0",
         "328",
         "424",
         "77.4",
         "5999",
         "904",
         "26",
         "17",
         "3",
         "13",
         "5",
         "0",
         "12",
         "0.4",
         "23.5",
         "9",
         "0",
         "56",
         "20"
        ],
        [
         "217",
         "Evan Ferguson",
         "Brighton",
         "Premier League",
         "FW",
         "20",
         "13",
         "246",
         "1",
         "0",
         "0.5",
         "0.4",
         "0.5",
         "32000000.0",
         "43",
         "58",
         "74.1",
         "484",
         "44",
         "3",
         "2",
         "1",
         "2",
         "0",
         "0",
         "1",
         "0.35",
         "1.6",
         "0",
         "0",
         "7",
         "2"
        ],
        [
         "229",
         "Mohamed Amoura",
         "Wolfsburg",
         "Bundesliga",
         "FW",
         "24",
         "24",
         "1976",
         "10",
         "8",
         "7.0",
         "3.4",
         "5.5",
         "32000000.0",
         "425",
         "605",
         "70.2",
         "6588",
         "1332",
         "29",
         "23",
         "9",
         "33",
         "5",
         "0",
         "18",
         "0.48",
         "22.0",
         "17",
         "4",
         "57",
         "21"
        ],
        [
         "230",
         "Randal Kolo Muani",
         "Juventus",
         "Serie A",
         "FW",
         "26",
         "8",
         "625",
         "5",
         "1",
         "2.6",
         "0.6",
         "1.8",
         "30000000.0",
         "76",
         "115",
         "66.1",
         "988",
         "141",
         "10",
         "6",
         "0",
         "3",
         "0",
         "0",
         "6",
         "0.46",
         "6.9",
         "3",
         "0",
         "13",
         "7"
        ],
        [
         "232",
         "Artem Dovbyk",
         "Roma",
         "Serie A",
         "FW",
         "27",
         "26",
         "1985",
         "11",
         "2",
         "11.3",
         "2.1",
         "9.7",
         "30000000.0",
         "263",
         "359",
         "73.3",
         "2845",
         "336",
         "18",
         "4",
         "1",
         "7",
         "0",
         "0",
         "13",
         "0.6",
         "22.1",
         "2",
         "0",
         "56",
         "22"
        ]
       ],
       "shape": {
        "columns": 31,
        "rows": 243
       }
      },
      "text/html": [
       "<div>\n",
       "<style scoped>\n",
       "    .dataframe tbody tr th:only-of-type {\n",
       "        vertical-align: middle;\n",
       "    }\n",
       "\n",
       "    .dataframe tbody tr th {\n",
       "        vertical-align: top;\n",
       "    }\n",
       "\n",
       "    .dataframe thead th {\n",
       "        text-align: right;\n",
       "    }\n",
       "</style>\n",
       "<table border=\"1\" class=\"dataframe\">\n",
       "  <thead>\n",
       "    <tr style=\"text-align: right;\">\n",
       "      <th></th>\n",
       "      <th>Jugador</th>\n",
       "      <th>Equipo</th>\n",
       "      <th>Competición</th>\n",
       "      <th>Posición</th>\n",
       "      <th>Edad</th>\n",
       "      <th>Partidos</th>\n",
       "      <th>Minutos</th>\n",
       "      <th>Goles</th>\n",
       "      <th>Asistencias</th>\n",
       "      <th>xG</th>\n",
       "      <th>...</th>\n",
       "      <th>Bloqueos</th>\n",
       "      <th>TarjetasAmarillas</th>\n",
       "      <th>TarjetasRojas</th>\n",
       "      <th>Goles_Asistencias</th>\n",
       "      <th>xG_xAG</th>\n",
       "      <th>Equiv_90min</th>\n",
       "      <th>EntradasGanadas</th>\n",
       "      <th>AsistDesdeCruzados</th>\n",
       "      <th>Tiros</th>\n",
       "      <th>TirosAlArco</th>\n",
       "    </tr>\n",
       "  </thead>\n",
       "  <tbody>\n",
       "    <tr>\n",
       "      <th>0</th>\n",
       "      <td>Vinicius Junior</td>\n",
       "      <td>Real Madrid</td>\n",
       "      <td>La Liga</td>\n",
       "      <td>FW</td>\n",
       "      <td>24</td>\n",
       "      <td>24</td>\n",
       "      <td>1849</td>\n",
       "      <td>11</td>\n",
       "      <td>5</td>\n",
       "      <td>9.6</td>\n",
       "      <td>...</td>\n",
       "      <td>5</td>\n",
       "      <td>7</td>\n",
       "      <td>1</td>\n",
       "      <td>16</td>\n",
       "      <td>0.74</td>\n",
       "      <td>20.5</td>\n",
       "      <td>8</td>\n",
       "      <td>4</td>\n",
       "      <td>68</td>\n",
       "      <td>21</td>\n",
       "    </tr>\n",
       "    <tr>\n",
       "      <th>1</th>\n",
       "      <td>Erling Haaland</td>\n",
       "      <td>Manchester City</td>\n",
       "      <td>Premier League</td>\n",
       "      <td>FW</td>\n",
       "      <td>24</td>\n",
       "      <td>28</td>\n",
       "      <td>2480</td>\n",
       "      <td>21</td>\n",
       "      <td>3</td>\n",
       "      <td>20.8</td>\n",
       "      <td>...</td>\n",
       "      <td>11</td>\n",
       "      <td>2</td>\n",
       "      <td>0</td>\n",
       "      <td>24</td>\n",
       "      <td>0.86</td>\n",
       "      <td>27.6</td>\n",
       "      <td>5</td>\n",
       "      <td>1</td>\n",
       "      <td>99</td>\n",
       "      <td>54</td>\n",
       "    </tr>\n",
       "    <tr>\n",
       "      <th>2</th>\n",
       "      <td>Lamine Yamal</td>\n",
       "      <td>Barcelona</td>\n",
       "      <td>La Liga</td>\n",
       "      <td>FW</td>\n",
       "      <td>17</td>\n",
       "      <td>27</td>\n",
       "      <td>2236</td>\n",
       "      <td>6</td>\n",
       "      <td>11</td>\n",
       "      <td>7.4</td>\n",
       "      <td>...</td>\n",
       "      <td>12</td>\n",
       "      <td>3</td>\n",
       "      <td>0</td>\n",
       "      <td>17</td>\n",
       "      <td>0.75</td>\n",
       "      <td>24.8</td>\n",
       "      <td>24</td>\n",
       "      <td>12</td>\n",
       "      <td>101</td>\n",
       "      <td>29</td>\n",
       "    </tr>\n",
       "    <tr>\n",
       "      <th>4</th>\n",
       "      <td>Kylian Mbappe</td>\n",
       "      <td>Real Madrid</td>\n",
       "      <td>La Liga</td>\n",
       "      <td>FW</td>\n",
       "      <td>26</td>\n",
       "      <td>28</td>\n",
       "      <td>2420</td>\n",
       "      <td>22</td>\n",
       "      <td>3</td>\n",
       "      <td>20.0</td>\n",
       "      <td>...</td>\n",
       "      <td>3</td>\n",
       "      <td>3</td>\n",
       "      <td>0</td>\n",
       "      <td>25</td>\n",
       "      <td>0.98</td>\n",
       "      <td>26.9</td>\n",
       "      <td>5</td>\n",
       "      <td>2</td>\n",
       "      <td>121</td>\n",
       "      <td>62</td>\n",
       "    </tr>\n",
       "    <tr>\n",
       "      <th>16</th>\n",
       "      <td>Alexander Isak</td>\n",
       "      <td>Newcastle Utd</td>\n",
       "      <td>Premier League</td>\n",
       "      <td>FW</td>\n",
       "      <td>25</td>\n",
       "      <td>26</td>\n",
       "      <td>2117</td>\n",
       "      <td>20</td>\n",
       "      <td>5</td>\n",
       "      <td>16.1</td>\n",
       "      <td>...</td>\n",
       "      <td>17</td>\n",
       "      <td>1</td>\n",
       "      <td>0</td>\n",
       "      <td>25</td>\n",
       "      <td>0.85</td>\n",
       "      <td>23.5</td>\n",
       "      <td>5</td>\n",
       "      <td>0</td>\n",
       "      <td>70</td>\n",
       "      <td>32</td>\n",
       "    </tr>\n",
       "    <tr>\n",
       "      <th>...</th>\n",
       "      <td>...</td>\n",
       "      <td>...</td>\n",
       "      <td>...</td>\n",
       "      <td>...</td>\n",
       "      <td>...</td>\n",
       "      <td>...</td>\n",
       "      <td>...</td>\n",
       "      <td>...</td>\n",
       "      <td>...</td>\n",
       "      <td>...</td>\n",
       "      <td>...</td>\n",
       "      <td>...</td>\n",
       "      <td>...</td>\n",
       "      <td>...</td>\n",
       "      <td>...</td>\n",
       "      <td>...</td>\n",
       "      <td>...</td>\n",
       "      <td>...</td>\n",
       "      <td>...</td>\n",
       "      <td>...</td>\n",
       "      <td>...</td>\n",
       "    </tr>\n",
       "    <tr>\n",
       "      <th>2177</th>\n",
       "      <td>Andre Ayew</td>\n",
       "      <td>Le Havre</td>\n",
       "      <td>Ligue 1</td>\n",
       "      <td>FW</td>\n",
       "      <td>35</td>\n",
       "      <td>20</td>\n",
       "      <td>1128</td>\n",
       "      <td>4</td>\n",
       "      <td>1</td>\n",
       "      <td>3.8</td>\n",
       "      <td>...</td>\n",
       "      <td>8</td>\n",
       "      <td>2</td>\n",
       "      <td>0</td>\n",
       "      <td>5</td>\n",
       "      <td>0.31</td>\n",
       "      <td>12.5</td>\n",
       "      <td>9</td>\n",
       "      <td>0</td>\n",
       "      <td>16</td>\n",
       "      <td>7</td>\n",
       "    </tr>\n",
       "    <tr>\n",
       "      <th>2191</th>\n",
       "      <td>Christian Gytkjaer</td>\n",
       "      <td>Venezia</td>\n",
       "      <td>Serie A</td>\n",
       "      <td>FW</td>\n",
       "      <td>34</td>\n",
       "      <td>22</td>\n",
       "      <td>363</td>\n",
       "      <td>2</td>\n",
       "      <td>0</td>\n",
       "      <td>1.5</td>\n",
       "      <td>...</td>\n",
       "      <td>1</td>\n",
       "      <td>0</td>\n",
       "      <td>0</td>\n",
       "      <td>2</td>\n",
       "      <td>0.41</td>\n",
       "      <td>4.0</td>\n",
       "      <td>3</td>\n",
       "      <td>0</td>\n",
       "      <td>7</td>\n",
       "      <td>2</td>\n",
       "    </tr>\n",
       "    <tr>\n",
       "      <th>2208</th>\n",
       "      <td>Sergi Guardiola</td>\n",
       "      <td>Rayo Vallecano</td>\n",
       "      <td>La Liga</td>\n",
       "      <td>FW</td>\n",
       "      <td>33</td>\n",
       "      <td>12</td>\n",
       "      <td>313</td>\n",
       "      <td>0</td>\n",
       "      <td>0</td>\n",
       "      <td>2.4</td>\n",
       "      <td>...</td>\n",
       "      <td>0</td>\n",
       "      <td>1</td>\n",
       "      <td>0</td>\n",
       "      <td>0</td>\n",
       "      <td>0.72</td>\n",
       "      <td>3.5</td>\n",
       "      <td>2</td>\n",
       "      <td>1</td>\n",
       "      <td>11</td>\n",
       "      <td>3</td>\n",
       "    </tr>\n",
       "    <tr>\n",
       "      <th>2213</th>\n",
       "      <td>Jaime Mata</td>\n",
       "      <td>Las Palmas</td>\n",
       "      <td>La Liga</td>\n",
       "      <td>FW</td>\n",
       "      <td>36</td>\n",
       "      <td>22</td>\n",
       "      <td>469</td>\n",
       "      <td>0</td>\n",
       "      <td>0</td>\n",
       "      <td>1.9</td>\n",
       "      <td>...</td>\n",
       "      <td>4</td>\n",
       "      <td>6</td>\n",
       "      <td>0</td>\n",
       "      <td>0</td>\n",
       "      <td>0.40</td>\n",
       "      <td>5.2</td>\n",
       "      <td>1</td>\n",
       "      <td>1</td>\n",
       "      <td>10</td>\n",
       "      <td>3</td>\n",
       "    </tr>\n",
       "    <tr>\n",
       "      <th>2326</th>\n",
       "      <td>Junior Ndiaye</td>\n",
       "      <td>Montpellier</td>\n",
       "      <td>Ligue 1</td>\n",
       "      <td>FW</td>\n",
       "      <td>20</td>\n",
       "      <td>9</td>\n",
       "      <td>112</td>\n",
       "      <td>0</td>\n",
       "      <td>0</td>\n",
       "      <td>0.3</td>\n",
       "      <td>...</td>\n",
       "      <td>1</td>\n",
       "      <td>0</td>\n",
       "      <td>0</td>\n",
       "      <td>0</td>\n",
       "      <td>0.21</td>\n",
       "      <td>1.2</td>\n",
       "      <td>0</td>\n",
       "      <td>0</td>\n",
       "      <td>1</td>\n",
       "      <td>0</td>\n",
       "    </tr>\n",
       "  </tbody>\n",
       "</table>\n",
       "<p>243 rows × 31 columns</p>\n",
       "</div>"
      ],
      "text/plain": [
       "                 Jugador           Equipo     Competición Posición  Edad  \\\n",
       "0        Vinicius Junior      Real Madrid         La Liga       FW    24   \n",
       "1         Erling Haaland  Manchester City  Premier League       FW    24   \n",
       "2           Lamine Yamal        Barcelona         La Liga       FW    17   \n",
       "4          Kylian Mbappe      Real Madrid         La Liga       FW    26   \n",
       "16        Alexander Isak    Newcastle Utd  Premier League       FW    25   \n",
       "...                  ...              ...             ...      ...   ...   \n",
       "2177          Andre Ayew         Le Havre         Ligue 1       FW    35   \n",
       "2191  Christian Gytkjaer          Venezia         Serie A       FW    34   \n",
       "2208     Sergi Guardiola   Rayo Vallecano         La Liga       FW    33   \n",
       "2213          Jaime Mata       Las Palmas         La Liga       FW    36   \n",
       "2326       Junior Ndiaye      Montpellier         Ligue 1       FW    20   \n",
       "\n",
       "      Partidos  Minutos  Goles  Asistencias    xG  ...  Bloqueos  \\\n",
       "0           24     1849     11            5   9.6  ...         5   \n",
       "1           28     2480     21            3  20.8  ...        11   \n",
       "2           27     2236      6           11   7.4  ...        12   \n",
       "4           28     2420     22            3  20.0  ...         3   \n",
       "16          26     2117     20            5  16.1  ...        17   \n",
       "...        ...      ...    ...          ...   ...  ...       ...   \n",
       "2177        20     1128      4            1   3.8  ...         8   \n",
       "2191        22      363      2            0   1.5  ...         1   \n",
       "2208        12      313      0            0   2.4  ...         0   \n",
       "2213        22      469      0            0   1.9  ...         4   \n",
       "2326         9      112      0            0   0.3  ...         1   \n",
       "\n",
       "      TarjetasAmarillas  TarjetasRojas  Goles_Asistencias  xG_xAG  \\\n",
       "0                     7              1                 16    0.74   \n",
       "1                     2              0                 24    0.86   \n",
       "2                     3              0                 17    0.75   \n",
       "4                     3              0                 25    0.98   \n",
       "16                    1              0                 25    0.85   \n",
       "...                 ...            ...                ...     ...   \n",
       "2177                  2              0                  5    0.31   \n",
       "2191                  0              0                  2    0.41   \n",
       "2208                  1              0                  0    0.72   \n",
       "2213                  6              0                  0    0.40   \n",
       "2326                  0              0                  0    0.21   \n",
       "\n",
       "      Equiv_90min  EntradasGanadas  AsistDesdeCruzados  Tiros  TirosAlArco  \n",
       "0            20.5                8                   4     68           21  \n",
       "1            27.6                5                   1     99           54  \n",
       "2            24.8               24                  12    101           29  \n",
       "4            26.9                5                   2    121           62  \n",
       "16           23.5                5                   0     70           32  \n",
       "...           ...              ...                 ...    ...          ...  \n",
       "2177         12.5                9                   0     16            7  \n",
       "2191          4.0                3                   0      7            2  \n",
       "2208          3.5                2                   1     11            3  \n",
       "2213          5.2                1                   1     10            3  \n",
       "2326          1.2                0                   0      1            0  \n",
       "\n",
       "[243 rows x 31 columns]"
      ]
     },
     "execution_count": 19,
     "metadata": {},
     "output_type": "execute_result"
    }
   ],
   "source": [
    "df_grafico = df_grafico[df_grafico[\"Posición\"] == \"FW\"]\n",
    "df_grafico"
   ]
  },
  {
   "cell_type": "code",
   "execution_count": 20,
   "id": "01565c9a",
   "metadata": {},
   "outputs": [
    {
     "data": {
      "application/vnd.jupyter.widget-view+json": {
       "model_id": "bc1b4c061197454088dd10e40d49e9ee",
       "version_major": 2,
       "version_minor": 0
      },
      "text/plain": [
       "VBox(children=(Dropdown(description='Eje X:', index=5, options=('Edad', 'Partidos', 'Minutos', 'Goles', 'Asist…"
      ]
     },
     "metadata": {},
     "output_type": "display_data"
    },
    {
     "data": {
      "application/vnd.jupyter.widget-view+json": {
       "model_id": "96f832887a284147986f7e0a4a1af818",
       "version_major": 2,
       "version_minor": 0
      },
      "text/plain": [
       "Output()"
      ]
     },
     "metadata": {},
     "output_type": "display_data"
    }
   ],
   "source": [
    "# Obs: Esta interfaz está muy buena, tendría que ver como sacarle más jugo\n",
    "\n",
    "import pandas as pd\n",
    "import numpy as np\n",
    "import matplotlib.pyplot as plt\n",
    "import ipywidgets as widgets\n",
    "from IPython.display import display\n",
    "\n",
    "# Cargar el DataFrame\n",
    "df_grafico = pd.read_csv(\"datasets_procesados/df_reducido.csv\")\n",
    "\n",
    "df_grafico = df_grafico[df_grafico[\"Posición\"] == \"FW\"]\n",
    "\n",
    "# Filtrar jugadores con más de 90 minutos\n",
    "df_grafico = df_grafico[df_grafico[\"Minutos\"] > 90]\n",
    "\n",
    "# Identificar columnas numéricas\n",
    "numeric_columns = df_grafico.select_dtypes(include=[np.number]).columns\n",
    "\n",
    "# Crear widgets para seleccionar las columnas\n",
    "x_dropdown = widgets.Dropdown(\n",
    "    options=numeric_columns,\n",
    "    value='xG',\n",
    "    description='Eje X:'\n",
    ")\n",
    "\n",
    "y_dropdown = widgets.Dropdown(\n",
    "    options=numeric_columns,\n",
    "    value='Goles',\n",
    "    description='Eje Y:'\n",
    ")\n",
    "\n",
    "normalizables = [\n",
    "    'Goles', 'Asistencias', 'xG', 'xAG', 'npxG', 'Goles_Asistencias', 'xG_xAG',\n",
    "    'Tiros', 'TirosAlArco', 'PasesClave', 'Entradas', 'Intercepciones', 'Bloqueos',\n",
    "    'EntradasGanadas', 'AsistDesdeCruzados'\n",
    "]\n",
    "\n",
    "# Función para actualizar el gráfico\n",
    "def update_graph(x_col, y_col):\n",
    "    plt.figure(figsize=(10, 6))\n",
    "\n",
    "    # Aplico normalización solo si corresponde\n",
    "    x_data = df_grafico[x_col]\n",
    "    y_data = df_grafico[y_col]\n",
    "\n",
    "    if x_col in normalizables:\n",
    "        x_data = 90 * x_data / df_grafico['Minutos']\n",
    "    if y_col in normalizables:\n",
    "        y_data = 90 * y_data / df_grafico['Minutos']\n",
    "\n",
    "    # Scatter plot\n",
    "    plt.scatter(\n",
    "        x=x_data,\n",
    "        y=y_data,\n",
    "        c=np.log10(df_grafico['ValorMercado'] + 1),  # Sumar 1 para evitar log(0)\n",
    "        cmap='viridis',\n",
    "        alpha=0.6,\n",
    "        s=50\n",
    "    )\n",
    "    cbar = plt.colorbar()\n",
    "    cbar.set_label('Log10(Valor de mercado €)', fontsize=10)\n",
    "\n",
    "    # Etiquetas dinámicas\n",
    "    x_label = f\"{x_col} {'(cada 90 min)' if x_col in normalizables else ''}\"\n",
    "    y_label = f\"{y_col} {'(cada 90 min)' if y_col in normalizables else ''}\"\n",
    "\n",
    "    # Títulos y etiquetas\n",
    "    plt.title(f'{x_col} vs {y_col} para Delanteros', fontsize=14)\n",
    "    plt.xlabel(x_label, fontsize=12)\n",
    "    plt.ylabel(y_label, fontsize=12)\n",
    "    plt.grid(True, linestyle='--', alpha=0.5)\n",
    "    plt.tight_layout()\n",
    "    plt.show()\n",
    "\n",
    "# Conectar los widgets a la función\n",
    "ui = widgets.VBox([x_dropdown, y_dropdown])\n",
    "out = widgets.interactive_output(update_graph, {'x_col': x_dropdown, 'y_col': y_dropdown})\n",
    "\n",
    "# Mostrar los widgets y el gráfico\n",
    "display(ui, out)"
   ]
  },
  {
   "cell_type": "code",
   "execution_count": 21,
   "id": "e0235b8d",
   "metadata": {},
   "outputs": [
    {
     "data": {
      "text/plain": [
       "Index(['Player', 'stats_Nation', 'stats_Pos', 'stats_Squad', 'stats_Comp',\n",
       "       'stats_Age', 'stats_Born', 'stats_MP', 'stats_Starts', 'stats_Min',\n",
       "       ...\n",
       "       'misc_OG', 'misc_Recov', 'misc_Won', 'misc_Lost', 'misc_Won%',\n",
       "       'first_name', 'last_name', 'full_name', 'market_value_in_eur',\n",
       "       'highest_market_value_in_eur'],\n",
       "      dtype='object', length=243)"
      ]
     },
     "execution_count": 21,
     "metadata": {},
     "output_type": "execute_result"
    }
   ],
   "source": [
    "df.columns"
   ]
  },
  {
   "cell_type": "code",
   "execution_count": 22,
   "id": "9467f8b2",
   "metadata": {},
   "outputs": [
    {
     "data": {
      "application/vnd.jupyter.widget-view+json": {
       "model_id": "91050ff944bc4c81a8b29dfd8e8cf935",
       "version_major": 2,
       "version_minor": 0
      },
      "text/plain": [
       "HBox(children=(Dropdown(description='Jugador 1', index=1307, options=('Aaron Ciammaglichella', 'Aaron Cresswel…"
      ]
     },
     "metadata": {},
     "output_type": "display_data"
    },
    {
     "data": {
      "application/vnd.jupyter.widget-view+json": {
       "model_id": "2906e14c277e4a6b8bffd75de0707e3d",
       "version_major": 2,
       "version_minor": 0
      },
      "text/plain": [
       "FigureWidget({\n",
       "    'data': [{'fill': 'toself',\n",
       "              'name': 'Lionel Messi',\n",
       "              'r': [0.7407407407407407, 0.6470588235294118, 0.6859504132231405,\n",
       "                    0.6290322580645161, 0.4916666666666667, 0.35714285714285715,\n",
       "                    0.2507440476190476, 0.37037037037037035, 0.20051651885781113,\n",
       "                    0.15463917525773196, 0.03278688524590164],\n",
       "              'theta': [Goles, Asistencias, Tiros, TirosAlArco, xG, xAG,\n",
       "                        PasesCompletados, PasesClave, DistanciaProgresiva,\n",
       "                        Entradas, Intercepciones],\n",
       "              'type': 'scatterpolar',\n",
       "              'uid': '0d60efdb-8f82-4449-86d7-e0651e7f163c'},\n",
       "             {'fill': 'toself',\n",
       "              'name': 'Raphinha',\n",
       "              'r': [0.48148148148148145, 0.47058823529411764, 0.7107438016528926,\n",
       "                    0.532258064516129, 0.6041666666666666, 0.9464285714285714,\n",
       "                    0.3005952380952381, 0.9259259259259258, 0.19403566903810546,\n",
       "                    0.32989690721649484, 0.11475409836065574],\n",
       "              'theta': [Goles, Asistencias, Tiros, TirosAlArco, xG, xAG,\n",
       "                        PasesCompletados, PasesClave, DistanciaProgresiva,\n",
       "                        Entradas, Intercepciones],\n",
       "              'type': 'scatterpolar',\n",
       "              'uid': '4924fec0-d224-459d-953f-571695b65e0a'}],\n",
       "    'layout': {'polar': {'radialaxis': {'range': [0, 1], 'visible': True}},\n",
       "               'template': '...',\n",
       "               'title': {'text': 'Comparación: Lionel Messi vs Raphinha'}}\n",
       "})"
      ]
     },
     "metadata": {},
     "output_type": "display_data"
    }
   ],
   "source": [
    "import pandas as pd\n",
    "import plotly.graph_objects as go\n",
    "from sklearn.preprocessing import MinMaxScaler\n",
    "import ipywidgets as widgets\n",
    "from IPython.display import display\n",
    "\n",
    "# 1) Cargo datos y normalizo\n",
    "df = pd.read_csv(\"datasets_procesados/df_reducido.csv\")\n",
    "df.sort_values(\"Jugador\", inplace=True)\n",
    "\n",
    "stats = [\n",
    "    \"Goles\", \"Asistencias\", \"Tiros\", \"TirosAlArco\", \"xG\", \"xAG\",\n",
    "    \"PasesCompletados\", \"PasesClave\", \"DistanciaProgresiva\", \"Entradas\", \"Intercepciones\"\n",
    "]\n",
    "df_stats = df[[\"Jugador\"] + stats].dropna()\n",
    "scaler = MinMaxScaler()\n",
    "df_stats[stats] = scaler.fit_transform(df_stats[stats])\n",
    "\n",
    "# 2) Función que extrae lista de valores normalizados\n",
    "def valores(j):\n",
    "    return df_stats.loc[df_stats[\"Jugador\"] == j, stats].iloc[0].tolist()\n",
    "\n",
    "# 3) Jugadores disponibles y valores iniciales\n",
    "jugadores = df_stats[\"Jugador\"].unique()\n",
    "j1, j2 = \"Lionel Messi\", \"Raphinha\"\n",
    "\n",
    "# 4) Creo el FigureWidget con dos traces\n",
    "figw = go.FigureWidget(\n",
    "    go.Scatterpolar(r=valores(j1), theta=stats, fill=\"toself\", name=j1),\n",
    "    layout=go.Layout(\n",
    "        title=f\"Comparación: {j1} vs {j2}\",\n",
    "        polar=dict(radialaxis=dict(visible=True, range=[0,1]))\n",
    "    )\n",
    ")\n",
    "# añado el segundo trace\n",
    "figw.add_trace(go.Scatterpolar(r=valores(j2), theta=stats, fill=\"toself\", name=j2))\n",
    "\n",
    "# 5) Dropdowns\n",
    "dd1 = widgets.Dropdown(options=jugadores, value=j1, description=\"Jugador 1\")\n",
    "dd2 = widgets.Dropdown(options=jugadores, value=j2, description=\"Jugador 2\")\n",
    "\n",
    "# 6) Función que actualiza traces y título\n",
    "def actualizar(change):\n",
    "    # trace 0\n",
    "    figw.data[0].r = valores(dd1.value)\n",
    "    figw.data[0].name = dd1.value\n",
    "    # trace 1\n",
    "    figw.data[1].r = valores(dd2.value)\n",
    "    figw.data[1].name = dd2.value\n",
    "    # título\n",
    "    figw.layout.title.text = f\"Comparación: {dd1.value} vs {dd2.value}\"\n",
    "\n",
    "# conecto listeners\n",
    "dd1.observe(actualizar, names=\"value\")\n",
    "dd2.observe(actualizar, names=\"value\")\n",
    "\n",
    "# 7) Muestro todo\n",
    "display(widgets.HBox([dd1, dd2]))\n",
    "display(figw)"
   ]
  }
 ],
 "metadata": {
  "kernelspec": {
   "display_name": "Python 3",
   "language": "python",
   "name": "python3"
  },
  "language_info": {
   "codemirror_mode": {
    "name": "ipython",
    "version": 3
   },
   "file_extension": ".py",
   "mimetype": "text/x-python",
   "name": "python",
   "nbconvert_exporter": "python",
   "pygments_lexer": "ipython3",
   "version": "3.12.6"
  }
 },
 "nbformat": 4,
 "nbformat_minor": 5
}

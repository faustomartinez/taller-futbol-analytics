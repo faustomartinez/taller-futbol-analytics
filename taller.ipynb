{
 "cells": [
  {
   "cell_type": "markdown",
   "id": "8ce9a4e5-caff-4007-bba9-66b55f5ddd56",
   "metadata": {},
   "source": [
    "# Taller de Futbol Analytics"
   ]
  },
  {
   "cell_type": "markdown",
   "id": "c99d5c69-70df-411f-bd22-5fd6c2b556ae",
   "metadata": {},
   "source": [
    "La idea de este taller es bla bla ... queremos que se lleven bla bla..."
   ]
  },
  {
   "cell_type": "code",
   "execution_count": 1,
   "id": "493f3974-1982-41c0-a2c6-82facaf0ff91",
   "metadata": {},
   "outputs": [],
   "source": [
    "# Primero importamos unas librerías de Python que vamos a usar a lo largo del notebook\n",
    "import numpy as np\n",
    "import pandas as pd\n",
    "import matplotlib.pyplot as plt\n",
    "import plotly.express as px\n",
    "from adjustText import adjust_text"
   ]
  },
  {
   "cell_type": "code",
   "execution_count": 2,
   "id": "07d89c6b-18b7-4624-9779-c0b281f9dafd",
   "metadata": {},
   "outputs": [],
   "source": [
    "# Obtenemos los datos desde el archivo df_reducido.csv\n",
    "df = pd.read_csv(\"datasets_procesados/df_reducido.csv\")"
   ]
  },
  {
   "cell_type": "code",
   "execution_count": 3,
   "id": "2a3e6934-f098-4da5-bb3e-e4109a68488f",
   "metadata": {},
   "outputs": [
    {
     "data": {
      "text/html": [
       "<div>\n",
       "<style scoped>\n",
       "    .dataframe tbody tr th:only-of-type {\n",
       "        vertical-align: middle;\n",
       "    }\n",
       "\n",
       "    .dataframe tbody tr th {\n",
       "        vertical-align: top;\n",
       "    }\n",
       "\n",
       "    .dataframe thead th {\n",
       "        text-align: right;\n",
       "    }\n",
       "</style>\n",
       "<table border=\"1\" class=\"dataframe\">\n",
       "  <thead>\n",
       "    <tr style=\"text-align: right;\">\n",
       "      <th></th>\n",
       "      <th>Jugador</th>\n",
       "      <th>Equipo</th>\n",
       "      <th>Competición</th>\n",
       "      <th>Posición</th>\n",
       "      <th>Edad</th>\n",
       "      <th>Partidos</th>\n",
       "      <th>Minutos</th>\n",
       "      <th>Goles</th>\n",
       "      <th>Asistencias</th>\n",
       "      <th>xG</th>\n",
       "      <th>...</th>\n",
       "      <th>Intercepciones</th>\n",
       "      <th>Bloqueos</th>\n",
       "      <th>TarjetasAmarillas</th>\n",
       "      <th>TarjetasRojas</th>\n",
       "      <th>Goles_Asistencias</th>\n",
       "      <th>xG_xAG</th>\n",
       "      <th>90min_jugados</th>\n",
       "      <th>xAG_Pases</th>\n",
       "      <th>EntradasGanadas</th>\n",
       "      <th>AsistDesdeCruzados</th>\n",
       "    </tr>\n",
       "  </thead>\n",
       "  <tbody>\n",
       "    <tr>\n",
       "      <th>0</th>\n",
       "      <td>Erling Haaland</td>\n",
       "      <td>Manchester City</td>\n",
       "      <td>Premier League</td>\n",
       "      <td>FW</td>\n",
       "      <td>24-259</td>\n",
       "      <td>28</td>\n",
       "      <td>2,480</td>\n",
       "      <td>21</td>\n",
       "      <td>3</td>\n",
       "      <td>20.8</td>\n",
       "      <td>...</td>\n",
       "      <td>5</td>\n",
       "      <td>11</td>\n",
       "      <td>2</td>\n",
       "      <td>0</td>\n",
       "      <td>24</td>\n",
       "      <td>0.86</td>\n",
       "      <td>27.6</td>\n",
       "      <td>2.8</td>\n",
       "      <td>5</td>\n",
       "      <td>1</td>\n",
       "    </tr>\n",
       "    <tr>\n",
       "      <th>1</th>\n",
       "      <td>Jude Bellingham</td>\n",
       "      <td>Real Madrid</td>\n",
       "      <td>La Liga</td>\n",
       "      <td>MF</td>\n",
       "      <td>21-281</td>\n",
       "      <td>24</td>\n",
       "      <td>1,983</td>\n",
       "      <td>8</td>\n",
       "      <td>7</td>\n",
       "      <td>8.9</td>\n",
       "      <td>...</td>\n",
       "      <td>23</td>\n",
       "      <td>28</td>\n",
       "      <td>3</td>\n",
       "      <td>1</td>\n",
       "      <td>15</td>\n",
       "      <td>0.56</td>\n",
       "      <td>22.0</td>\n",
       "      <td>3.6</td>\n",
       "      <td>28</td>\n",
       "      <td>0</td>\n",
       "    </tr>\n",
       "    <tr>\n",
       "      <th>2</th>\n",
       "      <td>Kylian Mbappé</td>\n",
       "      <td>Real Madrid</td>\n",
       "      <td>La Liga</td>\n",
       "      <td>FW</td>\n",
       "      <td>26-107</td>\n",
       "      <td>28</td>\n",
       "      <td>2,420</td>\n",
       "      <td>22</td>\n",
       "      <td>3</td>\n",
       "      <td>20.0</td>\n",
       "      <td>...</td>\n",
       "      <td>0</td>\n",
       "      <td>3</td>\n",
       "      <td>3</td>\n",
       "      <td>0</td>\n",
       "      <td>25</td>\n",
       "      <td>0.98</td>\n",
       "      <td>26.9</td>\n",
       "      <td>6.5</td>\n",
       "      <td>5</td>\n",
       "      <td>2</td>\n",
       "    </tr>\n",
       "    <tr>\n",
       "      <th>3</th>\n",
       "      <td>Bukayo Saka</td>\n",
       "      <td>Arsenal</td>\n",
       "      <td>Premier League</td>\n",
       "      <td>FW,MF</td>\n",
       "      <td>23-213</td>\n",
       "      <td>18</td>\n",
       "      <td>1,338</td>\n",
       "      <td>6</td>\n",
       "      <td>10</td>\n",
       "      <td>5.2</td>\n",
       "      <td>...</td>\n",
       "      <td>2</td>\n",
       "      <td>16</td>\n",
       "      <td>3</td>\n",
       "      <td>0</td>\n",
       "      <td>16</td>\n",
       "      <td>0.75</td>\n",
       "      <td>14.9</td>\n",
       "      <td>6.0</td>\n",
       "      <td>13</td>\n",
       "      <td>10</td>\n",
       "    </tr>\n",
       "    <tr>\n",
       "      <th>4</th>\n",
       "      <td>Jamal Musiala</td>\n",
       "      <td>Bayern Munich</td>\n",
       "      <td>Bundesliga</td>\n",
       "      <td>MF</td>\n",
       "      <td>22-039</td>\n",
       "      <td>25</td>\n",
       "      <td>1,798</td>\n",
       "      <td>12</td>\n",
       "      <td>2</td>\n",
       "      <td>9.3</td>\n",
       "      <td>...</td>\n",
       "      <td>8</td>\n",
       "      <td>30</td>\n",
       "      <td>3</td>\n",
       "      <td>0</td>\n",
       "      <td>14</td>\n",
       "      <td>0.69</td>\n",
       "      <td>20.0</td>\n",
       "      <td>4.5</td>\n",
       "      <td>21</td>\n",
       "      <td>0</td>\n",
       "    </tr>\n",
       "  </tbody>\n",
       "</table>\n",
       "<p>5 rows × 30 columns</p>\n",
       "</div>"
      ],
      "text/plain": [
       "           Jugador           Equipo     Competición Posición    Edad  \\\n",
       "0   Erling Haaland  Manchester City  Premier League       FW  24-259   \n",
       "1  Jude Bellingham      Real Madrid         La Liga       MF  21-281   \n",
       "2    Kylian Mbappé      Real Madrid         La Liga       FW  26-107   \n",
       "3      Bukayo Saka          Arsenal  Premier League    FW,MF  23-213   \n",
       "4    Jamal Musiala    Bayern Munich      Bundesliga       MF  22-039   \n",
       "\n",
       "   Partidos Minutos  Goles  Asistencias    xG  ...  Intercepciones  Bloqueos  \\\n",
       "0        28   2,480     21            3  20.8  ...               5        11   \n",
       "1        24   1,983      8            7   8.9  ...              23        28   \n",
       "2        28   2,420     22            3  20.0  ...               0         3   \n",
       "3        18   1,338      6           10   5.2  ...               2        16   \n",
       "4        25   1,798     12            2   9.3  ...               8        30   \n",
       "\n",
       "   TarjetasAmarillas  TarjetasRojas  Goles_Asistencias  xG_xAG  90min_jugados  \\\n",
       "0                  2              0                 24    0.86           27.6   \n",
       "1                  3              1                 15    0.56           22.0   \n",
       "2                  3              0                 25    0.98           26.9   \n",
       "3                  3              0                 16    0.75           14.9   \n",
       "4                  3              0                 14    0.69           20.0   \n",
       "\n",
       "   xAG_Pases  EntradasGanadas  AsistDesdeCruzados  \n",
       "0        2.8                5                   1  \n",
       "1        3.6               28                   0  \n",
       "2        6.5                5                   2  \n",
       "3        6.0               13                  10  \n",
       "4        4.5               21                   0  \n",
       "\n",
       "[5 rows x 30 columns]"
      ]
     },
     "metadata": {},
     "output_type": "display_data"
    }
   ],
   "source": [
    "# Podemos obtener una primera visualización de los datos viendo sus primeras 5 filas con el comando head()\n",
    "display(df.head())"
   ]
  },
  {
   "cell_type": "raw",
   "id": "a6eb2fb4-8529-462a-9dab-92ea61fd8db4",
   "metadata": {},
   "source": [
    "# También tenemos otro donde solo nos quedamos con los datos numéricos (por ejemplo sacamos columnas como el nombre)\n",
    "# Esto nos sirve para que la compu no se vuelva loca cuando hacemos las cuentas\n",
    "df_num = pd.read_csv(\"datasets_procesados/df_caros_num.csv\")\n",
    "display(df_num.head())\n",
    "\n",
    "### Esta celda quizas la borro a la mierda"
   ]
  },
  {
   "cell_type": "markdown",
   "id": "3f82905b-c052-40ec-a844-545c8f2985c5",
   "metadata": {},
   "source": [
    "Fijense que en los datos que tenemos que tienen solo numeros, hay menos columnas (porque nos quedamos solo con las que tienen números)"
   ]
  },
  {
   "cell_type": "code",
   "execution_count": 4,
   "id": "be3d881f-0ad2-40fb-8592-9cbd7c2e2156",
   "metadata": {},
   "outputs": [
    {
     "name": "stdout",
     "output_type": "stream",
     "text": [
      "['Jugador', 'Equipo', 'Competición', 'Posición', 'Edad', 'Partidos', 'Minutos', 'Goles', 'Asistencias', 'xG', 'xAG', 'npxG', 'ValorMercado', 'PasesCompletados', 'IntentosPase', 'PctPasesCompletados', 'DistanciaTotalPases', 'DistanciaProgresiva', 'PasesClave', 'Entradas', 'Intercepciones', 'Bloqueos', 'TarjetasAmarillas', 'TarjetasRojas', 'Goles_Asistencias', 'xG_xAG', '90min_jugados', 'xAG_Pases', 'EntradasGanadas', 'AsistDesdeCruzados']\n"
     ]
    }
   ],
   "source": [
    "# Con este comando podemos ver las columnas (o sea, toda la información que tenemos de cada jugador)\n",
    "print(list(df.columns))"
   ]
  },
  {
   "cell_type": "markdown",
   "id": "2936b71e-59e3-4560-aa02-011b4118c181",
   "metadata": {},
   "source": [
    "También podemos usar gráficos para ver la información de manera más comprimida. Por ejemplo si queremos ver los goles y las asistencias de los jugadores, los podemos poner en un gráfico:"
   ]
  },
  {
   "cell_type": "code",
   "execution_count": 5,
   "id": "76eb91ff-3168-4b48-8635-a0bbdcde9374",
   "metadata": {},
   "outputs": [
    {
     "data": {
      "image/png": "[encoded data removed]",
      "text/plain": [
       "<Figure size 800x600 with 1 Axes>"
      ]
     },
     "metadata": {},
     "output_type": "display_data"
    }
   ],
   "source": [
    "df_grafico=df[:10]\n",
    "plt.figure(figsize=(8, 6))\n",
    "plt.scatter(df_grafico['Goles'], df_grafico['Asistencias'], label=\"Jugadores\", color=\"blue\")\n",
    "plt.text(df_grafico['Goles'][0]-2, df_grafico['Asistencias'][0]-0.3, df[\"Jugador\"][0])\n",
    "for i in range(1,10):\n",
    "    plt.text(df_grafico['Goles'][i]+0.1, df_grafico['Asistencias'][i]+0.1, df[\"Jugador\"][i])\n",
    "plt.xlabel('Goles')\n",
    "plt.ylabel('Asistencias')\n",
    "plt.title('Goles y Asistencias de los jugadores')\n",
    "plt.grid()\n",
    "plt.legend(fontsize=12)\n",
    "plt.show()"
   ]
  },
  {
   "cell_type": "markdown",
   "id": "2768929e-4214-42f5-8599-1ad57b824d9f",
   "metadata": {},
   "source": [
    "Se pone divertido cuando podemos ver un monton de estos datos. Podemos buscar relaciones entre las estadísticas de los futbolistas.\n",
    "\n",
    "Elijamos dos columnas y veamos la relación:"
   ]
  },
  {
   "cell_type": "code",
   "execution_count": 6,
   "id": "ef1bf7d6-7768-492f-b6d0-5eb18582780f",
   "metadata": {},
   "outputs": [],
   "source": [
    "# Acá capaz podrían jugar un poco con esto\n",
    "primera_columna = 'PasesCompletados' # Pases completados cada 90 minutos\n",
    "segunda_columna = 'Goles' # Tiros totales cada 90 minutos"
   ]
  },
  {
   "cell_type": "code",
   "execution_count": 7,
   "id": "0e1306a1-fd72-48e4-b189-4179145896fe",
   "metadata": {},
   "outputs": [
    {
     "ename": "TypeError",
     "evalue": "unsupported operand type(s) for /: 'int' and 'str'",
     "output_type": "error",
     "traceback": [
      "\u001b[1;31m---------------------------------------------------------------------------\u001b[0m",
      "\u001b[1;31mTypeError\u001b[0m                                 Traceback (most recent call last)",
      "File \u001b[1;32mD:\\Program Files\\anaconda3\\Lib\\site-packages\\pandas\\core\\ops\\array_ops.py:218\u001b[0m, in \u001b[0;36m_na_arithmetic_op\u001b[1;34m(left, right, op, is_cmp)\u001b[0m\n\u001b[0;32m    217\u001b[0m \u001b[38;5;28;01mtry\u001b[39;00m:\n\u001b[1;32m--> 218\u001b[0m     result \u001b[38;5;241m=\u001b[39m \u001b[43mfunc\u001b[49m\u001b[43m(\u001b[49m\u001b[43mleft\u001b[49m\u001b[43m,\u001b[49m\u001b[43m \u001b[49m\u001b[43mright\u001b[49m\u001b[43m)\u001b[49m\n\u001b[0;32m    219\u001b[0m \u001b[38;5;28;01mexcept\u001b[39;00m \u001b[38;5;167;01mTypeError\u001b[39;00m:\n",
      "File \u001b[1;32mD:\\Program Files\\anaconda3\\Lib\\site-packages\\pandas\\core\\computation\\expressions.py:242\u001b[0m, in \u001b[0;36mevaluate\u001b[1;34m(op, a, b, use_numexpr)\u001b[0m\n\u001b[0;32m    240\u001b[0m     \u001b[38;5;28;01mif\u001b[39;00m use_numexpr:\n\u001b[0;32m    241\u001b[0m         \u001b[38;5;66;03m# error: \"None\" not callable\u001b[39;00m\n\u001b[1;32m--> 242\u001b[0m         \u001b[38;5;28;01mreturn\u001b[39;00m \u001b[43m_evaluate\u001b[49m\u001b[43m(\u001b[49m\u001b[43mop\u001b[49m\u001b[43m,\u001b[49m\u001b[43m \u001b[49m\u001b[43mop_str\u001b[49m\u001b[43m,\u001b[49m\u001b[43m \u001b[49m\u001b[43ma\u001b[49m\u001b[43m,\u001b[49m\u001b[43m \u001b[49m\u001b[43mb\u001b[49m\u001b[43m)\u001b[49m  \u001b[38;5;66;03m# type: ignore[misc]\u001b[39;00m\n\u001b[0;32m    243\u001b[0m \u001b[38;5;28;01mreturn\u001b[39;00m _evaluate_standard(op, op_str, a, b)\n",
      "File \u001b[1;32mD:\\Program Files\\anaconda3\\Lib\\site-packages\\pandas\\core\\computation\\expressions.py:73\u001b[0m, in \u001b[0;36m_evaluate_standard\u001b[1;34m(op, op_str, a, b)\u001b[0m\n\u001b[0;32m     72\u001b[0m     _store_test_result(\u001b[38;5;28;01mFalse\u001b[39;00m)\n\u001b[1;32m---> 73\u001b[0m \u001b[38;5;28;01mreturn\u001b[39;00m \u001b[43mop\u001b[49m\u001b[43m(\u001b[49m\u001b[43ma\u001b[49m\u001b[43m,\u001b[49m\u001b[43m \u001b[49m\u001b[43mb\u001b[49m\u001b[43m)\u001b[49m\n",
      "\u001b[1;31mTypeError\u001b[0m: unsupported operand type(s) for /: 'int' and 'str'",
      "\nDuring handling of the above exception, another exception occurred:\n",
      "\u001b[1;31mTypeError\u001b[0m                                 Traceback (most recent call last)",
      "Cell \u001b[1;32mIn[7], line 5\u001b[0m\n\u001b[0;32m      2\u001b[0m plt\u001b[38;5;241m.\u001b[39mfigure(figsize\u001b[38;5;241m=\u001b[39m(\u001b[38;5;241m10\u001b[39m, \u001b[38;5;241m6\u001b[39m))  \u001b[38;5;66;03m# Tamaño del gráfico\u001b[39;00m\n\u001b[0;32m      4\u001b[0m \u001b[38;5;66;03m# Normalizar las métricas por 90 minutos\u001b[39;00m\n\u001b[1;32m----> 5\u001b[0m pases_90 \u001b[38;5;241m=\u001b[39m \u001b[38;5;241;43m90\u001b[39;49m\u001b[43m \u001b[49m\u001b[38;5;241;43m*\u001b[39;49m\u001b[43m \u001b[49m\u001b[43mdf\u001b[49m\u001b[43m[\u001b[49m\u001b[43mprimera_columna\u001b[49m\u001b[43m]\u001b[49m\u001b[43m \u001b[49m\u001b[38;5;241;43m/\u001b[39;49m\u001b[43m \u001b[49m\u001b[43mdf\u001b[49m\u001b[43m[\u001b[49m\u001b[38;5;124;43m'\u001b[39;49m\u001b[38;5;124;43mMinutos\u001b[39;49m\u001b[38;5;124;43m'\u001b[39;49m\u001b[43m]\u001b[49m \u001b[38;5;66;03m# Cuantos pases hizo cada 90 minutos\u001b[39;00m\n\u001b[0;32m      6\u001b[0m tiros_90 \u001b[38;5;241m=\u001b[39m \u001b[38;5;241m90\u001b[39m \u001b[38;5;241m*\u001b[39m df[segunda_columna] \u001b[38;5;241m/\u001b[39m df[\u001b[38;5;124m'\u001b[39m\u001b[38;5;124mMinutos\u001b[39m\u001b[38;5;124m'\u001b[39m] \u001b[38;5;66;03m# Cuantos tiros al arco hizo cada 90 minutos\u001b[39;00m\n\u001b[0;32m      8\u001b[0m plt\u001b[38;5;241m.\u001b[39mscatter(\n\u001b[0;32m      9\u001b[0m     x\u001b[38;5;241m=\u001b[39mpases_90,\n\u001b[0;32m     10\u001b[0m     y\u001b[38;5;241m=\u001b[39mtiros_90,\n\u001b[1;32m   (...)\u001b[0m\n\u001b[0;32m     14\u001b[0m     s\u001b[38;5;241m=\u001b[39m\u001b[38;5;241m50\u001b[39m\n\u001b[0;32m     15\u001b[0m )\n",
      "File \u001b[1;32mD:\\Program Files\\anaconda3\\Lib\\site-packages\\pandas\\core\\ops\\common.py:76\u001b[0m, in \u001b[0;36m_unpack_zerodim_and_defer.<locals>.new_method\u001b[1;34m(self, other)\u001b[0m\n\u001b[0;32m     72\u001b[0m             \u001b[38;5;28;01mreturn\u001b[39;00m \u001b[38;5;28mNotImplemented\u001b[39m\n\u001b[0;32m     74\u001b[0m other \u001b[38;5;241m=\u001b[39m item_from_zerodim(other)\n\u001b[1;32m---> 76\u001b[0m \u001b[38;5;28;01mreturn\u001b[39;00m \u001b[43mmethod\u001b[49m\u001b[43m(\u001b[49m\u001b[38;5;28;43mself\u001b[39;49m\u001b[43m,\u001b[49m\u001b[43m \u001b[49m\u001b[43mother\u001b[49m\u001b[43m)\u001b[49m\n",
      "File \u001b[1;32mD:\\Program Files\\anaconda3\\Lib\\site-packages\\pandas\\core\\arraylike.py:210\u001b[0m, in \u001b[0;36mOpsMixin.__truediv__\u001b[1;34m(self, other)\u001b[0m\n\u001b[0;32m    208\u001b[0m \u001b[38;5;129m@unpack_zerodim_and_defer\u001b[39m(\u001b[38;5;124m\"\u001b[39m\u001b[38;5;124m__truediv__\u001b[39m\u001b[38;5;124m\"\u001b[39m)\n\u001b[0;32m    209\u001b[0m \u001b[38;5;28;01mdef\u001b[39;00m \u001b[38;5;21m__truediv__\u001b[39m(\u001b[38;5;28mself\u001b[39m, other):\n\u001b[1;32m--> 210\u001b[0m     \u001b[38;5;28;01mreturn\u001b[39;00m \u001b[38;5;28;43mself\u001b[39;49m\u001b[38;5;241;43m.\u001b[39;49m\u001b[43m_arith_method\u001b[49m\u001b[43m(\u001b[49m\u001b[43mother\u001b[49m\u001b[43m,\u001b[49m\u001b[43m \u001b[49m\u001b[43moperator\u001b[49m\u001b[38;5;241;43m.\u001b[39;49m\u001b[43mtruediv\u001b[49m\u001b[43m)\u001b[49m\n",
      "File \u001b[1;32mD:\\Program Files\\anaconda3\\Lib\\site-packages\\pandas\\core\\series.py:6135\u001b[0m, in \u001b[0;36mSeries._arith_method\u001b[1;34m(self, other, op)\u001b[0m\n\u001b[0;32m   6133\u001b[0m \u001b[38;5;28;01mdef\u001b[39;00m \u001b[38;5;21m_arith_method\u001b[39m(\u001b[38;5;28mself\u001b[39m, other, op):\n\u001b[0;32m   6134\u001b[0m     \u001b[38;5;28mself\u001b[39m, other \u001b[38;5;241m=\u001b[39m \u001b[38;5;28mself\u001b[39m\u001b[38;5;241m.\u001b[39m_align_for_op(other)\n\u001b[1;32m-> 6135\u001b[0m     \u001b[38;5;28;01mreturn\u001b[39;00m \u001b[43mbase\u001b[49m\u001b[38;5;241;43m.\u001b[39;49m\u001b[43mIndexOpsMixin\u001b[49m\u001b[38;5;241;43m.\u001b[39;49m\u001b[43m_arith_method\u001b[49m\u001b[43m(\u001b[49m\u001b[38;5;28;43mself\u001b[39;49m\u001b[43m,\u001b[49m\u001b[43m \u001b[49m\u001b[43mother\u001b[49m\u001b[43m,\u001b[49m\u001b[43m \u001b[49m\u001b[43mop\u001b[49m\u001b[43m)\u001b[49m\n",
      "File \u001b[1;32mD:\\Program Files\\anaconda3\\Lib\\site-packages\\pandas\\core\\base.py:1382\u001b[0m, in \u001b[0;36mIndexOpsMixin._arith_method\u001b[1;34m(self, other, op)\u001b[0m\n\u001b[0;32m   1379\u001b[0m     rvalues \u001b[38;5;241m=\u001b[39m np\u001b[38;5;241m.\u001b[39marange(rvalues\u001b[38;5;241m.\u001b[39mstart, rvalues\u001b[38;5;241m.\u001b[39mstop, rvalues\u001b[38;5;241m.\u001b[39mstep)\n\u001b[0;32m   1381\u001b[0m \u001b[38;5;28;01mwith\u001b[39;00m np\u001b[38;5;241m.\u001b[39merrstate(\u001b[38;5;28mall\u001b[39m\u001b[38;5;241m=\u001b[39m\u001b[38;5;124m\"\u001b[39m\u001b[38;5;124mignore\u001b[39m\u001b[38;5;124m\"\u001b[39m):\n\u001b[1;32m-> 1382\u001b[0m     result \u001b[38;5;241m=\u001b[39m \u001b[43mops\u001b[49m\u001b[38;5;241;43m.\u001b[39;49m\u001b[43marithmetic_op\u001b[49m\u001b[43m(\u001b[49m\u001b[43mlvalues\u001b[49m\u001b[43m,\u001b[49m\u001b[43m \u001b[49m\u001b[43mrvalues\u001b[49m\u001b[43m,\u001b[49m\u001b[43m \u001b[49m\u001b[43mop\u001b[49m\u001b[43m)\u001b[49m\n\u001b[0;32m   1384\u001b[0m \u001b[38;5;28;01mreturn\u001b[39;00m \u001b[38;5;28mself\u001b[39m\u001b[38;5;241m.\u001b[39m_construct_result(result, name\u001b[38;5;241m=\u001b[39mres_name)\n",
      "File \u001b[1;32mD:\\Program Files\\anaconda3\\Lib\\site-packages\\pandas\\core\\ops\\array_ops.py:283\u001b[0m, in \u001b[0;36marithmetic_op\u001b[1;34m(left, right, op)\u001b[0m\n\u001b[0;32m    279\u001b[0m     _bool_arith_check(op, left, right)  \u001b[38;5;66;03m# type: ignore[arg-type]\u001b[39;00m\n\u001b[0;32m    281\u001b[0m     \u001b[38;5;66;03m# error: Argument 1 to \"_na_arithmetic_op\" has incompatible type\u001b[39;00m\n\u001b[0;32m    282\u001b[0m     \u001b[38;5;66;03m# \"Union[ExtensionArray, ndarray[Any, Any]]\"; expected \"ndarray[Any, Any]\"\u001b[39;00m\n\u001b[1;32m--> 283\u001b[0m     res_values \u001b[38;5;241m=\u001b[39m \u001b[43m_na_arithmetic_op\u001b[49m\u001b[43m(\u001b[49m\u001b[43mleft\u001b[49m\u001b[43m,\u001b[49m\u001b[43m \u001b[49m\u001b[43mright\u001b[49m\u001b[43m,\u001b[49m\u001b[43m \u001b[49m\u001b[43mop\u001b[49m\u001b[43m)\u001b[49m  \u001b[38;5;66;03m# type: ignore[arg-type]\u001b[39;00m\n\u001b[0;32m    285\u001b[0m \u001b[38;5;28;01mreturn\u001b[39;00m res_values\n",
      "File \u001b[1;32mD:\\Program Files\\anaconda3\\Lib\\site-packages\\pandas\\core\\ops\\array_ops.py:227\u001b[0m, in \u001b[0;36m_na_arithmetic_op\u001b[1;34m(left, right, op, is_cmp)\u001b[0m\n\u001b[0;32m    219\u001b[0m \u001b[38;5;28;01mexcept\u001b[39;00m \u001b[38;5;167;01mTypeError\u001b[39;00m:\n\u001b[0;32m    220\u001b[0m     \u001b[38;5;28;01mif\u001b[39;00m \u001b[38;5;129;01mnot\u001b[39;00m is_cmp \u001b[38;5;129;01mand\u001b[39;00m (\n\u001b[0;32m    221\u001b[0m         left\u001b[38;5;241m.\u001b[39mdtype \u001b[38;5;241m==\u001b[39m \u001b[38;5;28mobject\u001b[39m \u001b[38;5;129;01mor\u001b[39;00m \u001b[38;5;28mgetattr\u001b[39m(right, \u001b[38;5;124m\"\u001b[39m\u001b[38;5;124mdtype\u001b[39m\u001b[38;5;124m\"\u001b[39m, \u001b[38;5;28;01mNone\u001b[39;00m) \u001b[38;5;241m==\u001b[39m \u001b[38;5;28mobject\u001b[39m\n\u001b[0;32m    222\u001b[0m     ):\n\u001b[1;32m   (...)\u001b[0m\n\u001b[0;32m    225\u001b[0m         \u001b[38;5;66;03m# Don't do this for comparisons, as that will handle complex numbers\u001b[39;00m\n\u001b[0;32m    226\u001b[0m         \u001b[38;5;66;03m#  incorrectly, see GH#32047\u001b[39;00m\n\u001b[1;32m--> 227\u001b[0m         result \u001b[38;5;241m=\u001b[39m \u001b[43m_masked_arith_op\u001b[49m\u001b[43m(\u001b[49m\u001b[43mleft\u001b[49m\u001b[43m,\u001b[49m\u001b[43m \u001b[49m\u001b[43mright\u001b[49m\u001b[43m,\u001b[49m\u001b[43m \u001b[49m\u001b[43mop\u001b[49m\u001b[43m)\u001b[49m\n\u001b[0;32m    228\u001b[0m     \u001b[38;5;28;01melse\u001b[39;00m:\n\u001b[0;32m    229\u001b[0m         \u001b[38;5;28;01mraise\u001b[39;00m\n",
      "File \u001b[1;32mD:\\Program Files\\anaconda3\\Lib\\site-packages\\pandas\\core\\ops\\array_ops.py:163\u001b[0m, in \u001b[0;36m_masked_arith_op\u001b[1;34m(x, y, op)\u001b[0m\n\u001b[0;32m    161\u001b[0m     \u001b[38;5;66;03m# See GH#5284, GH#5035, GH#19448 for historical reference\u001b[39;00m\n\u001b[0;32m    162\u001b[0m     \u001b[38;5;28;01mif\u001b[39;00m mask\u001b[38;5;241m.\u001b[39many():\n\u001b[1;32m--> 163\u001b[0m         result[mask] \u001b[38;5;241m=\u001b[39m \u001b[43mop\u001b[49m\u001b[43m(\u001b[49m\u001b[43mxrav\u001b[49m\u001b[43m[\u001b[49m\u001b[43mmask\u001b[49m\u001b[43m]\u001b[49m\u001b[43m,\u001b[49m\u001b[43m \u001b[49m\u001b[43myrav\u001b[49m\u001b[43m[\u001b[49m\u001b[43mmask\u001b[49m\u001b[43m]\u001b[49m\u001b[43m)\u001b[49m\n\u001b[0;32m    165\u001b[0m \u001b[38;5;28;01melse\u001b[39;00m:\n\u001b[0;32m    166\u001b[0m     \u001b[38;5;28;01mif\u001b[39;00m \u001b[38;5;129;01mnot\u001b[39;00m is_scalar(y):\n",
      "\u001b[1;31mTypeError\u001b[0m: unsupported operand type(s) for /: 'int' and 'str'"
     ]
    },
    {
     "data": {
      "text/plain": [
       "<Figure size 1000x600 with 0 Axes>"
      ]
     },
     "metadata": {},
     "output_type": "display_data"
    }
   ],
   "source": [
    "# Configuración de estilo\n",
    "plt.figure(figsize=(10, 6))  # Tamaño del gráfico\n",
    "\n",
    "# Normalizar las métricas por 90 minutos\n",
    "pases_90 = 90 * df[primera_columna] / df['Minutos'] # Cuantos pases hizo cada 90 minutos\n",
    "tiros_90 = 90 * df[segunda_columna] / df['Minutos'] # Cuantos tiros al arco hizo cada 90 minutos\n",
    "\n",
    "plt.scatter(\n",
    "    x=pases_90,\n",
    "    y=tiros_90,\n",
    "    c=np.log10(df['ValorMercado']),  # Escala logarítmica base 10\n",
    "    cmap='viridis',\n",
    "    alpha=0.6,\n",
    "    s=50\n",
    ")\n",
    "cbar = plt.colorbar()\n",
    "cbar.set_label('Log10(Valor de mercado €)', fontsize=10)\n",
    "\n",
    "# Títulos y etiquetas\n",
    "plt.title('Relación entre Pases Completados y Tiros cada 90 Minutos', fontsize=14, pad=20)\n",
    "plt.xlabel('Pases completados por 90\\'', fontsize=12)\n",
    "plt.ylabel('Tiros totales por 90\\'', fontsize=12)\n",
    "\n",
    "# Grid y leyenda\n",
    "plt.grid(True, linestyle='--', alpha=0.5)\n",
    "plt.legend(['Jugadores'], loc='upper right')\n",
    "\n",
    "# Mostrar gráfico\n",
    "plt.tight_layout()  # Evita cortes en etiquetas\n",
    "plt.show()"
   ]
  },
  {
   "cell_type": "markdown",
   "id": "294f950e-698d-4072-8900-22145a7afda9",
   "metadata": {},
   "source": [
    "Estuve experimentando con estas cosas. Pero habría que repensar varias cosas, como ponerles nombres más descriptivos a las columnas, hacer gráficos más interesantes, etc"
   ]
  },
  {
   "cell_type": "code",
   "execution_count": null,
   "id": "36e0b7f4-f2db-4dd2-a4e9-921138f938e6",
   "metadata": {},
   "outputs": [],
   "source": [
    "# Configuración de estilo\n",
    "plt.figure(figsize=(10, 6))  # Tamaño del gráfico\n",
    "\n",
    "# Normalizar las métricas por 90 minutos\n",
    "tiros_al_arco_90 = df_sin_Andersen['shooting_SoT'] / df_sin_Andersen['stats_90s']\n",
    "tiros_90 = df_sin_Andersen['shooting_Sh'] / df_sin_Andersen['stats_90s']\n",
    "\n",
    "plt.scatter(\n",
    "    x=tiros_90,\n",
    "    y=tiros_al_arco_90,\n",
    "    c=np.log10(df_sin_Andersen['market_value_in_eur']),  # Escala logarítmica base 10\n",
    "    cmap='viridis',\n",
    "    alpha=0.6,\n",
    "    s=50\n",
    ")\n",
    "cbar = plt.colorbar()\n",
    "cbar.set_label('Log10(Valor de mercado €)', fontsize=10)\n",
    "\n",
    "# Títulos y etiquetas\n",
    "plt.title('Relación entre Pases Completados y Tiros cada 90 Minutos', fontsize=14, pad=20)\n",
    "plt.xlabel('Tiros totales cada 90 minutos\\'', fontsize=12)\n",
    "plt.ylabel('Tiros al arco cada 90 minutos\\'', fontsize=12)\n",
    "\n",
    "# Grid y leyenda\n",
    "plt.grid(True, linestyle='--', alpha=0.5)\n",
    "plt.legend(['Jugadores'], loc='upper right')\n",
    "\n",
    "# Mostrar gráfico\n",
    "plt.tight_layout()  # Evita cortes en etiquetas\n",
    "plt.show()"
   ]
  },
  {
   "cell_type": "raw",
   "id": "156a8acc-2025-47f4-abd1-a6082a6bce06",
   "metadata": {},
   "source": [
    "Acá la idea no sería mostrarles esto quizás tan directamente pero experimentando que se lleguen a dar cuenta alguno ¿acá que pasó? aparecieron de la nada relaciones lineales de unos datos que estaban bastante por cualquier lado si agarrabamos dos columnas random. Esta interesante tambien ver que los jugadores caros suelen tener un montón de remates al arco, etc. Bueno, iremos viendo cómo lo manejamos."
   ]
  },
  {
   "cell_type": "code",
   "execution_count": null,
   "id": "80c484cf-0725-449d-9ae4-55046d78849b",
   "metadata": {},
   "outputs": [],
   "source": []
  }
 ],
 "metadata": {
  "kernelspec": {
   "display_name": "Python 3 (ipykernel)",
   "language": "python",
   "name": "python3"
  },
  "language_info": {
   "codemirror_mode": {
    "name": "ipython",
    "version": 3
   },
   "file_extension": ".py",
   "mimetype": "text/x-python",
   "name": "python",
   "nbconvert_exporter": "python",
   "pygments_lexer": "ipython3",
   "version": "3.11.5"
  }
 },
 "nbformat": 4,
 "nbformat_minor": 5
}
